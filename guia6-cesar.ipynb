{
 "cells": [
  {
   "cell_type": "markdown",
   "metadata": {},
   "source": [
    "# Métodos Numéricos (2024)\n",
    "\n",
    "## Guía 6: Integración Numérica"
   ]
  },
  {
   "cell_type": "code",
   "execution_count": 1,
   "metadata": {},
   "outputs": [],
   "source": [
    "using Plots\n",
    "using LaTeXStrings"
   ]
  },
  {
   "cell_type": "markdown",
   "metadata": {},
   "source": [
    "## Problema 1\n",
    "1. Haciendo los calculos a mano y trabajando con 7 cifras significativas, encuentre las aproximaciones a las integrales definidas:\n",
    "\n",
    "    a. $I_1 = \\int_0^1 x^4 dx$\n",
    "\n",
    "    b. $I_2 = \\int_0^{\\pi} \\sin{(x)} dx$\n",
    "\n",
    "utilizando las reglas simples de *i) punto medio*, *ii) trapecio* y *iii) Simpson*. \n",
    "\n",
    "2. Calcule el error absoluto y el error relativo en cada caso y para cada método."
   ]
  },
  {
   "cell_type": "markdown",
   "metadata": {},
   "source": [
    "**Teoría**\n",
    "\n",
    "La regla simple del punto medio es:\n",
    "$$\n",
    "\\int_a^b dx\\, f(x) \\approx (b-a)f\\bigg(\\frac{a+b}{2}\\bigg)\n",
    "$$\n",
    "\n",
    "La regla simple del trapecio es:\n",
    "$$\n",
    "\\int_a^b dx\\, f(x) \\approx \\frac{b-a}{2}\\bigg(f(a) + f(b)\\bigg)\n",
    "$$\n",
    "\n",
    "La regla simple de Simpson es:\n",
    "$$\n",
    "\\int_a^b dx\\, f(x) \\approx \\frac{b-a}{6}\\bigg(f(a) + 4f\\bigg(\\frac{a+b}{2}\\bigg) + f(b)\\bigg)\n",
    "$$"
   ]
  },
  {
   "cell_type": "code",
   "execution_count": 7,
   "metadata": {},
   "outputs": [
    {
     "data": {
      "text/plain": [
       "simpson (generic function with 1 method)"
      ]
     },
     "execution_count": 7,
     "metadata": {},
     "output_type": "execute_result"
    }
   ],
   "source": [
    "#funciones para luego\n",
    "function punto_medio(f,a,b)\n",
    "    t=(b-a)*(f((a+b)/2))\n",
    "    return t\n",
    "end\n",
    "function trapecio(f,a,b)\n",
    "    t=((b-a)/2)*(f(a)+f(b))\n",
    "    return t\n",
    "end\n",
    "function simpson(f,a,b)\n",
    "    t=((b-a)/6)*(f(a)+4*(f((b+a)/2))+f(b))\n",
    "    return t\n",
    "end"
   ]
  },
  {
   "cell_type": "code",
   "execution_count": 13,
   "metadata": {},
   "outputs": [
    {
     "name": "stdout",
     "output_type": "stream",
     "text": [
      "I1: punto medio: 0.0625, trapecio:0.0, simpson:0.20833333333333331\n",
      "I2: punto medio: 3.141592653589793, trapecio:1.5707963267948966, simpson:2.0943951023931953\n"
     ]
    }
   ],
   "source": [
    "setprecision(7) # para trabajar con esa presición  ^2\n",
    "#I1\n",
    "#punto medio:\n",
    "I11=(1)*((1/2)^4)\n",
    "#trapecio\n",
    "I12=(1/2)*(sin(π)+sin(0))\n",
    "#simpson\n",
    "I13=(1/6)*(0+4*((1/2)^4)+(1^4))\n",
    "\n",
    "#I2\n",
    "#punto medio:\n",
    "I21=(π)*(sin(π/2))\n",
    "#trapecio\n",
    "I22=(π/2)*(1^4)\n",
    "#simpson\n",
    "I23=(π/6)*(sin(0)+4*(sin(π/2))+(sin(π)))\n",
    "\n",
    "println(\"I1: punto medio: $(I11), trapecio:$(I12), simpson:$(I13)\")#la exacta es 0.2\n",
    "println(\"I2: punto medio: $(I21), trapecio:$(I22), simpson:$(I23)\")#la exacta es 2"
   ]
  },
  {
   "cell_type": "code",
   "execution_count": 14,
   "metadata": {},
   "outputs": [
    {
     "name": "stdout",
     "output_type": "stream",
     "text": [
      "I1: E_punto medio: 0.1375, E_trapecio:0.2, E_simpson:0.008333333333333304\n",
      "I2: E_punto medio: 2.941592653589793, E_trapecio:1.3707963267948966, E_simpson:1.8943951023931953\n"
     ]
    }
   ],
   "source": [
    "#calculo de error\n",
    "#setprecision(7)\n",
    "I1=(1.0/5.0)\n",
    "I2=1.0\n",
    "function error1(a)\n",
    "   return abs(a-I1) \n",
    "end\n",
    "function error2(a)\n",
    "   return abs(a-I1) \n",
    "end\n",
    "println(\"I1: E_punto medio: $(error1(I11)), E_trapecio:$(error1(I12)), E_simpson:$(error1(I13))\")\n",
    "println(\"I2: E_punto medio: $(error2(I21)), E_trapecio:$(error2(I22)), E_simpson:$(error2(I23))\")#comparar con alguien, no se si está bien"
   ]
  },
  {
   "cell_type": "markdown",
   "metadata": {},
   "source": [
    "## Problema 2\n",
    "\n",
    "1. Repita el problema 1 dividiendo el intervalo de integración en dos subintervalos de igual tamaño. Es decir:\n",
    "\n",
    "    a. $I_1=\\int_0^{1/2} x^4 dx+ \\int_{1/2}^1 x^4 dx$\n",
    "\n",
    "    b. $I_2=\\int_0^{\\pi/2}\\sin{(x)}dx+\\int_{\\pi/2}^{\\pi}\\sin{(x)} dx$\n",
    "\n",
    "2. Compare resultados con lo obtenido en el problema 1."
   ]
  },
  {
   "cell_type": "code",
   "execution_count": 15,
   "metadata": {},
   "outputs": [
    {
     "name": "stdout",
     "output_type": "stream",
     "text": [
      "I1: punto medio: 0.16015625, trapecio:0.28125, simpson:0.20052083333333331\n",
      "I2: punto medio: 2.221441469079183, trapecio:1.5707963267948966, simpson:2.0045597549844207\n"
     ]
    }
   ],
   "source": [
    "#1a\n",
    "#I1\n",
    "f(x)=x^4\n",
    "I11=punto_medio(f,0,0.5)+punto_medio(f,0.5,1)\n",
    "I12=trapecio(f,0,0.5)+trapecio(f,0.5,1)\n",
    "I13=simpson(f,0,0.5)+simpson(f,0.5,1)\n",
    "#I2\n",
    "f(x)=sin(x) #reescribo f para no tener q cambiar codigo\n",
    "I21=punto_medio(f,0,π/2)+punto_medio(f,π/2,π)\n",
    "I22=trapecio(f,0,π/2)+trapecio(f,π/2,π)\n",
    "I23=simpson(f,0,π/2)+simpson(f,π/2,π)\n",
    "#imprimo todo\n",
    "println(\"I1: punto medio: $(I11), trapecio:$(I12), simpson:$(I13)\") #salieron bien creo, la exacta es 0.2\n",
    "println(\"I2: punto medio: $(I21), trapecio:$(I22), simpson:$(I23)\") #la exacta es 2"
   ]
  },
  {
   "cell_type": "markdown",
   "metadata": {},
   "source": [
    "## Problema 3\n",
    "1. Construya funciones que dada una función arbitraria, retornen  las aproximaciones numéricas $S_M$, $S_T$ y $S_S$ a una integral de la forma\n",
    "$$\n",
    "I = \\int_a ^b f(x) dx\n",
    "$$\n",
    "utilizando las reglas compuestas del *punto medio*, del *trapecio* y de *Simpson*, respectivamente.\n",
    "Las funciones deben evaluar el integrando $f(x)$ en $n+1$ puntos equiespaciados $x_i$ para $i=0,1,2,...,n$ y con espaciamiento $h=(b-a)/n$.\n",
    "En el caso del punto medio, se evalúa en los $x_i+h/2$ para $i=0,1,...,n-1$.\n",
    "\n",
    "2. Calcule $S_M$, $S_T$ y $S_S$ para la integral:\n",
    "$$\n",
    "I = \\int _0 ^1 e^{-x} dx\n",
    "$$\n",
    "Utilice un espaciamiento $h_1=0.05$ em ambos casos. Luego repita el procedimiento disminuyendo su \n",
    "espaciamiento a la mitad, $h_2=h_1/2=0.025$.\n",
    "\n",
    "3. Teniendo en cuenta que es posible conocer el resultado exacto de la integral en cuestión, evalúe el error\n",
    "$\\varepsilon(h)=|S-I|$, para $h=0.05$ y $h=0.025$ para los tres métodos de aproximación.\n",
    "Verifique que el cociente de precisión, definido como \n",
    "$$\n",
    "Q = \\frac{\\varepsilon(h)}{\\varepsilon(h/2)}\n",
    "$$\n",
    "toma un valor aproximado a $4$ cuando se usa la regla del *punto medio* y del *trapecio*, y un valor aproximado a $16$ cuando se usa la regla de *Simpson*. \n",
    "Teniendo en cuenta la expresión del error de truncamiento en cada caso, justifique este resultado.\n",
    "\n",
    "**Consejo:** tener cuidado con *Simpson* en elegir siempre un número par de intervalos, i.e, un número impar de puntos. Pruebe con una integral conocida, qué resultados da cuando usa un número impar de intervalos. Incluya en la función para dicho método un chequeo de que el número de puntos sea par."
   ]
  },
  {
   "cell_type": "code",
   "execution_count": null,
   "metadata": {},
   "outputs": [],
   "source": []
  },
  {
   "cell_type": "markdown",
   "metadata": {},
   "source": [
    "## Problema 4\n",
    "1. Para los métodos de integración numérica del problema 3, implemente fórmulas de estimación del error en función de el número de puntos $n$, una cota máxima $M$ asociada a $f(x)$ o alguna de sus derivadas, y los extremos $a$ y $b$ del intérvalo de integración.\n",
    "\n",
    "2. Indique, para cada método, el mínimo $n$ necesario para alcanzar un error relativo menor a $10^{-7}$ de las siguientes integrales\n",
    "\n",
    "    a. $\\int_0^{1/2} \\frac{2}{x-4} \\; dx$\n",
    "\n",
    "    b. $\\int_1^{3/2} x^2 \\log x \\; dx$\n",
    "\n",
    "3. Compruebe usando los métodos del problema 3 si las estimaciones de $n$ son adecuadas."
   ]
  },
  {
   "cell_type": "code",
   "execution_count": null,
   "metadata": {},
   "outputs": [],
   "source": []
  },
  {
   "cell_type": "markdown",
   "metadata": {},
   "source": [
    "## Problema 5\n",
    "**Comparación de métodos.**\n",
    "\n",
    "1. Aproxime la integral\n",
    "\\begin{equation*}\n",
    "I = \\int_0^1 e^{-t} dt = 1 - e^{-1}  \\nonumber              \n",
    "\\end{equation*}\n",
    "empleando los algoritmos del problema 3.\n",
    "\n",
    "2. Calcule el error relativo $E$ para $n\\in [2,4,8,...,4096]$ ($n=2^i$ con $i=1,2,...$) y grafique $E$ vs $n$ en *log-log*.\n",
    "\n",
    "\n",
    "3. Verifique visualmente que se satisfacen leyes de potencia\n",
    "$$\n",
    "E = Cn^{-\\alpha}\n",
    "$$\n",
    "y estime visualmente los valores de $C>0$ y $\\alpha>0$.\n",
    "\n",
    "4. Use el gráfico para estimar, para cada método, el mínimo $n$ al cuál se alcanza una precisión $E<10^{-7}$.\n",
    "\n",
    "5. Repita los incisos anteriores en `Float16` y `Float32`.\n",
    "\n",
    "6. Determine si el error de redondeo es relevante en estos casos."
   ]
  },
  {
   "cell_type": "code",
   "execution_count": null,
   "metadata": {},
   "outputs": [],
   "source": []
  },
  {
   "cell_type": "markdown",
   "metadata": {},
   "source": [
    "## Problema 6\n",
    "En el repositorio se encuentran dos archivos de datos, \n",
    "\n",
    "    mediciones1-c1-g6.dat \n",
    "    mediciones2-c1-g6.dat\n",
    "\n",
    "Los mismos almacenan mediciones de una función $f(t)$ sobre un mismo rango de $t$. El primero muestrea $n=629$ puntos y el segundo $n=10001$.\n",
    "\n",
    "1. Baje y grafique los datos.\n",
    "\n",
    "2. Copie y modifique los algoritmos del problema 3 para integrar muestreos de funciones.\n",
    "\n",
    "3. Integre los muestreos y compare."
   ]
  },
  {
   "cell_type": "code",
   "execution_count": null,
   "metadata": {},
   "outputs": [],
   "source": []
  },
  {
   "cell_type": "markdown",
   "metadata": {},
   "source": [
    "# Ejercicios Complementarios"
   ]
  },
  {
   "cell_type": "markdown",
   "metadata": {},
   "source": [
    "## Problema C.1\n",
    "Idem problema 4, para las siguientes integrales: \n",
    "1. $\\int_{1/2}^1 x^4 dx$\n",
    "2. $\\int_0^{\\pi/4} x \\sin x dx$"
   ]
  },
  {
   "cell_type": "markdown",
   "metadata": {},
   "source": [
    "**Teoría:** Para los metodos de punto medio y trapecio el error es $\\mathcal{O}(h^2)$ y está acotado por (en término de n):\n",
    "\n",
    "$$\n",
    "E_T = \\frac{(b-a)^3}{12n^2}M_2 \\;\\;\\;\\;\\;\\;\\; E_M = \\frac{(b-a)^3}{24n^2}M_2,\n",
    "$$\n",
    "\n",
    "donde \n",
    "$$\n",
    "M_2 = \\max_{x \\in [a,b]}\\{|f''(x)|\\}\n",
    "$$\n",
    "\n",
    "Para el método de Simpson el error es $\\mathcal{O}(h^4)$ está acotado por \n",
    "\n",
    "$$\n",
    "E_S = \\frac{(b-a)^5}{180n^4}M_4 \n",
    "$$\n",
    "\n",
    "donde \n",
    "$$\n",
    "M_4 = \\max_{x \\in [a,b]}\\{|f^{(4)}(x)|\\}\n",
    "$$\n"
   ]
  },
  {
   "cell_type": "code",
   "execution_count": null,
   "metadata": {},
   "outputs": [],
   "source": []
  },
  {
   "cell_type": "markdown",
   "metadata": {},
   "source": [
    "## Problema C.2\n",
    "**Integración numérica en dos dimensiones**\n",
    "1. Haga un programa que integre funciones en la region $a\\le x \\le b\\,;\\;c \\le y \\le d$ siguiendo el código delineado en la clase teórica, usando el método de cuadratura de Simpson en cada coordenada.\n",
    "2. Evalue nume\n",
    "ricamente con no menos de 8 cifras significativas las integrales\n",
    "$$\n",
    "\\int_0^2\\,dx\\, \\int_0^1\\,dy\\, e^{-x\\,y} \\;\\;\\;\\;\\;\\;\\;\\;\\;\\;\\;\\;\\;\\;\n",
    "\\int_{7/5}^2\\,dx\\, \\int_1^{3/2}\\,dy\\, \\ln{(x+2 y)}\n",
    "$$\n",
    "3. Modifique el programa para permitir que los límites de integración en $y$ sean función de $x$ y evalue la integral\n",
    "$$\n",
    "\\int_0^1\\,dx\\, \\int_0^{\\sqrt{1-x^2}}\\,dy\\, e^{-x\\,y} \n",
    "$$"
   ]
  },
  {
   "cell_type": "code",
   "execution_count": null,
   "metadata": {},
   "outputs": [],
   "source": []
  }
 ],
 "metadata": {
  "@webio": {
   "lastCommId": null,
   "lastKernelId": null
  },
  "kernelspec": {
   "display_name": "Julia 1.10.2",
   "language": "julia",
   "name": "julia-1.10"
  },
  "language_info": {
   "file_extension": ".jl",
   "mimetype": "application/julia",
   "name": "julia",
   "version": "1.10.2"
  }
 },
 "nbformat": 4,
 "nbformat_minor": 4
}
