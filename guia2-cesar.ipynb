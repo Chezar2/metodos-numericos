{
 "cells": [
  {
   "cell_type": "markdown",
   "metadata": {},
   "source": [
    "# Métodos Numéricos 2024 "
   ]
  },
  {
   "cell_type": "markdown",
   "metadata": {},
   "source": [
    "## Guía 2: 2024-04-04 - Solución de ecuaciones de una variable"
   ]
  },
  {
   "cell_type": "code",
   "execution_count": 3,
   "metadata": {},
   "outputs": [
    {
     "name": "stderr",
     "output_type": "stream",
     "text": [
      "\u001b[32m\u001b[1mPrecompiling\u001b[22m\u001b[39m IJuliaExt\n",
      "\u001b[32m  ✓ \u001b[39m\u001b[90mPlots → IJuliaExt\u001b[39m\n",
      "  1 dependency successfully precompiled in 3 seconds. 168 already precompiled.\n",
      "\u001b[32m\u001b[1m   Resolving\u001b[22m\u001b[39m package versions...\n",
      "\u001b[32m\u001b[1m  No Changes\u001b[22m\u001b[39m to `/opt/julia/global-depot/environments/v1.10/Project.toml`\n",
      "\u001b[32m\u001b[1m  No Changes\u001b[22m\u001b[39m to `/opt/julia/global-depot/environments/v1.10/Manifest.toml`\n"
     ]
    }
   ],
   "source": [
    "using Plots\n",
    "using LaTeXStrings\n",
    "using DataFrames # Recuerde instalar este paquete ingresando en una celda: using Pkg; Pkg.add(\"DataFrames\")"
   ]
  },
  {
   "cell_type": "markdown",
   "metadata": {},
   "source": [
    "### Problema 1\n",
    "\n",
    "Desarrolle un programa para encontrar la raíz de una función $f$ utilizando el **método de la bisección**.\n",
    "El programa debe tomar como datos de entrada:\n",
    "\n",
    "* la función $f:\\mathbb{R}\\to \\mathbb{R}$, \n",
    "\n",
    "* el intervalo inicial $[a,b]$, \n",
    "\n",
    "* la máxima tolerancia permitida $\\varepsilon_x$ al error relativo $(p-x)/x$ de la aproximación $p$ de la raíz $x$ de $f$ en $[a,b]$,\n",
    "\n",
    "* la máxima tolerancia permitida $\\varepsilon_f$ al valor de $|f(p)|$,\n",
    "\n",
    "* y el número máximo $n_{\\max}$ de iteraciones permitidas.\n",
    "\n",
    "El programa debe retornar una tupla con las siguientes componentes:\n",
    "\n",
    "* un booleano indicando si el algoritmo convergió o no dentro de las tolerancias máximas permitidas $\\varepsilon_x$ y $\\varepsilon_f$,\n",
    "\n",
    "* un vector de componentes $p_i$ que representan las aproximaciones a la raíz $x$ obtenidas por el algoritmo en sucesivas iteraciones $i=1,2,...,n$,\n",
    "\n",
    "* un vector de componentes $f_i=f(p_i)$,\n",
    "\n",
    "* un vector de componentes $c_i=|b_i-a_i|/2$ que representan cotas de los errores absolutos $|x-p_i|$,\n",
    "\n",
    "* y un vector de componentes $r_i=c_i/|p_i|$ que representan estimaciones de los errores relativos $|x-p_i|/|x|$.\n",
    "\n",
    "El programa debe deternerse si se cumple:\n",
    "\n",
    "$$\n",
    "(r_i<\\varepsilon_x \\;\\; \\text{AND} \\;\\; |f_i|<\\varepsilon_f) \\;\\; \\text{OR} \\;\\; i=n_{\\max}\n",
    "$$\n",
    "\n",
    "El programa debe trabajar con números de precisión suficientemente alta como para obtener resultados con 12 cifras significativas en los reales (ej. `Float64`).\n",
    "\n",
    "Con el programa desarrollado, Ud. debe:\n",
    "\n",
    "1. Encontrar una aproximación a $\\sqrt{3}$ con un error (relativo en $x$ y absoluto en $y$) menor a $10^{-5}$. Para ello: \n",
    "\n",
    "    * Note que $\\sqrt{3}$ es la raíz positiva de la ecuación $f(x)=x^2-3$.\n",
    "    * Grafique $f(x)$ vs $x$ en el intervalo $[1,2]$ para determinar que tiene una raíz allí.\n",
    "    * Utilice el programa desarrollado para calcular los vectores de aproximaciones y errores.\n",
    "    * Imprima una lista con los valores $i$, $p_i$, $f_i$, $c_i$ y $r_i$ para $i=1,...,n$, utilizando el paquete `DataFrames`.\n",
    "    * Grafique $p_i$ vs $i$ usando puntos (en vez de una línea contínua).\n",
    "    * Grafique $|f_i|$ vs $i$ usando puntos, escala logarítmica en el eje $y$ y lineal en el eje $x$.\n",
    "    * En una misma figura, grafique con puntos de un color los errores absolutos $c_i$ vs $i$ y con puntos de otro color los errores relativos $r_i$ vs $i$, utilizando escala logarítimica en el eje $y$ y lineal en el eje $x$. \n",
    "    * Responda: \n",
    "        * Cuanto vale la presunta mejor aproximación $p_n$? \n",
    "        * Cuántas iteraciones fueron necesarias?\n",
    "        * Cuales son los valores exactos de los errores absoluto y relativo que se obtienen de comparando el resultado $p_n$ con el \"analítico\"?   \n",
    "    \n",
    "2. Encontrar la menor solución positiva de la ecuación $g(x)=\\tan(x)-2x$ con un error relativo en $x$ y absoluto en $y$ menor a $10^{-5}$. Para ello, repita lo realizado en el inciso anterior considerando el intérvalo $x\\in [0.8,1.4]$, pero exceptuando el último item ya que no podemos calcular el valor analítico en este caso. \n",
    "\n",
    "**IMPORTANTE:** Recuerde poner títulos, etiquetas a los ejes y leyendas para las curvas o puntos de los gráficos."
   ]
  },
  {
   "cell_type": "code",
   "execution_count": 13,
   "metadata": {},
   "outputs": [
    {
     "data": {
      "text/plain": [
       "biseccion (generic function with 1 method)"
      ]
     },
     "execution_count": 13,
     "metadata": {},
     "output_type": "execute_result"
    }
   ],
   "source": [
    "function biseccion(f,intervalo;tolx=1e-5,tolf=1e-5,n_max=100)\n",
    "   a,b=intervalo\n",
    "    @assert a<=b\n",
    "    fa=f(a)\n",
    "    @assert fa*f(b)<0.0\n",
    "    vec_p=zeros(n_max)\n",
    "    vec_f=zeros(n_max)\n",
    "    vec_c=zeros(n_max)\n",
    "    vec_r=zeros(n_max)\n",
    "    for i in 1:n_max\n",
    "        p=0.5*(a+b) #mejor aprox en [a,b]\n",
    "        fp=f(p)\n",
    "        c=0.5*(b-a)\n",
    "        r=abs(c/p)      \n",
    "        vec_p[i]=p\n",
    "        vec_f[i]=fp\n",
    "        vec_c[i]=c\n",
    "        vec_r[i]=r\n",
    "        if r<tolx && abs(fp)<tolf\n",
    "            return true,vec_p[1:i],vec_f[1:i],vec_c[1:i],vec_r[1:i] #i=n aqui\n",
    "        end\n",
    "        if fa*fp<0.0 #la reiz está en [a,x)\n",
    "            b=p\n",
    "        else #la rtaiz está en [x,b]\n",
    "            a=p\n",
    "            fa=fp\n",
    "        end   \n",
    "    end\n",
    "    return false,vec_p,vec_f,vec_c, vec_r\n",
    "end"
   ]
  },
  {
   "cell_type": "raw",
   "metadata": {},
   "source": []
  },
  {
   "cell_type": "code",
   "execution_count": 14,
   "metadata": {},
   "outputs": [
    {
     "data": {
      "image/png": "[encoded data removed]",
      "image/svg+xml": [
       "<?xml version=\"1.0\" encoding=\"utf-8\"?>\n",
       "<svg xmlns=\"http://www.w3.org/2000/svg\" xmlns:xlink=\"http://www.w3.org/1999/xlink\" width=\"600\" height=\"400\" viewBox=\"0 0 2400 1600\">\n",
       "<defs>\n",
       "  <clipPath id=\"clip090\">\n",
       "    <rect x=\"0\" y=\"0\" width=\"2400\" height=\"1600\"/>\n",
       "  </clipPath>\n",
       "</defs>\n",
       "<path clip-path=\"url(#clip090)\" d=\"M0 1600 L2400 1600 L2400 0 L0 0  Z\" fill=\"#ffffff\" fill-rule=\"evenodd\" fill-opacity=\"1\"/>\n",
       "<defs>\n",
       "  <clipPath id=\"clip091\">\n",
       "    <rect x=\"480\" y=\"0\" width=\"1681\" height=\"1600\"/>\n",
       "  </clipPath>\n",
       "</defs>\n",
       "<path clip-path=\"url(#clip090)\" d=\"M210.746 1423.18 L2352.76 1423.18 L2352.76 47.2441 L210.746 47.2441  Z\" fill=\"#ffffff\" fill-rule=\"evenodd\" fill-opacity=\"1\"/>\n",
       "<defs>\n",
       "  <clipPath id=\"clip092\">\n",
       "    <rect x=\"210\" y=\"47\" width=\"2143\" height=\"1377\"/>\n",
       "  </clipPath>\n",
       "</defs>\n",
       "<polyline clip-path=\"url(#clip092)\" style=\"stroke:#000000; stroke-linecap:round; stroke-linejoin:round; stroke-width:2; stroke-opacity:0.1; fill:none\" points=\"271.369,1423.18 271.369,47.2441 \"/>\n",
       "<polyline clip-path=\"url(#clip092)\" style=\"stroke:#000000; stroke-linecap:round; stroke-linejoin:round; stroke-width:2; stroke-opacity:0.1; fill:none\" points=\"776.56,1423.18 776.56,47.2441 \"/>\n",
       "<polyline clip-path=\"url(#clip092)\" style=\"stroke:#000000; stroke-linecap:round; stroke-linejoin:round; stroke-width:2; stroke-opacity:0.1; fill:none\" points=\"1281.75,1423.18 1281.75,47.2441 \"/>\n",
       "<polyline clip-path=\"url(#clip092)\" style=\"stroke:#000000; stroke-linecap:round; stroke-linejoin:round; stroke-width:2; stroke-opacity:0.1; fill:none\" points=\"1786.94,1423.18 1786.94,47.2441 \"/>\n",
       "<polyline clip-path=\"url(#clip092)\" style=\"stroke:#000000; stroke-linecap:round; stroke-linejoin:round; stroke-width:2; stroke-opacity:0.1; fill:none\" points=\"2292.13,1423.18 2292.13,47.2441 \"/>\n",
       "<polyline clip-path=\"url(#clip090)\" style=\"stroke:#000000; stroke-linecap:round; stroke-linejoin:round; stroke-width:4; stroke-opacity:1; fill:none\" points=\"210.746,1423.18 2352.76,1423.18 \"/>\n",
       "<polyline clip-path=\"url(#clip090)\" style=\"stroke:#000000; stroke-linecap:round; stroke-linejoin:round; stroke-width:4; stroke-opacity:1; fill:none\" points=\"271.369,1423.18 271.369,1404.28 \"/>\n",
       "<polyline clip-path=\"url(#clip090)\" style=\"stroke:#000000; stroke-linecap:round; stroke-linejoin:round; stroke-width:4; stroke-opacity:1; fill:none\" points=\"776.56,1423.18 776.56,1404.28 \"/>\n",
       "<polyline clip-path=\"url(#clip090)\" style=\"stroke:#000000; stroke-linecap:round; stroke-linejoin:round; stroke-width:4; stroke-opacity:1; fill:none\" points=\"1281.75,1423.18 1281.75,1404.28 \"/>\n",
       "<polyline clip-path=\"url(#clip090)\" style=\"stroke:#000000; stroke-linecap:round; stroke-linejoin:round; stroke-width:4; stroke-opacity:1; fill:none\" points=\"1786.94,1423.18 1786.94,1404.28 \"/>\n",
       "<polyline clip-path=\"url(#clip090)\" style=\"stroke:#000000; stroke-linecap:round; stroke-linejoin:round; stroke-width:4; stroke-opacity:1; fill:none\" points=\"2292.13,1423.18 2292.13,1404.28 \"/>\n",
       "<path clip-path=\"url(#clip090)\" d=\"M223.441 1481.64 L231.08 1481.64 L231.08 1455.28 L222.77 1456.95 L222.77 1452.69 L231.033 1451.02 L235.709 1451.02 L235.709 1481.64 L243.348 1481.64 L243.348 1485.58 L223.441 1485.58 L223.441 1481.64 Z\" fill=\"#000000\" fill-rule=\"nonzero\" fill-opacity=\"1\" /><path clip-path=\"url(#clip090)\" d=\"M252.793 1479.7 L257.677 1479.7 L257.677 1485.58 L252.793 1485.58 L252.793 1479.7 Z\" fill=\"#000000\" fill-rule=\"nonzero\" fill-opacity=\"1\" /><path clip-path=\"url(#clip090)\" d=\"M277.862 1454.1 Q274.251 1454.1 272.422 1457.66 Q270.617 1461.2 270.617 1468.33 Q270.617 1475.44 272.422 1479.01 Q274.251 1482.55 277.862 1482.55 Q281.496 1482.55 283.302 1479.01 Q285.13 1475.44 285.13 1468.33 Q285.13 1461.2 283.302 1457.66 Q281.496 1454.1 277.862 1454.1 M277.862 1450.39 Q283.672 1450.39 286.728 1455 Q289.806 1459.58 289.806 1468.33 Q289.806 1477.06 286.728 1481.67 Q283.672 1486.25 277.862 1486.25 Q272.052 1486.25 268.973 1481.67 Q265.918 1477.06 265.918 1468.33 Q265.918 1459.58 268.973 1455 Q272.052 1450.39 277.862 1450.39 Z\" fill=\"#000000\" fill-rule=\"nonzero\" fill-opacity=\"1\" /><path clip-path=\"url(#clip090)\" d=\"M308.024 1454.1 Q304.413 1454.1 302.584 1457.66 Q300.778 1461.2 300.778 1468.33 Q300.778 1475.44 302.584 1479.01 Q304.413 1482.55 308.024 1482.55 Q311.658 1482.55 313.464 1479.01 Q315.292 1475.44 315.292 1468.33 Q315.292 1461.2 313.464 1457.66 Q311.658 1454.1 308.024 1454.1 M308.024 1450.39 Q313.834 1450.39 316.889 1455 Q319.968 1459.58 319.968 1468.33 Q319.968 1477.06 316.889 1481.67 Q313.834 1486.25 308.024 1486.25 Q302.214 1486.25 299.135 1481.67 Q296.079 1477.06 296.079 1468.33 Q296.079 1459.58 299.135 1455 Q302.214 1450.39 308.024 1450.39 Z\" fill=\"#000000\" fill-rule=\"nonzero\" fill-opacity=\"1\" /><path clip-path=\"url(#clip090)\" d=\"M729.13 1481.64 L736.768 1481.64 L736.768 1455.28 L728.458 1456.95 L728.458 1452.69 L736.722 1451.02 L741.398 1451.02 L741.398 1481.64 L749.037 1481.64 L749.037 1485.58 L729.13 1485.58 L729.13 1481.64 Z\" fill=\"#000000\" fill-rule=\"nonzero\" fill-opacity=\"1\" /><path clip-path=\"url(#clip090)\" d=\"M758.481 1479.7 L763.366 1479.7 L763.366 1485.58 L758.481 1485.58 L758.481 1479.7 Z\" fill=\"#000000\" fill-rule=\"nonzero\" fill-opacity=\"1\" /><path clip-path=\"url(#clip090)\" d=\"M777.578 1481.64 L793.898 1481.64 L793.898 1485.58 L771.953 1485.58 L771.953 1481.64 Q774.615 1478.89 779.199 1474.26 Q783.805 1469.61 784.986 1468.27 Q787.231 1465.74 788.111 1464.01 Q789.014 1462.25 789.014 1460.56 Q789.014 1457.8 787.069 1456.07 Q785.148 1454.33 782.046 1454.33 Q779.847 1454.33 777.393 1455.09 Q774.963 1455.86 772.185 1457.41 L772.185 1452.69 Q775.009 1451.55 777.463 1450.97 Q779.916 1450.39 781.953 1450.39 Q787.324 1450.39 790.518 1453.08 Q793.713 1455.77 793.713 1460.26 Q793.713 1462.39 792.902 1464.31 Q792.115 1466.2 790.009 1468.8 Q789.43 1469.47 786.328 1472.69 Q783.227 1475.88 777.578 1481.64 Z\" fill=\"#000000\" fill-rule=\"nonzero\" fill-opacity=\"1\" /><path clip-path=\"url(#clip090)\" d=\"M803.759 1451.02 L822.115 1451.02 L822.115 1454.96 L808.041 1454.96 L808.041 1463.43 Q809.06 1463.08 810.078 1462.92 Q811.097 1462.73 812.115 1462.73 Q817.902 1462.73 821.282 1465.9 Q824.661 1469.08 824.661 1474.49 Q824.661 1480.07 821.189 1483.17 Q817.717 1486.25 811.398 1486.25 Q809.222 1486.25 806.953 1485.88 Q804.708 1485.51 802.3 1484.77 L802.3 1480.07 Q804.384 1481.2 806.606 1481.76 Q808.828 1482.32 811.305 1482.32 Q815.31 1482.32 817.648 1480.21 Q819.986 1478.1 819.986 1474.49 Q819.986 1470.88 817.648 1468.77 Q815.31 1466.67 811.305 1466.67 Q809.43 1466.67 807.555 1467.08 Q805.703 1467.5 803.759 1468.38 L803.759 1451.02 Z\" fill=\"#000000\" fill-rule=\"nonzero\" fill-opacity=\"1\" /><path clip-path=\"url(#clip090)\" d=\"M1233.82 1481.64 L1241.46 1481.64 L1241.46 1455.28 L1233.15 1456.95 L1233.15 1452.69 L1241.42 1451.02 L1246.09 1451.02 L1246.09 1481.64 L1253.73 1481.64 L1253.73 1485.58 L1233.82 1485.58 L1233.82 1481.64 Z\" fill=\"#000000\" fill-rule=\"nonzero\" fill-opacity=\"1\" /><path clip-path=\"url(#clip090)\" d=\"M1263.17 1479.7 L1268.06 1479.7 L1268.06 1485.58 L1263.17 1485.58 L1263.17 1479.7 Z\" fill=\"#000000\" fill-rule=\"nonzero\" fill-opacity=\"1\" /><path clip-path=\"url(#clip090)\" d=\"M1278.29 1451.02 L1296.65 1451.02 L1296.65 1454.96 L1282.57 1454.96 L1282.57 1463.43 Q1283.59 1463.08 1284.61 1462.92 Q1285.63 1462.73 1286.65 1462.73 Q1292.43 1462.73 1295.81 1465.9 Q1299.19 1469.08 1299.19 1474.49 Q1299.19 1480.07 1295.72 1483.17 Q1292.25 1486.25 1285.93 1486.25 Q1283.75 1486.25 1281.48 1485.88 Q1279.24 1485.51 1276.83 1484.77 L1276.83 1480.07 Q1278.92 1481.2 1281.14 1481.76 Q1283.36 1482.32 1285.84 1482.32 Q1289.84 1482.32 1292.18 1480.21 Q1294.52 1478.1 1294.52 1474.49 Q1294.52 1470.88 1292.18 1468.77 Q1289.84 1466.67 1285.84 1466.67 Q1283.96 1466.67 1282.09 1467.08 Q1280.23 1467.5 1278.29 1468.38 L1278.29 1451.02 Z\" fill=\"#000000\" fill-rule=\"nonzero\" fill-opacity=\"1\" /><path clip-path=\"url(#clip090)\" d=\"M1318.41 1454.1 Q1314.79 1454.1 1312.97 1457.66 Q1311.16 1461.2 1311.16 1468.33 Q1311.16 1475.44 1312.97 1479.01 Q1314.79 1482.55 1318.41 1482.55 Q1322.04 1482.55 1323.85 1479.01 Q1325.67 1475.44 1325.67 1468.33 Q1325.67 1461.2 1323.85 1457.66 Q1322.04 1454.1 1318.41 1454.1 M1318.41 1450.39 Q1324.22 1450.39 1327.27 1455 Q1330.35 1459.58 1330.35 1468.33 Q1330.35 1477.06 1327.27 1481.67 Q1324.22 1486.25 1318.41 1486.25 Q1312.6 1486.25 1309.52 1481.67 Q1306.46 1477.06 1306.46 1468.33 Q1306.46 1459.58 1309.52 1455 Q1312.6 1450.39 1318.41 1450.39 Z\" fill=\"#000000\" fill-rule=\"nonzero\" fill-opacity=\"1\" /><path clip-path=\"url(#clip090)\" d=\"M1739.51 1481.64 L1747.15 1481.64 L1747.15 1455.28 L1738.84 1456.95 L1738.84 1452.69 L1747.1 1451.02 L1751.78 1451.02 L1751.78 1481.64 L1759.42 1481.64 L1759.42 1485.58 L1739.51 1485.58 L1739.51 1481.64 Z\" fill=\"#000000\" fill-rule=\"nonzero\" fill-opacity=\"1\" /><path clip-path=\"url(#clip090)\" d=\"M1768.86 1479.7 L1773.75 1479.7 L1773.75 1485.58 L1768.86 1485.58 L1768.86 1479.7 Z\" fill=\"#000000\" fill-rule=\"nonzero\" fill-opacity=\"1\" /><path clip-path=\"url(#clip090)\" d=\"M1782.75 1451.02 L1804.97 1451.02 L1804.97 1453.01 L1792.43 1485.58 L1787.54 1485.58 L1799.35 1454.96 L1782.75 1454.96 L1782.75 1451.02 Z\" fill=\"#000000\" fill-rule=\"nonzero\" fill-opacity=\"1\" /><path clip-path=\"url(#clip090)\" d=\"M1814.14 1451.02 L1832.5 1451.02 L1832.5 1454.96 L1818.42 1454.96 L1818.42 1463.43 Q1819.44 1463.08 1820.46 1462.92 Q1821.48 1462.73 1822.5 1462.73 Q1828.28 1462.73 1831.66 1465.9 Q1835.04 1469.08 1835.04 1474.49 Q1835.04 1480.07 1831.57 1483.17 Q1828.1 1486.25 1821.78 1486.25 Q1819.6 1486.25 1817.34 1485.88 Q1815.09 1485.51 1812.68 1484.77 L1812.68 1480.07 Q1814.77 1481.2 1816.99 1481.76 Q1819.21 1482.32 1821.69 1482.32 Q1825.69 1482.32 1828.03 1480.21 Q1830.37 1478.1 1830.37 1474.49 Q1830.37 1470.88 1828.03 1468.77 Q1825.69 1466.67 1821.69 1466.67 Q1819.81 1466.67 1817.94 1467.08 Q1816.09 1467.5 1814.14 1468.38 L1814.14 1451.02 Z\" fill=\"#000000\" fill-rule=\"nonzero\" fill-opacity=\"1\" /><path clip-path=\"url(#clip090)\" d=\"M2248.29 1481.64 L2264.61 1481.64 L2264.61 1485.58 L2242.67 1485.58 L2242.67 1481.64 Q2245.33 1478.89 2249.91 1474.26 Q2254.52 1469.61 2255.7 1468.27 Q2257.94 1465.74 2258.82 1464.01 Q2259.73 1462.25 2259.73 1460.56 Q2259.73 1457.8 2257.78 1456.07 Q2255.86 1454.33 2252.76 1454.33 Q2250.56 1454.33 2248.11 1455.09 Q2245.67 1455.86 2242.9 1457.41 L2242.9 1452.69 Q2245.72 1451.55 2248.17 1450.97 Q2250.63 1450.39 2252.67 1450.39 Q2258.04 1450.39 2261.23 1453.08 Q2264.42 1455.77 2264.42 1460.26 Q2264.42 1462.39 2263.61 1464.31 Q2262.83 1466.2 2260.72 1468.8 Q2260.14 1469.47 2257.04 1472.69 Q2253.94 1475.88 2248.29 1481.64 Z\" fill=\"#000000\" fill-rule=\"nonzero\" fill-opacity=\"1\" /><path clip-path=\"url(#clip090)\" d=\"M2274.42 1479.7 L2279.31 1479.7 L2279.31 1485.58 L2274.42 1485.58 L2274.42 1479.7 Z\" fill=\"#000000\" fill-rule=\"nonzero\" fill-opacity=\"1\" /><path clip-path=\"url(#clip090)\" d=\"M2299.49 1454.1 Q2295.88 1454.1 2294.05 1457.66 Q2292.25 1461.2 2292.25 1468.33 Q2292.25 1475.44 2294.05 1479.01 Q2295.88 1482.55 2299.49 1482.55 Q2303.13 1482.55 2304.93 1479.01 Q2306.76 1475.44 2306.76 1468.33 Q2306.76 1461.2 2304.93 1457.66 Q2303.13 1454.1 2299.49 1454.1 M2299.49 1450.39 Q2305.3 1450.39 2308.36 1455 Q2311.44 1459.58 2311.44 1468.33 Q2311.44 1477.06 2308.36 1481.67 Q2305.3 1486.25 2299.49 1486.25 Q2293.68 1486.25 2290.61 1481.67 Q2287.55 1477.06 2287.55 1468.33 Q2287.55 1459.58 2290.61 1455 Q2293.68 1450.39 2299.49 1450.39 Z\" fill=\"#000000\" fill-rule=\"nonzero\" fill-opacity=\"1\" /><path clip-path=\"url(#clip090)\" d=\"M2329.66 1454.1 Q2326.04 1454.1 2324.22 1457.66 Q2322.41 1461.2 2322.41 1468.33 Q2322.41 1475.44 2324.22 1479.01 Q2326.04 1482.55 2329.66 1482.55 Q2333.29 1482.55 2335.1 1479.01 Q2336.92 1475.44 2336.92 1468.33 Q2336.92 1461.2 2335.1 1457.66 Q2333.29 1454.1 2329.66 1454.1 M2329.66 1450.39 Q2335.47 1450.39 2338.52 1455 Q2341.6 1459.58 2341.6 1468.33 Q2341.6 1477.06 2338.52 1481.67 Q2335.47 1486.25 2329.66 1486.25 Q2323.85 1486.25 2320.77 1481.67 Q2317.71 1477.06 2317.71 1468.33 Q2317.71 1459.58 2320.77 1455 Q2323.85 1450.39 2329.66 1450.39 Z\" fill=\"#000000\" fill-rule=\"nonzero\" fill-opacity=\"1\" /><path clip-path=\"url(#clip090)\" d=\"M1295.92 1528.8 Q1295.92 1530.61 1294.8 1531.64 Q1293.67 1532.64 1292.38 1532.64 Q1291.16 1532.64 1290.51 1531.93 Q1289.87 1531.22 1289.87 1530.32 Q1289.87 1529.09 1290.77 1528.03 Q1291.67 1526.97 1293.03 1526.74 Q1291.71 1525.91 1289.74 1525.91 Q1288.45 1525.91 1287.33 1526.58 Q1286.23 1527.26 1285.55 1528.13 Q1284.91 1529 1284.33 1530.25 Q1283.78 1531.48 1283.56 1532.22 Q1283.36 1532.93 1283.2 1533.7 L1280.95 1542.72 Q1279.85 1547 1279.85 1548.51 Q1279.85 1550.38 1280.76 1551.64 Q1281.66 1552.86 1283.46 1552.86 Q1284.17 1552.86 1284.97 1552.67 Q1285.78 1552.44 1286.81 1551.86 Q1287.87 1551.25 1288.81 1550.35 Q1289.77 1549.42 1290.71 1547.84 Q1291.64 1546.26 1292.25 1544.23 Q1292.45 1543.52 1293.09 1543.52 Q1293.9 1543.52 1293.9 1544.17 Q1293.9 1544.71 1293.44 1545.87 Q1293.03 1547 1292.09 1548.48 Q1291.19 1549.93 1290 1551.25 Q1288.81 1552.54 1287.04 1553.44 Q1285.26 1554.34 1283.33 1554.34 Q1280.56 1554.34 1278.73 1552.86 Q1276.89 1551.38 1276.21 1549.32 Q1276.05 1549.61 1275.83 1550 Q1275.6 1550.38 1274.93 1551.25 Q1274.28 1552.09 1273.54 1552.73 Q1272.8 1553.34 1271.64 1553.83 Q1270.51 1554.34 1269.29 1554.34 Q1267.74 1554.34 1266.36 1553.89 Q1265.01 1553.44 1264.04 1552.41 Q1263.07 1551.38 1263.07 1549.96 Q1263.07 1548.38 1264.14 1547.29 Q1265.23 1546.16 1266.71 1546.16 Q1267.65 1546.16 1268.39 1546.71 Q1269.16 1547.26 1269.16 1548.45 Q1269.16 1549.77 1268.26 1550.77 Q1267.36 1551.77 1266.07 1552.02 Q1267.39 1552.86 1269.35 1552.86 Q1271.48 1552.86 1273.15 1550.99 Q1274.83 1549.13 1275.63 1546 Q1277.63 1538.5 1278.4 1535.15 Q1279.18 1531.77 1279.18 1530.32 Q1279.18 1528.96 1278.82 1528.03 Q1278.47 1527.1 1277.86 1526.68 Q1277.28 1526.23 1276.73 1526.07 Q1276.21 1525.91 1275.63 1525.91 Q1274.67 1525.91 1273.57 1526.29 Q1272.51 1526.68 1271.22 1527.58 Q1269.97 1528.45 1268.77 1530.25 Q1267.58 1532.06 1266.78 1534.54 Q1266.62 1535.28 1265.91 1535.28 Q1265.14 1535.24 1265.14 1534.6 Q1265.14 1534.05 1265.55 1532.93 Q1266.01 1531.77 1266.91 1530.32 Q1267.84 1528.87 1269.03 1527.58 Q1270.26 1526.26 1272.03 1525.36 Q1273.83 1524.46 1275.76 1524.46 Q1276.63 1524.46 1277.47 1524.65 Q1278.34 1524.81 1279.37 1525.29 Q1280.43 1525.78 1281.37 1526.84 Q1282.3 1527.9 1282.88 1529.45 Q1283.27 1528.71 1283.78 1528 Q1284.33 1527.29 1285.17 1526.42 Q1286.04 1525.52 1287.23 1525 Q1288.45 1524.46 1289.81 1524.46 Q1291.13 1524.46 1292.41 1524.81 Q1293.7 1525.13 1294.8 1526.19 Q1295.92 1527.23 1295.92 1528.8 Z\" fill=\"#000000\" fill-rule=\"nonzero\" fill-opacity=\"1\" /><polyline clip-path=\"url(#clip092)\" style=\"stroke:#000000; stroke-linecap:round; stroke-linejoin:round; stroke-width:2; stroke-opacity:0.1; fill:none\" points=\"210.746,1384.24 2352.76,1384.24 \"/>\n",
       "<polyline clip-path=\"url(#clip092)\" style=\"stroke:#000000; stroke-linecap:round; stroke-linejoin:round; stroke-width:2; stroke-opacity:0.1; fill:none\" points=\"210.746,951.554 2352.76,951.554 \"/>\n",
       "<polyline clip-path=\"url(#clip092)\" style=\"stroke:#000000; stroke-linecap:round; stroke-linejoin:round; stroke-width:2; stroke-opacity:0.1; fill:none\" points=\"210.746,518.87 2352.76,518.87 \"/>\n",
       "<polyline clip-path=\"url(#clip092)\" style=\"stroke:#000000; stroke-linecap:round; stroke-linejoin:round; stroke-width:2; stroke-opacity:0.1; fill:none\" points=\"210.746,86.1857 2352.76,86.1857 \"/>\n",
       "<polyline clip-path=\"url(#clip090)\" style=\"stroke:#000000; stroke-linecap:round; stroke-linejoin:round; stroke-width:4; stroke-opacity:1; fill:none\" points=\"210.746,1423.18 210.746,47.2441 \"/>\n",
       "<polyline clip-path=\"url(#clip090)\" style=\"stroke:#000000; stroke-linecap:round; stroke-linejoin:round; stroke-width:4; stroke-opacity:1; fill:none\" points=\"210.746,1384.24 229.644,1384.24 \"/>\n",
       "<polyline clip-path=\"url(#clip090)\" style=\"stroke:#000000; stroke-linecap:round; stroke-linejoin:round; stroke-width:4; stroke-opacity:1; fill:none\" points=\"210.746,951.554 229.644,951.554 \"/>\n",
       "<polyline clip-path=\"url(#clip090)\" style=\"stroke:#000000; stroke-linecap:round; stroke-linejoin:round; stroke-width:4; stroke-opacity:1; fill:none\" points=\"210.746,518.87 229.644,518.87 \"/>\n",
       "<polyline clip-path=\"url(#clip090)\" style=\"stroke:#000000; stroke-linecap:round; stroke-linejoin:round; stroke-width:4; stroke-opacity:1; fill:none\" points=\"210.746,86.1857 229.644,86.1857 \"/>\n",
       "<path clip-path=\"url(#clip090)\" d=\"M114.631 1384.69 L144.306 1384.69 L144.306 1388.62 L114.631 1388.62 L114.631 1384.69 Z\" fill=\"#000000\" fill-rule=\"nonzero\" fill-opacity=\"1\" /><path clip-path=\"url(#clip090)\" d=\"M158.427 1397.58 L174.746 1397.58 L174.746 1401.52 L152.802 1401.52 L152.802 1397.58 Q155.464 1394.83 160.047 1390.2 Q164.653 1385.55 165.834 1384.2 Q168.079 1381.68 168.959 1379.94 Q169.862 1378.19 169.862 1376.5 Q169.862 1373.74 167.917 1372 Q165.996 1370.27 162.894 1370.27 Q160.695 1370.27 158.241 1371.03 Q155.811 1371.8 153.033 1373.35 L153.033 1368.62 Q155.857 1367.49 158.311 1366.91 Q160.765 1366.33 162.802 1366.33 Q168.172 1366.33 171.366 1369.02 Q174.561 1371.7 174.561 1376.19 Q174.561 1378.32 173.751 1380.25 Q172.964 1382.14 170.857 1384.74 Q170.278 1385.41 167.177 1388.62 Q164.075 1391.82 158.427 1397.58 Z\" fill=\"#000000\" fill-rule=\"nonzero\" fill-opacity=\"1\" /><path clip-path=\"url(#clip090)\" d=\"M114.26 952.005 L143.936 952.005 L143.936 955.941 L114.26 955.941 L114.26 952.005 Z\" fill=\"#000000\" fill-rule=\"nonzero\" fill-opacity=\"1\" /><path clip-path=\"url(#clip090)\" d=\"M154.839 964.899 L162.477 964.899 L162.477 938.533 L154.167 940.2 L154.167 935.941 L162.431 934.274 L167.107 934.274 L167.107 964.899 L174.746 964.899 L174.746 968.834 L154.839 968.834 L154.839 964.899 Z\" fill=\"#000000\" fill-rule=\"nonzero\" fill-opacity=\"1\" /><path clip-path=\"url(#clip090)\" d=\"M162.802 504.669 Q159.19 504.669 157.362 508.233 Q155.556 511.775 155.556 518.905 Q155.556 526.011 157.362 529.576 Q159.19 533.117 162.802 533.117 Q166.436 533.117 168.241 529.576 Q170.07 526.011 170.07 518.905 Q170.07 511.775 168.241 508.233 Q166.436 504.669 162.802 504.669 M162.802 500.965 Q168.612 500.965 171.667 505.571 Q174.746 510.155 174.746 518.905 Q174.746 527.631 171.667 532.238 Q168.612 536.821 162.802 536.821 Q156.991 536.821 153.913 532.238 Q150.857 527.631 150.857 518.905 Q150.857 510.155 153.913 505.571 Q156.991 500.965 162.802 500.965 Z\" fill=\"#000000\" fill-rule=\"nonzero\" fill-opacity=\"1\" /><path clip-path=\"url(#clip090)\" d=\"M154.839 99.5305 L162.477 99.5305 L162.477 73.1649 L154.167 74.8316 L154.167 70.5723 L162.431 68.9057 L167.107 68.9057 L167.107 99.5305 L174.746 99.5305 L174.746 103.466 L154.839 103.466 L154.839 99.5305 Z\" fill=\"#000000\" fill-rule=\"nonzero\" fill-opacity=\"1\" /><path clip-path=\"url(#clip090)\" d=\"M24.1199 765.631 Q25.8912 765.631 26.9862 766.758 Q28.0812 767.853 28.0812 769.238 Q28.0812 770.236 27.4693 770.977 Q26.8574 771.686 25.7946 771.686 Q24.6996 771.686 23.5402 770.848 Q22.3807 770.011 22.2197 768.111 Q21.0281 769.367 21.0281 771.363 Q21.0281 772.362 21.6722 773.199 Q22.2841 774.004 23.2825 774.455 Q24.3131 774.938 30.1424 776.033 Q32.0425 776.388 33.8782 776.71 Q35.714 777.032 37.6463 777.418 L37.6463 771.943 Q37.6463 771.235 37.6785 770.945 Q37.7107 770.655 37.8718 770.43 Q38.0328 770.172 38.3871 770.172 Q39.2888 770.172 39.5143 770.591 Q39.7075 770.977 39.7075 772.136 L39.7075 777.805 L60.6091 781.766 Q61.221 781.863 63.1534 782.281 Q65.0535 782.668 68.1775 783.602 Q71.3337 784.536 73.2016 785.47 Q74.2644 785.985 75.2628 786.661 Q76.2934 787.305 77.3239 788.239 Q78.3545 789.173 78.9664 790.397 Q79.6106 791.621 79.6106 792.909 Q79.6106 795.099 78.3867 796.806 Q77.1629 798.513 75.0695 798.513 Q73.2982 798.513 72.2032 797.418 Q71.1082 796.291 71.1082 794.906 Q71.1082 793.908 71.7201 793.199 Q72.332 792.458 73.3948 792.458 Q73.8457 792.458 74.361 792.619 Q74.8763 792.78 75.456 793.135 Q76.0679 793.489 76.4866 794.262 Q76.9053 795.035 76.9697 796.098 Q78.1613 794.842 78.1613 792.909 Q78.1613 792.297 77.9036 791.75 Q77.6782 791.202 77.0985 790.751 Q76.5188 790.268 75.9391 789.914 Q75.3916 789.56 74.3288 789.206 Q73.2982 788.851 72.5253 788.626 Q71.7523 788.4 70.3675 788.111 Q68.9826 787.788 68.1453 787.627 Q67.3401 787.466 65.762 787.177 L39.7075 782.249 L39.7075 786.597 Q39.7075 787.37 39.6753 787.692 Q39.6431 787.982 39.4821 788.207 Q39.2888 788.433 38.9023 788.433 Q38.2904 788.433 38.0328 788.175 Q37.7429 787.885 37.7107 787.563 Q37.6463 787.241 37.6463 786.468 L37.6463 781.895 Q29.4982 780.349 27.3082 779.737 Q24.9894 779.028 23.3791 777.933 Q21.7366 776.838 20.9637 775.615 Q20.1907 774.391 19.9009 773.392 Q19.5788 772.362 19.5788 771.363 Q19.5788 769.109 20.8027 767.37 Q21.9943 765.631 24.1199 765.631 Z\" fill=\"#000000\" fill-rule=\"nonzero\" fill-opacity=\"1\" /><path clip-path=\"url(#clip090)\" d=\"M49.5947 756.751 Q38.4515 756.751 29.466 752.596 Q25.6979 750.825 22.5418 748.345 Q19.3856 745.865 18.0007 744.223 Q16.6159 742.58 16.6159 742.129 Q16.6159 741.485 17.26 741.453 Q17.5821 741.453 18.3872 742.323 Q29.2084 752.951 49.5947 752.918 Q70.0454 752.918 80.4479 742.58 Q81.5751 741.453 81.9294 741.453 Q82.5735 741.453 82.5735 742.129 Q82.5735 742.58 81.2531 744.158 Q79.9326 745.736 76.9053 748.184 Q73.8779 750.632 70.1742 752.403 Q61.1888 756.751 49.5947 756.751 Z\" fill=\"#000000\" fill-rule=\"nonzero\" fill-opacity=\"1\" /><path clip-path=\"url(#clip090)\" d=\"M41.2856 703.589 Q43.0891 703.589 44.1197 704.717 Q45.1181 705.844 45.1181 707.132 Q45.1181 708.356 44.4096 709 Q43.701 709.644 42.7993 709.644 Q41.5754 709.644 40.5126 708.742 Q39.4498 707.841 39.2244 706.488 Q38.3871 707.808 38.3871 709.773 Q38.3871 711.061 39.0634 712.188 Q39.7397 713.283 40.6093 713.96 Q41.4788 714.604 42.7348 715.184 Q43.9587 715.731 44.6994 715.957 Q45.4079 716.15 46.1809 716.311 L55.1985 718.565 Q59.4819 719.66 60.9956 719.66 Q62.8635 719.66 64.1195 718.758 Q65.3434 717.857 65.3434 716.053 Q65.3434 715.345 65.1501 714.539 Q64.9247 713.734 64.345 712.704 Q63.7331 711.641 62.8313 710.707 Q61.8973 709.741 60.3192 708.807 Q58.7412 707.873 56.7122 707.261 Q56.0037 707.068 56.0037 706.424 Q56.0037 705.618 56.6478 705.618 Q57.1953 705.618 58.3547 706.069 Q59.4819 706.488 60.9634 707.422 Q62.4126 708.324 63.7331 709.515 Q65.0213 710.707 65.9231 712.478 Q66.8248 714.25 66.8248 716.182 Q66.8248 718.952 65.3434 720.787 Q63.8619 722.623 61.8007 723.299 Q62.0906 723.46 62.477 723.686 Q62.8635 723.911 63.7331 724.588 Q64.5704 725.232 65.2145 725.973 Q65.8264 726.713 66.3095 727.873 Q66.8248 729 66.8248 730.224 Q66.8248 731.77 66.3739 733.154 Q65.9231 734.507 64.8925 735.473 Q63.8619 736.439 62.4448 736.439 Q60.8667 736.439 59.7717 735.377 Q58.6445 734.282 58.6445 732.8 Q58.6445 731.866 59.192 731.125 Q59.7395 730.353 60.9312 730.353 Q62.2516 730.353 63.25 731.254 Q64.2484 732.156 64.506 733.444 Q65.3434 732.124 65.3434 730.159 Q65.3434 728.034 63.4754 726.359 Q61.6075 724.684 58.4835 723.879 Q50.9795 721.882 47.6301 721.109 Q44.2485 720.337 42.7993 720.337 Q41.4466 720.337 40.5126 720.691 Q39.5787 721.045 39.16 721.657 Q38.7091 722.237 38.5481 722.784 Q38.3871 723.299 38.3871 723.879 Q38.3871 724.845 38.7735 725.94 Q39.16 727.003 40.0618 728.291 Q40.9313 729.547 42.7348 730.739 Q44.5384 731.931 47.0182 732.736 Q47.759 732.897 47.759 733.605 Q47.7268 734.378 47.0826 734.378 Q46.5351 734.378 45.4079 733.96 Q44.2485 733.509 42.7993 732.607 Q41.35 731.673 40.0618 730.481 Q38.7413 729.258 37.8396 727.486 Q36.9378 725.683 36.9378 723.75 Q36.9378 722.881 37.131 722.043 Q37.2921 721.174 37.7751 720.143 Q38.2582 719.08 39.321 718.147 Q40.3838 717.213 41.9297 716.633 Q41.189 716.246 40.4804 715.731 Q39.7719 715.184 38.9023 714.346 Q38.0006 713.477 37.4853 712.285 Q36.9378 711.061 36.9378 709.709 Q36.9378 708.388 37.2921 707.1 Q37.6141 705.812 38.6769 704.717 Q39.7075 703.589 41.2856 703.589 Z\" fill=\"#000000\" fill-rule=\"nonzero\" fill-opacity=\"1\" /><path clip-path=\"url(#clip090)\" d=\"M81.9294 697.238 Q81.6073 697.238 80.8022 696.401 Q69.981 685.773 49.5947 685.773 Q29.144 685.773 18.8059 695.982 Q17.6143 697.238 17.26 697.238 Q16.6159 697.238 16.6159 696.594 Q16.6159 696.143 17.9363 694.565 Q19.2568 692.955 22.2841 690.539 Q25.3115 688.092 29.0151 686.288 Q38.0006 681.941 49.5947 681.941 Q60.7379 681.941 69.7234 686.095 Q73.4914 687.866 76.6476 690.346 Q79.8038 692.826 81.1886 694.469 Q82.5735 696.111 82.5735 696.594 Q82.5735 697.238 81.9294 697.238 Z\" fill=\"#000000\" fill-rule=\"nonzero\" fill-opacity=\"1\" /><polyline clip-path=\"url(#clip092)\" style=\"stroke:#009af9; stroke-linecap:round; stroke-linejoin:round; stroke-width:4; stroke-opacity:1; fill:none\" points=\"271.369,1384.24 291.577,1375.54 311.784,1366.76 331.992,1357.89 352.199,1348.93 372.407,1339.89 392.615,1330.76 412.822,1321.54 433.03,1312.24 453.238,1302.85 473.445,1293.37 493.653,1283.81 513.861,1274.16 534.068,1264.43 554.276,1254.61 574.483,1244.7 594.691,1234.7 614.899,1224.62 635.106,1214.45 655.314,1204.2 675.522,1193.86 695.729,1183.43 715.937,1172.92 736.145,1162.31 756.352,1151.63 776.56,1140.85 796.768,1129.99 816.975,1119.05 837.183,1108.01 857.39,1096.89 877.598,1085.69 897.806,1074.39 918.013,1063.01 938.221,1051.55 958.429,1039.99 978.636,1028.36 998.844,1016.63 1019.05,1004.82 1039.26,992.919 1059.47,980.933 1079.67,968.861 1099.88,956.703 1120.09,944.458 1140.3,932.127 1160.51,919.709 1180.71,907.204 1200.92,894.613 1221.13,881.935 1241.34,869.171 1261.54,856.32 1281.75,843.383 1301.96,830.359 1322.17,817.249 1342.37,804.052 1362.58,790.769 1382.79,777.399 1403,763.942 1423.2,750.399 1443.41,736.77 1463.62,723.054 1483.83,709.251 1504.03,695.362 1524.24,681.386 1544.45,667.324 1564.66,653.175 1584.87,638.94 1605.07,624.618 1625.28,610.21 1645.49,595.715 1665.7,581.133 1685.9,566.465 1706.11,551.711 1726.32,536.87 1746.53,521.942 1766.73,506.928 1786.94,491.827 1807.15,476.64 1827.36,461.366 1847.56,446.006 1867.77,430.559 1887.98,415.026 1908.19,399.406 1928.4,383.699 1948.6,367.906 1968.81,352.027 1989.02,336.061 2009.23,320.008 2029.43,303.869 2049.64,287.643 2069.85,271.331 2090.06,254.933 2110.26,238.447 2130.47,221.875 2150.68,205.217 2170.89,188.472 2191.09,171.641 2211.3,154.723 2231.51,137.718 2251.72,120.627 2271.93,103.45 2292.13,86.1857 \"/>\n",
       "</svg>\n"
      ],
      "text/html": [
       "<?xml version=\"1.0\" encoding=\"utf-8\"?>\n",
       "<svg xmlns=\"http://www.w3.org/2000/svg\" xmlns:xlink=\"http://www.w3.org/1999/xlink\" width=\"600\" height=\"400\" viewBox=\"0 0 2400 1600\">\n",
       "<defs>\n",
       "  <clipPath id=\"clip140\">\n",
       "    <rect x=\"0\" y=\"0\" width=\"2400\" height=\"1600\"/>\n",
       "  </clipPath>\n",
       "</defs>\n",
       "<path clip-path=\"url(#clip140)\" d=\"M0 1600 L2400 1600 L2400 0 L0 0  Z\" fill=\"#ffffff\" fill-rule=\"evenodd\" fill-opacity=\"1\"/>\n",
       "<defs>\n",
       "  <clipPath id=\"clip141\">\n",
       "    <rect x=\"480\" y=\"0\" width=\"1681\" height=\"1600\"/>\n",
       "  </clipPath>\n",
       "</defs>\n",
       "<path clip-path=\"url(#clip140)\" d=\"M210.746 1423.18 L2352.76 1423.18 L2352.76 47.2441 L210.746 47.2441  Z\" fill=\"#ffffff\" fill-rule=\"evenodd\" fill-opacity=\"1\"/>\n",
       "<defs>\n",
       "  <clipPath id=\"clip142\">\n",
       "    <rect x=\"210\" y=\"47\" width=\"2143\" height=\"1377\"/>\n",
       "  </clipPath>\n",
       "</defs>\n",
       "<polyline clip-path=\"url(#clip142)\" style=\"stroke:#000000; stroke-linecap:round; stroke-linejoin:round; stroke-width:2; stroke-opacity:0.1; fill:none\" points=\"271.369,1423.18 271.369,47.2441 \"/>\n",
       "<polyline clip-path=\"url(#clip142)\" style=\"stroke:#000000; stroke-linecap:round; stroke-linejoin:round; stroke-width:2; stroke-opacity:0.1; fill:none\" points=\"776.56,1423.18 776.56,47.2441 \"/>\n",
       "<polyline clip-path=\"url(#clip142)\" style=\"stroke:#000000; stroke-linecap:round; stroke-linejoin:round; stroke-width:2; stroke-opacity:0.1; fill:none\" points=\"1281.75,1423.18 1281.75,47.2441 \"/>\n",
       "<polyline clip-path=\"url(#clip142)\" style=\"stroke:#000000; stroke-linecap:round; stroke-linejoin:round; stroke-width:2; stroke-opacity:0.1; fill:none\" points=\"1786.94,1423.18 1786.94,47.2441 \"/>\n",
       "<polyline clip-path=\"url(#clip142)\" style=\"stroke:#000000; stroke-linecap:round; stroke-linejoin:round; stroke-width:2; stroke-opacity:0.1; fill:none\" points=\"2292.13,1423.18 2292.13,47.2441 \"/>\n",
       "<polyline clip-path=\"url(#clip140)\" style=\"stroke:#000000; stroke-linecap:round; stroke-linejoin:round; stroke-width:4; stroke-opacity:1; fill:none\" points=\"210.746,1423.18 2352.76,1423.18 \"/>\n",
       "<polyline clip-path=\"url(#clip140)\" style=\"stroke:#000000; stroke-linecap:round; stroke-linejoin:round; stroke-width:4; stroke-opacity:1; fill:none\" points=\"271.369,1423.18 271.369,1404.28 \"/>\n",
       "<polyline clip-path=\"url(#clip140)\" style=\"stroke:#000000; stroke-linecap:round; stroke-linejoin:round; stroke-width:4; stroke-opacity:1; fill:none\" points=\"776.56,1423.18 776.56,1404.28 \"/>\n",
       "<polyline clip-path=\"url(#clip140)\" style=\"stroke:#000000; stroke-linecap:round; stroke-linejoin:round; stroke-width:4; stroke-opacity:1; fill:none\" points=\"1281.75,1423.18 1281.75,1404.28 \"/>\n",
       "<polyline clip-path=\"url(#clip140)\" style=\"stroke:#000000; stroke-linecap:round; stroke-linejoin:round; stroke-width:4; stroke-opacity:1; fill:none\" points=\"1786.94,1423.18 1786.94,1404.28 \"/>\n",
       "<polyline clip-path=\"url(#clip140)\" style=\"stroke:#000000; stroke-linecap:round; stroke-linejoin:round; stroke-width:4; stroke-opacity:1; fill:none\" points=\"2292.13,1423.18 2292.13,1404.28 \"/>\n",
       "<path clip-path=\"url(#clip140)\" d=\"M223.441 1481.64 L231.08 1481.64 L231.08 1455.28 L222.77 1456.95 L222.77 1452.69 L231.033 1451.02 L235.709 1451.02 L235.709 1481.64 L243.348 1481.64 L243.348 1485.58 L223.441 1485.58 L223.441 1481.64 Z\" fill=\"#000000\" fill-rule=\"nonzero\" fill-opacity=\"1\" /><path clip-path=\"url(#clip140)\" d=\"M252.793 1479.7 L257.677 1479.7 L257.677 1485.58 L252.793 1485.58 L252.793 1479.7 Z\" fill=\"#000000\" fill-rule=\"nonzero\" fill-opacity=\"1\" /><path clip-path=\"url(#clip140)\" d=\"M277.862 1454.1 Q274.251 1454.1 272.422 1457.66 Q270.617 1461.2 270.617 1468.33 Q270.617 1475.44 272.422 1479.01 Q274.251 1482.55 277.862 1482.55 Q281.496 1482.55 283.302 1479.01 Q285.13 1475.44 285.13 1468.33 Q285.13 1461.2 283.302 1457.66 Q281.496 1454.1 277.862 1454.1 M277.862 1450.39 Q283.672 1450.39 286.728 1455 Q289.806 1459.58 289.806 1468.33 Q289.806 1477.06 286.728 1481.67 Q283.672 1486.25 277.862 1486.25 Q272.052 1486.25 268.973 1481.67 Q265.918 1477.06 265.918 1468.33 Q265.918 1459.58 268.973 1455 Q272.052 1450.39 277.862 1450.39 Z\" fill=\"#000000\" fill-rule=\"nonzero\" fill-opacity=\"1\" /><path clip-path=\"url(#clip140)\" d=\"M308.024 1454.1 Q304.413 1454.1 302.584 1457.66 Q300.778 1461.2 300.778 1468.33 Q300.778 1475.44 302.584 1479.01 Q304.413 1482.55 308.024 1482.55 Q311.658 1482.55 313.464 1479.01 Q315.292 1475.44 315.292 1468.33 Q315.292 1461.2 313.464 1457.66 Q311.658 1454.1 308.024 1454.1 M308.024 1450.39 Q313.834 1450.39 316.889 1455 Q319.968 1459.58 319.968 1468.33 Q319.968 1477.06 316.889 1481.67 Q313.834 1486.25 308.024 1486.25 Q302.214 1486.25 299.135 1481.67 Q296.079 1477.06 296.079 1468.33 Q296.079 1459.58 299.135 1455 Q302.214 1450.39 308.024 1450.39 Z\" fill=\"#000000\" fill-rule=\"nonzero\" fill-opacity=\"1\" /><path clip-path=\"url(#clip140)\" d=\"M729.13 1481.64 L736.768 1481.64 L736.768 1455.28 L728.458 1456.95 L728.458 1452.69 L736.722 1451.02 L741.398 1451.02 L741.398 1481.64 L749.037 1481.64 L749.037 1485.58 L729.13 1485.58 L729.13 1481.64 Z\" fill=\"#000000\" fill-rule=\"nonzero\" fill-opacity=\"1\" /><path clip-path=\"url(#clip140)\" d=\"M758.481 1479.7 L763.366 1479.7 L763.366 1485.58 L758.481 1485.58 L758.481 1479.7 Z\" fill=\"#000000\" fill-rule=\"nonzero\" fill-opacity=\"1\" /><path clip-path=\"url(#clip140)\" d=\"M777.578 1481.64 L793.898 1481.64 L793.898 1485.58 L771.953 1485.58 L771.953 1481.64 Q774.615 1478.89 779.199 1474.26 Q783.805 1469.61 784.986 1468.27 Q787.231 1465.74 788.111 1464.01 Q789.014 1462.25 789.014 1460.56 Q789.014 1457.8 787.069 1456.07 Q785.148 1454.33 782.046 1454.33 Q779.847 1454.33 777.393 1455.09 Q774.963 1455.86 772.185 1457.41 L772.185 1452.69 Q775.009 1451.55 777.463 1450.97 Q779.916 1450.39 781.953 1450.39 Q787.324 1450.39 790.518 1453.08 Q793.713 1455.77 793.713 1460.26 Q793.713 1462.39 792.902 1464.31 Q792.115 1466.2 790.009 1468.8 Q789.43 1469.47 786.328 1472.69 Q783.227 1475.88 777.578 1481.64 Z\" fill=\"#000000\" fill-rule=\"nonzero\" fill-opacity=\"1\" /><path clip-path=\"url(#clip140)\" d=\"M803.759 1451.02 L822.115 1451.02 L822.115 1454.96 L808.041 1454.96 L808.041 1463.43 Q809.06 1463.08 810.078 1462.92 Q811.097 1462.73 812.115 1462.73 Q817.902 1462.73 821.282 1465.9 Q824.661 1469.08 824.661 1474.49 Q824.661 1480.07 821.189 1483.17 Q817.717 1486.25 811.398 1486.25 Q809.222 1486.25 806.953 1485.88 Q804.708 1485.51 802.3 1484.77 L802.3 1480.07 Q804.384 1481.2 806.606 1481.76 Q808.828 1482.32 811.305 1482.32 Q815.31 1482.32 817.648 1480.21 Q819.986 1478.1 819.986 1474.49 Q819.986 1470.88 817.648 1468.77 Q815.31 1466.67 811.305 1466.67 Q809.43 1466.67 807.555 1467.08 Q805.703 1467.5 803.759 1468.38 L803.759 1451.02 Z\" fill=\"#000000\" fill-rule=\"nonzero\" fill-opacity=\"1\" /><path clip-path=\"url(#clip140)\" d=\"M1233.82 1481.64 L1241.46 1481.64 L1241.46 1455.28 L1233.15 1456.95 L1233.15 1452.69 L1241.42 1451.02 L1246.09 1451.02 L1246.09 1481.64 L1253.73 1481.64 L1253.73 1485.58 L1233.82 1485.58 L1233.82 1481.64 Z\" fill=\"#000000\" fill-rule=\"nonzero\" fill-opacity=\"1\" /><path clip-path=\"url(#clip140)\" d=\"M1263.17 1479.7 L1268.06 1479.7 L1268.06 1485.58 L1263.17 1485.58 L1263.17 1479.7 Z\" fill=\"#000000\" fill-rule=\"nonzero\" fill-opacity=\"1\" /><path clip-path=\"url(#clip140)\" d=\"M1278.29 1451.02 L1296.65 1451.02 L1296.65 1454.96 L1282.57 1454.96 L1282.57 1463.43 Q1283.59 1463.08 1284.61 1462.92 Q1285.63 1462.73 1286.65 1462.73 Q1292.43 1462.73 1295.81 1465.9 Q1299.19 1469.08 1299.19 1474.49 Q1299.19 1480.07 1295.72 1483.17 Q1292.25 1486.25 1285.93 1486.25 Q1283.75 1486.25 1281.48 1485.88 Q1279.24 1485.51 1276.83 1484.77 L1276.83 1480.07 Q1278.92 1481.2 1281.14 1481.76 Q1283.36 1482.32 1285.84 1482.32 Q1289.84 1482.32 1292.18 1480.21 Q1294.52 1478.1 1294.52 1474.49 Q1294.52 1470.88 1292.18 1468.77 Q1289.84 1466.67 1285.84 1466.67 Q1283.96 1466.67 1282.09 1467.08 Q1280.23 1467.5 1278.29 1468.38 L1278.29 1451.02 Z\" fill=\"#000000\" fill-rule=\"nonzero\" fill-opacity=\"1\" /><path clip-path=\"url(#clip140)\" d=\"M1318.41 1454.1 Q1314.79 1454.1 1312.97 1457.66 Q1311.16 1461.2 1311.16 1468.33 Q1311.16 1475.44 1312.97 1479.01 Q1314.79 1482.55 1318.41 1482.55 Q1322.04 1482.55 1323.85 1479.01 Q1325.67 1475.44 1325.67 1468.33 Q1325.67 1461.2 1323.85 1457.66 Q1322.04 1454.1 1318.41 1454.1 M1318.41 1450.39 Q1324.22 1450.39 1327.27 1455 Q1330.35 1459.58 1330.35 1468.33 Q1330.35 1477.06 1327.27 1481.67 Q1324.22 1486.25 1318.41 1486.25 Q1312.6 1486.25 1309.52 1481.67 Q1306.46 1477.06 1306.46 1468.33 Q1306.46 1459.58 1309.52 1455 Q1312.6 1450.39 1318.41 1450.39 Z\" fill=\"#000000\" fill-rule=\"nonzero\" fill-opacity=\"1\" /><path clip-path=\"url(#clip140)\" d=\"M1739.51 1481.64 L1747.15 1481.64 L1747.15 1455.28 L1738.84 1456.95 L1738.84 1452.69 L1747.1 1451.02 L1751.78 1451.02 L1751.78 1481.64 L1759.42 1481.64 L1759.42 1485.58 L1739.51 1485.58 L1739.51 1481.64 Z\" fill=\"#000000\" fill-rule=\"nonzero\" fill-opacity=\"1\" /><path clip-path=\"url(#clip140)\" d=\"M1768.86 1479.7 L1773.75 1479.7 L1773.75 1485.58 L1768.86 1485.58 L1768.86 1479.7 Z\" fill=\"#000000\" fill-rule=\"nonzero\" fill-opacity=\"1\" /><path clip-path=\"url(#clip140)\" d=\"M1782.75 1451.02 L1804.97 1451.02 L1804.97 1453.01 L1792.43 1485.58 L1787.54 1485.58 L1799.35 1454.96 L1782.75 1454.96 L1782.75 1451.02 Z\" fill=\"#000000\" fill-rule=\"nonzero\" fill-opacity=\"1\" /><path clip-path=\"url(#clip140)\" d=\"M1814.14 1451.02 L1832.5 1451.02 L1832.5 1454.96 L1818.42 1454.96 L1818.42 1463.43 Q1819.44 1463.08 1820.46 1462.92 Q1821.48 1462.73 1822.5 1462.73 Q1828.28 1462.73 1831.66 1465.9 Q1835.04 1469.08 1835.04 1474.49 Q1835.04 1480.07 1831.57 1483.17 Q1828.1 1486.25 1821.78 1486.25 Q1819.6 1486.25 1817.34 1485.88 Q1815.09 1485.51 1812.68 1484.77 L1812.68 1480.07 Q1814.77 1481.2 1816.99 1481.76 Q1819.21 1482.32 1821.69 1482.32 Q1825.69 1482.32 1828.03 1480.21 Q1830.37 1478.1 1830.37 1474.49 Q1830.37 1470.88 1828.03 1468.77 Q1825.69 1466.67 1821.69 1466.67 Q1819.81 1466.67 1817.94 1467.08 Q1816.09 1467.5 1814.14 1468.38 L1814.14 1451.02 Z\" fill=\"#000000\" fill-rule=\"nonzero\" fill-opacity=\"1\" /><path clip-path=\"url(#clip140)\" d=\"M2248.29 1481.64 L2264.61 1481.64 L2264.61 1485.58 L2242.67 1485.58 L2242.67 1481.64 Q2245.33 1478.89 2249.91 1474.26 Q2254.52 1469.61 2255.7 1468.27 Q2257.94 1465.74 2258.82 1464.01 Q2259.73 1462.25 2259.73 1460.56 Q2259.73 1457.8 2257.78 1456.07 Q2255.86 1454.33 2252.76 1454.33 Q2250.56 1454.33 2248.11 1455.09 Q2245.67 1455.86 2242.9 1457.41 L2242.9 1452.69 Q2245.72 1451.55 2248.17 1450.97 Q2250.63 1450.39 2252.67 1450.39 Q2258.04 1450.39 2261.23 1453.08 Q2264.42 1455.77 2264.42 1460.26 Q2264.42 1462.39 2263.61 1464.31 Q2262.83 1466.2 2260.72 1468.8 Q2260.14 1469.47 2257.04 1472.69 Q2253.94 1475.88 2248.29 1481.64 Z\" fill=\"#000000\" fill-rule=\"nonzero\" fill-opacity=\"1\" /><path clip-path=\"url(#clip140)\" d=\"M2274.42 1479.7 L2279.31 1479.7 L2279.31 1485.58 L2274.42 1485.58 L2274.42 1479.7 Z\" fill=\"#000000\" fill-rule=\"nonzero\" fill-opacity=\"1\" /><path clip-path=\"url(#clip140)\" d=\"M2299.49 1454.1 Q2295.88 1454.1 2294.05 1457.66 Q2292.25 1461.2 2292.25 1468.33 Q2292.25 1475.44 2294.05 1479.01 Q2295.88 1482.55 2299.49 1482.55 Q2303.13 1482.55 2304.93 1479.01 Q2306.76 1475.44 2306.76 1468.33 Q2306.76 1461.2 2304.93 1457.66 Q2303.13 1454.1 2299.49 1454.1 M2299.49 1450.39 Q2305.3 1450.39 2308.36 1455 Q2311.44 1459.58 2311.44 1468.33 Q2311.44 1477.06 2308.36 1481.67 Q2305.3 1486.25 2299.49 1486.25 Q2293.68 1486.25 2290.61 1481.67 Q2287.55 1477.06 2287.55 1468.33 Q2287.55 1459.58 2290.61 1455 Q2293.68 1450.39 2299.49 1450.39 Z\" fill=\"#000000\" fill-rule=\"nonzero\" fill-opacity=\"1\" /><path clip-path=\"url(#clip140)\" d=\"M2329.66 1454.1 Q2326.04 1454.1 2324.22 1457.66 Q2322.41 1461.2 2322.41 1468.33 Q2322.41 1475.44 2324.22 1479.01 Q2326.04 1482.55 2329.66 1482.55 Q2333.29 1482.55 2335.1 1479.01 Q2336.92 1475.44 2336.92 1468.33 Q2336.92 1461.2 2335.1 1457.66 Q2333.29 1454.1 2329.66 1454.1 M2329.66 1450.39 Q2335.47 1450.39 2338.52 1455 Q2341.6 1459.58 2341.6 1468.33 Q2341.6 1477.06 2338.52 1481.67 Q2335.47 1486.25 2329.66 1486.25 Q2323.85 1486.25 2320.77 1481.67 Q2317.71 1477.06 2317.71 1468.33 Q2317.71 1459.58 2320.77 1455 Q2323.85 1450.39 2329.66 1450.39 Z\" fill=\"#000000\" fill-rule=\"nonzero\" fill-opacity=\"1\" /><path clip-path=\"url(#clip140)\" d=\"M1295.92 1528.8 Q1295.92 1530.61 1294.8 1531.64 Q1293.67 1532.64 1292.38 1532.64 Q1291.16 1532.64 1290.51 1531.93 Q1289.87 1531.22 1289.87 1530.32 Q1289.87 1529.09 1290.77 1528.03 Q1291.67 1526.97 1293.03 1526.74 Q1291.71 1525.91 1289.74 1525.91 Q1288.45 1525.91 1287.33 1526.58 Q1286.23 1527.26 1285.55 1528.13 Q1284.91 1529 1284.33 1530.25 Q1283.78 1531.48 1283.56 1532.22 Q1283.36 1532.93 1283.2 1533.7 L1280.95 1542.72 Q1279.85 1547 1279.85 1548.51 Q1279.85 1550.38 1280.76 1551.64 Q1281.66 1552.86 1283.46 1552.86 Q1284.17 1552.86 1284.97 1552.67 Q1285.78 1552.44 1286.81 1551.86 Q1287.87 1551.25 1288.81 1550.35 Q1289.77 1549.42 1290.71 1547.84 Q1291.64 1546.26 1292.25 1544.23 Q1292.45 1543.52 1293.09 1543.52 Q1293.9 1543.52 1293.9 1544.17 Q1293.9 1544.71 1293.44 1545.87 Q1293.03 1547 1292.09 1548.48 Q1291.19 1549.93 1290 1551.25 Q1288.81 1552.54 1287.04 1553.44 Q1285.26 1554.34 1283.33 1554.34 Q1280.56 1554.34 1278.73 1552.86 Q1276.89 1551.38 1276.21 1549.32 Q1276.05 1549.61 1275.83 1550 Q1275.6 1550.38 1274.93 1551.25 Q1274.28 1552.09 1273.54 1552.73 Q1272.8 1553.34 1271.64 1553.83 Q1270.51 1554.34 1269.29 1554.34 Q1267.74 1554.34 1266.36 1553.89 Q1265.01 1553.44 1264.04 1552.41 Q1263.07 1551.38 1263.07 1549.96 Q1263.07 1548.38 1264.14 1547.29 Q1265.23 1546.16 1266.71 1546.16 Q1267.65 1546.16 1268.39 1546.71 Q1269.16 1547.26 1269.16 1548.45 Q1269.16 1549.77 1268.26 1550.77 Q1267.36 1551.77 1266.07 1552.02 Q1267.39 1552.86 1269.35 1552.86 Q1271.48 1552.86 1273.15 1550.99 Q1274.83 1549.13 1275.63 1546 Q1277.63 1538.5 1278.4 1535.15 Q1279.18 1531.77 1279.18 1530.32 Q1279.18 1528.96 1278.82 1528.03 Q1278.47 1527.1 1277.86 1526.68 Q1277.28 1526.23 1276.73 1526.07 Q1276.21 1525.91 1275.63 1525.91 Q1274.67 1525.91 1273.57 1526.29 Q1272.51 1526.68 1271.22 1527.58 Q1269.97 1528.45 1268.77 1530.25 Q1267.58 1532.06 1266.78 1534.54 Q1266.62 1535.28 1265.91 1535.28 Q1265.14 1535.24 1265.14 1534.6 Q1265.14 1534.05 1265.55 1532.93 Q1266.01 1531.77 1266.91 1530.32 Q1267.84 1528.87 1269.03 1527.58 Q1270.26 1526.26 1272.03 1525.36 Q1273.83 1524.46 1275.76 1524.46 Q1276.63 1524.46 1277.47 1524.65 Q1278.34 1524.81 1279.37 1525.29 Q1280.43 1525.78 1281.37 1526.84 Q1282.3 1527.9 1282.88 1529.45 Q1283.27 1528.71 1283.78 1528 Q1284.33 1527.29 1285.17 1526.42 Q1286.04 1525.52 1287.23 1525 Q1288.45 1524.46 1289.81 1524.46 Q1291.13 1524.46 1292.41 1524.81 Q1293.7 1525.13 1294.8 1526.19 Q1295.92 1527.23 1295.92 1528.8 Z\" fill=\"#000000\" fill-rule=\"nonzero\" fill-opacity=\"1\" /><polyline clip-path=\"url(#clip142)\" style=\"stroke:#000000; stroke-linecap:round; stroke-linejoin:round; stroke-width:2; stroke-opacity:0.1; fill:none\" points=\"210.746,1384.24 2352.76,1384.24 \"/>\n",
       "<polyline clip-path=\"url(#clip142)\" style=\"stroke:#000000; stroke-linecap:round; stroke-linejoin:round; stroke-width:2; stroke-opacity:0.1; fill:none\" points=\"210.746,951.554 2352.76,951.554 \"/>\n",
       "<polyline clip-path=\"url(#clip142)\" style=\"stroke:#000000; stroke-linecap:round; stroke-linejoin:round; stroke-width:2; stroke-opacity:0.1; fill:none\" points=\"210.746,518.87 2352.76,518.87 \"/>\n",
       "<polyline clip-path=\"url(#clip142)\" style=\"stroke:#000000; stroke-linecap:round; stroke-linejoin:round; stroke-width:2; stroke-opacity:0.1; fill:none\" points=\"210.746,86.1857 2352.76,86.1857 \"/>\n",
       "<polyline clip-path=\"url(#clip140)\" style=\"stroke:#000000; stroke-linecap:round; stroke-linejoin:round; stroke-width:4; stroke-opacity:1; fill:none\" points=\"210.746,1423.18 210.746,47.2441 \"/>\n",
       "<polyline clip-path=\"url(#clip140)\" style=\"stroke:#000000; stroke-linecap:round; stroke-linejoin:round; stroke-width:4; stroke-opacity:1; fill:none\" points=\"210.746,1384.24 229.644,1384.24 \"/>\n",
       "<polyline clip-path=\"url(#clip140)\" style=\"stroke:#000000; stroke-linecap:round; stroke-linejoin:round; stroke-width:4; stroke-opacity:1; fill:none\" points=\"210.746,951.554 229.644,951.554 \"/>\n",
       "<polyline clip-path=\"url(#clip140)\" style=\"stroke:#000000; stroke-linecap:round; stroke-linejoin:round; stroke-width:4; stroke-opacity:1; fill:none\" points=\"210.746,518.87 229.644,518.87 \"/>\n",
       "<polyline clip-path=\"url(#clip140)\" style=\"stroke:#000000; stroke-linecap:round; stroke-linejoin:round; stroke-width:4; stroke-opacity:1; fill:none\" points=\"210.746,86.1857 229.644,86.1857 \"/>\n",
       "<path clip-path=\"url(#clip140)\" d=\"M114.631 1384.69 L144.306 1384.69 L144.306 1388.62 L114.631 1388.62 L114.631 1384.69 Z\" fill=\"#000000\" fill-rule=\"nonzero\" fill-opacity=\"1\" /><path clip-path=\"url(#clip140)\" d=\"M158.427 1397.58 L174.746 1397.58 L174.746 1401.52 L152.802 1401.52 L152.802 1397.58 Q155.464 1394.83 160.047 1390.2 Q164.653 1385.55 165.834 1384.2 Q168.079 1381.68 168.959 1379.94 Q169.862 1378.19 169.862 1376.5 Q169.862 1373.74 167.917 1372 Q165.996 1370.27 162.894 1370.27 Q160.695 1370.27 158.241 1371.03 Q155.811 1371.8 153.033 1373.35 L153.033 1368.62 Q155.857 1367.49 158.311 1366.91 Q160.765 1366.33 162.802 1366.33 Q168.172 1366.33 171.366 1369.02 Q174.561 1371.7 174.561 1376.19 Q174.561 1378.32 173.751 1380.25 Q172.964 1382.14 170.857 1384.74 Q170.278 1385.41 167.177 1388.62 Q164.075 1391.82 158.427 1397.58 Z\" fill=\"#000000\" fill-rule=\"nonzero\" fill-opacity=\"1\" /><path clip-path=\"url(#clip140)\" d=\"M114.26 952.005 L143.936 952.005 L143.936 955.941 L114.26 955.941 L114.26 952.005 Z\" fill=\"#000000\" fill-rule=\"nonzero\" fill-opacity=\"1\" /><path clip-path=\"url(#clip140)\" d=\"M154.839 964.899 L162.477 964.899 L162.477 938.533 L154.167 940.2 L154.167 935.941 L162.431 934.274 L167.107 934.274 L167.107 964.899 L174.746 964.899 L174.746 968.834 L154.839 968.834 L154.839 964.899 Z\" fill=\"#000000\" fill-rule=\"nonzero\" fill-opacity=\"1\" /><path clip-path=\"url(#clip140)\" d=\"M162.802 504.669 Q159.19 504.669 157.362 508.233 Q155.556 511.775 155.556 518.905 Q155.556 526.011 157.362 529.576 Q159.19 533.117 162.802 533.117 Q166.436 533.117 168.241 529.576 Q170.07 526.011 170.07 518.905 Q170.07 511.775 168.241 508.233 Q166.436 504.669 162.802 504.669 M162.802 500.965 Q168.612 500.965 171.667 505.571 Q174.746 510.155 174.746 518.905 Q174.746 527.631 171.667 532.238 Q168.612 536.821 162.802 536.821 Q156.991 536.821 153.913 532.238 Q150.857 527.631 150.857 518.905 Q150.857 510.155 153.913 505.571 Q156.991 500.965 162.802 500.965 Z\" fill=\"#000000\" fill-rule=\"nonzero\" fill-opacity=\"1\" /><path clip-path=\"url(#clip140)\" d=\"M154.839 99.5305 L162.477 99.5305 L162.477 73.1649 L154.167 74.8316 L154.167 70.5723 L162.431 68.9057 L167.107 68.9057 L167.107 99.5305 L174.746 99.5305 L174.746 103.466 L154.839 103.466 L154.839 99.5305 Z\" fill=\"#000000\" fill-rule=\"nonzero\" fill-opacity=\"1\" /><path clip-path=\"url(#clip140)\" d=\"M24.1199 765.631 Q25.8912 765.631 26.9862 766.758 Q28.0812 767.853 28.0812 769.238 Q28.0812 770.236 27.4693 770.977 Q26.8574 771.686 25.7946 771.686 Q24.6996 771.686 23.5402 770.848 Q22.3807 770.011 22.2197 768.111 Q21.0281 769.367 21.0281 771.363 Q21.0281 772.362 21.6722 773.199 Q22.2841 774.004 23.2825 774.455 Q24.3131 774.938 30.1424 776.033 Q32.0425 776.388 33.8782 776.71 Q35.714 777.032 37.6463 777.418 L37.6463 771.943 Q37.6463 771.235 37.6785 770.945 Q37.7107 770.655 37.8718 770.43 Q38.0328 770.172 38.3871 770.172 Q39.2888 770.172 39.5143 770.591 Q39.7075 770.977 39.7075 772.136 L39.7075 777.805 L60.6091 781.766 Q61.221 781.863 63.1534 782.281 Q65.0535 782.668 68.1775 783.602 Q71.3337 784.536 73.2016 785.47 Q74.2644 785.985 75.2628 786.661 Q76.2934 787.305 77.3239 788.239 Q78.3545 789.173 78.9664 790.397 Q79.6106 791.621 79.6106 792.909 Q79.6106 795.099 78.3867 796.806 Q77.1629 798.513 75.0695 798.513 Q73.2982 798.513 72.2032 797.418 Q71.1082 796.291 71.1082 794.906 Q71.1082 793.908 71.7201 793.199 Q72.332 792.458 73.3948 792.458 Q73.8457 792.458 74.361 792.619 Q74.8763 792.78 75.456 793.135 Q76.0679 793.489 76.4866 794.262 Q76.9053 795.035 76.9697 796.098 Q78.1613 794.842 78.1613 792.909 Q78.1613 792.297 77.9036 791.75 Q77.6782 791.202 77.0985 790.751 Q76.5188 790.268 75.9391 789.914 Q75.3916 789.56 74.3288 789.206 Q73.2982 788.851 72.5253 788.626 Q71.7523 788.4 70.3675 788.111 Q68.9826 787.788 68.1453 787.627 Q67.3401 787.466 65.762 787.177 L39.7075 782.249 L39.7075 786.597 Q39.7075 787.37 39.6753 787.692 Q39.6431 787.982 39.4821 788.207 Q39.2888 788.433 38.9023 788.433 Q38.2904 788.433 38.0328 788.175 Q37.7429 787.885 37.7107 787.563 Q37.6463 787.241 37.6463 786.468 L37.6463 781.895 Q29.4982 780.349 27.3082 779.737 Q24.9894 779.028 23.3791 777.933 Q21.7366 776.838 20.9637 775.615 Q20.1907 774.391 19.9009 773.392 Q19.5788 772.362 19.5788 771.363 Q19.5788 769.109 20.8027 767.37 Q21.9943 765.631 24.1199 765.631 Z\" fill=\"#000000\" fill-rule=\"nonzero\" fill-opacity=\"1\" /><path clip-path=\"url(#clip140)\" d=\"M49.5947 756.751 Q38.4515 756.751 29.466 752.596 Q25.6979 750.825 22.5418 748.345 Q19.3856 745.865 18.0007 744.223 Q16.6159 742.58 16.6159 742.129 Q16.6159 741.485 17.26 741.453 Q17.5821 741.453 18.3872 742.323 Q29.2084 752.951 49.5947 752.918 Q70.0454 752.918 80.4479 742.58 Q81.5751 741.453 81.9294 741.453 Q82.5735 741.453 82.5735 742.129 Q82.5735 742.58 81.2531 744.158 Q79.9326 745.736 76.9053 748.184 Q73.8779 750.632 70.1742 752.403 Q61.1888 756.751 49.5947 756.751 Z\" fill=\"#000000\" fill-rule=\"nonzero\" fill-opacity=\"1\" /><path clip-path=\"url(#clip140)\" d=\"M41.2856 703.589 Q43.0891 703.589 44.1197 704.717 Q45.1181 705.844 45.1181 707.132 Q45.1181 708.356 44.4096 709 Q43.701 709.644 42.7993 709.644 Q41.5754 709.644 40.5126 708.742 Q39.4498 707.841 39.2244 706.488 Q38.3871 707.808 38.3871 709.773 Q38.3871 711.061 39.0634 712.188 Q39.7397 713.283 40.6093 713.96 Q41.4788 714.604 42.7348 715.184 Q43.9587 715.731 44.6994 715.957 Q45.4079 716.15 46.1809 716.311 L55.1985 718.565 Q59.4819 719.66 60.9956 719.66 Q62.8635 719.66 64.1195 718.758 Q65.3434 717.857 65.3434 716.053 Q65.3434 715.345 65.1501 714.539 Q64.9247 713.734 64.345 712.704 Q63.7331 711.641 62.8313 710.707 Q61.8973 709.741 60.3192 708.807 Q58.7412 707.873 56.7122 707.261 Q56.0037 707.068 56.0037 706.424 Q56.0037 705.618 56.6478 705.618 Q57.1953 705.618 58.3547 706.069 Q59.4819 706.488 60.9634 707.422 Q62.4126 708.324 63.7331 709.515 Q65.0213 710.707 65.9231 712.478 Q66.8248 714.25 66.8248 716.182 Q66.8248 718.952 65.3434 720.787 Q63.8619 722.623 61.8007 723.299 Q62.0906 723.46 62.477 723.686 Q62.8635 723.911 63.7331 724.588 Q64.5704 725.232 65.2145 725.973 Q65.8264 726.713 66.3095 727.873 Q66.8248 729 66.8248 730.224 Q66.8248 731.77 66.3739 733.154 Q65.9231 734.507 64.8925 735.473 Q63.8619 736.439 62.4448 736.439 Q60.8667 736.439 59.7717 735.377 Q58.6445 734.282 58.6445 732.8 Q58.6445 731.866 59.192 731.125 Q59.7395 730.353 60.9312 730.353 Q62.2516 730.353 63.25 731.254 Q64.2484 732.156 64.506 733.444 Q65.3434 732.124 65.3434 730.159 Q65.3434 728.034 63.4754 726.359 Q61.6075 724.684 58.4835 723.879 Q50.9795 721.882 47.6301 721.109 Q44.2485 720.337 42.7993 720.337 Q41.4466 720.337 40.5126 720.691 Q39.5787 721.045 39.16 721.657 Q38.7091 722.237 38.5481 722.784 Q38.3871 723.299 38.3871 723.879 Q38.3871 724.845 38.7735 725.94 Q39.16 727.003 40.0618 728.291 Q40.9313 729.547 42.7348 730.739 Q44.5384 731.931 47.0182 732.736 Q47.759 732.897 47.759 733.605 Q47.7268 734.378 47.0826 734.378 Q46.5351 734.378 45.4079 733.96 Q44.2485 733.509 42.7993 732.607 Q41.35 731.673 40.0618 730.481 Q38.7413 729.258 37.8396 727.486 Q36.9378 725.683 36.9378 723.75 Q36.9378 722.881 37.131 722.043 Q37.2921 721.174 37.7751 720.143 Q38.2582 719.08 39.321 718.147 Q40.3838 717.213 41.9297 716.633 Q41.189 716.246 40.4804 715.731 Q39.7719 715.184 38.9023 714.346 Q38.0006 713.477 37.4853 712.285 Q36.9378 711.061 36.9378 709.709 Q36.9378 708.388 37.2921 707.1 Q37.6141 705.812 38.6769 704.717 Q39.7075 703.589 41.2856 703.589 Z\" fill=\"#000000\" fill-rule=\"nonzero\" fill-opacity=\"1\" /><path clip-path=\"url(#clip140)\" d=\"M81.9294 697.238 Q81.6073 697.238 80.8022 696.401 Q69.981 685.773 49.5947 685.773 Q29.144 685.773 18.8059 695.982 Q17.6143 697.238 17.26 697.238 Q16.6159 697.238 16.6159 696.594 Q16.6159 696.143 17.9363 694.565 Q19.2568 692.955 22.2841 690.539 Q25.3115 688.092 29.0151 686.288 Q38.0006 681.941 49.5947 681.941 Q60.7379 681.941 69.7234 686.095 Q73.4914 687.866 76.6476 690.346 Q79.8038 692.826 81.1886 694.469 Q82.5735 696.111 82.5735 696.594 Q82.5735 697.238 81.9294 697.238 Z\" fill=\"#000000\" fill-rule=\"nonzero\" fill-opacity=\"1\" /><polyline clip-path=\"url(#clip142)\" style=\"stroke:#009af9; stroke-linecap:round; stroke-linejoin:round; stroke-width:4; stroke-opacity:1; fill:none\" points=\"271.369,1384.24 291.577,1375.54 311.784,1366.76 331.992,1357.89 352.199,1348.93 372.407,1339.89 392.615,1330.76 412.822,1321.54 433.03,1312.24 453.238,1302.85 473.445,1293.37 493.653,1283.81 513.861,1274.16 534.068,1264.43 554.276,1254.61 574.483,1244.7 594.691,1234.7 614.899,1224.62 635.106,1214.45 655.314,1204.2 675.522,1193.86 695.729,1183.43 715.937,1172.92 736.145,1162.31 756.352,1151.63 776.56,1140.85 796.768,1129.99 816.975,1119.05 837.183,1108.01 857.39,1096.89 877.598,1085.69 897.806,1074.39 918.013,1063.01 938.221,1051.55 958.429,1039.99 978.636,1028.36 998.844,1016.63 1019.05,1004.82 1039.26,992.919 1059.47,980.933 1079.67,968.861 1099.88,956.703 1120.09,944.458 1140.3,932.127 1160.51,919.709 1180.71,907.204 1200.92,894.613 1221.13,881.935 1241.34,869.171 1261.54,856.32 1281.75,843.383 1301.96,830.359 1322.17,817.249 1342.37,804.052 1362.58,790.769 1382.79,777.399 1403,763.942 1423.2,750.399 1443.41,736.77 1463.62,723.054 1483.83,709.251 1504.03,695.362 1524.24,681.386 1544.45,667.324 1564.66,653.175 1584.87,638.94 1605.07,624.618 1625.28,610.21 1645.49,595.715 1665.7,581.133 1685.9,566.465 1706.11,551.711 1726.32,536.87 1746.53,521.942 1766.73,506.928 1786.94,491.827 1807.15,476.64 1827.36,461.366 1847.56,446.006 1867.77,430.559 1887.98,415.026 1908.19,399.406 1928.4,383.699 1948.6,367.906 1968.81,352.027 1989.02,336.061 2009.23,320.008 2029.43,303.869 2049.64,287.643 2069.85,271.331 2090.06,254.933 2110.26,238.447 2130.47,221.875 2150.68,205.217 2170.89,188.472 2191.09,171.641 2211.3,154.723 2231.51,137.718 2251.72,120.627 2271.93,103.45 2292.13,86.1857 \"/>\n",
       "</svg>\n"
      ]
     },
     "execution_count": 14,
     "metadata": {},
     "output_type": "execute_result"
    }
   ],
   "source": [
    "#1.1)\n",
    "f(x)=x^2-3\n",
    "interv=(1.,2.)\n",
    "a,b=interv\n",
    "plot(a:0.01:b,f,xlabel=L\"x\",ylabel=L\"f(x)\",label=\"\")"
   ]
  },
  {
   "cell_type": "raw",
   "metadata": {},
   "source": []
  },
  {
   "cell_type": "code",
   "execution_count": 15,
   "metadata": {},
   "outputs": [
    {
     "data": {
      "text/plain": [
       "(true, [1.5, 1.75, 1.625, 1.6875, 1.71875, 1.734375, 1.7265625, 1.73046875, 1.732421875, 1.7314453125, 1.73193359375, 1.732177734375, 1.7320556640625, 1.73199462890625, 1.732025146484375, 1.7320404052734375, 1.7320480346679688], [-0.75, 0.0625, -0.359375, -0.15234375, -0.0458984375, 0.008056640625, -0.01898193359375, -0.0054779052734375, 0.001285552978515625, -0.0020971298217773438, -0.00040602684020996094, 0.00043970346450805664, 1.6823410987854004e-5, -0.00019460543990135193, -8.889194577932358e-5, -3.603450022637844e-5, -9.605602826923132e-6], [0.5, 0.25, 0.125, 0.0625, 0.03125, 0.015625, 0.0078125, 0.00390625, 0.001953125, 0.0009765625, 0.00048828125, 0.000244140625, 0.0001220703125, 6.103515625e-5, 3.0517578125e-5, 1.52587890625e-5, 7.62939453125e-6], [0.3333333333333333, 0.14285714285714285, 0.07692307692307693, 0.037037037037037035, 0.01818181818181818, 0.009009009009009009, 0.004524886877828055, 0.002257336343115124, 0.0011273957158962795, 0.0005640157924421884, 0.000281928390188892, 0.00014094432699083862, 7.047713017125943e-5, 3.5239806885858265e-5, 1.761959298740199e-5, 8.80971888187048e-6, 4.404840038234012e-6])"
      ]
     },
     "execution_count": 15,
     "metadata": {},
     "output_type": "execute_result"
    }
   ],
   "source": [
    "conv,vec_p,vec_f,vec_c, vec_r=biseccion(f,interv;tolx=1e-5,tolf=1e-5,n_max=100) #hay que ejecutar todo en orden"
   ]
  },
  {
   "cell_type": "code",
   "execution_count": 17,
   "metadata": {},
   "outputs": [
    {
     "data": {
      "text/html": [
       "<div><div style = \"float: left;\"><span>17×4 DataFrame</span></div><div style = \"clear: both;\"></div></div><div class = \"data-frame\" style = \"overflow-x: scroll;\"><table class = \"data-frame\" style = \"margin-bottom: 6px;\"><thead><tr class = \"header\"><th class = \"rowNumber\" style = \"font-weight: bold; text-align: right;\">Row</th><th style = \"text-align: left;\">p_i</th><th style = \"text-align: left;\">f_i</th><th style = \"text-align: left;\">c_i</th><th style = \"text-align: left;\">r_i</th></tr><tr class = \"subheader headerLastRow\"><th class = \"rowNumber\" style = \"font-weight: bold; text-align: right;\"></th><th title = \"Float64\" style = \"text-align: left;\">Float64</th><th title = \"Float64\" style = \"text-align: left;\">Float64</th><th title = \"Float64\" style = \"text-align: left;\">Float64</th><th title = \"Float64\" style = \"text-align: left;\">Float64</th></tr></thead><tbody><tr><td class = \"rowNumber\" style = \"font-weight: bold; text-align: right;\">1</td><td style = \"text-align: right;\">1.5</td><td style = \"text-align: right;\">-0.75</td><td style = \"text-align: right;\">0.5</td><td style = \"text-align: right;\">0.333333</td></tr><tr><td class = \"rowNumber\" style = \"font-weight: bold; text-align: right;\">2</td><td style = \"text-align: right;\">1.75</td><td style = \"text-align: right;\">0.0625</td><td style = \"text-align: right;\">0.25</td><td style = \"text-align: right;\">0.142857</td></tr><tr><td class = \"rowNumber\" style = \"font-weight: bold; text-align: right;\">3</td><td style = \"text-align: right;\">1.625</td><td style = \"text-align: right;\">-0.359375</td><td style = \"text-align: right;\">0.125</td><td style = \"text-align: right;\">0.0769231</td></tr><tr><td class = \"rowNumber\" style = \"font-weight: bold; text-align: right;\">4</td><td style = \"text-align: right;\">1.6875</td><td style = \"text-align: right;\">-0.152344</td><td style = \"text-align: right;\">0.0625</td><td style = \"text-align: right;\">0.037037</td></tr><tr><td class = \"rowNumber\" style = \"font-weight: bold; text-align: right;\">5</td><td style = \"text-align: right;\">1.71875</td><td style = \"text-align: right;\">-0.0458984</td><td style = \"text-align: right;\">0.03125</td><td style = \"text-align: right;\">0.0181818</td></tr><tr><td class = \"rowNumber\" style = \"font-weight: bold; text-align: right;\">6</td><td style = \"text-align: right;\">1.73438</td><td style = \"text-align: right;\">0.00805664</td><td style = \"text-align: right;\">0.015625</td><td style = \"text-align: right;\">0.00900901</td></tr><tr><td class = \"rowNumber\" style = \"font-weight: bold; text-align: right;\">7</td><td style = \"text-align: right;\">1.72656</td><td style = \"text-align: right;\">-0.0189819</td><td style = \"text-align: right;\">0.0078125</td><td style = \"text-align: right;\">0.00452489</td></tr><tr><td class = \"rowNumber\" style = \"font-weight: bold; text-align: right;\">8</td><td style = \"text-align: right;\">1.73047</td><td style = \"text-align: right;\">-0.00547791</td><td style = \"text-align: right;\">0.00390625</td><td style = \"text-align: right;\">0.00225734</td></tr><tr><td class = \"rowNumber\" style = \"font-weight: bold; text-align: right;\">9</td><td style = \"text-align: right;\">1.73242</td><td style = \"text-align: right;\">0.00128555</td><td style = \"text-align: right;\">0.00195312</td><td style = \"text-align: right;\">0.0011274</td></tr><tr><td class = \"rowNumber\" style = \"font-weight: bold; text-align: right;\">10</td><td style = \"text-align: right;\">1.73145</td><td style = \"text-align: right;\">-0.00209713</td><td style = \"text-align: right;\">0.000976562</td><td style = \"text-align: right;\">0.000564016</td></tr><tr><td class = \"rowNumber\" style = \"font-weight: bold; text-align: right;\">11</td><td style = \"text-align: right;\">1.73193</td><td style = \"text-align: right;\">-0.000406027</td><td style = \"text-align: right;\">0.000488281</td><td style = \"text-align: right;\">0.000281928</td></tr><tr><td class = \"rowNumber\" style = \"font-weight: bold; text-align: right;\">12</td><td style = \"text-align: right;\">1.73218</td><td style = \"text-align: right;\">0.000439703</td><td style = \"text-align: right;\">0.000244141</td><td style = \"text-align: right;\">0.000140944</td></tr><tr><td class = \"rowNumber\" style = \"font-weight: bold; text-align: right;\">13</td><td style = \"text-align: right;\">1.73206</td><td style = \"text-align: right;\">1.68234e-5</td><td style = \"text-align: right;\">0.00012207</td><td style = \"text-align: right;\">7.04771e-5</td></tr><tr><td class = \"rowNumber\" style = \"font-weight: bold; text-align: right;\">14</td><td style = \"text-align: right;\">1.73199</td><td style = \"text-align: right;\">-0.000194605</td><td style = \"text-align: right;\">6.10352e-5</td><td style = \"text-align: right;\">3.52398e-5</td></tr><tr><td class = \"rowNumber\" style = \"font-weight: bold; text-align: right;\">15</td><td style = \"text-align: right;\">1.73203</td><td style = \"text-align: right;\">-8.88919e-5</td><td style = \"text-align: right;\">3.05176e-5</td><td style = \"text-align: right;\">1.76196e-5</td></tr><tr><td class = \"rowNumber\" style = \"font-weight: bold; text-align: right;\">16</td><td style = \"text-align: right;\">1.73204</td><td style = \"text-align: right;\">-3.60345e-5</td><td style = \"text-align: right;\">1.52588e-5</td><td style = \"text-align: right;\">8.80972e-6</td></tr><tr><td class = \"rowNumber\" style = \"font-weight: bold; text-align: right;\">17</td><td style = \"text-align: right;\">1.73205</td><td style = \"text-align: right;\">-9.6056e-6</td><td style = \"text-align: right;\">7.62939e-6</td><td style = \"text-align: right;\">4.40484e-6</td></tr></tbody></table></div>"
      ],
      "text/latex": [
       "\\begin{tabular}{r|cccc}\n",
       "\t& p\\_i & f\\_i & c\\_i & r\\_i\\\\\n",
       "\t\\hline\n",
       "\t& Float64 & Float64 & Float64 & Float64\\\\\n",
       "\t\\hline\n",
       "\t1 & 1.5 & -0.75 & 0.5 & 0.333333 \\\\\n",
       "\t2 & 1.75 & 0.0625 & 0.25 & 0.142857 \\\\\n",
       "\t3 & 1.625 & -0.359375 & 0.125 & 0.0769231 \\\\\n",
       "\t4 & 1.6875 & -0.152344 & 0.0625 & 0.037037 \\\\\n",
       "\t5 & 1.71875 & -0.0458984 & 0.03125 & 0.0181818 \\\\\n",
       "\t6 & 1.73438 & 0.00805664 & 0.015625 & 0.00900901 \\\\\n",
       "\t7 & 1.72656 & -0.0189819 & 0.0078125 & 0.00452489 \\\\\n",
       "\t8 & 1.73047 & -0.00547791 & 0.00390625 & 0.00225734 \\\\\n",
       "\t9 & 1.73242 & 0.00128555 & 0.00195312 & 0.0011274 \\\\\n",
       "\t10 & 1.73145 & -0.00209713 & 0.000976562 & 0.000564016 \\\\\n",
       "\t11 & 1.73193 & -0.000406027 & 0.000488281 & 0.000281928 \\\\\n",
       "\t12 & 1.73218 & 0.000439703 & 0.000244141 & 0.000140944 \\\\\n",
       "\t13 & 1.73206 & 1.68234e-5 & 0.00012207 & 7.04771e-5 \\\\\n",
       "\t14 & 1.73199 & -0.000194605 & 6.10352e-5 & 3.52398e-5 \\\\\n",
       "\t15 & 1.73203 & -8.88919e-5 & 3.05176e-5 & 1.76196e-5 \\\\\n",
       "\t16 & 1.73204 & -3.60345e-5 & 1.52588e-5 & 8.80972e-6 \\\\\n",
       "\t17 & 1.73205 & -9.6056e-6 & 7.62939e-6 & 4.40484e-6 \\\\\n",
       "\\end{tabular}\n"
      ],
      "text/plain": [
       "\u001b[1m17×4 DataFrame\u001b[0m\n",
       "\u001b[1m Row \u001b[0m│\u001b[1m p_i     \u001b[0m\u001b[1m f_i          \u001b[0m\u001b[1m c_i         \u001b[0m\u001b[1m r_i         \u001b[0m\n",
       "     │\u001b[90m Float64 \u001b[0m\u001b[90m Float64      \u001b[0m\u001b[90m Float64     \u001b[0m\u001b[90m Float64     \u001b[0m\n",
       "─────┼─────────────────────────────────────────────────\n",
       "   1 │ 1.5      -0.75         0.5          0.333333\n",
       "   2 │ 1.75      0.0625       0.25         0.142857\n",
       "   3 │ 1.625    -0.359375     0.125        0.0769231\n",
       "   4 │ 1.6875   -0.152344     0.0625       0.037037\n",
       "   5 │ 1.71875  -0.0458984    0.03125      0.0181818\n",
       "   6 │ 1.73438   0.00805664   0.015625     0.00900901\n",
       "   7 │ 1.72656  -0.0189819    0.0078125    0.00452489\n",
       "   8 │ 1.73047  -0.00547791   0.00390625   0.00225734\n",
       "   9 │ 1.73242   0.00128555   0.00195312   0.0011274\n",
       "  10 │ 1.73145  -0.00209713   0.000976562  0.000564016\n",
       "  11 │ 1.73193  -0.000406027  0.000488281  0.000281928\n",
       "  12 │ 1.73218   0.000439703  0.000244141  0.000140944\n",
       "  13 │ 1.73206   1.68234e-5   0.00012207   7.04771e-5\n",
       "  14 │ 1.73199  -0.000194605  6.10352e-5   3.52398e-5\n",
       "  15 │ 1.73203  -8.88919e-5   3.05176e-5   1.76196e-5\n",
       "  16 │ 1.73204  -3.60345e-5   1.52588e-5   8.80972e-6\n",
       "  17 │ 1.73205  -9.6056e-6    7.62939e-6   4.40484e-6"
      ]
     },
     "execution_count": 17,
     "metadata": {},
     "output_type": "execute_result"
    }
   ],
   "source": [
    "data=DataFrame(p_i=vec_p,f_i=vec_f,c_i=vec_c,r_i=vec_r)"
   ]
  },
  {
   "cell_type": "markdown",
   "metadata": {},
   "source": []
  },
  {
   "cell_type": "markdown",
   "metadata": {},
   "source": [
    "### Problema 2\n",
    "\n",
    "Desarrolle un programa para encontrar la raíz de una función $f$ utilizando el **método de Newton** (también conocido como Newton-Raphson).\n",
    "El programa debe tomar como datos de entrada la función $f:\\mathbb{R}\\to \\mathbb{R}$, su derivada $f':\\mathbb{R}\\to \\mathbb{R}$, una estimación inicial $p_1$ de la raíz $x$, la tolerancia $\\varepsilon_x$ a la estimación $r_i:=\\frac{|p_{i+1} - p_{i}|}{|p_{i+1}|}$ del error relativo $|x-p_i|/|x|$ en la iteración $i$ para $i=1,2,...,n$, la tolerancia en $\\varepsilon_f$ al valor absoluto de $f_i:=f(p_{i})$ y el número máximo de iteraciones permitido $n_{\\max}$.\n",
    "El programa debe retornar una tupla con las siguientes componentes:\n",
    "\n",
    "* Un booleano indicando si el algoritmo convergió.\n",
    "\n",
    "* Un vector de componentes $p_i$ para $i=1,2,...,n$, donde $n$ es el número de iteraciones realizado por el programa.\n",
    "\n",
    "* Un vector de valores $f_i:=f(p_i)$.\n",
    "\n",
    "* Un vector de estimaciones $c_i:=|p_{i+1}-p_i|$ de errores absolutos $|x-p_i|$.\n",
    "\n",
    "* Un vector de estimaciones $r_i:=c_i/|p_{i+1}|$ de errores relativos $|x-p_i|/|x|$.\n",
    "\n",
    "El programa debe finalizar en la iteración $n$-ésima que satisfaga por vez primera:\n",
    "$$\n",
    "\\left( r_n < \\varepsilon_x \\qquad \\text{AND} \\qquad \n",
    "f_n < \\varepsilon_f \\right) \\qquad \\text{OR} \\qquad\n",
    "n = n_{\\max}\n",
    "$$\n",
    "y debe poder utlizar 13 cifras significativas para las variables reales (ej. `Float64`).\n",
    "\n",
    "Utilice este programa para resolver los **incisos 1 y 2** del **problema 1**, usando $p_1=1$ en ambos casos. No hace falta graficar $f(x)$ vs $x$. Compare la cantidad de iteraciones $n$, la cantidad de evaluaciones de la función $f$ y su derivada $f'$ en los dos métodos."
   ]
  },
  {
   "cell_type": "code",
   "execution_count": null,
   "metadata": {},
   "outputs": [],
   "source": []
  },
  {
   "cell_type": "markdown",
   "metadata": {},
   "source": [
    "### Problema 3\n",
    "\n",
    "Compute y grafique en escala log-lineal el error relativo estimado $r_i:=|p_{i+1}-p_i|/|p_{i+1}|$ vs $i$ de las aproximaciones de $\\sqrt{3}$ con los métodos de la **bisección** y **Newton**, partiendo del intervalo $[0,2.5]$ y del valor inicial $p_1=2.5$, respectivamente. \n",
    "Utilice en ambos casos tolerancias $\\varepsilon_x=\\varepsilon_f=10^{-10}$."
   ]
  },
  {
   "cell_type": "code",
   "execution_count": null,
   "metadata": {},
   "outputs": [],
   "source": []
  },
  {
   "cell_type": "markdown",
   "metadata": {},
   "source": [
    "### Problema 4\n",
    "\n",
    "Un objeto en caída vertical en el aire está sujeto a la fuerza de gravedad y a la resistencia del aire. Si un objeto de masa $m$ es dejado caer desde una altura $h_0$, su altura luego de $t$ segundos está dada por:\n",
    "$$\n",
    "h(t) = h_0 - \\frac{mg}{k} t + \\frac{m^2 g}{k^2} \\left( 1 - e^{-kt/m}\\right)\n",
    "$$\n",
    "donde $g=9.8\\, m/s^2$ y $k$ representa el coeficiente de resistencia del aire en $kg / s$.\n",
    "Suponga que $h_0 = 10\\,m$, $m=0.1\\,kg$, y $k=0.149\\,kg/s$.\n",
    "\n",
    "Grafique $h(t)$ para analizar su comportamiento.\n",
    "\n",
    "Encuentre, con una precisión de $0.01\\,s$, el tiempo que le toma a este objeto llegar al suelo. \n",
    "Utilice el método de **bisección** y el de **Newton**."
   ]
  },
  {
   "cell_type": "code",
   "execution_count": null,
   "metadata": {},
   "outputs": [],
   "source": []
  },
  {
   "cell_type": "markdown",
   "metadata": {},
   "source": [
    "### Problema 5\n",
    "\n",
    "Encuentre la solución a la ecuación \n",
    "$$\n",
    "x - \\cos x = 0 \n",
    "$$\n",
    "en el intervalo $[0, \\pi/2]$ con un error relativo $\\varepsilon_x=10^{-10}$ utilizando:\n",
    "\n",
    "1. el método de la **secante** con $p_1=0.0$ y $p_2=\\pi/2$,\n",
    "\n",
    "2. el método de **regula falsi** con $a=0.0$ y $b=\\pi/2$,\n",
    "\n",
    "3. el método de **bisección** con $a=0.0$ y $b=\\pi/2$ y\n",
    "\n",
    "4. el método de **Newton** con $p_1=1$.\n",
    "\n",
    "Graficar el error relativo $r_i$ retornado por cada método vs el número de iteración $i$. Utilice las escalas log-lineal (es decir, logarítmica en el eje $y$ y lineal en el $x$)."
   ]
  },
  {
   "cell_type": "code",
   "execution_count": null,
   "metadata": {},
   "outputs": [],
   "source": []
  },
  {
   "cell_type": "markdown",
   "metadata": {},
   "source": [
    "### Problema 6\n",
    "\n",
    "Dado el siguiente polinomio, $p(x) = -10 + 5 x - 12 x^2  + 6 x^3  - 2 x^4  + x^5$.\n",
    "\n",
    "Grafique y observe que posee una única raíz real positiva. Encuentre la misma utilizando:\n",
    "\n",
    "1. El método de bisección. Elija el intervalo $[a,b]$ utilizando el **teorema de las cotas de Cauchy** que acota la región del espacio complejo donde se encuentran las raíces. Evalúe el polinomio utilizando el **algoritmo de Horner**.\n",
    "\n",
    "2. El método de Newton-Raphson. Elija el valor inicial utilizando los teoremas que acotan la región del espacio complejo donde se encuentran las raíces. Evalúe el polinomio y su derivada utilizando el **algoritmo de Horner**."
   ]
  },
  {
   "cell_type": "markdown",
   "metadata": {},
   "source": [
    "**Teorema de las cotas de Cauchy**\n",
    "\n",
    "Sea $p(x) = a_0 + a_1x + a_2x^2+...+a_nx^n$ un polinomio sobre $\\mathbb{C}$ de grado $n\\geq 1$ y coeficientes $a_i\\in \\mathbb{C}$ para $i=0,1,...,n$. Luego, todas las raices de $p$ se encuentran en el intervalo $[-(M+1),M+1]$ para $M = \\max\\left\\{\\frac{|a_0|}{|a_n|},\\frac{|a_0|}{|a_n|},...,\\frac{|a_{n-1}|}{|a_n|}\\right\\}$."
   ]
  },
  {
   "cell_type": "markdown",
   "metadata": {},
   "source": [
    "**Algoritmo de Horner**\n",
    "\n",
    "Cualquier polinomio\n",
    "$$\n",
    "p(x)=a_0+a_1x+a_2x^2+...+a_{n-1}x^{n-1}+a_nx^n\n",
    "$$\n",
    "puede ser reescrito como\n",
    "$$\n",
    "p(x)=a_0+x(a_1+x(a_2+...+x(a_{n-1}+xa_n)...))\n",
    "$$\n",
    "El algoritmo de Horner consiste en calcular $p(x)$ para un valor dado de $x$ sacando ventaja de la anterior expresión, ya que nos evita tener que calcular potencias $x^2, x^3, ..., x^n$ lo cual resulta numericamente costozo y tendiente a introducir errores numéricos indeseables.\n",
    "Notar que\n",
    "$$\n",
    "p'(x)=a_1+2a_2x+3a_3x^2+...+(n-1)a_{n-1}x^{n-2}+na_nx^{n-1}\n",
    "$$\n",
    "lo cual se reduce a\n",
    "$$\n",
    "p'(x)=a_1+x(2a_2+x(3a_3+...+x((n-1)a_{n-1}+xna_n))+...)))\n",
    "$$"
   ]
  },
  {
   "cell_type": "code",
   "execution_count": null,
   "metadata": {},
   "outputs": [],
   "source": []
  },
  {
   "cell_type": "markdown",
   "metadata": {},
   "source": [
    "## Ejercicios Complementarios"
   ]
  },
  {
   "cell_type": "markdown",
   "metadata": {},
   "source": [
    "### Problema C.1\n",
    "\n",
    "Cree una función para calcular una aproximación a la raíz cúbica $x=R^{1/3}$ de un número $R$ positivo. La función debe tomar como entrada el número $R$, la aproximación inicial $x_0$, el error máximo permitido $\\epsilon$, y debe utilizar el algoritmo de de Newton-Raphson para calcular la raíz. Ponga a prueba la función con $R=40$, $x_0=20$ y $\\epsilon=10^{-5}$"
   ]
  },
  {
   "cell_type": "code",
   "execution_count": null,
   "metadata": {},
   "outputs": [],
   "source": []
  }
 ],
 "metadata": {
  "@webio": {
   "lastCommId": null,
   "lastKernelId": null
  },
  "kernelspec": {
   "display_name": "Julia 1.10.2",
   "language": "julia",
   "name": "julia-1.10"
  },
  "language_info": {
   "file_extension": ".jl",
   "mimetype": "application/julia",
   "name": "julia",
   "version": "1.10.2"
  }
 },
 "nbformat": 4,
 "nbformat_minor": 4
}
