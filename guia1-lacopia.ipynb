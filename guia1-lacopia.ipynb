{
 "cells": [
  {
   "cell_type": "markdown",
   "metadata": {},
   "source": [
    "# Métodos Numéricos 2024"
   ]
  },
  {
   "cell_type": "markdown",
   "metadata": {},
   "source": [
    "## Guía 1: 2024-03-12"
   ]
  },
  {
   "cell_type": "markdown",
   "metadata": {},
   "source": [
    "## Parte 1 : Uso de Linux, Julia y Notebooks"
   ]
  },
  {
   "cell_type": "markdown",
   "metadata": {},
   "source": [
    "### Ejercicio 1 : terminal de *bash*\n",
    "\n",
    "1. Abra una terminal de *bash* de linux. Ud. debería ver en la termina un *prompt* `user@host:~$` indicando el nombre del *usuario* logueado y del *host* (la computadora). En la práctica el nombre de user y host pueden cambiar dependiendo de quién es el usuario que está loguead y en que máquina lo haya hecho. Por otro lado, lo que está entre los dos puntos `:` y el signo pesos `$` indica el directorio de trabajo. En este caso, el símbolo es `~` lo cual representa una abreviación del directorio de trabajo de su usuario que, en este ejemplo, es `/home/user/`.\n",
    "\n",
    "2. El prompt le permite a Ud. ingresar comandos de *bash*. Con estos comandos, Ud. podrá crear y borrar directorios, copiar archivos, cambiar de directorio de trabajo, imprimir en pantalla la lista de directorios y archivos en su actual directorio de trabajo, etc. Además, podrá ejecutar programas."
   ]
  },
  {
   "cell_type": "markdown",
   "metadata": {},
   "source": [
    "### Ejercicio 2 : instalando *Julia*\n",
    "\n",
    "*Julia* es un lenguage de programación de [código abierto](https://es.wikipedia.org/wiki/C%C3%B3digo_abierto) (open source) específicamente desarrollado para el cálculo numérico y científico. Es el lenguaje de programación que utilizaremos en la comisión de Julia de los prácticos de Métodos Numéricos (2024).\n",
    "\n",
    "A continuación, Ud. deberá instalar Julia en la computadora en la que está trabajando. En algunos casos, puede que Julia ya esté instalado. Si ese es el caso, llame al profesor para que elimine la instalación así Ud. puede practicar la misma.\n",
    "\n",
    "Para instalar Julia:\n",
    "\n",
    "1. Ingrese a la página oficial de Julia\n",
    "\n",
    "* [https://julialang.org/](https://julialang.org/)\n",
    "        \n",
    "2. En la página de Julia, cliquee en el botón *Download*. Esto lo llevará a Ud. a la página\n",
    "\n",
    "* [https://julialang.org/downloads/](https://julialang.org/downloads/)\n",
    "        \n",
    "3. Luego, vaya hasta la sección *Official Binaries for Manual Download* y baje el archivo \n",
    "\n",
    "* [https://julialang-s3.julialang.org/bin/linux/x64/1.10/julia-1.10.2-linux-x86_64.tar.gz](https://julialang-s3.julialang.org/bin/linux/x64/1.10/julia-1.10.2-linux-x86_64.tar.gz)\n",
    "        \n",
    "    (o la versión equivalente) escondido en el link de nombre `glibc` correspondiente a la versión *Generic Linux on x86* de Linux.\n",
    "    \n",
    "4. Abra una terminal de bash y descomprima el archivo ejecutando el comando\n",
    "\n",
    "        tar -xf julia-1.10.2-linux-x86_64.tar.gz\n",
    "        \n",
    "    esto creará una carpeta llamada `julia-1.10.2` en donde podrá encontrar los archivos de Julia.\n",
    "    \n",
    "5. Para poder ejecutar julia desde cualquier directorio, hay que modificar el archivo de texto `.bashrc` agregandole al final la linea\n",
    "\n",
    "        export PATH=:$HOME/julia-1.10.2/bin:$PATH\n",
    "        \n",
    "   Para ello, puede utilizar el editor de texto `gedit` ingresando el comando\n",
    "   \n",
    "        gedit ~/.bashrc"
   ]
  },
  {
   "cell_type": "markdown",
   "metadata": {},
   "source": [
    "### Ejercicio 3 : instalando *paquetes* de Julia\n",
    "\n",
    "1. En una terminal de bash, inicie una terminal de Julia ingresando el comando `julia`. Con esto, le aparecerá el prompt `julia>` de la terminal de Julia en donde Ud. podrá ingresar comandos de Julia.\n",
    "\n",
    "2. Importe el administrador de paquetes de Julia llamado `Pkg` ingrese el comando \n",
    "\n",
    "        using Pkg \n",
    "   \n",
    "3. Para poder realizar graficos en Julia, instale el paquete `Plots` ingresando el comando \n",
    "\n",
    "        Pkg.add(\"Plots\")\n",
    "   \n",
    "4. Para poder utilizar *notebooks de Jupyter* en Julia, instale el paquete `IJulia` ingresando el comando\n",
    "\n",
    "        Pkg.add(\"IJulia\")\n",
    "   \n",
    "5. Para salir de la terminal de Julia ingrese el comando\n",
    "\n",
    "        exit()"
   ]
  },
  {
   "cell_type": "markdown",
   "metadata": {},
   "source": [
    "### Ejercicio 4 : Clonando el repositorio *git*\n",
    "\n",
    "1. En una terminal de bash, cree un directorio con el formato `apellido-nombre` ingresando el comando\n",
    "\n",
    "        mkdir apellido-nombre\n",
    "\n",
    "    Recuerde usar su primer appellido en vez de `apellido` y su primer nombre en vez de `nombre`. Evite utilizar espacios, acentos o la letra ñ.\n",
    "   \n",
    "2. Cambie de directorio de trabajo ingresando al directorio recientemente creado ingresando el comando\n",
    "\n",
    "        cd apellido-nombre\n",
    "\n",
    "3. Clone el repositorio ingresando el comando\n",
    "\n",
    "        git clone https://github.com/jipphysics/metodos-numericos-2024.git"
   ]
  },
  {
   "cell_type": "markdown",
   "metadata": {},
   "source": [
    "### Ejercicio 5 : Trabajando con *notebooks*\n",
    "\n",
    "1. En una terminal de bash, inicialize una terminal de Julia ingresando el comando\n",
    "\n",
    "        julia\n",
    "    \n",
    "2. En la terminal de Julia, inicialize el administrador de notebooks de *Jupyter* ingresando los comandos\n",
    "\n",
    "        using IJulia\n",
    "        notebook()\n",
    "   \n",
    "3. Desde el administrador de notebooks, vaya a la carpeta del repositior que anteriormente clonó y cree una copia o duplicado de la notebook \n",
    "\n",
    "        guia-1-2024.ipynb\n",
    "\n",
    "4. Abra la copia de la notebook y resuelva los ejercicios y problemas.\n",
    "\n",
    "**IMPORTANTE:** Trabaje siempre en la copia de las notebook del repositorio clonado. Nunca trabaje en la originale. Esto le permitirá en un futuro bajar facilmente el resto de las guías."
   ]
  },
  {
   "cell_type": "markdown",
   "metadata": {},
   "source": [
    "## Parte 2 : Ejercicios de programación en Julia"
   ]
  },
  {
   "cell_type": "markdown",
   "metadata": {},
   "source": [
    "### Ejercicio 6: strings\n",
    "\n",
    "En Julia, como en la mayoría de los lenguajes de programación, uno puede representar texto en el código utilizando cadenas de caracteres (strings). Para construir una cadena de caracteres, simplemente englobe el texto entre comillas\n",
    "\n",
    "        \"Hola mundo!\"\n",
    "        \n",
    "A continuación, construya una cadena de texto con su frase favorita."
   ]
  },
  {
   "cell_type": "code",
   "execution_count": null,
   "metadata": {},
   "outputs": [],
   "source": [
    "\"checheche\""
   ]
  },
  {
   "cell_type": "markdown",
   "metadata": {},
   "source": [
    "### Ejercicio 7: unicode\n",
    "\n",
    "Escribir símbolos especiales en Julia es muy parecido a escribir símbolos especiales en LaTeX. Para ello, se utiliza el sistema unicode\n",
    "\n",
    "* [https://docs.julialang.org/en/v1/manual/unicode-input/](https://docs.julialang.org/en/v1/manual/unicode-input/)\n",
    "\n",
    "Por ejemplo, para ingresar:"
   ]
  },
  {
   "cell_type": "code",
   "execution_count": null,
   "metadata": {},
   "outputs": [],
   "source": [
    "#÷     # tiene que escribir \\div y luego presionar la tecla tab.\n",
    "\n",
    "\n",
    "#α     # tiene que escribir \\alpha y luego presionar la tecla tab.\n",
    "\n",
    "#⊗     # tiene que escribir \\otimes y luego presionar la tecla tab."
   ]
  },
  {
   "cell_type": "markdown",
   "metadata": {},
   "source": [
    "En una celda de código ingrese los símbolos unicode $\\pm$, $\\times$, $\\Delta$, $\\epsilon$, $\\backepsilon$, $\\subset$ y $x^3$."
   ]
  },
  {
   "cell_type": "code",
   "execution_count": null,
   "metadata": {},
   "outputs": [],
   "source": []
  },
  {
   "cell_type": "markdown",
   "metadata": {},
   "source": [
    " ###Ejercicio 8: números enteros\n",
    "\n",
    "En Julia, Ud. puede representar un número de entero en el código escribiendo el número de la manera usual. Note, sin embargo, que los números enteros que una computadora puede representar abarcan un rango finito de posibilidades, dependiendo del *tipo* de número de entero utilizado. \n",
    "\n",
    "En Julia, existen los tipos `UInt8`, `UInt16`, `UInt32`, `UInt64` y `UInt128` para representar enteros sin signo (Unsigned) de 8, 16, 32, 64 y 128 bits y los tipos `Int8`, `Int16`, `Int32`, `Int64` y `Int128` para representar enteros con signo de 8, 16, 32, 64 y 128 bits. Por defecto, Julia utiliza enteros con signo de 64 bits. Por ende, si Ud. escribe\n",
    "\n",
    "    42\n",
    "    \n",
    "Julia asumirá que dicho número es un número entero de tipo `Int64`. Si Ud. desea que dicho número sea de tipo entero sin signo y 16 bits, simplemente escriba\n",
    "\n",
    "    UInt16(42)\n",
    "\n",
    "Para más detalle, visite la ayuda correspondiente de la página de Julia:\n",
    "\n",
    "* [https://docs.julialang.org/en/v1/manual/integers-and-floating-point-numbers/#Integers](https://docs.julialang.org/en/v1/manual/integers-and-floating-point-numbers/#Integers)\n",
    "\n",
    "A contiuación, ingrese un número de cada tipo."
   ]
  },
  {
   "cell_type": "code",
   "execution_count": null,
   "metadata": {},
   "outputs": [],
   "source": [
    "a=UInt16(42)\n",
    "print(a)"
   ]
  },
  {
   "cell_type": "markdown",
   "metadata": {},
   "source": [
    "### Ejercicio 9: números flotantes\n",
    "\n",
    "De manera similar a lo que ocurre con los números enteros, Julia puede representar números flotantes de diferentes tipos de precisión. Por defecto, Julia asume que los números flotantes son de 64 bits. Por ejemplo, Julia traduce\n",
    "\n",
    "        1.0\n",
    "        \n",
    "al número `Float64(1.0)`. \n",
    "\n",
    "Ingrese números flotantes de 16, 32 y 64 bits."
   ]
  },
  {
   "cell_type": "code",
   "execution_count": null,
   "metadata": {},
   "outputs": [],
   "source": [
    "a=Float64(1.0)\n",
    "print(a *2)"
   ]
  },
  {
   "cell_type": "markdown",
   "metadata": {},
   "source": [
    "### Ejercicio 10: variables\n",
    "\n",
    "Las variables se usan para almacenar valores. Los valores pueden ser números, strings, arrays, etc. Por ejemplo, en Julia podemos asignar un valor a una variable `x` utilizando la siguiente sintaxis\n",
    "\n",
    "    x = 10.0\n",
    "    \n",
    "Cree diferentes variables asignandole diferentes valores. Modifique luego el valor de las variables."
   ]
  },
  {
   "cell_type": "code",
   "execution_count": null,
   "metadata": {},
   "outputs": [],
   "source": [
    "a=10000\n",
    "b=444\n",
    "c=a ÷b\n",
    "println(b)\n",
    "println(\"el valor es $(c)\")"
   ]
  },
  {
   "cell_type": "markdown",
   "metadata": {},
   "source": [
    "### Ejercicio 11: print\n",
    "\n",
    "Las funciones `print` y `println` nos permiten imprimir cosas en pantalla. Por ejemplo\n",
    "\n",
    "    println(\"Hola mundo!\")\n",
    "    \n",
    "imprimirá\n",
    "\n",
    "    Hola mundo!\n",
    "\n",
    "Se puede usar el concepto de *interpolacion* imprimir el valor de variables. Por ejemplo\n",
    "\n",
    "    x = 10.0\n",
    "    \n",
    "    println(\"El valor de x es $(x)\")\n",
    "    \n",
    "Para más información, lea la documentación correspondiente en la página de Julia\n",
    "\n",
    "* [https://docs.julialang.org/en/v1/manual/strings/#string-interpolation](https://docs.julialang.org/en/v1/manual/strings/#string-interpolation)\n",
    "    \n",
    "Use interpolación para imprimir el valor de las variables definidas arriba.    "
   ]
  },
  {
   "cell_type": "code",
   "execution_count": null,
   "metadata": {},
   "outputs": [],
   "source": [
    "x=0.1\n",
    "println(\"el valor de x es $(x)\")"
   ]
  },
  {
   "cell_type": "markdown",
   "metadata": {},
   "source": [
    "### Ejercicio 12: operadores aritméticos\n",
    "\n",
    "Los operadores aritméticos nos permiten realizar operaciones aritméticas sobre expressiones y/o variables con valores numéricos. Por ejemplo, podemos cambiar de signo, sumar, restar, multiplicar, divir y exponenciar enteros, escribiendo\n",
    "\n",
    "       -3\n",
    "        3 + 4\n",
    "        3 - 4\n",
    "        3 * 4\n",
    "        3 / 4   # División flotante de 3 sobre 4\n",
    "        3 \\ 4   # División flotante de 4 sobre 3\n",
    "        3 ÷ 4   # División entera de 3 sobre 4\n",
    "        3 % 4   # Resto de la división entera de 3 sobre 4\n",
    "        3 ^ 4   # Exponenciación\n",
    "    \n",
    "Para más información, visite la documentación de Julia al respecto\n",
    "\n",
    "* [https://docs.julialang.org/en/v1/manual/mathematical-operations/](https://docs.julialang.org/en/v1/manual/mathematical-operations/)\n",
    "    \n",
    "Pruebe evaluar estas expresiones Ud. mismo. Que ocurre en el caso de las divisiones? Repita las anteriores operaciones con números flotantes. Es posible sumar strings? Y multiplicarlas?"
   ]
  },
  {
   "cell_type": "code",
   "execution_count": null,
   "metadata": {},
   "outputs": [],
   "source": [
    "a=34-4\n",
    "b=66/3\n",
    "f=2\n",
    "g=55\n",
    "h=f/g\n",
    "println(h)"
   ]
  },
  {
   "cell_type": "markdown",
   "metadata": {},
   "source": [
    "### Ejercicio 13: operadores booleanos\n",
    "\n",
    "Los operadores booleanos permiten realizar operaciones lógicas con los valores booleanos `true` y `false` (verdadero y falso). Por ejemplo, si `x` e `y` representan variables (o constantes) de valores booleanos, podemos aplicar el operador unario de *negación* (cambiar de verdadero a falso y viceversa)\n",
    "\n",
    "        !x\n",
    "        \n",
    "o podemos aplicar los operadores binarios *and* y *or*\n",
    "\n",
    "        x && y\n",
    "        x || y\n",
    "        \n",
    "respectivamente.\n",
    "\n",
    "También existen los operadores de comparación, los cuales retornan un valor booleano. Por ejemplo, los operadores aritméticos `==`, `<`, `>`, `<=`, `>=` (igual, menor, mayor, menor o igual, mayor o igual).\n",
    "\n",
    "Para más información, visite la documentación de Julia al respecto\n",
    "\n",
    "* [https://docs.julialang.org/en/v1/manual/mathematical-operations/](https://docs.julialang.org/en/v1/manual/mathematical-operations/)\n",
    "\n",
    "Para todas las combinaciones posibles de los valores booleanos de las variables `x` e `y`, calcule los valores booleanos de las expresiones `!x`, `x && y` y `x || y`.\n",
    "\n",
    "Luego, asigne valores aritméticos a `x` e `y` y evalúe los operadores de comparación. \n",
    "\n",
    "Pueden compararse strings?"
   ]
  },
  {
   "cell_type": "code",
   "execution_count": null,
   "metadata": {},
   "outputs": [],
   "source": [
    "a=23\n",
    "b=9\n",
    "if (a==b || a>b)\n",
    "    println(\"ss\");\n",
    "else \n",
    "    println(\"noon\");\n",
    "end"
   ]
  },
  {
   "cell_type": "markdown",
   "metadata": {},
   "source": [
    "### Ejercicio 14: condicionales\n",
    "\n",
    "Existen diferentes formas de controlar el flujo de un programa. Las expresiones condicionales sirven para controlar el flujo de un programa. La más común de ellas es el comando `if`. Veamos un ejemplo\n",
    "\n",
    "        x = 1\n",
    "        if x > 0\n",
    "            println(\"Si\");\n",
    "        else\n",
    "            println(\"No\");        \n",
    "        end\n",
    "        \n",
    "Evalúe el ejemplo. Luego, intente combiar operadores del ejercicio 13 con el if."
   ]
  },
  {
   "cell_type": "code",
   "execution_count": null,
   "metadata": {},
   "outputs": [],
   "source": [
    "x=-88\n",
    "if x>0\n",
    "    println(\"si\");\n",
    "    else\n",
    "    println(\"no\");\n",
    "end"
   ]
  },
  {
   "cell_type": "markdown",
   "metadata": {},
   "source": [
    "### Ejercicio 13: loops\n",
    "\n",
    "Los loops proveen de otra forma de controlar el flujo de un programa. El fomando `for` provee la forma más común de implementar loops en Julia. Por ejemplo\n",
    "\n",
    "        for i in 1:10\n",
    "           println(\"$i\") \n",
    "        end\n",
    "        \n",
    "Para más información, puede leer la documentación de Julia al respecto\n",
    "\n",
    "* [https://docs.julialang.org/en/v1/base/base/#for](https://docs.julialang.org/en/v1/base/base/#for)\n",
    "        \n",
    "Pruebe el ejemplo anterior. Modifíquelo para que imprima los números 1,2,4,8,16,32,64,128,256.   "
   ]
  },
  {
   "cell_type": "code",
   "execution_count": null,
   "metadata": {},
   "outputs": [],
   "source": [
    "for i in 0:2:8\n",
    "    println(\" el valor es i=$i\")\n",
    "    k=i^2\n",
    "    println(\"k= $k\")\n",
    "end"
   ]
  },
  {
   "cell_type": "markdown",
   "metadata": {},
   "source": [
    "### Ejercicio 15: funciones\n",
    "\n",
    "Las funciones proveen otra forma de controlar el flujo de un programa. En Julia, existen varias maneras de implementar una función. A continuación ejemplificamos las dos más simples. La primer forma se utiliza para definir funciones que puedan escribirse en una linea\n",
    "\n",
    "    f(x,y) = 2*x+y^3\n",
    "    f(3,4)\n",
    "    \n",
    "La segunda forma, sirve para definir funciones mas complejas    \n",
    "    \n",
    "    function g(i,n)\n",
    "        for j = 1:n\n",
    "            m=i^j\n",
    "            println(\"$m\")\n",
    "        end\n",
    "    end\n",
    "    g(2,5)\n",
    "    \n",
    "Implemente y pruebe ambas funciones. Luego, implemente y pruebe una función que retorne si un número es par o no. "
   ]
  },
  {
   "cell_type": "code",
   "execution_count": null,
   "metadata": {},
   "outputs": [],
   "source": [
    "function p(i,n)\n",
    "    for j= 1:n\n",
    "        m=i^j\n",
    "        println(\"$m\")\n",
    "    end\n",
    "end\n",
    "p(2,2)\n",
    "println(\"---- 2da parte---\")\n",
    "function pajaro(x,y)\n",
    "\n",
    "    return x+y\n",
    " # println(y)\n",
    "end\n",
    "h=pajaro(1,2)\n",
    "println(\"pajaro es:\",h)"
   ]
  },
  {
   "cell_type": "code",
   "execution_count": null,
   "metadata": {
    "scrolled": true
   },
   "outputs": [],
   "source": [
    "l(x,y)=2*x+y^3  #altgr coma + espacio\n",
    "println(l(2,1))"
   ]
  },
  {
   "cell_type": "markdown",
   "metadata": {},
   "source": [
    "### Ejercicio 16: arrays\n",
    "\n",
    "El uso de vectores, matrices y tensores en general es muy común en el cálculo numérico. Los arreglos o *arrays* constituyen la forma más común de representar estos objetos matemáticos en un programa. Por ejemplo, para definir un array 1D de 5 números enteros, podemos escribir\n",
    "\n",
    "    a = Array{Int64}(undef,5)\n",
    "    \n",
    "Luego, para acceder al í-esimo elemento del array escribimos `a[i]`. De esta manera, podemos asignar valores a los elementos del array escribiendo\n",
    "\n",
    "    for i in 1:length(a)\n",
    "       a[i] = 100\n",
    "    end\n",
    "\n",
    "y luego ver que, efectivamente las entradas del array valen 100. Por ejemplo, para ver el valor almacenado en la entrada 3 escribimos\n",
    "\n",
    "    a[3]\n",
    "    \n",
    "Para definir un array 2D de dimensiones 3x4 de números flotantes de 64 bits, escribimos\n",
    "\n",
    "    b = Array{Float64}(undef,(3,4))\n",
    "    \n",
    "y para acceder al elemento i,j-ésimo escribimos `b[i,j]`.\n",
    "\n",
    "Cree y asigne valores al array `a`. Repita lo anterior para el array `b`. Luego, fabrique un array de números flotantes de 3D."
   ]
  },
  {
   "cell_type": "code",
   "execution_count": null,
   "metadata": {
    "scrolled": false
   },
   "outputs": [],
   "source": [
    "#un array de 1d\n",
    "a=Array{Int64}(undef,5)\n",
    "for i in 1:5\n",
    "    #print(\",i= $i\")\n",
    "    a[i]=3*i\n",
    "end\n",
    "for i in 1:5\n",
    "    println(a[i])\n",
    "end\n",
    "\n",
    "### ahora uno de 2d\n",
    "println(\"segunda parte: \")\n",
    "\n",
    "b= Array{Float64}(undef,(4,4)) #aqui tiraba error por tenerlo def en 4x4 y luego cargar como si fuera 3x4\n",
    "for i in 1:4\n",
    "    for j in 1:4\n",
    "        b[i,j]=i*j\n",
    "    end\n",
    "end\n",
    "\n",
    "for i in 1:4\n",
    "    for j in 1:4\n",
    "        println(b[i,j])\n",
    "    end\n",
    "end\n"
   ]
  },
  {
   "cell_type": "markdown",
   "metadata": {},
   "source": [
    "### Ejercicio 17: gráficos\n",
    "\n",
    "Grafique la función seno en el intervalo $[0,2\\pi]$. Para ello, primero importe el paquete `Plots` escribiendo\n",
    "\n",
    "     using Plots\n",
    "    \n",
    "y luego realize el gráfico con el programa\n",
    "\n",
    "     plot(0:0.01:2*π,sin,xlabel=\"x\",ylabel=\"sen(x)\",label=\"\")\n",
    "     \n",
    "Luego, buscando la documentación del paquete `Plots` de Julia\n",
    "\n",
    "* [https://docs.juliaplots.org/stable/tutorial/#tutorial](https://docs.juliaplots.org/stable/tutorial/#tutorial)\n",
    "\n",
    "determine que es lo que indica cada argumento pasado a la función `plots` en el anterior programa."
   ]
  },
  {
   "cell_type": "code",
   "execution_count": null,
   "metadata": {},
   "outputs": [],
   "source": [
    "using Plots\n",
    " plot(0:0.01:2*π,sin,xlabel=\"x\",ylabel=\"sen(x)\",label=\"\")\n"
   ]
  },
  {
   "cell_type": "code",
   "execution_count": null,
   "metadata": {},
   "outputs": [],
   "source": [
    "import Pkg\n",
    "Pkg.add(\"Plots\")"
   ]
  },
  {
   "cell_type": "markdown",
   "metadata": {},
   "source": [
    "## Parte 3 : Errores numéricos"
   ]
  },
  {
   "cell_type": "markdown",
   "metadata": {},
   "source": [
    "### Problema 1\n",
    "\n",
    "Evaluar las siguientes operaciones matemáticas, una por celda. Tenga en cuenta que, en Julia, la división entera se representa por el símbolo ÷.\n",
    "\n",
    "    A = 5 ÷ 2 + 20 ÷ 6\n",
    "    B = 4 * 6 ÷ 2 - 15 ÷ 2\n",
    "    C = 5 * 15 ÷ 2 ÷ (4 - 2)\n",
    "    D = 1 + 1 ÷ 4\n",
    "    E = 1. + 1 ÷ 4\n",
    "    F = 1 + 1. / 4\n",
    "    G = 1. + 1. / 4.\n",
    "    \n",
    "En que se diferencian los casos, D, E, F y G?"
   ]
  },
  {
   "cell_type": "code",
   "execution_count": null,
   "metadata": {},
   "outputs": [],
   "source": [
    "A=5 ÷ 2 + 20 ÷ 6\n",
    "println(A)"
   ]
  },
  {
   "cell_type": "code",
   "execution_count": null,
   "metadata": {},
   "outputs": [],
   "source": [
    "B=4*6 ÷ 2 - 15 ÷ 2\n",
    "println(B)"
   ]
  },
  {
   "cell_type": "code",
   "execution_count": null,
   "metadata": {},
   "outputs": [],
   "source": [
    "C=5 * 15 ÷2÷(4-2)\n",
    "println(C)"
   ]
  },
  {
   "cell_type": "code",
   "execution_count": null,
   "metadata": {},
   "outputs": [],
   "source": [
    "D=1+1÷4\n",
    "print(D)"
   ]
  },
  {
   "cell_type": "code",
   "execution_count": null,
   "metadata": {},
   "outputs": [],
   "source": [
    "E=1. + 1÷4\n",
    "print(E)"
   ]
  },
  {
   "cell_type": "code",
   "execution_count": null,
   "metadata": {},
   "outputs": [],
   "source": [
    "F=1+1. /4"
   ]
  },
  {
   "cell_type": "code",
   "execution_count": null,
   "metadata": {},
   "outputs": [],
   "source": [
    "G=1. +1. /4.   #se diferencian por flotantes en div entera?"
   ]
  },
  {
   "cell_type": "markdown",
   "metadata": {},
   "source": [
    "### Problema 2\n",
    "\n",
    "Implemente una función que pida dos numeros reales y retorne el mayor de ellos, ó retorne el string `\"iguales\"` si son iguales. Pruebe la función para los casos\n",
    "\n",
    "    f(1,2)\n",
    "    f(2,1)\n",
    "    f(0.0,0.0)\n",
    "    f(0.0,10.0^(-500))\n",
    "    \n",
    "Explique que ocurre en el último caso.    "
   ]
  },
  {
   "cell_type": "code",
   "execution_count": null,
   "metadata": {},
   "outputs": [],
   "source": [
    "function d(x,y)\n",
    "    if (x>y)\n",
    "        return x;\n",
    "    elseif(x<y) \n",
    "        return y;\n",
    "    else\n",
    "            println(\"son iguales\");\n",
    "    end\n",
    "end\n",
    "d(0.0,10.0^(-500)) # en el ultimo caso los considera iguales por ser uno cero, y el ptrp demasiado cercano a cero;"
   ]
  },
  {
   "cell_type": "code",
   "execution_count": null,
   "metadata": {},
   "outputs": [],
   "source": []
  },
  {
   "cell_type": "markdown",
   "metadata": {},
   "source": [
    "### Problema 3\n",
    "\n",
    "Implemente una función que pida un número entero y retorne un booleano determinando si es multiplo de 2 y de 5.\n",
    "Testee la función con ejemplos."
   ]
  },
  {
   "cell_type": "code",
   "execution_count": null,
   "metadata": {},
   "outputs": [],
   "source": [
    "function l(x)\n",
    "   if(x%2==0 && x%5==0)\n",
    "        println(\"es multiplo de 2 y 5\");\n",
    "    else\n",
    "        println(\"no lo es\");\n",
    "    end\n",
    "end\n",
    "    l(50)"
   ]
  },
  {
   "cell_type": "markdown",
   "metadata": {},
   "source": [
    "### Problema 6\n",
    "\n",
    "Implemente una función que pida los coeficientes $A$, $B$ y $C$ de un polinomio real de segundo grado ($A x^2 + B x + C$), calcule e imprima en pantalla las dos raíces del polinomio en formato complejo $a + i b$, sin\n",
    "utilizar algebra compleja.\n",
    "Testee la función con ejemplos."
   ]
  },
  {
   "cell_type": "markdown",
   "metadata": {},
   "source": [
    "**Teoría**\n",
    "\n",
    "Dados\n",
    "$$\n",
    "a = -\\frac{B}{2A}\\in \\mathbb{R}\n",
    "\\;\\;\\;\\;\n",
    "\\mbox{y}\n",
    "\\;\\;\\;\\;\n",
    "b = \\frac{\\sqrt{\\left|B^2-4AC\\right|}}{2A}\\in \\mathbb{R}\n",
    "$$ \n",
    "luego, las soluciones de \n",
    "$$\n",
    "A x^2 + B x + C=0\n",
    "$$\n",
    "son\n",
    "$$\n",
    "x_{\\pm} = a\\pm b\n",
    "$$\n",
    "si el discriminante satisface\n",
    "$$\n",
    "B^2-4AC \\geq 0\n",
    "$$\n",
    "ó son\n",
    "$$\n",
    "x_{\\pm} = a\\pm ib\n",
    "$$\n",
    "en caso contrario."
   ]
  },
  {
   "cell_type": "code",
   "execution_count": null,
   "metadata": {},
   "outputs": [],
   "source": [
    "function j(a,b,c)  # Ax2+Bx+C\n",
    "    #busco las raices\n",
    "    if(b^(2)-4*a*c >= 0) #cumnple primer condicion\n",
    "        r=a+b\n",
    "        f=a-b\n",
    "        println(\"las raices son x1=$(r),x2=$(f)  \");\n",
    "    else\n",
    "        println(\"las raices son $(a)+-i $(b)\");\n",
    "    end    \n",
    "end\n",
    "j(2,3,0)"
   ]
  },
  {
   "cell_type": "markdown",
   "metadata": {},
   "source": [
    "### Problema 7\n",
    "\n",
    "Implemente una función que compute la suma en precisión simple (float de 32 bits)\n",
    "$$\n",
    "\\sum_{n=1}^{10\\,000\\,000} \\frac{1}{n}\n",
    "$$\n",
    "en el orden usual.\n",
    "Luego, implemente otra que compute la suma en el orden opuesto, también en precisión simple.\n",
    "Luego, repita todo el proceso para precisión doble (float de 64 bits).\n",
    "Ejecute todas funciones, observe los resultados y describa las diferencias obtenidas.\n",
    "En particular, indique cuál función es más precisa y explique porqué."
   ]
  },
  {
   "cell_type": "code",
   "execution_count": null,
   "metadata": {},
   "outputs": [],
   "source": [
    "function h(m)\n",
    "    a=Float32(m)\n",
    "    k=0.0   \n",
    "    for i in 1:m\n",
    "       k+=1/i  \n",
    "    end\n",
    "    return k;\n",
    "end\n",
    "h(10000000)"
   ]
  },
  {
   "cell_type": "markdown",
   "metadata": {},
   "source": []
  },
  {
   "cell_type": "markdown",
   "metadata": {},
   "source": [
    "### Problema 8\n",
    "\n",
    "Diseñar una función que calcule la potencia enésima de un número, es decir que devuelva $x^n$ para $x$ real y $n$ entero. Realice un programa que utilice la función e imprima en pantalla las primeras 5 potencias naturales de un número ingresado."
   ]
  },
  {
   "cell_type": "code",
   "execution_count": null,
   "metadata": {},
   "outputs": [],
   "source": [
    "function m(x,y)\n",
    "    return x^(y);\n",
    "end\n",
    "\n",
    "numero=2  #este es el numero a elevar a potencia\n",
    "for i in 1:5\n",
    "   a=m(numero,i)\n",
    "    println(\"$(numero) ^ $(i) = $(a)\")\n",
    "end"
   ]
  },
  {
   "cell_type": "markdown",
   "metadata": {},
   "source": [
    "### Problema 9\n",
    "\n",
    "Implemente una función que tome una matriz $A$ de dimensión $M\\times N$ y un vector $v$ de dimensión $N$ y retorne un vector de dimensión $M$ igual al producto matricial $Av$.\n",
    "\n",
    "Ralice varias pruebas de la función.\n",
    "\n",
    "**Ayuda:** Lea [https://docs.julialang.org/en/v1/base/arrays/](https://docs.julialang.org/en/v1/base/arrays/)."
   ]
  },
  {
   "cell_type": "code",
   "execution_count": 9,
   "metadata": {},
   "outputs": [
    {
     "data": {
      "text/plain": [
       "multiplicar_matriz (generic function with 1 method)"
      ]
     },
     "execution_count": 9,
     "metadata": {},
     "output_type": "execute_result"
    }
   ],
   "source": [
    "function multiplicar_matriz(A,v)\n",
    "@assert length(size(A))==2\n",
    "@assert length(size(v))==1\n",
    "M,N=size(A)\n",
    "@assert N== length(v)\n",
    "    w= zeros(M)\n",
    "    for i in 1:M\n",
    "         for j in 1:N\n",
    "            w[i] += A[i,j]*v[j]  #trucaso\n",
    "         end\n",
    "    end\n",
    "    return w\n",
    "end"
   ]
  },
  {
   "cell_type": "code",
   "execution_count": 6,
   "metadata": {},
   "outputs": [
    {
     "data": {
      "text/plain": [
       "3-element Vector{Float64}:\n",
       " 0.6214418970480953\n",
       " 0.2812568176735447\n",
       " 0.4741908348760663"
      ]
     },
     "execution_count": 6,
     "metadata": {},
     "output_type": "execute_result"
    }
   ],
   "source": [
    "using Random   #les cargo valores aleatorios a la matriz y al vector :)\n",
    "A=rand(2,3)\n",
    "v=rand(3)"
   ]
  },
  {
   "cell_type": "code",
   "execution_count": 10,
   "metadata": {},
   "outputs": [
    {
     "data": {
      "text/plain": [
       "2-element Vector{Float64}:\n",
       " 0.8656780709279381\n",
       " 0.5889809494762097"
      ]
     },
     "execution_count": 10,
     "metadata": {},
     "output_type": "execute_result"
    }
   ],
   "source": [
    "w=multiplicar_matriz(A,v)"
   ]
  },
  {
   "cell_type": "markdown",
   "metadata": {},
   "source": []
  },
  {
   "cell_type": "markdown",
   "metadata": {},
   "source": [
    "### Problema 10\n",
    "\n",
    "Se determinaron 9 mediciones de concentraciones de fósforo en un campo y los datos obtenidos fueron:\n",
    "\n",
    "    479.80 \n",
    "    499.10 \n",
    "    510.20 \n",
    "    508.60\n",
    "    503.30\n",
    "    501.20\n",
    "    507.30\n",
    "    499.90\n",
    "    468.60\n",
    "    \n",
    "* Cargue los datos en un array.\n",
    "\n",
    "* Escriba un programa que calcule el promedio y la [estimación de la desviación estandard no sesgada](https://es.wikipedia.org/wiki/Estimaci%C3%B3n_de_la_desviaci%C3%B3n_est%C3%A1ndar_no_sesgada) del array de datos.\n",
    "\n",
    "**Ayudas:**\n",
    "\n",
    "* Puede crear el vector a mano, o puede intentar usando las funciones [split](https://docs.julialang.org/en/v1/base/strings/#Base.split) y [parse](https://docs.julialang.org/en/v1/base/numbers/#Base.parse), o puede intentar usar usar los paquetes [CSV](https://csv.juliadata.org/stable/) y [DataFrames](https://dataframes.juliadata.org/stable/).\n",
    "\n",
    "* El *promedio* de una serie de mediciones $x_1, x_2, ..., x_n$ se defined como\n",
    "\n",
    "    $$\n",
    "    \\overline{x} = \\frac{1}{n} \\sum_{i=1}^n x_i\n",
    "    $$\n",
    "\n",
    "    y la *estimación de la desviación estandard no sesgada* como\n",
    "    \n",
    "    $$\n",
    "    s_x = \\sqrt{\\frac{1}{n-1}\\sum_{i=1}^n (x_i-\\overline{x})^2}\n",
    "    $$"
   ]
  },
  {
   "cell_type": "code",
   "execution_count": 15,
   "metadata": {},
   "outputs": [
    {
     "name": "stdout",
     "output_type": "stream",
     "text": [
      "497.55555555555566"
     ]
    }
   ],
   "source": [
    "function promedio(m)\n",
    "    suma=0\n",
    "for i in 1:9\n",
    "        suma+=m[i]\n",
    "end\n",
    "    r=suma/9\n",
    "return r\n",
    "end\n",
    "\n",
    "function estimacion_desviacion_estandar_nosequecosa(m,prom)\n",
    "    \n",
    "    \n",
    "end\n",
    "\n",
    "m=zeros(9)  \n",
    " m[1]=479.80 \n",
    " m[2]=499.10 \n",
    " m[3]=510.20 \n",
    " m[4]=508.60\n",
    " m[5]=503.30\n",
    " m[6]=501.20\n",
    " m[7]=507.30\n",
    " m[8]=499.90\n",
    " m[9]=468.60\n",
    "prom=promedio(m)\n",
    "print(prom)"
   ]
  },
  {
   "cell_type": "code",
   "execution_count": null,
   "metadata": {},
   "outputs": [],
   "source": [
    "zeros(3,3)"
   ]
  },
  {
   "cell_type": "code",
   "execution_count": null,
   "metadata": {},
   "outputs": [],
   "source": [
    "ones(2,3)"
   ]
  },
  {
   "cell_type": "markdown",
   "metadata": {},
   "source": [
    "### Problema 11\n",
    "\n",
    "Escriba una funcion que retorne el *string* de la representación en base $b \\leq 16$ de un número natural $n$. Por ejemplo, para $n=42$, la función tiene que retornar `\"101010\"` si $b=2$ (representación binaria), y tiene que retornar `\"2A\"` si $b=16$ (representación hexadecimal).\n",
    "\n",
    "**Ayuda:** Utilice las operaciones división entera `÷` y resto `%`, la concatenación de *string* s (i.e. el operador ` *`) y utilice una *string* `\"0123456789ABCDEF\"` con todos los dígitos necesarios."
   ]
  },
  {
   "cell_type": "code",
   "execution_count": null,
   "metadata": {},
   "outputs": [],
   "source": []
  },
  {
   "cell_type": "markdown",
   "metadata": {},
   "source": [
    "### Problema 12\n",
    "\n",
    "Efectúe con un programa en Julia en simple precisión los siguientes cálculos matemáticamente equivalentes,\n",
    "\n",
    "**a)** $1\\,000\\,000 \\times 0.1$\n",
    "\n",
    "**b)** $\\sum_{n=1}^{1\\,000\\,000} 0.1$\n",
    "\n",
    "**c)** $\\sum_{n=1}^{1\\,000} \\left( \\sum_{m=1}^{1\\,000} 0.1\\right)$\n",
    "\n",
    "1. Vaya guardando en vectores los errores parciales cada 1000 iteraciones en el caso **b)**, y en todas las iteraciones de la suma externa en **c)**, de manera que cada suma parcial comprenda 1000 términos de la suma total.\n",
    "\n",
    "2. Grafique de manera comparativa dichos errores en función de los correspondientes valores de $n$. Incluya en el gráfico nombres adecuados en los ejes y con leyendas adecuadas. \n",
    "\n",
    "3. Repita el gráfico utilizando escala logarítmica en el eje $y$.\n",
    "\n",
    "4. Utilce los resultados anteriores para explicar las diferencias obtenidas entre resultados finales de **a)**, **b)** y **c)** y muestre que el error relativo en **b)** es del orden del $1\\%$, pero es mucho menor en **c)**."
   ]
  },
  {
   "cell_type": "code",
   "execution_count": null,
   "metadata": {},
   "outputs": [],
   "source": []
  },
  {
   "cell_type": "markdown",
   "metadata": {},
   "source": [
    "### Problema 13\n",
    "\n",
    "**Serie de Taylor, aproximaciones y errores**\n",
    "\n",
    "La siguiente fórmula permite expresar, usando la serie de Taylor a partir del punto $x=0$, la función *seno* como suma (infinita) de potencias:\n",
    "\n",
    "$$\n",
    "\\sin(x) = \\sum_{j=0}^{\\infty} \\frac{(-1)^j}{(2j+1)!}x^{2j+1}\n",
    "$$\n",
    "\n",
    "Podemos approximar esta expresión en la computadora truncando la serie en algún valor finito de $n$.\n",
    "\n",
    "1. Defina una función, `sin_n(x,n)` que tome como argumentos un valor de la variable `x` y un valor de `n` y devuelva el valor de la suma hasta dicho $n$. \n",
    "    \n",
    "2. Grafique en el intervalo $[0, 2π]$ dicha función para los distintos valores de $n=6,7,8$ y agregue en el mismo gráfico la función `sin(x)` que viene pre-definida en Julia.\n",
    "    \n",
    "3. En otro gráfico grafique el *error* entre la aproximación con $n=8$ y la función estandard de Julia. \n",
    "    \n",
    "4. Defina una nueva función, `sin_n_inv(x,n)` idéntica a al anterior pero donde la suma se haga en orden inverso.\n",
    "    \n",
    "5. Compare los errores obtenidos con `sin_n(x,n)` y `sin_n_inv(x,n)` para `n=8` en el rango $[0,1]$.\n",
    "\n",
    "6. Repita la comparación anterior utilizando precisión simple (i.e. numero flotante de 32 bits). \n",
    "\n",
    "7. Explique las diferencias observadas entre 5. y 6.\n",
    "\n",
    "**Ayudas:** \n",
    "\n",
    "* Para calcular el factorial de un número entero use la función `factorial`.\n",
    "\n",
    "* `Float32(x)` retorna el valor de `x` en precisión simple.\n",
    "\n",
    "* Las expresiones `zero(x)` y `one(x)` retornan 0 y 1, respectivamente, en la misma precisión que la variable `x`."
   ]
  },
  {
   "cell_type": "code",
   "execution_count": null,
   "metadata": {},
   "outputs": [],
   "source": []
  },
  {
   "cell_type": "markdown",
   "metadata": {},
   "source": [
    "### Problema 14\n",
    "\n",
    "1. Escriba un programa que calcule la posición y la velocidad en función del tiempo para un problema de tiro oblicuo. El programa debe asumiendo que el proyectil parte del origen, y debe tomar como datos de entrada el ángulo $\\theta$ (en grados) y la rapidéz inicial $v_0$ (en m/seg.) del proyectil.\n",
    "\n",
    "2. Calcule la trayectoria para $\\theta=°30$ y $v_0=50\\, m/s$. Elija el incremento temporal ($\\Delta t$) de manera que eventualmente pueda graficar una trajectoria con 600 puntos en el intervalo entre el disparo y el instante $T$ en que el proyectil vuelve a tener altura 0. \n",
    "\n",
    "3. En una figura grafique $x(t)$, $y(t)$ y $v_y(t)$ en función de $t$. \n",
    "\n",
    "4. En otra figura grafique la trayectoria del proyectil.\n",
    "\n",
    "**Ayuda:** para plotear puntos o curvas, lea [https://docs.juliaplots.org/latest/tutorial/](https://docs.juliaplots.org/latest/tutorial/)."
   ]
  },
  {
   "cell_type": "code",
   "execution_count": null,
   "metadata": {},
   "outputs": [],
   "source": []
  },
  {
   "cell_type": "markdown",
   "metadata": {},
   "source": [
    "### Problema 15\n",
    "\n",
    "Escriba un programa para calcular un valor aproximado de $\\pi$ utilizando los siguientes métodos.\n",
    "\n",
    "1. La fórmula recurrente de Arquímedes, que  acota $\\pi$ entre $p_n$ y $P_n$, con $p_n < \\pi < P_n$, siendo $p_n$ y $P_n$ los perímetros de los polígonos regulares de $n$ lados inscriptos y circunscriptos, respectivamente, en la circunsferencia de radio $1/2$. \n",
    "\n",
    "    La fórmula de recurrencia que encontró Arquímides es la siguiente:\n",
    "    \n",
    "    $$\n",
    "    \\begin{align}\n",
    "    P_{2n} &= \\frac{2 p_n P_n}{p_n + P_n} \\\\\n",
    "    p_{2n} &= \\sqrt{P_{2n} p_n} \n",
    "    \\end{align}\n",
    "    $$\n",
    "    \n",
    "    Usando los valores $P_6=2\\sqrt{3}$ y $p_6 = 3$, correspondientes al hexágono, escriba un programa que realice 20 iteraciones recorriendo $k=0,1,..., 20$, y escriba los resultados en pantalla de $k$, $n=6\\times 2^k$, $p_n$, $P_n$, la aproximación $\\pi_n = (p_n+P_n)/2$ y el error $|\\pi_n-\\pi|$.\n",
    "\n",
    "2. La productoria de Wallis\n",
    "\n",
    "    $$\n",
    "    \\frac{\\pi}{2} = \\prod_{n=1}^\\infty \\frac{(2n)^2}{(2n)^2-1} = \\frac43\\frac{16}{15}\\frac{36}{35}\\frac{64}{63}\\dots \n",
    "    $$\n",
    "    \n",
    "    truncando la productoria a $10^6$ factores."
   ]
  },
  {
   "cell_type": "code",
   "execution_count": null,
   "metadata": {},
   "outputs": [],
   "source": []
  },
  {
   "cell_type": "markdown",
   "metadata": {},
   "source": [
    "### Problema 16\n",
    "\n",
    "La fórmula cuadrática nos dice que las raíces de $ax^2 + bx + c = 0$ son\n",
    "\n",
    "$$\n",
    "x_1 = \\frac{-b+\\sqrt{b^2-4ac}}{2a},\n",
    "\\;\\;\\;\\;\n",
    "x_2 = \\frac{-b-\\sqrt{b^2-4ac}}{2a}\n",
    "$$\n",
    "\n",
    "Si $b^2 \\gg 4ac$, cálculo de $x_1$ involucra en el numerador la sustracción de dos números casi iguales cuando $b>0$, y ocurre para el cálculo de $x_2$ cuando $b<0$.\n",
    "La división por números gigantes suele generar errores numéricos severos.\n",
    "Para solucionar este problema, conviene *racionalizar los numeradores* en cuestión.\n",
    "Más precisamente, conviene calcular la raíz $x_1$ usando la expresión\n",
    "\n",
    "$$\n",
    "x_1 = \\frac{-b+\\sqrt{b^2-4ac}}{2a} \\frac{-b-\\sqrt{b^2-4ac}}{-b-\\sqrt{b^2-4ac}} = \\frac{-2c}{b+\\sqrt{b^2-4ac}}\n",
    "$$\n",
    "\n",
    "cuando $b>0$, y conviene calcular la raíz $x_2$ usando la expresión\n",
    "\n",
    "$$\n",
    "x_2 = \\frac{-b-\\sqrt{b^2-4ac}}{2a} \\frac{-b+\\sqrt{b^2-4ac}}{-b+\\sqrt{b^2-4ac}} = \\frac{2c}{-b+\\sqrt{b^2-4ac}}\n",
    "$$\n",
    "\n",
    "cuando $b<0$.\n",
    "\n",
    "1. Implemente una función que utilice las fórmulas usuales para calcular las raices $x_1$ y $x_2$.\n",
    "\n",
    "2. Implemente otra función que utilice las fórmulas *racionalizadas* para calcular las raíces $x_1$ y $x_2$.\n",
    "\n",
    "3. Implemente una función que calcule las raíces $x_1$ y $x_2$ evaluando la condición $b>0$ para decidir que fórmula utilizar en cada caso.\n",
    "\n",
    "4. Utilice las funciones de los incisos anteriores para encontrar aproximaciones numéricas a las raíces de las ecuaciónes\n",
    "\n",
    "   a) $x^2 + 6210x + 1 = 0$\n",
    "\n",
    "   b) $x^2 - 6210x + 1 = 0$\n",
    "\n",
    "5. Repita el inciso anterior para precisión simple.\n",
    "\n",
    "6. Describa lo observado."
   ]
  },
  {
   "cell_type": "code",
   "execution_count": null,
   "metadata": {},
   "outputs": [],
   "source": []
  },
  {
   "cell_type": "markdown",
   "metadata": {},
   "source": [
    "**6.**\n",
    "Bla bla bla..."
   ]
  }
 ],
 "metadata": {
  "@webio": {
   "lastCommId": null,
   "lastKernelId": null
  },
  "kernelspec": {
   "display_name": "Julia 1.10.2",
   "language": "julia",
   "name": "julia-1.10"
  },
  "language_info": {
   "file_extension": ".jl",
   "mimetype": "application/julia",
   "name": "julia",
   "version": "1.10.2"
  }
 },
 "nbformat": 4,
 "nbformat_minor": 4
}
