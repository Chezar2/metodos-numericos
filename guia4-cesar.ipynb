{
 "cells": [
  {
   "cell_type": "markdown",
   "metadata": {},
   "source": [
    "# Métodos Numéricos 2024"
   ]
  },
  {
   "cell_type": "markdown",
   "metadata": {},
   "source": [
    "## Guía 4: 2024-05-02 - Ajuste por Cuadrados Mínimos"
   ]
  },
  {
   "cell_type": "code",
   "execution_count": 9,
   "metadata": {},
   "outputs": [
    {
     "name": "stderr",
     "output_type": "stream",
     "text": [
      "\u001b[32m\u001b[1m    Updating\u001b[22m\u001b[39m registry at `C:\\Users\\Solis\\.julia\\registries\\General.toml`\n",
      "\u001b[32m\u001b[1m   Resolving\u001b[22m\u001b[39m package versions...\n",
      "\u001b[32m\u001b[1m  No Changes\u001b[22m\u001b[39m to `C:\\Users\\Solis\\.julia\\environments\\v1.10\\Project.toml`\n",
      "\u001b[32m\u001b[1m  No Changes\u001b[22m\u001b[39m to `C:\\Users\\Solis\\.julia\\environments\\v1.10\\Manifest.toml`\n"
     ]
    }
   ],
   "source": [
    "using Plots\n",
    "using LaTeXStrings\n",
    "import Pkg\n",
    "#Pkg.add(\"CSV\")\n",
    "Pkg.add(\"LsqFit\")\n",
    "#Pkg.add(\"LinearAlgebra\")\n",
    "using DataFrames\n",
    "using CSV\n",
    "using LsqFit\n",
    "using LinearAlgebra"
   ]
  },
  {
   "cell_type": "markdown",
   "metadata": {},
   "source": [
    "###  Problema 1 \n",
    "\n",
    "Escriba una función de Julia que permita encontrar la mejor recta que aproxime un conjunto de $n$ puntos utilizando el **método de cuadrados mínimos**.\n",
    "La función tiene que tomar como argumentos dos vectores que contengan las coordenadas $x_i$ e $y_i$ de los $n$ puntos.\n",
    "La función debe retornar una tupla $(a_0,a_1)$ con los coeficientes $a_0$ y $a_1$ de la recta $y(x) = a_0 + a_1 x$ que ajusta los puntos."
   ]
  },
  {
   "cell_type": "code",
   "execution_count": 10,
   "metadata": {},
   "outputs": [
    {
     "data": {
      "text/plain": [
       "suma_con_producto (generic function with 1 method)"
      ]
     },
     "execution_count": 10,
     "metadata": {},
     "output_type": "execute_result"
    }
   ],
   "source": [
    "##estas son las funciones que voy a usar para el metodo de cuadrados mínimos\n",
    "function suma_cuadrado(vector)#suma los valores en cada posicion del vector elevadas al cuadrado\n",
    "    n=length(vector)\n",
    "    suma=0\n",
    "    for i in 1:n\n",
    "        suma+=(vector[i])^2\n",
    "    end\n",
    "    return suma\n",
    "end\n",
    "##\n",
    "function suma_normal(vector) #suma los valores en cada posicion del vector\n",
    "    n=length(vector)\n",
    "    suma=0\n",
    "    for i in 1:n\n",
    "        suma+=(vector[i])\n",
    "    end\n",
    "    return suma\n",
    "end\n",
    "##\n",
    "function suma_con_producto(vector1,vector2) #ruma del producto posicion a posición\n",
    "    @assert length(vector1)==length(vector2) #tienen que tener mismo tamaño\n",
    "    n=length(vector1)\n",
    "    suma=0\n",
    "    for i in 1:n\n",
    "        suma+=(vector1[i]*vector2[i])\n",
    "    end\n",
    "    return suma\n",
    "end"
   ]
  },
  {
   "cell_type": "code",
   "execution_count": 11,
   "metadata": {},
   "outputs": [
    {
     "data": {
      "text/plain": [
       "cuadrados_minimos (generic function with 1 method)"
      ]
     },
     "execution_count": 11,
     "metadata": {},
     "output_type": "execute_result"
    }
   ],
   "source": [
    "#Método de cuadrados mínimos:D\n",
    "function cuadrados_minimos(vecx,vecy)\n",
    "    @assert length(vecx)==length(vecy)\n",
    "    m=length(vecx)\n",
    "    #calculo a0:\n",
    "    numerador1=(suma_cuadrado(vecx)*suma_normal(vecy))-(suma_con_producto(vecx,vecy)*suma_normal(vecx))\n",
    "    denominador1=m*(suma_cuadrado(vecx))-((suma_normal(vecx))^2)\n",
    "    a0=numerador1/denominador1 #listo a0 \n",
    "\n",
    "    #calculo a1\n",
    "    numerador2=m*(suma_con_producto(vecx,vecy))-(suma_normal(vecx)*suma_normal(vecy))\n",
    "    denominador2=m*(suma_cuadrado(vecx))-((suma_normal(vecx))^2)\n",
    "    a1=numerador2/denominador2 #listo a1\n",
    "        return a0,a1\n",
    "end"
   ]
  },
  {
   "cell_type": "markdown",
   "metadata": {},
   "source": [
    "### Problema 2 : Ajuste de una recta\n",
    "\n",
    "Utilice el programa del problema anterior para ajustar por cuadrados mínimos los datos del ejemplo $1$ del teórico. Grafique, junto con la recta obtenida, los puntos originales cuyas coordenadas se proveen en la siguiente tabla.\n",
    "\n",
    "\n",
    "| $x_i$ | $y_i$ |\n",
    "| ---   | ---   |\n",
    "| $1$   | $1,3$ |\n",
    "| $2$   | $3,5$ |\n",
    "| $3$   | $4,2$ |\n",
    "| $4$   | $5,0$ |\n",
    "| $5$   | $7,0$ |\n",
    "| $6$   | $8,8$ |\n",
    "| $7$   | $10,1$|\n",
    "| $8$   | $12,5$|\n",
    "| $9$   | $13,0$|\n",
    "| $10$  | $15,6$|"
   ]
  },
  {
   "cell_type": "code",
   "execution_count": 12,
   "metadata": {},
   "outputs": [
    {
     "data": {
      "text/plain": [
       "p (generic function with 1 method)"
      ]
     },
     "execution_count": 12,
     "metadata": {},
     "output_type": "execute_result"
    }
   ],
   "source": [
    "#los vectores con cada coordenada x e y por separado\n",
    "vecx=[1.0, 2.0, 3.0, 4.0, 5.0, 6.0, 7.0, 8.0, 9.0, 10.0 ]\n",
    "vecy=[1.3, 3.5, 4.2, 5.0, 7.0, 8.8, 10.1, 12.5, 13.0, 15.6]\n",
    "a0,a1=cuadrados_minimos(vecx,vecy) #calcuol y guardo los datos\n",
    "#println(a0,\"   \",a1)\n",
    "p(x)=a0+a1*x #armo la recta con los datos retornados"
   ]
  },
  {
   "cell_type": "code",
   "execution_count": 13,
   "metadata": {},
   "outputs": [
    {
     "data": {
      "image/png": "[encoded data removed]",
      "image/svg+xml": [
       "<?xml version=\"1.0\" encoding=\"utf-8\"?>\n",
       "<svg xmlns=\"http://www.w3.org/2000/svg\" xmlns:xlink=\"http://www.w3.org/1999/xlink\" width=\"600\" height=\"400\" viewBox=\"0 0 2400 1600\">\n",
       "<defs>\n",
       "  <clipPath id=\"clip690\">\n",
       "    <rect x=\"0\" y=\"0\" width=\"2400\" height=\"1600\"/>\n",
       "  </clipPath>\n",
       "</defs>\n",
       "<path clip-path=\"url(#clip690)\" d=\"M0 1600 L2400 1600 L2400 0 L0 0  Z\" fill=\"#ffffff\" fill-rule=\"evenodd\" fill-opacity=\"1\"/>\n",
       "<defs>\n",
       "  <clipPath id=\"clip691\">\n",
       "    <rect x=\"480\" y=\"0\" width=\"1681\" height=\"1600\"/>\n",
       "  </clipPath>\n",
       "</defs>\n",
       "<path clip-path=\"url(#clip690)\" d=\"M137.964 1486.45 L2352.76 1486.45 L2352.76 47.2441 L137.964 47.2441  Z\" fill=\"#ffffff\" fill-rule=\"evenodd\" fill-opacity=\"1\"/>\n",
       "<defs>\n",
       "  <clipPath id=\"clip692\">\n",
       "    <rect x=\"137\" y=\"47\" width=\"2216\" height=\"1440\"/>\n",
       "  </clipPath>\n",
       "</defs>\n",
       "<polyline clip-path=\"url(#clip692)\" style=\"stroke:#000000; stroke-linecap:round; stroke-linejoin:round; stroke-width:2; stroke-opacity:0.1; fill:none\" points=\"432.805,1486.45 432.805,47.2441 \"/>\n",
       "<polyline clip-path=\"url(#clip692)\" style=\"stroke:#000000; stroke-linecap:round; stroke-linejoin:round; stroke-width:2; stroke-opacity:0.1; fill:none\" points=\"897.122,1486.45 897.122,47.2441 \"/>\n",
       "<polyline clip-path=\"url(#clip692)\" style=\"stroke:#000000; stroke-linecap:round; stroke-linejoin:round; stroke-width:2; stroke-opacity:0.1; fill:none\" points=\"1361.44,1486.45 1361.44,47.2441 \"/>\n",
       "<polyline clip-path=\"url(#clip692)\" style=\"stroke:#000000; stroke-linecap:round; stroke-linejoin:round; stroke-width:2; stroke-opacity:0.1; fill:none\" points=\"1825.76,1486.45 1825.76,47.2441 \"/>\n",
       "<polyline clip-path=\"url(#clip692)\" style=\"stroke:#000000; stroke-linecap:round; stroke-linejoin:round; stroke-width:2; stroke-opacity:0.1; fill:none\" points=\"2290.07,1486.45 2290.07,47.2441 \"/>\n",
       "<polyline clip-path=\"url(#clip690)\" style=\"stroke:#000000; stroke-linecap:round; stroke-linejoin:round; stroke-width:4; stroke-opacity:1; fill:none\" points=\"137.964,1486.45 2352.76,1486.45 \"/>\n",
       "<polyline clip-path=\"url(#clip690)\" style=\"stroke:#000000; stroke-linecap:round; stroke-linejoin:round; stroke-width:4; stroke-opacity:1; fill:none\" points=\"432.805,1486.45 432.805,1467.55 \"/>\n",
       "<polyline clip-path=\"url(#clip690)\" style=\"stroke:#000000; stroke-linecap:round; stroke-linejoin:round; stroke-width:4; stroke-opacity:1; fill:none\" points=\"897.122,1486.45 897.122,1467.55 \"/>\n",
       "<polyline clip-path=\"url(#clip690)\" style=\"stroke:#000000; stroke-linecap:round; stroke-linejoin:round; stroke-width:4; stroke-opacity:1; fill:none\" points=\"1361.44,1486.45 1361.44,1467.55 \"/>\n",
       "<polyline clip-path=\"url(#clip690)\" style=\"stroke:#000000; stroke-linecap:round; stroke-linejoin:round; stroke-width:4; stroke-opacity:1; fill:none\" points=\"1825.76,1486.45 1825.76,1467.55 \"/>\n",
       "<polyline clip-path=\"url(#clip690)\" style=\"stroke:#000000; stroke-linecap:round; stroke-linejoin:round; stroke-width:4; stroke-opacity:1; fill:none\" points=\"2290.07,1486.45 2290.07,1467.55 \"/>\n",
       "<path clip-path=\"url(#clip690)\" d=\"M427.458 1544.91 L443.777 1544.91 L443.777 1548.85 L421.833 1548.85 L421.833 1544.91 Q424.495 1542.16 429.079 1537.53 Q433.685 1532.88 434.866 1531.53 Q437.111 1529.01 437.99 1527.27 Q438.893 1525.51 438.893 1523.82 Q438.893 1521.07 436.949 1519.33 Q435.028 1517.6 431.926 1517.6 Q429.727 1517.6 427.273 1518.36 Q424.842 1519.13 422.065 1520.68 L422.065 1515.95 Q424.889 1514.82 427.342 1514.24 Q429.796 1513.66 431.833 1513.66 Q437.203 1513.66 440.398 1516.35 Q443.592 1519.03 443.592 1523.52 Q443.592 1525.65 442.782 1527.57 Q441.995 1529.47 439.889 1532.07 Q439.31 1532.74 436.208 1535.95 Q433.106 1539.15 427.458 1544.91 Z\" fill=\"#000000\" fill-rule=\"nonzero\" fill-opacity=\"1\" /><path clip-path=\"url(#clip690)\" d=\"M900.132 1518.36 L888.326 1536.81 L900.132 1536.81 L900.132 1518.36 M898.905 1514.29 L904.784 1514.29 L904.784 1536.81 L909.715 1536.81 L909.715 1540.7 L904.784 1540.7 L904.784 1548.85 L900.132 1548.85 L900.132 1540.7 L884.53 1540.7 L884.53 1536.19 L898.905 1514.29 Z\" fill=\"#000000\" fill-rule=\"nonzero\" fill-opacity=\"1\" /><path clip-path=\"url(#clip690)\" d=\"M1361.84 1529.7 Q1358.7 1529.7 1356.84 1531.86 Q1355.02 1534.01 1355.02 1537.76 Q1355.02 1541.49 1356.84 1543.66 Q1358.7 1545.82 1361.84 1545.82 Q1364.99 1545.82 1366.82 1543.66 Q1368.67 1541.49 1368.67 1537.76 Q1368.67 1534.01 1366.82 1531.86 Q1364.99 1529.7 1361.84 1529.7 M1371.13 1515.05 L1371.13 1519.31 Q1369.37 1518.48 1367.56 1518.04 Q1365.78 1517.6 1364.02 1517.6 Q1359.39 1517.6 1356.94 1520.72 Q1354.51 1523.85 1354.16 1530.17 Q1355.52 1528.15 1357.59 1527.09 Q1359.65 1526 1362.12 1526 Q1367.33 1526 1370.34 1529.17 Q1373.37 1532.32 1373.37 1537.76 Q1373.37 1543.08 1370.22 1546.3 Q1367.08 1549.52 1361.84 1549.52 Q1355.85 1549.52 1352.68 1544.94 Q1349.51 1540.33 1349.51 1531.6 Q1349.51 1523.41 1353.4 1518.55 Q1357.28 1513.66 1363.84 1513.66 Q1365.59 1513.66 1367.38 1514.01 Q1369.18 1514.36 1371.13 1515.05 Z\" fill=\"#000000\" fill-rule=\"nonzero\" fill-opacity=\"1\" /><path clip-path=\"url(#clip690)\" d=\"M1825.76 1532.44 Q1822.42 1532.44 1820.5 1534.22 Q1818.6 1536 1818.6 1539.13 Q1818.6 1542.25 1820.5 1544.03 Q1822.42 1545.82 1825.76 1545.82 Q1829.09 1545.82 1831.01 1544.03 Q1832.93 1542.23 1832.93 1539.13 Q1832.93 1536 1831.01 1534.22 Q1829.11 1532.44 1825.76 1532.44 M1821.08 1530.45 Q1818.07 1529.7 1816.38 1527.64 Q1814.71 1525.58 1814.71 1522.62 Q1814.71 1518.48 1817.65 1516.07 Q1820.62 1513.66 1825.76 1513.66 Q1830.92 1513.66 1833.86 1516.07 Q1836.8 1518.48 1836.8 1522.62 Q1836.8 1525.58 1835.11 1527.64 Q1833.44 1529.7 1830.46 1530.45 Q1833.83 1531.23 1835.71 1533.52 Q1837.61 1535.82 1837.61 1539.13 Q1837.61 1544.15 1834.53 1546.83 Q1831.47 1549.52 1825.76 1549.52 Q1820.04 1549.52 1816.96 1546.83 Q1813.9 1544.15 1813.9 1539.13 Q1813.9 1535.82 1815.8 1533.52 Q1817.7 1531.23 1821.08 1530.45 M1819.37 1523.06 Q1819.37 1525.75 1821.03 1527.25 Q1822.72 1528.76 1825.76 1528.76 Q1828.77 1528.76 1830.46 1527.25 Q1832.17 1525.75 1832.17 1523.06 Q1832.17 1520.38 1830.46 1518.87 Q1828.77 1517.37 1825.76 1517.37 Q1822.72 1517.37 1821.03 1518.87 Q1819.37 1520.38 1819.37 1523.06 Z\" fill=\"#000000\" fill-rule=\"nonzero\" fill-opacity=\"1\" /><path clip-path=\"url(#clip690)\" d=\"M2264.76 1544.91 L2272.4 1544.91 L2272.4 1518.55 L2264.09 1520.21 L2264.09 1515.95 L2272.35 1514.29 L2277.03 1514.29 L2277.03 1544.91 L2284.67 1544.91 L2284.67 1548.85 L2264.76 1548.85 L2264.76 1544.91 Z\" fill=\"#000000\" fill-rule=\"nonzero\" fill-opacity=\"1\" /><path clip-path=\"url(#clip690)\" d=\"M2304.11 1517.37 Q2300.5 1517.37 2298.67 1520.93 Q2296.87 1524.47 2296.87 1531.6 Q2296.87 1538.71 2298.67 1542.27 Q2300.5 1545.82 2304.11 1545.82 Q2307.75 1545.82 2309.55 1542.27 Q2311.38 1538.71 2311.38 1531.6 Q2311.38 1524.47 2309.55 1520.93 Q2307.75 1517.37 2304.11 1517.37 M2304.11 1513.66 Q2309.92 1513.66 2312.98 1518.27 Q2316.06 1522.85 2316.06 1531.6 Q2316.06 1540.33 2312.98 1544.94 Q2309.92 1549.52 2304.11 1549.52 Q2298.3 1549.52 2295.22 1544.94 Q2292.17 1540.33 2292.17 1531.6 Q2292.17 1522.85 2295.22 1518.27 Q2298.3 1513.66 2304.11 1513.66 Z\" fill=\"#000000\" fill-rule=\"nonzero\" fill-opacity=\"1\" /><polyline clip-path=\"url(#clip692)\" style=\"stroke:#000000; stroke-linecap:round; stroke-linejoin:round; stroke-width:2; stroke-opacity:0.1; fill:none\" points=\"137.964,1274.2 2352.76,1274.2 \"/>\n",
       "<polyline clip-path=\"url(#clip692)\" style=\"stroke:#000000; stroke-linecap:round; stroke-linejoin:round; stroke-width:2; stroke-opacity:0.1; fill:none\" points=\"137.964,991.767 2352.76,991.767 \"/>\n",
       "<polyline clip-path=\"url(#clip692)\" style=\"stroke:#000000; stroke-linecap:round; stroke-linejoin:round; stroke-width:2; stroke-opacity:0.1; fill:none\" points=\"137.964,709.332 2352.76,709.332 \"/>\n",
       "<polyline clip-path=\"url(#clip692)\" style=\"stroke:#000000; stroke-linecap:round; stroke-linejoin:round; stroke-width:2; stroke-opacity:0.1; fill:none\" points=\"137.964,426.898 2352.76,426.898 \"/>\n",
       "<polyline clip-path=\"url(#clip692)\" style=\"stroke:#000000; stroke-linecap:round; stroke-linejoin:round; stroke-width:2; stroke-opacity:0.1; fill:none\" points=\"137.964,144.463 2352.76,144.463 \"/>\n",
       "<polyline clip-path=\"url(#clip690)\" style=\"stroke:#000000; stroke-linecap:round; stroke-linejoin:round; stroke-width:4; stroke-opacity:1; fill:none\" points=\"137.964,1486.45 137.964,47.2441 \"/>\n",
       "<polyline clip-path=\"url(#clip690)\" style=\"stroke:#000000; stroke-linecap:round; stroke-linejoin:round; stroke-width:4; stroke-opacity:1; fill:none\" points=\"137.964,1274.2 156.862,1274.2 \"/>\n",
       "<polyline clip-path=\"url(#clip690)\" style=\"stroke:#000000; stroke-linecap:round; stroke-linejoin:round; stroke-width:4; stroke-opacity:1; fill:none\" points=\"137.964,991.767 156.862,991.767 \"/>\n",
       "<polyline clip-path=\"url(#clip690)\" style=\"stroke:#000000; stroke-linecap:round; stroke-linejoin:round; stroke-width:4; stroke-opacity:1; fill:none\" points=\"137.964,709.332 156.862,709.332 \"/>\n",
       "<polyline clip-path=\"url(#clip690)\" style=\"stroke:#000000; stroke-linecap:round; stroke-linejoin:round; stroke-width:4; stroke-opacity:1; fill:none\" points=\"137.964,426.898 156.862,426.898 \"/>\n",
       "<polyline clip-path=\"url(#clip690)\" style=\"stroke:#000000; stroke-linecap:round; stroke-linejoin:round; stroke-width:4; stroke-opacity:1; fill:none\" points=\"137.964,144.463 156.862,144.463 \"/>\n",
       "<path clip-path=\"url(#clip690)\" d=\"M94.8345 1272.85 Q98.1909 1273.56 100.066 1275.83 Q101.964 1278.1 101.964 1281.43 Q101.964 1286.55 98.4456 1289.35 Q94.9271 1292.15 88.4456 1292.15 Q86.2697 1292.15 83.9549 1291.71 Q81.6633 1291.3 79.2096 1290.44 L79.2096 1285.93 Q81.154 1287.06 83.4688 1287.64 Q85.7836 1288.22 88.3067 1288.22 Q92.7049 1288.22 94.9965 1286.48 Q97.3113 1284.74 97.3113 1281.43 Q97.3113 1278.38 95.1586 1276.67 Q93.0289 1274.93 89.2095 1274.93 L85.1818 1274.93 L85.1818 1271.09 L89.3947 1271.09 Q92.8438 1271.09 94.6724 1269.72 Q96.5011 1268.33 96.5011 1265.74 Q96.5011 1263.08 94.603 1261.67 Q92.728 1260.23 89.2095 1260.23 Q87.2882 1260.23 85.0892 1260.65 Q82.8901 1261.06 80.2512 1261.94 L80.2512 1257.78 Q82.9133 1257.04 85.2281 1256.67 Q87.566 1256.3 89.6262 1256.3 Q94.9502 1256.3 98.0521 1258.73 Q101.154 1261.13 101.154 1265.25 Q101.154 1268.12 99.5104 1270.12 Q97.8669 1272.08 94.8345 1272.85 Z\" fill=\"#000000\" fill-rule=\"nonzero\" fill-opacity=\"1\" /><path clip-path=\"url(#clip690)\" d=\"M90.4364 989.903 Q87.2882 989.903 85.4364 992.056 Q83.6077 994.209 83.6077 997.959 Q83.6077 1001.69 85.4364 1003.86 Q87.2882 1006.01 90.4364 1006.01 Q93.5845 1006.01 95.4132 1003.86 Q97.265 1001.69 97.265 997.959 Q97.265 994.209 95.4132 992.056 Q93.5845 989.903 90.4364 989.903 M99.7187 975.25 L99.7187 979.51 Q97.9595 978.676 96.1539 978.236 Q94.3715 977.797 92.6123 977.797 Q87.9827 977.797 85.529 980.922 Q83.0984 984.047 82.7512 990.366 Q84.1169 988.352 86.1771 987.287 Q88.2373 986.199 90.7141 986.199 Q95.9224 986.199 98.9317 989.371 Q101.964 992.519 101.964 997.959 Q101.964 1003.28 98.8159 1006.5 Q95.6678 1009.72 90.4364 1009.72 Q84.441 1009.72 81.2697 1005.13 Q78.0985 1000.53 78.0985 991.801 Q78.0985 983.607 81.9873 978.746 Q85.8762 973.862 92.4271 973.862 Q94.1863 973.862 95.9687 974.209 Q97.7743 974.556 99.7187 975.25 Z\" fill=\"#000000\" fill-rule=\"nonzero\" fill-opacity=\"1\" /><path clip-path=\"url(#clip690)\" d=\"M80.3438 725.894 L80.3438 721.635 Q82.1031 722.469 83.9086 722.908 Q85.7142 723.348 87.4503 723.348 Q92.0799 723.348 94.5104 720.246 Q96.9641 717.121 97.3113 710.779 Q95.9687 712.77 93.9086 713.834 Q91.8484 714.899 89.3484 714.899 Q84.1632 714.899 81.1309 711.774 Q78.1216 708.626 78.1216 703.186 Q78.1216 697.862 81.2697 694.645 Q84.4179 691.427 89.6493 691.427 Q95.6447 691.427 98.7928 696.034 Q101.964 700.617 101.964 709.367 Q101.964 717.538 98.0752 722.422 Q94.2095 727.283 87.6586 727.283 Q85.8993 727.283 84.0938 726.936 Q82.2883 726.589 80.3438 725.894 M89.6493 711.242 Q92.7975 711.242 94.6262 709.089 Q96.478 706.936 96.478 703.186 Q96.478 699.459 94.6262 697.307 Q92.7975 695.131 89.6493 695.131 Q86.5012 695.131 84.6494 697.307 Q82.8207 699.459 82.8207 703.186 Q82.8207 706.936 84.6494 709.089 Q86.5012 711.242 89.6493 711.242 Z\" fill=\"#000000\" fill-rule=\"nonzero\" fill-opacity=\"1\" /><path clip-path=\"url(#clip690)\" d=\"M52.2653 440.242 L59.9041 440.242 L59.9041 413.877 L51.594 415.544 L51.594 411.284 L59.8578 409.618 L64.5337 409.618 L64.5337 440.242 L72.1726 440.242 L72.1726 444.178 L52.2653 444.178 L52.2653 440.242 Z\" fill=\"#000000\" fill-rule=\"nonzero\" fill-opacity=\"1\" /><path clip-path=\"url(#clip690)\" d=\"M85.6447 440.242 L101.964 440.242 L101.964 444.178 L80.0197 444.178 L80.0197 440.242 Q82.6818 437.488 87.2651 432.858 Q91.8715 428.205 93.0521 426.863 Q95.2974 424.34 96.1771 422.604 Q97.0798 420.844 97.0798 419.155 Q97.0798 416.4 95.1354 414.664 Q93.2141 412.928 90.1123 412.928 Q87.9132 412.928 85.4595 413.692 Q83.029 414.456 80.2512 416.006 L80.2512 411.284 Q83.0753 410.15 85.529 409.571 Q87.9827 408.993 90.0197 408.993 Q95.39 408.993 98.5845 411.678 Q101.779 414.363 101.779 418.854 Q101.779 420.983 100.969 422.905 Q100.182 424.803 98.0752 427.395 Q97.4965 428.067 94.3947 431.284 Q91.2928 434.479 85.6447 440.242 Z\" fill=\"#000000\" fill-rule=\"nonzero\" fill-opacity=\"1\" /><path clip-path=\"url(#clip690)\" d=\"M51.6634 157.808 L59.3023 157.808 L59.3023 131.442 L50.9921 133.109 L50.9921 128.85 L59.256 127.183 L63.9319 127.183 L63.9319 157.808 L71.5707 157.808 L71.5707 161.743 L51.6634 161.743 L51.6634 157.808 Z\" fill=\"#000000\" fill-rule=\"nonzero\" fill-opacity=\"1\" /><path clip-path=\"url(#clip690)\" d=\"M81.0614 127.183 L99.4178 127.183 L99.4178 131.118 L85.3438 131.118 L85.3438 139.591 Q86.3623 139.243 87.3808 139.081 Q88.3993 138.896 89.4178 138.896 Q95.2049 138.896 98.5845 142.067 Q101.964 145.239 101.964 150.655 Q101.964 156.234 98.4919 159.336 Q95.0197 162.414 88.7003 162.414 Q86.5243 162.414 84.2558 162.044 Q82.0105 161.674 79.6031 160.933 L79.6031 156.234 Q81.6864 157.368 83.9086 157.924 Q86.1308 158.479 88.6077 158.479 Q92.6123 158.479 94.9502 156.373 Q97.2882 154.266 97.2882 150.655 Q97.2882 147.044 94.9502 144.938 Q92.6123 142.831 88.6077 142.831 Q86.7327 142.831 84.8577 143.248 Q83.0058 143.665 81.0614 144.544 L81.0614 127.183 Z\" fill=\"#000000\" fill-rule=\"nonzero\" fill-opacity=\"1\" /><polyline clip-path=\"url(#clip692)\" style=\"stroke:#009af9; stroke-linecap:round; stroke-linejoin:round; stroke-width:4; stroke-opacity:1; fill:none\" points=\"200.647,1445.72 432.805,1300.9 664.964,1156.09 897.122,1011.28 1129.28,866.468 1361.44,721.656 1593.6,576.845 1825.76,432.033 2057.91,287.221 2290.07,142.409 \"/>\n",
       "<circle clip-path=\"url(#clip692)\" cx=\"200.647\" cy=\"1434.25\" r=\"14.4\" fill=\"#e26f46\" fill-rule=\"evenodd\" fill-opacity=\"1\" stroke=\"#000000\" stroke-opacity=\"1\" stroke-width=\"3.2\"/>\n",
       "<circle clip-path=\"url(#clip692)\" cx=\"432.805\" cy=\"1227.13\" r=\"14.4\" fill=\"#e26f46\" fill-rule=\"evenodd\" fill-opacity=\"1\" stroke=\"#000000\" stroke-opacity=\"1\" stroke-width=\"3.2\"/>\n",
       "<circle clip-path=\"url(#clip692)\" cx=\"664.964\" cy=\"1161.23\" r=\"14.4\" fill=\"#e26f46\" fill-rule=\"evenodd\" fill-opacity=\"1\" stroke=\"#000000\" stroke-opacity=\"1\" stroke-width=\"3.2\"/>\n",
       "<circle clip-path=\"url(#clip692)\" cx=\"897.122\" cy=\"1085.91\" r=\"14.4\" fill=\"#e26f46\" fill-rule=\"evenodd\" fill-opacity=\"1\" stroke=\"#000000\" stroke-opacity=\"1\" stroke-width=\"3.2\"/>\n",
       "<circle clip-path=\"url(#clip692)\" cx=\"1129.28\" cy=\"897.622\" r=\"14.4\" fill=\"#e26f46\" fill-rule=\"evenodd\" fill-opacity=\"1\" stroke=\"#000000\" stroke-opacity=\"1\" stroke-width=\"3.2\"/>\n",
       "<circle clip-path=\"url(#clip692)\" cx=\"1361.44\" cy=\"728.161\" r=\"14.4\" fill=\"#e26f46\" fill-rule=\"evenodd\" fill-opacity=\"1\" stroke=\"#000000\" stroke-opacity=\"1\" stroke-width=\"3.2\"/>\n",
       "<circle clip-path=\"url(#clip692)\" cx=\"1593.6\" cy=\"605.773\" r=\"14.4\" fill=\"#e26f46\" fill-rule=\"evenodd\" fill-opacity=\"1\" stroke=\"#000000\" stroke-opacity=\"1\" stroke-width=\"3.2\"/>\n",
       "<circle clip-path=\"url(#clip692)\" cx=\"1825.76\" cy=\"379.825\" r=\"14.4\" fill=\"#e26f46\" fill-rule=\"evenodd\" fill-opacity=\"1\" stroke=\"#000000\" stroke-opacity=\"1\" stroke-width=\"3.2\"/>\n",
       "<circle clip-path=\"url(#clip692)\" cx=\"2057.91\" cy=\"332.753\" r=\"14.4\" fill=\"#e26f46\" fill-rule=\"evenodd\" fill-opacity=\"1\" stroke=\"#000000\" stroke-opacity=\"1\" stroke-width=\"3.2\"/>\n",
       "<circle clip-path=\"url(#clip692)\" cx=\"2290.07\" cy=\"87.9763\" r=\"14.4\" fill=\"#e26f46\" fill-rule=\"evenodd\" fill-opacity=\"1\" stroke=\"#000000\" stroke-opacity=\"1\" stroke-width=\"3.2\"/>\n",
       "<path clip-path=\"url(#clip690)\" d=\"M211.79 198.898 L518.177 198.898 L518.177 95.2176 L211.79 95.2176  Z\" fill=\"#ffffff\" fill-rule=\"evenodd\" fill-opacity=\"1\"/>\n",
       "<polyline clip-path=\"url(#clip690)\" style=\"stroke:#000000; stroke-linecap:round; stroke-linejoin:round; stroke-width:4; stroke-opacity:1; fill:none\" points=\"211.79,198.898 518.177,198.898 518.177,95.2176 211.79,95.2176 211.79,198.898 \"/>\n",
       "<polyline clip-path=\"url(#clip690)\" style=\"stroke:#009af9; stroke-linecap:round; stroke-linejoin:round; stroke-width:4; stroke-opacity:1; fill:none\" points=\"236.399,147.058 384.052,147.058 \"/>\n",
       "<path clip-path=\"url(#clip690)\" d=\"M413.337 133.62 L413.337 146.606 L419.216 146.606 Q422.48 146.606 424.263 144.916 Q426.045 143.227 426.045 140.102 Q426.045 137 424.263 135.31 Q422.48 133.62 419.216 133.62 L413.337 133.62 M408.661 129.778 L419.216 129.778 Q425.027 129.778 427.989 132.416 Q430.976 135.032 430.976 140.102 Q430.976 145.217 427.989 147.833 Q425.027 150.449 419.216 150.449 L413.337 150.449 L413.337 164.338 L408.661 164.338 L408.661 129.778 Z\" fill=\"#000000\" fill-rule=\"nonzero\" fill-opacity=\"1\" /><path clip-path=\"url(#clip690)\" d=\"M447.295 128.366 Q444.193 133.69 442.688 138.898 Q441.184 144.106 441.184 149.453 Q441.184 154.801 442.688 160.055 Q444.216 165.287 447.295 170.588 L443.591 170.588 Q440.119 165.148 438.383 159.893 Q436.67 154.639 436.67 149.453 Q436.67 144.291 438.383 139.06 Q440.096 133.828 443.591 128.366 L447.295 128.366 Z\" fill=\"#000000\" fill-rule=\"nonzero\" fill-opacity=\"1\" /><path clip-path=\"url(#clip690)\" d=\"M477.11 138.412 L467.735 151.027 L477.596 164.338 L472.573 164.338 L465.026 154.152 L457.48 164.338 L452.457 164.338 L462.526 150.773 L453.313 138.412 L458.337 138.412 L465.211 147.648 L472.086 138.412 L477.11 138.412 Z\" fill=\"#000000\" fill-rule=\"nonzero\" fill-opacity=\"1\" /><path clip-path=\"url(#clip690)\" d=\"M482.943 128.366 L486.647 128.366 Q490.119 133.828 491.832 139.06 Q493.568 144.291 493.568 149.453 Q493.568 154.639 491.832 159.893 Q490.119 165.148 486.647 170.588 L482.943 170.588 Q486.022 165.287 487.526 160.055 Q489.054 154.801 489.054 149.453 Q489.054 144.106 487.526 138.898 Q486.022 133.69 482.943 128.366 Z\" fill=\"#000000\" fill-rule=\"nonzero\" fill-opacity=\"1\" /></svg>\n"
      ],
      "text/html": [
       "<?xml version=\"1.0\" encoding=\"utf-8\"?>\n",
       "<svg xmlns=\"http://www.w3.org/2000/svg\" xmlns:xlink=\"http://www.w3.org/1999/xlink\" width=\"600\" height=\"400\" viewBox=\"0 0 2400 1600\">\n",
       "<defs>\n",
       "  <clipPath id=\"clip740\">\n",
       "    <rect x=\"0\" y=\"0\" width=\"2400\" height=\"1600\"/>\n",
       "  </clipPath>\n",
       "</defs>\n",
       "<path clip-path=\"url(#clip740)\" d=\"M0 1600 L2400 1600 L2400 0 L0 0  Z\" fill=\"#ffffff\" fill-rule=\"evenodd\" fill-opacity=\"1\"/>\n",
       "<defs>\n",
       "  <clipPath id=\"clip741\">\n",
       "    <rect x=\"480\" y=\"0\" width=\"1681\" height=\"1600\"/>\n",
       "  </clipPath>\n",
       "</defs>\n",
       "<path clip-path=\"url(#clip740)\" d=\"M137.964 1486.45 L2352.76 1486.45 L2352.76 47.2441 L137.964 47.2441  Z\" fill=\"#ffffff\" fill-rule=\"evenodd\" fill-opacity=\"1\"/>\n",
       "<defs>\n",
       "  <clipPath id=\"clip742\">\n",
       "    <rect x=\"137\" y=\"47\" width=\"2216\" height=\"1440\"/>\n",
       "  </clipPath>\n",
       "</defs>\n",
       "<polyline clip-path=\"url(#clip742)\" style=\"stroke:#000000; stroke-linecap:round; stroke-linejoin:round; stroke-width:2; stroke-opacity:0.1; fill:none\" points=\"432.805,1486.45 432.805,47.2441 \"/>\n",
       "<polyline clip-path=\"url(#clip742)\" style=\"stroke:#000000; stroke-linecap:round; stroke-linejoin:round; stroke-width:2; stroke-opacity:0.1; fill:none\" points=\"897.122,1486.45 897.122,47.2441 \"/>\n",
       "<polyline clip-path=\"url(#clip742)\" style=\"stroke:#000000; stroke-linecap:round; stroke-linejoin:round; stroke-width:2; stroke-opacity:0.1; fill:none\" points=\"1361.44,1486.45 1361.44,47.2441 \"/>\n",
       "<polyline clip-path=\"url(#clip742)\" style=\"stroke:#000000; stroke-linecap:round; stroke-linejoin:round; stroke-width:2; stroke-opacity:0.1; fill:none\" points=\"1825.76,1486.45 1825.76,47.2441 \"/>\n",
       "<polyline clip-path=\"url(#clip742)\" style=\"stroke:#000000; stroke-linecap:round; stroke-linejoin:round; stroke-width:2; stroke-opacity:0.1; fill:none\" points=\"2290.07,1486.45 2290.07,47.2441 \"/>\n",
       "<polyline clip-path=\"url(#clip740)\" style=\"stroke:#000000; stroke-linecap:round; stroke-linejoin:round; stroke-width:4; stroke-opacity:1; fill:none\" points=\"137.964,1486.45 2352.76,1486.45 \"/>\n",
       "<polyline clip-path=\"url(#clip740)\" style=\"stroke:#000000; stroke-linecap:round; stroke-linejoin:round; stroke-width:4; stroke-opacity:1; fill:none\" points=\"432.805,1486.45 432.805,1467.55 \"/>\n",
       "<polyline clip-path=\"url(#clip740)\" style=\"stroke:#000000; stroke-linecap:round; stroke-linejoin:round; stroke-width:4; stroke-opacity:1; fill:none\" points=\"897.122,1486.45 897.122,1467.55 \"/>\n",
       "<polyline clip-path=\"url(#clip740)\" style=\"stroke:#000000; stroke-linecap:round; stroke-linejoin:round; stroke-width:4; stroke-opacity:1; fill:none\" points=\"1361.44,1486.45 1361.44,1467.55 \"/>\n",
       "<polyline clip-path=\"url(#clip740)\" style=\"stroke:#000000; stroke-linecap:round; stroke-linejoin:round; stroke-width:4; stroke-opacity:1; fill:none\" points=\"1825.76,1486.45 1825.76,1467.55 \"/>\n",
       "<polyline clip-path=\"url(#clip740)\" style=\"stroke:#000000; stroke-linecap:round; stroke-linejoin:round; stroke-width:4; stroke-opacity:1; fill:none\" points=\"2290.07,1486.45 2290.07,1467.55 \"/>\n",
       "<path clip-path=\"url(#clip740)\" d=\"M427.458 1544.91 L443.777 1544.91 L443.777 1548.85 L421.833 1548.85 L421.833 1544.91 Q424.495 1542.16 429.079 1537.53 Q433.685 1532.88 434.866 1531.53 Q437.111 1529.01 437.99 1527.27 Q438.893 1525.51 438.893 1523.82 Q438.893 1521.07 436.949 1519.33 Q435.028 1517.6 431.926 1517.6 Q429.727 1517.6 427.273 1518.36 Q424.842 1519.13 422.065 1520.68 L422.065 1515.95 Q424.889 1514.82 427.342 1514.24 Q429.796 1513.66 431.833 1513.66 Q437.203 1513.66 440.398 1516.35 Q443.592 1519.03 443.592 1523.52 Q443.592 1525.65 442.782 1527.57 Q441.995 1529.47 439.889 1532.07 Q439.31 1532.74 436.208 1535.95 Q433.106 1539.15 427.458 1544.91 Z\" fill=\"#000000\" fill-rule=\"nonzero\" fill-opacity=\"1\" /><path clip-path=\"url(#clip740)\" d=\"M900.132 1518.36 L888.326 1536.81 L900.132 1536.81 L900.132 1518.36 M898.905 1514.29 L904.784 1514.29 L904.784 1536.81 L909.715 1536.81 L909.715 1540.7 L904.784 1540.7 L904.784 1548.85 L900.132 1548.85 L900.132 1540.7 L884.53 1540.7 L884.53 1536.19 L898.905 1514.29 Z\" fill=\"#000000\" fill-rule=\"nonzero\" fill-opacity=\"1\" /><path clip-path=\"url(#clip740)\" d=\"M1361.84 1529.7 Q1358.7 1529.7 1356.84 1531.86 Q1355.02 1534.01 1355.02 1537.76 Q1355.02 1541.49 1356.84 1543.66 Q1358.7 1545.82 1361.84 1545.82 Q1364.99 1545.82 1366.82 1543.66 Q1368.67 1541.49 1368.67 1537.76 Q1368.67 1534.01 1366.82 1531.86 Q1364.99 1529.7 1361.84 1529.7 M1371.13 1515.05 L1371.13 1519.31 Q1369.37 1518.48 1367.56 1518.04 Q1365.78 1517.6 1364.02 1517.6 Q1359.39 1517.6 1356.94 1520.72 Q1354.51 1523.85 1354.16 1530.17 Q1355.52 1528.15 1357.59 1527.09 Q1359.65 1526 1362.12 1526 Q1367.33 1526 1370.34 1529.17 Q1373.37 1532.32 1373.37 1537.76 Q1373.37 1543.08 1370.22 1546.3 Q1367.08 1549.52 1361.84 1549.52 Q1355.85 1549.52 1352.68 1544.94 Q1349.51 1540.33 1349.51 1531.6 Q1349.51 1523.41 1353.4 1518.55 Q1357.28 1513.66 1363.84 1513.66 Q1365.59 1513.66 1367.38 1514.01 Q1369.18 1514.36 1371.13 1515.05 Z\" fill=\"#000000\" fill-rule=\"nonzero\" fill-opacity=\"1\" /><path clip-path=\"url(#clip740)\" d=\"M1825.76 1532.44 Q1822.42 1532.44 1820.5 1534.22 Q1818.6 1536 1818.6 1539.13 Q1818.6 1542.25 1820.5 1544.03 Q1822.42 1545.82 1825.76 1545.82 Q1829.09 1545.82 1831.01 1544.03 Q1832.93 1542.23 1832.93 1539.13 Q1832.93 1536 1831.01 1534.22 Q1829.11 1532.44 1825.76 1532.44 M1821.08 1530.45 Q1818.07 1529.7 1816.38 1527.64 Q1814.71 1525.58 1814.71 1522.62 Q1814.71 1518.48 1817.65 1516.07 Q1820.62 1513.66 1825.76 1513.66 Q1830.92 1513.66 1833.86 1516.07 Q1836.8 1518.48 1836.8 1522.62 Q1836.8 1525.58 1835.11 1527.64 Q1833.44 1529.7 1830.46 1530.45 Q1833.83 1531.23 1835.71 1533.52 Q1837.61 1535.82 1837.61 1539.13 Q1837.61 1544.15 1834.53 1546.83 Q1831.47 1549.52 1825.76 1549.52 Q1820.04 1549.52 1816.96 1546.83 Q1813.9 1544.15 1813.9 1539.13 Q1813.9 1535.82 1815.8 1533.52 Q1817.7 1531.23 1821.08 1530.45 M1819.37 1523.06 Q1819.37 1525.75 1821.03 1527.25 Q1822.72 1528.76 1825.76 1528.76 Q1828.77 1528.76 1830.46 1527.25 Q1832.17 1525.75 1832.17 1523.06 Q1832.17 1520.38 1830.46 1518.87 Q1828.77 1517.37 1825.76 1517.37 Q1822.72 1517.37 1821.03 1518.87 Q1819.37 1520.38 1819.37 1523.06 Z\" fill=\"#000000\" fill-rule=\"nonzero\" fill-opacity=\"1\" /><path clip-path=\"url(#clip740)\" d=\"M2264.76 1544.91 L2272.4 1544.91 L2272.4 1518.55 L2264.09 1520.21 L2264.09 1515.95 L2272.35 1514.29 L2277.03 1514.29 L2277.03 1544.91 L2284.67 1544.91 L2284.67 1548.85 L2264.76 1548.85 L2264.76 1544.91 Z\" fill=\"#000000\" fill-rule=\"nonzero\" fill-opacity=\"1\" /><path clip-path=\"url(#clip740)\" d=\"M2304.11 1517.37 Q2300.5 1517.37 2298.67 1520.93 Q2296.87 1524.47 2296.87 1531.6 Q2296.87 1538.71 2298.67 1542.27 Q2300.5 1545.82 2304.11 1545.82 Q2307.75 1545.82 2309.55 1542.27 Q2311.38 1538.71 2311.38 1531.6 Q2311.38 1524.47 2309.55 1520.93 Q2307.75 1517.37 2304.11 1517.37 M2304.11 1513.66 Q2309.92 1513.66 2312.98 1518.27 Q2316.06 1522.85 2316.06 1531.6 Q2316.06 1540.33 2312.98 1544.94 Q2309.92 1549.52 2304.11 1549.52 Q2298.3 1549.52 2295.22 1544.94 Q2292.17 1540.33 2292.17 1531.6 Q2292.17 1522.85 2295.22 1518.27 Q2298.3 1513.66 2304.11 1513.66 Z\" fill=\"#000000\" fill-rule=\"nonzero\" fill-opacity=\"1\" /><polyline clip-path=\"url(#clip742)\" style=\"stroke:#000000; stroke-linecap:round; stroke-linejoin:round; stroke-width:2; stroke-opacity:0.1; fill:none\" points=\"137.964,1274.2 2352.76,1274.2 \"/>\n",
       "<polyline clip-path=\"url(#clip742)\" style=\"stroke:#000000; stroke-linecap:round; stroke-linejoin:round; stroke-width:2; stroke-opacity:0.1; fill:none\" points=\"137.964,991.767 2352.76,991.767 \"/>\n",
       "<polyline clip-path=\"url(#clip742)\" style=\"stroke:#000000; stroke-linecap:round; stroke-linejoin:round; stroke-width:2; stroke-opacity:0.1; fill:none\" points=\"137.964,709.332 2352.76,709.332 \"/>\n",
       "<polyline clip-path=\"url(#clip742)\" style=\"stroke:#000000; stroke-linecap:round; stroke-linejoin:round; stroke-width:2; stroke-opacity:0.1; fill:none\" points=\"137.964,426.898 2352.76,426.898 \"/>\n",
       "<polyline clip-path=\"url(#clip742)\" style=\"stroke:#000000; stroke-linecap:round; stroke-linejoin:round; stroke-width:2; stroke-opacity:0.1; fill:none\" points=\"137.964,144.463 2352.76,144.463 \"/>\n",
       "<polyline clip-path=\"url(#clip740)\" style=\"stroke:#000000; stroke-linecap:round; stroke-linejoin:round; stroke-width:4; stroke-opacity:1; fill:none\" points=\"137.964,1486.45 137.964,47.2441 \"/>\n",
       "<polyline clip-path=\"url(#clip740)\" style=\"stroke:#000000; stroke-linecap:round; stroke-linejoin:round; stroke-width:4; stroke-opacity:1; fill:none\" points=\"137.964,1274.2 156.862,1274.2 \"/>\n",
       "<polyline clip-path=\"url(#clip740)\" style=\"stroke:#000000; stroke-linecap:round; stroke-linejoin:round; stroke-width:4; stroke-opacity:1; fill:none\" points=\"137.964,991.767 156.862,991.767 \"/>\n",
       "<polyline clip-path=\"url(#clip740)\" style=\"stroke:#000000; stroke-linecap:round; stroke-linejoin:round; stroke-width:4; stroke-opacity:1; fill:none\" points=\"137.964,709.332 156.862,709.332 \"/>\n",
       "<polyline clip-path=\"url(#clip740)\" style=\"stroke:#000000; stroke-linecap:round; stroke-linejoin:round; stroke-width:4; stroke-opacity:1; fill:none\" points=\"137.964,426.898 156.862,426.898 \"/>\n",
       "<polyline clip-path=\"url(#clip740)\" style=\"stroke:#000000; stroke-linecap:round; stroke-linejoin:round; stroke-width:4; stroke-opacity:1; fill:none\" points=\"137.964,144.463 156.862,144.463 \"/>\n",
       "<path clip-path=\"url(#clip740)\" d=\"M94.8345 1272.85 Q98.1909 1273.56 100.066 1275.83 Q101.964 1278.1 101.964 1281.43 Q101.964 1286.55 98.4456 1289.35 Q94.9271 1292.15 88.4456 1292.15 Q86.2697 1292.15 83.9549 1291.71 Q81.6633 1291.3 79.2096 1290.44 L79.2096 1285.93 Q81.154 1287.06 83.4688 1287.64 Q85.7836 1288.22 88.3067 1288.22 Q92.7049 1288.22 94.9965 1286.48 Q97.3113 1284.74 97.3113 1281.43 Q97.3113 1278.38 95.1586 1276.67 Q93.0289 1274.93 89.2095 1274.93 L85.1818 1274.93 L85.1818 1271.09 L89.3947 1271.09 Q92.8438 1271.09 94.6724 1269.72 Q96.5011 1268.33 96.5011 1265.74 Q96.5011 1263.08 94.603 1261.67 Q92.728 1260.23 89.2095 1260.23 Q87.2882 1260.23 85.0892 1260.65 Q82.8901 1261.06 80.2512 1261.94 L80.2512 1257.78 Q82.9133 1257.04 85.2281 1256.67 Q87.566 1256.3 89.6262 1256.3 Q94.9502 1256.3 98.0521 1258.73 Q101.154 1261.13 101.154 1265.25 Q101.154 1268.12 99.5104 1270.12 Q97.8669 1272.08 94.8345 1272.85 Z\" fill=\"#000000\" fill-rule=\"nonzero\" fill-opacity=\"1\" /><path clip-path=\"url(#clip740)\" d=\"M90.4364 989.903 Q87.2882 989.903 85.4364 992.056 Q83.6077 994.209 83.6077 997.959 Q83.6077 1001.69 85.4364 1003.86 Q87.2882 1006.01 90.4364 1006.01 Q93.5845 1006.01 95.4132 1003.86 Q97.265 1001.69 97.265 997.959 Q97.265 994.209 95.4132 992.056 Q93.5845 989.903 90.4364 989.903 M99.7187 975.25 L99.7187 979.51 Q97.9595 978.676 96.1539 978.236 Q94.3715 977.797 92.6123 977.797 Q87.9827 977.797 85.529 980.922 Q83.0984 984.047 82.7512 990.366 Q84.1169 988.352 86.1771 987.287 Q88.2373 986.199 90.7141 986.199 Q95.9224 986.199 98.9317 989.371 Q101.964 992.519 101.964 997.959 Q101.964 1003.28 98.8159 1006.5 Q95.6678 1009.72 90.4364 1009.72 Q84.441 1009.72 81.2697 1005.13 Q78.0985 1000.53 78.0985 991.801 Q78.0985 983.607 81.9873 978.746 Q85.8762 973.862 92.4271 973.862 Q94.1863 973.862 95.9687 974.209 Q97.7743 974.556 99.7187 975.25 Z\" fill=\"#000000\" fill-rule=\"nonzero\" fill-opacity=\"1\" /><path clip-path=\"url(#clip740)\" d=\"M80.3438 725.894 L80.3438 721.635 Q82.1031 722.469 83.9086 722.908 Q85.7142 723.348 87.4503 723.348 Q92.0799 723.348 94.5104 720.246 Q96.9641 717.121 97.3113 710.779 Q95.9687 712.77 93.9086 713.834 Q91.8484 714.899 89.3484 714.899 Q84.1632 714.899 81.1309 711.774 Q78.1216 708.626 78.1216 703.186 Q78.1216 697.862 81.2697 694.645 Q84.4179 691.427 89.6493 691.427 Q95.6447 691.427 98.7928 696.034 Q101.964 700.617 101.964 709.367 Q101.964 717.538 98.0752 722.422 Q94.2095 727.283 87.6586 727.283 Q85.8993 727.283 84.0938 726.936 Q82.2883 726.589 80.3438 725.894 M89.6493 711.242 Q92.7975 711.242 94.6262 709.089 Q96.478 706.936 96.478 703.186 Q96.478 699.459 94.6262 697.307 Q92.7975 695.131 89.6493 695.131 Q86.5012 695.131 84.6494 697.307 Q82.8207 699.459 82.8207 703.186 Q82.8207 706.936 84.6494 709.089 Q86.5012 711.242 89.6493 711.242 Z\" fill=\"#000000\" fill-rule=\"nonzero\" fill-opacity=\"1\" /><path clip-path=\"url(#clip740)\" d=\"M52.2653 440.242 L59.9041 440.242 L59.9041 413.877 L51.594 415.544 L51.594 411.284 L59.8578 409.618 L64.5337 409.618 L64.5337 440.242 L72.1726 440.242 L72.1726 444.178 L52.2653 444.178 L52.2653 440.242 Z\" fill=\"#000000\" fill-rule=\"nonzero\" fill-opacity=\"1\" /><path clip-path=\"url(#clip740)\" d=\"M85.6447 440.242 L101.964 440.242 L101.964 444.178 L80.0197 444.178 L80.0197 440.242 Q82.6818 437.488 87.2651 432.858 Q91.8715 428.205 93.0521 426.863 Q95.2974 424.34 96.1771 422.604 Q97.0798 420.844 97.0798 419.155 Q97.0798 416.4 95.1354 414.664 Q93.2141 412.928 90.1123 412.928 Q87.9132 412.928 85.4595 413.692 Q83.029 414.456 80.2512 416.006 L80.2512 411.284 Q83.0753 410.15 85.529 409.571 Q87.9827 408.993 90.0197 408.993 Q95.39 408.993 98.5845 411.678 Q101.779 414.363 101.779 418.854 Q101.779 420.983 100.969 422.905 Q100.182 424.803 98.0752 427.395 Q97.4965 428.067 94.3947 431.284 Q91.2928 434.479 85.6447 440.242 Z\" fill=\"#000000\" fill-rule=\"nonzero\" fill-opacity=\"1\" /><path clip-path=\"url(#clip740)\" d=\"M51.6634 157.808 L59.3023 157.808 L59.3023 131.442 L50.9921 133.109 L50.9921 128.85 L59.256 127.183 L63.9319 127.183 L63.9319 157.808 L71.5707 157.808 L71.5707 161.743 L51.6634 161.743 L51.6634 157.808 Z\" fill=\"#000000\" fill-rule=\"nonzero\" fill-opacity=\"1\" /><path clip-path=\"url(#clip740)\" d=\"M81.0614 127.183 L99.4178 127.183 L99.4178 131.118 L85.3438 131.118 L85.3438 139.591 Q86.3623 139.243 87.3808 139.081 Q88.3993 138.896 89.4178 138.896 Q95.2049 138.896 98.5845 142.067 Q101.964 145.239 101.964 150.655 Q101.964 156.234 98.4919 159.336 Q95.0197 162.414 88.7003 162.414 Q86.5243 162.414 84.2558 162.044 Q82.0105 161.674 79.6031 160.933 L79.6031 156.234 Q81.6864 157.368 83.9086 157.924 Q86.1308 158.479 88.6077 158.479 Q92.6123 158.479 94.9502 156.373 Q97.2882 154.266 97.2882 150.655 Q97.2882 147.044 94.9502 144.938 Q92.6123 142.831 88.6077 142.831 Q86.7327 142.831 84.8577 143.248 Q83.0058 143.665 81.0614 144.544 L81.0614 127.183 Z\" fill=\"#000000\" fill-rule=\"nonzero\" fill-opacity=\"1\" /><polyline clip-path=\"url(#clip742)\" style=\"stroke:#009af9; stroke-linecap:round; stroke-linejoin:round; stroke-width:4; stroke-opacity:1; fill:none\" points=\"200.647,1445.72 432.805,1300.9 664.964,1156.09 897.122,1011.28 1129.28,866.468 1361.44,721.656 1593.6,576.845 1825.76,432.033 2057.91,287.221 2290.07,142.409 \"/>\n",
       "<circle clip-path=\"url(#clip742)\" cx=\"200.647\" cy=\"1434.25\" r=\"14.4\" fill=\"#e26f46\" fill-rule=\"evenodd\" fill-opacity=\"1\" stroke=\"#000000\" stroke-opacity=\"1\" stroke-width=\"3.2\"/>\n",
       "<circle clip-path=\"url(#clip742)\" cx=\"432.805\" cy=\"1227.13\" r=\"14.4\" fill=\"#e26f46\" fill-rule=\"evenodd\" fill-opacity=\"1\" stroke=\"#000000\" stroke-opacity=\"1\" stroke-width=\"3.2\"/>\n",
       "<circle clip-path=\"url(#clip742)\" cx=\"664.964\" cy=\"1161.23\" r=\"14.4\" fill=\"#e26f46\" fill-rule=\"evenodd\" fill-opacity=\"1\" stroke=\"#000000\" stroke-opacity=\"1\" stroke-width=\"3.2\"/>\n",
       "<circle clip-path=\"url(#clip742)\" cx=\"897.122\" cy=\"1085.91\" r=\"14.4\" fill=\"#e26f46\" fill-rule=\"evenodd\" fill-opacity=\"1\" stroke=\"#000000\" stroke-opacity=\"1\" stroke-width=\"3.2\"/>\n",
       "<circle clip-path=\"url(#clip742)\" cx=\"1129.28\" cy=\"897.622\" r=\"14.4\" fill=\"#e26f46\" fill-rule=\"evenodd\" fill-opacity=\"1\" stroke=\"#000000\" stroke-opacity=\"1\" stroke-width=\"3.2\"/>\n",
       "<circle clip-path=\"url(#clip742)\" cx=\"1361.44\" cy=\"728.161\" r=\"14.4\" fill=\"#e26f46\" fill-rule=\"evenodd\" fill-opacity=\"1\" stroke=\"#000000\" stroke-opacity=\"1\" stroke-width=\"3.2\"/>\n",
       "<circle clip-path=\"url(#clip742)\" cx=\"1593.6\" cy=\"605.773\" r=\"14.4\" fill=\"#e26f46\" fill-rule=\"evenodd\" fill-opacity=\"1\" stroke=\"#000000\" stroke-opacity=\"1\" stroke-width=\"3.2\"/>\n",
       "<circle clip-path=\"url(#clip742)\" cx=\"1825.76\" cy=\"379.825\" r=\"14.4\" fill=\"#e26f46\" fill-rule=\"evenodd\" fill-opacity=\"1\" stroke=\"#000000\" stroke-opacity=\"1\" stroke-width=\"3.2\"/>\n",
       "<circle clip-path=\"url(#clip742)\" cx=\"2057.91\" cy=\"332.753\" r=\"14.4\" fill=\"#e26f46\" fill-rule=\"evenodd\" fill-opacity=\"1\" stroke=\"#000000\" stroke-opacity=\"1\" stroke-width=\"3.2\"/>\n",
       "<circle clip-path=\"url(#clip742)\" cx=\"2290.07\" cy=\"87.9763\" r=\"14.4\" fill=\"#e26f46\" fill-rule=\"evenodd\" fill-opacity=\"1\" stroke=\"#000000\" stroke-opacity=\"1\" stroke-width=\"3.2\"/>\n",
       "<path clip-path=\"url(#clip740)\" d=\"M211.79 198.898 L518.177 198.898 L518.177 95.2176 L211.79 95.2176  Z\" fill=\"#ffffff\" fill-rule=\"evenodd\" fill-opacity=\"1\"/>\n",
       "<polyline clip-path=\"url(#clip740)\" style=\"stroke:#000000; stroke-linecap:round; stroke-linejoin:round; stroke-width:4; stroke-opacity:1; fill:none\" points=\"211.79,198.898 518.177,198.898 518.177,95.2176 211.79,95.2176 211.79,198.898 \"/>\n",
       "<polyline clip-path=\"url(#clip740)\" style=\"stroke:#009af9; stroke-linecap:round; stroke-linejoin:round; stroke-width:4; stroke-opacity:1; fill:none\" points=\"236.399,147.058 384.052,147.058 \"/>\n",
       "<path clip-path=\"url(#clip740)\" d=\"M413.337 133.62 L413.337 146.606 L419.216 146.606 Q422.48 146.606 424.263 144.916 Q426.045 143.227 426.045 140.102 Q426.045 137 424.263 135.31 Q422.48 133.62 419.216 133.62 L413.337 133.62 M408.661 129.778 L419.216 129.778 Q425.027 129.778 427.989 132.416 Q430.976 135.032 430.976 140.102 Q430.976 145.217 427.989 147.833 Q425.027 150.449 419.216 150.449 L413.337 150.449 L413.337 164.338 L408.661 164.338 L408.661 129.778 Z\" fill=\"#000000\" fill-rule=\"nonzero\" fill-opacity=\"1\" /><path clip-path=\"url(#clip740)\" d=\"M447.295 128.366 Q444.193 133.69 442.688 138.898 Q441.184 144.106 441.184 149.453 Q441.184 154.801 442.688 160.055 Q444.216 165.287 447.295 170.588 L443.591 170.588 Q440.119 165.148 438.383 159.893 Q436.67 154.639 436.67 149.453 Q436.67 144.291 438.383 139.06 Q440.096 133.828 443.591 128.366 L447.295 128.366 Z\" fill=\"#000000\" fill-rule=\"nonzero\" fill-opacity=\"1\" /><path clip-path=\"url(#clip740)\" d=\"M477.11 138.412 L467.735 151.027 L477.596 164.338 L472.573 164.338 L465.026 154.152 L457.48 164.338 L452.457 164.338 L462.526 150.773 L453.313 138.412 L458.337 138.412 L465.211 147.648 L472.086 138.412 L477.11 138.412 Z\" fill=\"#000000\" fill-rule=\"nonzero\" fill-opacity=\"1\" /><path clip-path=\"url(#clip740)\" d=\"M482.943 128.366 L486.647 128.366 Q490.119 133.828 491.832 139.06 Q493.568 144.291 493.568 149.453 Q493.568 154.639 491.832 159.893 Q490.119 165.148 486.647 170.588 L482.943 170.588 Q486.022 165.287 487.526 160.055 Q489.054 154.801 489.054 149.453 Q489.054 144.106 487.526 138.898 Q486.022 133.69 482.943 128.366 Z\" fill=\"#000000\" fill-rule=\"nonzero\" fill-opacity=\"1\" /></svg>\n"
      ]
     },
     "execution_count": 13,
     "metadata": {},
     "output_type": "execute_result"
    }
   ],
   "source": [
    "plot(1:1:10,p,label=\"P(x)\")\n",
    "scatter!(vecx,vecy, label=\"\")"
   ]
  },
  {
   "cell_type": "code",
   "execution_count": null,
   "metadata": {},
   "outputs": [],
   "source": []
  },
  {
   "cell_type": "markdown",
   "metadata": {},
   "source": [
    "### Problema 3 : Paquete `LsqFit`\n",
    "\n",
    "Utilice el paquete de Julia `LsqFit` para ajustar los datos del **Problema 2**. Para ello, \n",
    "\n",
    "* defina la función de ajuste,\n",
    "* y proporcione valores iniciales para los parámetros de ajuste.\n",
    "\n",
    "En este caso, serán $a_0$ y $a_1$ los parámetros que a ajustar para minimizar la diferencia entre la función y los datos experimentales.\n",
    "Comparar resultados con los obtenidos en el **Problema 2**. Para ello, grafique los puntos, y el ajuste con `LsqFit` y, nuevamente, el ajuste del **Problema 2**."
   ]
  },
  {
   "cell_type": "code",
   "execution_count": 14,
   "metadata": {},
   "outputs": [
    {
     "data": {
      "text/plain": [
       "LsqFit.LsqFitResult{Vector{Float64}, Vector{Float64}, Matrix{Float64}, Vector{Float64}, Vector{LsqFit.LMState{LsqFit.LevenbergMarquardt}}}([1.5381818181643083, -0.3599999998929424], [-0.12181818172863412, -0.7836363635643258, 0.05454545459998261, 0.7927272727642904, 0.3309090909285999, 0.06909090909290683, 0.3072727272572173, -0.5545454545784754, 0.4836363635858323, -0.5781818182498579], [0.9999999999943678 0.9999999999868854; 1.9999999999887357 1.0000000000235538; … ; 8.99999999994931 1.0000000000235538; 9.999999999943679 1.0000000000235538], true, Iter     Function value   Gradient norm \n",
       "------   --------------   --------------\n",
       ", Float64[])"
      ]
     },
     "execution_count": 14,
     "metadata": {},
     "output_type": "execute_result"
    }
   ],
   "source": [
    "using LsqFit\n",
    "\n",
    "function modelo_lineal(x,p)\n",
    "    return p[1].*x.+p[2]\n",
    "end\n",
    "\n",
    "fit=curve_fit(modelo_lineal,vecx,vecy,[0.0,1.0])"
   ]
  },
  {
   "cell_type": "code",
   "execution_count": 15,
   "metadata": {},
   "outputs": [
    {
     "data": {
      "text/plain": [
       "2-element Vector{Float64}:\n",
       "  1.5381818181643083\n",
       " -0.3599999998929424"
      ]
     },
     "execution_count": 15,
     "metadata": {},
     "output_type": "execute_result"
    }
   ],
   "source": [
    "sol=coef(fit)"
   ]
  },
  {
   "cell_type": "code",
   "execution_count": 16,
   "metadata": {},
   "outputs": [
    {
     "data": {
      "image/png": "[encoded data removed]",
      "image/svg+xml": [
       "<?xml version=\"1.0\" encoding=\"utf-8\"?>\n",
       "<svg xmlns=\"http://www.w3.org/2000/svg\" xmlns:xlink=\"http://www.w3.org/1999/xlink\" width=\"600\" height=\"400\" viewBox=\"0 0 2400 1600\">\n",
       "<defs>\n",
       "  <clipPath id=\"clip780\">\n",
       "    <rect x=\"0\" y=\"0\" width=\"2400\" height=\"1600\"/>\n",
       "  </clipPath>\n",
       "</defs>\n",
       "<path clip-path=\"url(#clip780)\" d=\"M0 1600 L2400 1600 L2400 0 L0 0  Z\" fill=\"#ffffff\" fill-rule=\"evenodd\" fill-opacity=\"1\"/>\n",
       "<defs>\n",
       "  <clipPath id=\"clip781\">\n",
       "    <rect x=\"480\" y=\"0\" width=\"1681\" height=\"1600\"/>\n",
       "  </clipPath>\n",
       "</defs>\n",
       "<path clip-path=\"url(#clip780)\" d=\"M137.964 1486.45 L2352.76 1486.45 L2352.76 47.2441 L137.964 47.2441  Z\" fill=\"#ffffff\" fill-rule=\"evenodd\" fill-opacity=\"1\"/>\n",
       "<defs>\n",
       "  <clipPath id=\"clip782\">\n",
       "    <rect x=\"137\" y=\"47\" width=\"2216\" height=\"1440\"/>\n",
       "  </clipPath>\n",
       "</defs>\n",
       "<polyline clip-path=\"url(#clip782)\" style=\"stroke:#000000; stroke-linecap:round; stroke-linejoin:round; stroke-width:2; stroke-opacity:0.1; fill:none\" points=\"432.805,1486.45 432.805,47.2441 \"/>\n",
       "<polyline clip-path=\"url(#clip782)\" style=\"stroke:#000000; stroke-linecap:round; stroke-linejoin:round; stroke-width:2; stroke-opacity:0.1; fill:none\" points=\"897.122,1486.45 897.122,47.2441 \"/>\n",
       "<polyline clip-path=\"url(#clip782)\" style=\"stroke:#000000; stroke-linecap:round; stroke-linejoin:round; stroke-width:2; stroke-opacity:0.1; fill:none\" points=\"1361.44,1486.45 1361.44,47.2441 \"/>\n",
       "<polyline clip-path=\"url(#clip782)\" style=\"stroke:#000000; stroke-linecap:round; stroke-linejoin:round; stroke-width:2; stroke-opacity:0.1; fill:none\" points=\"1825.76,1486.45 1825.76,47.2441 \"/>\n",
       "<polyline clip-path=\"url(#clip782)\" style=\"stroke:#000000; stroke-linecap:round; stroke-linejoin:round; stroke-width:2; stroke-opacity:0.1; fill:none\" points=\"2290.07,1486.45 2290.07,47.2441 \"/>\n",
       "<polyline clip-path=\"url(#clip780)\" style=\"stroke:#000000; stroke-linecap:round; stroke-linejoin:round; stroke-width:4; stroke-opacity:1; fill:none\" points=\"137.964,1486.45 2352.76,1486.45 \"/>\n",
       "<polyline clip-path=\"url(#clip780)\" style=\"stroke:#000000; stroke-linecap:round; stroke-linejoin:round; stroke-width:4; stroke-opacity:1; fill:none\" points=\"432.805,1486.45 432.805,1467.55 \"/>\n",
       "<polyline clip-path=\"url(#clip780)\" style=\"stroke:#000000; stroke-linecap:round; stroke-linejoin:round; stroke-width:4; stroke-opacity:1; fill:none\" points=\"897.122,1486.45 897.122,1467.55 \"/>\n",
       "<polyline clip-path=\"url(#clip780)\" style=\"stroke:#000000; stroke-linecap:round; stroke-linejoin:round; stroke-width:4; stroke-opacity:1; fill:none\" points=\"1361.44,1486.45 1361.44,1467.55 \"/>\n",
       "<polyline clip-path=\"url(#clip780)\" style=\"stroke:#000000; stroke-linecap:round; stroke-linejoin:round; stroke-width:4; stroke-opacity:1; fill:none\" points=\"1825.76,1486.45 1825.76,1467.55 \"/>\n",
       "<polyline clip-path=\"url(#clip780)\" style=\"stroke:#000000; stroke-linecap:round; stroke-linejoin:round; stroke-width:4; stroke-opacity:1; fill:none\" points=\"2290.07,1486.45 2290.07,1467.55 \"/>\n",
       "<path clip-path=\"url(#clip780)\" d=\"M427.458 1544.91 L443.777 1544.91 L443.777 1548.85 L421.833 1548.85 L421.833 1544.91 Q424.495 1542.16 429.079 1537.53 Q433.685 1532.88 434.866 1531.53 Q437.111 1529.01 437.99 1527.27 Q438.893 1525.51 438.893 1523.82 Q438.893 1521.07 436.949 1519.33 Q435.028 1517.6 431.926 1517.6 Q429.727 1517.6 427.273 1518.36 Q424.842 1519.13 422.065 1520.68 L422.065 1515.95 Q424.889 1514.82 427.342 1514.24 Q429.796 1513.66 431.833 1513.66 Q437.203 1513.66 440.398 1516.35 Q443.592 1519.03 443.592 1523.52 Q443.592 1525.65 442.782 1527.57 Q441.995 1529.47 439.889 1532.07 Q439.31 1532.74 436.208 1535.95 Q433.106 1539.15 427.458 1544.91 Z\" fill=\"#000000\" fill-rule=\"nonzero\" fill-opacity=\"1\" /><path clip-path=\"url(#clip780)\" d=\"M900.132 1518.36 L888.326 1536.81 L900.132 1536.81 L900.132 1518.36 M898.905 1514.29 L904.784 1514.29 L904.784 1536.81 L909.715 1536.81 L909.715 1540.7 L904.784 1540.7 L904.784 1548.85 L900.132 1548.85 L900.132 1540.7 L884.53 1540.7 L884.53 1536.19 L898.905 1514.29 Z\" fill=\"#000000\" fill-rule=\"nonzero\" fill-opacity=\"1\" /><path clip-path=\"url(#clip780)\" d=\"M1361.84 1529.7 Q1358.7 1529.7 1356.84 1531.86 Q1355.02 1534.01 1355.02 1537.76 Q1355.02 1541.49 1356.84 1543.66 Q1358.7 1545.82 1361.84 1545.82 Q1364.99 1545.82 1366.82 1543.66 Q1368.67 1541.49 1368.67 1537.76 Q1368.67 1534.01 1366.82 1531.86 Q1364.99 1529.7 1361.84 1529.7 M1371.13 1515.05 L1371.13 1519.31 Q1369.37 1518.48 1367.56 1518.04 Q1365.78 1517.6 1364.02 1517.6 Q1359.39 1517.6 1356.94 1520.72 Q1354.51 1523.85 1354.16 1530.17 Q1355.52 1528.15 1357.59 1527.09 Q1359.65 1526 1362.12 1526 Q1367.33 1526 1370.34 1529.17 Q1373.37 1532.32 1373.37 1537.76 Q1373.37 1543.08 1370.22 1546.3 Q1367.08 1549.52 1361.84 1549.52 Q1355.85 1549.52 1352.68 1544.94 Q1349.51 1540.33 1349.51 1531.6 Q1349.51 1523.41 1353.4 1518.55 Q1357.28 1513.66 1363.84 1513.66 Q1365.59 1513.66 1367.38 1514.01 Q1369.18 1514.36 1371.13 1515.05 Z\" fill=\"#000000\" fill-rule=\"nonzero\" fill-opacity=\"1\" /><path clip-path=\"url(#clip780)\" d=\"M1825.76 1532.44 Q1822.42 1532.44 1820.5 1534.22 Q1818.6 1536 1818.6 1539.13 Q1818.6 1542.25 1820.5 1544.03 Q1822.42 1545.82 1825.76 1545.82 Q1829.09 1545.82 1831.01 1544.03 Q1832.93 1542.23 1832.93 1539.13 Q1832.93 1536 1831.01 1534.22 Q1829.11 1532.44 1825.76 1532.44 M1821.08 1530.45 Q1818.07 1529.7 1816.38 1527.64 Q1814.71 1525.58 1814.71 1522.62 Q1814.71 1518.48 1817.65 1516.07 Q1820.62 1513.66 1825.76 1513.66 Q1830.92 1513.66 1833.86 1516.07 Q1836.8 1518.48 1836.8 1522.62 Q1836.8 1525.58 1835.11 1527.64 Q1833.44 1529.7 1830.46 1530.45 Q1833.83 1531.23 1835.71 1533.52 Q1837.61 1535.82 1837.61 1539.13 Q1837.61 1544.15 1834.53 1546.83 Q1831.47 1549.52 1825.76 1549.52 Q1820.04 1549.52 1816.96 1546.83 Q1813.9 1544.15 1813.9 1539.13 Q1813.9 1535.82 1815.8 1533.52 Q1817.7 1531.23 1821.08 1530.45 M1819.37 1523.06 Q1819.37 1525.75 1821.03 1527.25 Q1822.72 1528.76 1825.76 1528.76 Q1828.77 1528.76 1830.46 1527.25 Q1832.17 1525.75 1832.17 1523.06 Q1832.17 1520.38 1830.46 1518.87 Q1828.77 1517.37 1825.76 1517.37 Q1822.72 1517.37 1821.03 1518.87 Q1819.37 1520.38 1819.37 1523.06 Z\" fill=\"#000000\" fill-rule=\"nonzero\" fill-opacity=\"1\" /><path clip-path=\"url(#clip780)\" d=\"M2264.76 1544.91 L2272.4 1544.91 L2272.4 1518.55 L2264.09 1520.21 L2264.09 1515.95 L2272.35 1514.29 L2277.03 1514.29 L2277.03 1544.91 L2284.67 1544.91 L2284.67 1548.85 L2264.76 1548.85 L2264.76 1544.91 Z\" fill=\"#000000\" fill-rule=\"nonzero\" fill-opacity=\"1\" /><path clip-path=\"url(#clip780)\" d=\"M2304.11 1517.37 Q2300.5 1517.37 2298.67 1520.93 Q2296.87 1524.47 2296.87 1531.6 Q2296.87 1538.71 2298.67 1542.27 Q2300.5 1545.82 2304.11 1545.82 Q2307.75 1545.82 2309.55 1542.27 Q2311.38 1538.71 2311.38 1531.6 Q2311.38 1524.47 2309.55 1520.93 Q2307.75 1517.37 2304.11 1517.37 M2304.11 1513.66 Q2309.92 1513.66 2312.98 1518.27 Q2316.06 1522.85 2316.06 1531.6 Q2316.06 1540.33 2312.98 1544.94 Q2309.92 1549.52 2304.11 1549.52 Q2298.3 1549.52 2295.22 1544.94 Q2292.17 1540.33 2292.17 1531.6 Q2292.17 1522.85 2295.22 1518.27 Q2298.3 1513.66 2304.11 1513.66 Z\" fill=\"#000000\" fill-rule=\"nonzero\" fill-opacity=\"1\" /><polyline clip-path=\"url(#clip782)\" style=\"stroke:#000000; stroke-linecap:round; stroke-linejoin:round; stroke-width:2; stroke-opacity:0.1; fill:none\" points=\"137.964,1274.2 2352.76,1274.2 \"/>\n",
       "<polyline clip-path=\"url(#clip782)\" style=\"stroke:#000000; stroke-linecap:round; stroke-linejoin:round; stroke-width:2; stroke-opacity:0.1; fill:none\" points=\"137.964,991.767 2352.76,991.767 \"/>\n",
       "<polyline clip-path=\"url(#clip782)\" style=\"stroke:#000000; stroke-linecap:round; stroke-linejoin:round; stroke-width:2; stroke-opacity:0.1; fill:none\" points=\"137.964,709.332 2352.76,709.332 \"/>\n",
       "<polyline clip-path=\"url(#clip782)\" style=\"stroke:#000000; stroke-linecap:round; stroke-linejoin:round; stroke-width:2; stroke-opacity:0.1; fill:none\" points=\"137.964,426.898 2352.76,426.898 \"/>\n",
       "<polyline clip-path=\"url(#clip782)\" style=\"stroke:#000000; stroke-linecap:round; stroke-linejoin:round; stroke-width:2; stroke-opacity:0.1; fill:none\" points=\"137.964,144.463 2352.76,144.463 \"/>\n",
       "<polyline clip-path=\"url(#clip780)\" style=\"stroke:#000000; stroke-linecap:round; stroke-linejoin:round; stroke-width:4; stroke-opacity:1; fill:none\" points=\"137.964,1486.45 137.964,47.2441 \"/>\n",
       "<polyline clip-path=\"url(#clip780)\" style=\"stroke:#000000; stroke-linecap:round; stroke-linejoin:round; stroke-width:4; stroke-opacity:1; fill:none\" points=\"137.964,1274.2 156.862,1274.2 \"/>\n",
       "<polyline clip-path=\"url(#clip780)\" style=\"stroke:#000000; stroke-linecap:round; stroke-linejoin:round; stroke-width:4; stroke-opacity:1; fill:none\" points=\"137.964,991.767 156.862,991.767 \"/>\n",
       "<polyline clip-path=\"url(#clip780)\" style=\"stroke:#000000; stroke-linecap:round; stroke-linejoin:round; stroke-width:4; stroke-opacity:1; fill:none\" points=\"137.964,709.332 156.862,709.332 \"/>\n",
       "<polyline clip-path=\"url(#clip780)\" style=\"stroke:#000000; stroke-linecap:round; stroke-linejoin:round; stroke-width:4; stroke-opacity:1; fill:none\" points=\"137.964,426.898 156.862,426.898 \"/>\n",
       "<polyline clip-path=\"url(#clip780)\" style=\"stroke:#000000; stroke-linecap:round; stroke-linejoin:round; stroke-width:4; stroke-opacity:1; fill:none\" points=\"137.964,144.463 156.862,144.463 \"/>\n",
       "<path clip-path=\"url(#clip780)\" d=\"M94.8345 1272.85 Q98.1909 1273.56 100.066 1275.83 Q101.964 1278.1 101.964 1281.43 Q101.964 1286.55 98.4456 1289.35 Q94.9271 1292.15 88.4456 1292.15 Q86.2697 1292.15 83.9549 1291.71 Q81.6633 1291.3 79.2096 1290.44 L79.2096 1285.93 Q81.154 1287.06 83.4688 1287.64 Q85.7836 1288.22 88.3067 1288.22 Q92.7049 1288.22 94.9965 1286.48 Q97.3113 1284.74 97.3113 1281.43 Q97.3113 1278.38 95.1586 1276.67 Q93.0289 1274.93 89.2095 1274.93 L85.1818 1274.93 L85.1818 1271.09 L89.3947 1271.09 Q92.8438 1271.09 94.6724 1269.72 Q96.5011 1268.33 96.5011 1265.74 Q96.5011 1263.08 94.603 1261.67 Q92.728 1260.23 89.2095 1260.23 Q87.2882 1260.23 85.0892 1260.65 Q82.8901 1261.06 80.2512 1261.94 L80.2512 1257.78 Q82.9133 1257.04 85.2281 1256.67 Q87.566 1256.3 89.6262 1256.3 Q94.9502 1256.3 98.0521 1258.73 Q101.154 1261.13 101.154 1265.25 Q101.154 1268.12 99.5104 1270.12 Q97.8669 1272.08 94.8345 1272.85 Z\" fill=\"#000000\" fill-rule=\"nonzero\" fill-opacity=\"1\" /><path clip-path=\"url(#clip780)\" d=\"M90.4364 989.903 Q87.2882 989.903 85.4364 992.056 Q83.6077 994.209 83.6077 997.959 Q83.6077 1001.69 85.4364 1003.86 Q87.2882 1006.01 90.4364 1006.01 Q93.5845 1006.01 95.4132 1003.86 Q97.265 1001.69 97.265 997.959 Q97.265 994.209 95.4132 992.056 Q93.5845 989.903 90.4364 989.903 M99.7187 975.25 L99.7187 979.51 Q97.9595 978.676 96.1539 978.236 Q94.3715 977.797 92.6123 977.797 Q87.9827 977.797 85.529 980.922 Q83.0984 984.047 82.7512 990.366 Q84.1169 988.352 86.1771 987.287 Q88.2373 986.199 90.7141 986.199 Q95.9224 986.199 98.9317 989.371 Q101.964 992.519 101.964 997.959 Q101.964 1003.28 98.8159 1006.5 Q95.6678 1009.72 90.4364 1009.72 Q84.441 1009.72 81.2697 1005.13 Q78.0985 1000.53 78.0985 991.801 Q78.0985 983.607 81.9873 978.746 Q85.8762 973.862 92.4271 973.862 Q94.1863 973.862 95.9687 974.209 Q97.7743 974.556 99.7187 975.25 Z\" fill=\"#000000\" fill-rule=\"nonzero\" fill-opacity=\"1\" /><path clip-path=\"url(#clip780)\" d=\"M80.3438 725.894 L80.3438 721.635 Q82.1031 722.469 83.9086 722.908 Q85.7142 723.348 87.4503 723.348 Q92.0799 723.348 94.5104 720.246 Q96.9641 717.121 97.3113 710.779 Q95.9687 712.77 93.9086 713.834 Q91.8484 714.899 89.3484 714.899 Q84.1632 714.899 81.1309 711.774 Q78.1216 708.626 78.1216 703.186 Q78.1216 697.862 81.2697 694.645 Q84.4179 691.427 89.6493 691.427 Q95.6447 691.427 98.7928 696.034 Q101.964 700.617 101.964 709.367 Q101.964 717.538 98.0752 722.422 Q94.2095 727.283 87.6586 727.283 Q85.8993 727.283 84.0938 726.936 Q82.2883 726.589 80.3438 725.894 M89.6493 711.242 Q92.7975 711.242 94.6262 709.089 Q96.478 706.936 96.478 703.186 Q96.478 699.459 94.6262 697.307 Q92.7975 695.131 89.6493 695.131 Q86.5012 695.131 84.6494 697.307 Q82.8207 699.459 82.8207 703.186 Q82.8207 706.936 84.6494 709.089 Q86.5012 711.242 89.6493 711.242 Z\" fill=\"#000000\" fill-rule=\"nonzero\" fill-opacity=\"1\" /><path clip-path=\"url(#clip780)\" d=\"M52.2653 440.242 L59.9041 440.242 L59.9041 413.877 L51.594 415.544 L51.594 411.284 L59.8578 409.618 L64.5337 409.618 L64.5337 440.242 L72.1726 440.242 L72.1726 444.178 L52.2653 444.178 L52.2653 440.242 Z\" fill=\"#000000\" fill-rule=\"nonzero\" fill-opacity=\"1\" /><path clip-path=\"url(#clip780)\" d=\"M85.6447 440.242 L101.964 440.242 L101.964 444.178 L80.0197 444.178 L80.0197 440.242 Q82.6818 437.488 87.2651 432.858 Q91.8715 428.205 93.0521 426.863 Q95.2974 424.34 96.1771 422.604 Q97.0798 420.844 97.0798 419.155 Q97.0798 416.4 95.1354 414.664 Q93.2141 412.928 90.1123 412.928 Q87.9132 412.928 85.4595 413.692 Q83.029 414.456 80.2512 416.006 L80.2512 411.284 Q83.0753 410.15 85.529 409.571 Q87.9827 408.993 90.0197 408.993 Q95.39 408.993 98.5845 411.678 Q101.779 414.363 101.779 418.854 Q101.779 420.983 100.969 422.905 Q100.182 424.803 98.0752 427.395 Q97.4965 428.067 94.3947 431.284 Q91.2928 434.479 85.6447 440.242 Z\" fill=\"#000000\" fill-rule=\"nonzero\" fill-opacity=\"1\" /><path clip-path=\"url(#clip780)\" d=\"M51.6634 157.808 L59.3023 157.808 L59.3023 131.442 L50.9921 133.109 L50.9921 128.85 L59.256 127.183 L63.9319 127.183 L63.9319 157.808 L71.5707 157.808 L71.5707 161.743 L51.6634 161.743 L51.6634 157.808 Z\" fill=\"#000000\" fill-rule=\"nonzero\" fill-opacity=\"1\" /><path clip-path=\"url(#clip780)\" d=\"M81.0614 127.183 L99.4178 127.183 L99.4178 131.118 L85.3438 131.118 L85.3438 139.591 Q86.3623 139.243 87.3808 139.081 Q88.3993 138.896 89.4178 138.896 Q95.2049 138.896 98.5845 142.067 Q101.964 145.239 101.964 150.655 Q101.964 156.234 98.4919 159.336 Q95.0197 162.414 88.7003 162.414 Q86.5243 162.414 84.2558 162.044 Q82.0105 161.674 79.6031 160.933 L79.6031 156.234 Q81.6864 157.368 83.9086 157.924 Q86.1308 158.479 88.6077 158.479 Q92.6123 158.479 94.9502 156.373 Q97.2882 154.266 97.2882 150.655 Q97.2882 147.044 94.9502 144.938 Q92.6123 142.831 88.6077 142.831 Q86.7327 142.831 84.8577 143.248 Q83.0058 143.665 81.0614 144.544 L81.0614 127.183 Z\" fill=\"#000000\" fill-rule=\"nonzero\" fill-opacity=\"1\" /><polyline clip-path=\"url(#clip782)\" style=\"stroke:#009af9; stroke-linecap:round; stroke-linejoin:round; stroke-width:4; stroke-opacity:1; fill:none\" points=\"200.647,1445.72 432.805,1300.9 664.964,1156.09 897.122,1011.28 1129.28,866.468 1361.44,721.656 1593.6,576.845 1825.76,432.033 2057.91,287.221 2290.07,142.409 \"/>\n",
       "<circle clip-path=\"url(#clip782)\" cx=\"200.647\" cy=\"1434.25\" r=\"14.4\" fill=\"#e26f46\" fill-rule=\"evenodd\" fill-opacity=\"1\" stroke=\"#000000\" stroke-opacity=\"1\" stroke-width=\"3.2\"/>\n",
       "<circle clip-path=\"url(#clip782)\" cx=\"432.805\" cy=\"1227.13\" r=\"14.4\" fill=\"#e26f46\" fill-rule=\"evenodd\" fill-opacity=\"1\" stroke=\"#000000\" stroke-opacity=\"1\" stroke-width=\"3.2\"/>\n",
       "<circle clip-path=\"url(#clip782)\" cx=\"664.964\" cy=\"1161.23\" r=\"14.4\" fill=\"#e26f46\" fill-rule=\"evenodd\" fill-opacity=\"1\" stroke=\"#000000\" stroke-opacity=\"1\" stroke-width=\"3.2\"/>\n",
       "<circle clip-path=\"url(#clip782)\" cx=\"897.122\" cy=\"1085.91\" r=\"14.4\" fill=\"#e26f46\" fill-rule=\"evenodd\" fill-opacity=\"1\" stroke=\"#000000\" stroke-opacity=\"1\" stroke-width=\"3.2\"/>\n",
       "<circle clip-path=\"url(#clip782)\" cx=\"1129.28\" cy=\"897.622\" r=\"14.4\" fill=\"#e26f46\" fill-rule=\"evenodd\" fill-opacity=\"1\" stroke=\"#000000\" stroke-opacity=\"1\" stroke-width=\"3.2\"/>\n",
       "<circle clip-path=\"url(#clip782)\" cx=\"1361.44\" cy=\"728.161\" r=\"14.4\" fill=\"#e26f46\" fill-rule=\"evenodd\" fill-opacity=\"1\" stroke=\"#000000\" stroke-opacity=\"1\" stroke-width=\"3.2\"/>\n",
       "<circle clip-path=\"url(#clip782)\" cx=\"1593.6\" cy=\"605.773\" r=\"14.4\" fill=\"#e26f46\" fill-rule=\"evenodd\" fill-opacity=\"1\" stroke=\"#000000\" stroke-opacity=\"1\" stroke-width=\"3.2\"/>\n",
       "<circle clip-path=\"url(#clip782)\" cx=\"1825.76\" cy=\"379.825\" r=\"14.4\" fill=\"#e26f46\" fill-rule=\"evenodd\" fill-opacity=\"1\" stroke=\"#000000\" stroke-opacity=\"1\" stroke-width=\"3.2\"/>\n",
       "<circle clip-path=\"url(#clip782)\" cx=\"2057.91\" cy=\"332.753\" r=\"14.4\" fill=\"#e26f46\" fill-rule=\"evenodd\" fill-opacity=\"1\" stroke=\"#000000\" stroke-opacity=\"1\" stroke-width=\"3.2\"/>\n",
       "<circle clip-path=\"url(#clip782)\" cx=\"2290.07\" cy=\"87.9763\" r=\"14.4\" fill=\"#e26f46\" fill-rule=\"evenodd\" fill-opacity=\"1\" stroke=\"#000000\" stroke-opacity=\"1\" stroke-width=\"3.2\"/>\n",
       "<polyline clip-path=\"url(#clip782)\" style=\"stroke:#3da44d; stroke-linecap:round; stroke-linejoin:round; stroke-width:4; stroke-opacity:1; fill:none\" stroke-dasharray=\"16, 10\" points=\"200.647,1445.72 432.805,1300.9 664.964,1156.09 897.122,1011.28 1129.28,866.468 1361.44,721.656 1593.6,576.845 1825.76,432.033 2057.91,287.221 2290.07,142.409 \"/>\n",
       "<path clip-path=\"url(#clip780)\" d=\"M211.79 250.738 L587.922 250.738 L587.922 95.2176 L211.79 95.2176  Z\" fill=\"#ffffff\" fill-rule=\"evenodd\" fill-opacity=\"1\"/>\n",
       "<polyline clip-path=\"url(#clip780)\" style=\"stroke:#000000; stroke-linecap:round; stroke-linejoin:round; stroke-width:4; stroke-opacity:1; fill:none\" points=\"211.79,250.738 587.922,250.738 587.922,95.2176 211.79,95.2176 211.79,250.738 \"/>\n",
       "<polyline clip-path=\"url(#clip780)\" style=\"stroke:#009af9; stroke-linecap:round; stroke-linejoin:round; stroke-width:4; stroke-opacity:1; fill:none\" points=\"236.399,147.058 384.052,147.058 \"/>\n",
       "<path clip-path=\"url(#clip780)\" d=\"M413.337 133.62 L413.337 146.606 L419.216 146.606 Q422.48 146.606 424.263 144.916 Q426.045 143.227 426.045 140.102 Q426.045 137 424.263 135.31 Q422.48 133.62 419.216 133.62 L413.337 133.62 M408.661 129.778 L419.216 129.778 Q425.027 129.778 427.989 132.416 Q430.976 135.032 430.976 140.102 Q430.976 145.217 427.989 147.833 Q425.027 150.449 419.216 150.449 L413.337 150.449 L413.337 164.338 L408.661 164.338 L408.661 129.778 Z\" fill=\"#000000\" fill-rule=\"nonzero\" fill-opacity=\"1\" /><path clip-path=\"url(#clip780)\" d=\"M447.295 128.366 Q444.193 133.69 442.688 138.898 Q441.184 144.106 441.184 149.453 Q441.184 154.801 442.688 160.055 Q444.216 165.287 447.295 170.588 L443.591 170.588 Q440.119 165.148 438.383 159.893 Q436.67 154.639 436.67 149.453 Q436.67 144.291 438.383 139.06 Q440.096 133.828 443.591 128.366 L447.295 128.366 Z\" fill=\"#000000\" fill-rule=\"nonzero\" fill-opacity=\"1\" /><path clip-path=\"url(#clip780)\" d=\"M477.11 138.412 L467.735 151.027 L477.596 164.338 L472.573 164.338 L465.026 154.152 L457.48 164.338 L452.457 164.338 L462.526 150.773 L453.313 138.412 L458.337 138.412 L465.211 147.648 L472.086 138.412 L477.11 138.412 Z\" fill=\"#000000\" fill-rule=\"nonzero\" fill-opacity=\"1\" /><path clip-path=\"url(#clip780)\" d=\"M482.943 128.366 L486.647 128.366 Q490.119 133.828 491.832 139.06 Q493.568 144.291 493.568 149.453 Q493.568 154.639 491.832 159.893 Q490.119 165.148 486.647 170.588 L482.943 170.588 Q486.022 165.287 487.526 160.055 Q489.054 154.801 489.054 149.453 Q489.054 144.106 487.526 138.898 Q486.022 133.69 482.943 128.366 Z\" fill=\"#000000\" fill-rule=\"nonzero\" fill-opacity=\"1\" /><polyline clip-path=\"url(#clip780)\" style=\"stroke:#3da44d; stroke-linecap:round; stroke-linejoin:round; stroke-width:4; stroke-opacity:1; fill:none\" stroke-dasharray=\"16, 10\" points=\"236.399,198.898 384.052,198.898 \"/>\n",
       "<path clip-path=\"url(#clip780)\" d=\"M430.374 200.529 L430.374 216.178 L426.114 216.178 L426.114 200.668 Q426.114 196.988 424.679 195.159 Q423.244 193.33 420.374 193.33 Q416.925 193.33 414.934 195.53 Q412.943 197.729 412.943 201.525 L412.943 216.178 L408.661 216.178 L408.661 190.252 L412.943 190.252 L412.943 194.28 Q414.471 191.942 416.531 190.784 Q418.615 189.627 421.323 189.627 Q425.79 189.627 428.082 192.405 Q430.374 195.159 430.374 200.529 Z\" fill=\"#000000\" fill-rule=\"nonzero\" fill-opacity=\"1\" /><path clip-path=\"url(#clip780)\" d=\"M461.045 202.15 L461.045 204.233 L441.462 204.233 Q441.739 208.631 444.1 210.946 Q446.485 213.238 450.721 213.238 Q453.175 213.238 455.466 212.636 Q457.781 212.034 460.049 210.83 L460.049 214.858 Q457.758 215.83 455.35 216.34 Q452.943 216.849 450.466 216.849 Q444.263 216.849 440.628 213.238 Q437.017 209.627 437.017 203.469 Q437.017 197.104 440.443 193.377 Q443.892 189.627 449.725 189.627 Q454.957 189.627 457.989 193.006 Q461.045 196.363 461.045 202.15 M456.786 200.9 Q456.739 197.405 454.818 195.321 Q452.92 193.238 449.772 193.238 Q446.207 193.238 444.054 195.252 Q441.925 197.266 441.6 200.923 L456.786 200.9 Z\" fill=\"#000000\" fill-rule=\"nonzero\" fill-opacity=\"1\" /><path clip-path=\"url(#clip780)\" d=\"M465.559 190.252 L469.818 190.252 L475.142 210.483 L480.443 190.252 L485.466 190.252 L490.79 210.483 L496.091 190.252 L500.35 190.252 L493.568 216.178 L488.545 216.178 L482.966 194.928 L477.364 216.178 L472.341 216.178 L465.559 190.252 Z\" fill=\"#000000\" fill-rule=\"nonzero\" fill-opacity=\"1\" /><path clip-path=\"url(#clip780)\" d=\"M517.04 180.206 Q513.938 185.53 512.433 190.738 Q510.929 195.946 510.929 201.293 Q510.929 206.641 512.433 211.895 Q513.961 217.127 517.04 222.428 L513.336 222.428 Q509.864 216.988 508.128 211.733 Q506.415 206.479 506.415 201.293 Q506.415 196.131 508.128 190.9 Q509.841 185.668 513.336 180.206 L517.04 180.206 Z\" fill=\"#000000\" fill-rule=\"nonzero\" fill-opacity=\"1\" /><path clip-path=\"url(#clip780)\" d=\"M546.855 190.252 L537.48 202.867 L547.341 216.178 L542.318 216.178 L534.771 205.992 L527.225 216.178 L522.202 216.178 L532.271 202.613 L523.058 190.252 L528.082 190.252 L534.956 199.488 L541.831 190.252 L546.855 190.252 Z\" fill=\"#000000\" fill-rule=\"nonzero\" fill-opacity=\"1\" /><path clip-path=\"url(#clip780)\" d=\"M552.688 180.206 L556.392 180.206 Q559.864 185.668 561.577 190.9 Q563.313 196.131 563.313 201.293 Q563.313 206.479 561.577 211.733 Q559.864 216.988 556.392 222.428 L552.688 222.428 Q555.767 217.127 557.271 211.895 Q558.799 206.641 558.799 201.293 Q558.799 195.946 557.271 190.738 Q555.767 185.53 552.688 180.206 Z\" fill=\"#000000\" fill-rule=\"nonzero\" fill-opacity=\"1\" /></svg>\n"
      ],
      "text/html": [
       "<?xml version=\"1.0\" encoding=\"utf-8\"?>\n",
       "<svg xmlns=\"http://www.w3.org/2000/svg\" xmlns:xlink=\"http://www.w3.org/1999/xlink\" width=\"600\" height=\"400\" viewBox=\"0 0 2400 1600\">\n",
       "<defs>\n",
       "  <clipPath id=\"clip830\">\n",
       "    <rect x=\"0\" y=\"0\" width=\"2400\" height=\"1600\"/>\n",
       "  </clipPath>\n",
       "</defs>\n",
       "<path clip-path=\"url(#clip830)\" d=\"M0 1600 L2400 1600 L2400 0 L0 0  Z\" fill=\"#ffffff\" fill-rule=\"evenodd\" fill-opacity=\"1\"/>\n",
       "<defs>\n",
       "  <clipPath id=\"clip831\">\n",
       "    <rect x=\"480\" y=\"0\" width=\"1681\" height=\"1600\"/>\n",
       "  </clipPath>\n",
       "</defs>\n",
       "<path clip-path=\"url(#clip830)\" d=\"M137.964 1486.45 L2352.76 1486.45 L2352.76 47.2441 L137.964 47.2441  Z\" fill=\"#ffffff\" fill-rule=\"evenodd\" fill-opacity=\"1\"/>\n",
       "<defs>\n",
       "  <clipPath id=\"clip832\">\n",
       "    <rect x=\"137\" y=\"47\" width=\"2216\" height=\"1440\"/>\n",
       "  </clipPath>\n",
       "</defs>\n",
       "<polyline clip-path=\"url(#clip832)\" style=\"stroke:#000000; stroke-linecap:round; stroke-linejoin:round; stroke-width:2; stroke-opacity:0.1; fill:none\" points=\"432.805,1486.45 432.805,47.2441 \"/>\n",
       "<polyline clip-path=\"url(#clip832)\" style=\"stroke:#000000; stroke-linecap:round; stroke-linejoin:round; stroke-width:2; stroke-opacity:0.1; fill:none\" points=\"897.122,1486.45 897.122,47.2441 \"/>\n",
       "<polyline clip-path=\"url(#clip832)\" style=\"stroke:#000000; stroke-linecap:round; stroke-linejoin:round; stroke-width:2; stroke-opacity:0.1; fill:none\" points=\"1361.44,1486.45 1361.44,47.2441 \"/>\n",
       "<polyline clip-path=\"url(#clip832)\" style=\"stroke:#000000; stroke-linecap:round; stroke-linejoin:round; stroke-width:2; stroke-opacity:0.1; fill:none\" points=\"1825.76,1486.45 1825.76,47.2441 \"/>\n",
       "<polyline clip-path=\"url(#clip832)\" style=\"stroke:#000000; stroke-linecap:round; stroke-linejoin:round; stroke-width:2; stroke-opacity:0.1; fill:none\" points=\"2290.07,1486.45 2290.07,47.2441 \"/>\n",
       "<polyline clip-path=\"url(#clip830)\" style=\"stroke:#000000; stroke-linecap:round; stroke-linejoin:round; stroke-width:4; stroke-opacity:1; fill:none\" points=\"137.964,1486.45 2352.76,1486.45 \"/>\n",
       "<polyline clip-path=\"url(#clip830)\" style=\"stroke:#000000; stroke-linecap:round; stroke-linejoin:round; stroke-width:4; stroke-opacity:1; fill:none\" points=\"432.805,1486.45 432.805,1467.55 \"/>\n",
       "<polyline clip-path=\"url(#clip830)\" style=\"stroke:#000000; stroke-linecap:round; stroke-linejoin:round; stroke-width:4; stroke-opacity:1; fill:none\" points=\"897.122,1486.45 897.122,1467.55 \"/>\n",
       "<polyline clip-path=\"url(#clip830)\" style=\"stroke:#000000; stroke-linecap:round; stroke-linejoin:round; stroke-width:4; stroke-opacity:1; fill:none\" points=\"1361.44,1486.45 1361.44,1467.55 \"/>\n",
       "<polyline clip-path=\"url(#clip830)\" style=\"stroke:#000000; stroke-linecap:round; stroke-linejoin:round; stroke-width:4; stroke-opacity:1; fill:none\" points=\"1825.76,1486.45 1825.76,1467.55 \"/>\n",
       "<polyline clip-path=\"url(#clip830)\" style=\"stroke:#000000; stroke-linecap:round; stroke-linejoin:round; stroke-width:4; stroke-opacity:1; fill:none\" points=\"2290.07,1486.45 2290.07,1467.55 \"/>\n",
       "<path clip-path=\"url(#clip830)\" d=\"M427.458 1544.91 L443.777 1544.91 L443.777 1548.85 L421.833 1548.85 L421.833 1544.91 Q424.495 1542.16 429.079 1537.53 Q433.685 1532.88 434.866 1531.53 Q437.111 1529.01 437.99 1527.27 Q438.893 1525.51 438.893 1523.82 Q438.893 1521.07 436.949 1519.33 Q435.028 1517.6 431.926 1517.6 Q429.727 1517.6 427.273 1518.36 Q424.842 1519.13 422.065 1520.68 L422.065 1515.95 Q424.889 1514.82 427.342 1514.24 Q429.796 1513.66 431.833 1513.66 Q437.203 1513.66 440.398 1516.35 Q443.592 1519.03 443.592 1523.52 Q443.592 1525.65 442.782 1527.57 Q441.995 1529.47 439.889 1532.07 Q439.31 1532.74 436.208 1535.95 Q433.106 1539.15 427.458 1544.91 Z\" fill=\"#000000\" fill-rule=\"nonzero\" fill-opacity=\"1\" /><path clip-path=\"url(#clip830)\" d=\"M900.132 1518.36 L888.326 1536.81 L900.132 1536.81 L900.132 1518.36 M898.905 1514.29 L904.784 1514.29 L904.784 1536.81 L909.715 1536.81 L909.715 1540.7 L904.784 1540.7 L904.784 1548.85 L900.132 1548.85 L900.132 1540.7 L884.53 1540.7 L884.53 1536.19 L898.905 1514.29 Z\" fill=\"#000000\" fill-rule=\"nonzero\" fill-opacity=\"1\" /><path clip-path=\"url(#clip830)\" d=\"M1361.84 1529.7 Q1358.7 1529.7 1356.84 1531.86 Q1355.02 1534.01 1355.02 1537.76 Q1355.02 1541.49 1356.84 1543.66 Q1358.7 1545.82 1361.84 1545.82 Q1364.99 1545.82 1366.82 1543.66 Q1368.67 1541.49 1368.67 1537.76 Q1368.67 1534.01 1366.82 1531.86 Q1364.99 1529.7 1361.84 1529.7 M1371.13 1515.05 L1371.13 1519.31 Q1369.37 1518.48 1367.56 1518.04 Q1365.78 1517.6 1364.02 1517.6 Q1359.39 1517.6 1356.94 1520.72 Q1354.51 1523.85 1354.16 1530.17 Q1355.52 1528.15 1357.59 1527.09 Q1359.65 1526 1362.12 1526 Q1367.33 1526 1370.34 1529.17 Q1373.37 1532.32 1373.37 1537.76 Q1373.37 1543.08 1370.22 1546.3 Q1367.08 1549.52 1361.84 1549.52 Q1355.85 1549.52 1352.68 1544.94 Q1349.51 1540.33 1349.51 1531.6 Q1349.51 1523.41 1353.4 1518.55 Q1357.28 1513.66 1363.84 1513.66 Q1365.59 1513.66 1367.38 1514.01 Q1369.18 1514.36 1371.13 1515.05 Z\" fill=\"#000000\" fill-rule=\"nonzero\" fill-opacity=\"1\" /><path clip-path=\"url(#clip830)\" d=\"M1825.76 1532.44 Q1822.42 1532.44 1820.5 1534.22 Q1818.6 1536 1818.6 1539.13 Q1818.6 1542.25 1820.5 1544.03 Q1822.42 1545.82 1825.76 1545.82 Q1829.09 1545.82 1831.01 1544.03 Q1832.93 1542.23 1832.93 1539.13 Q1832.93 1536 1831.01 1534.22 Q1829.11 1532.44 1825.76 1532.44 M1821.08 1530.45 Q1818.07 1529.7 1816.38 1527.64 Q1814.71 1525.58 1814.71 1522.62 Q1814.71 1518.48 1817.65 1516.07 Q1820.62 1513.66 1825.76 1513.66 Q1830.92 1513.66 1833.86 1516.07 Q1836.8 1518.48 1836.8 1522.62 Q1836.8 1525.58 1835.11 1527.64 Q1833.44 1529.7 1830.46 1530.45 Q1833.83 1531.23 1835.71 1533.52 Q1837.61 1535.82 1837.61 1539.13 Q1837.61 1544.15 1834.53 1546.83 Q1831.47 1549.52 1825.76 1549.52 Q1820.04 1549.52 1816.96 1546.83 Q1813.9 1544.15 1813.9 1539.13 Q1813.9 1535.82 1815.8 1533.52 Q1817.7 1531.23 1821.08 1530.45 M1819.37 1523.06 Q1819.37 1525.75 1821.03 1527.25 Q1822.72 1528.76 1825.76 1528.76 Q1828.77 1528.76 1830.46 1527.25 Q1832.17 1525.75 1832.17 1523.06 Q1832.17 1520.38 1830.46 1518.87 Q1828.77 1517.37 1825.76 1517.37 Q1822.72 1517.37 1821.03 1518.87 Q1819.37 1520.38 1819.37 1523.06 Z\" fill=\"#000000\" fill-rule=\"nonzero\" fill-opacity=\"1\" /><path clip-path=\"url(#clip830)\" d=\"M2264.76 1544.91 L2272.4 1544.91 L2272.4 1518.55 L2264.09 1520.21 L2264.09 1515.95 L2272.35 1514.29 L2277.03 1514.29 L2277.03 1544.91 L2284.67 1544.91 L2284.67 1548.85 L2264.76 1548.85 L2264.76 1544.91 Z\" fill=\"#000000\" fill-rule=\"nonzero\" fill-opacity=\"1\" /><path clip-path=\"url(#clip830)\" d=\"M2304.11 1517.37 Q2300.5 1517.37 2298.67 1520.93 Q2296.87 1524.47 2296.87 1531.6 Q2296.87 1538.71 2298.67 1542.27 Q2300.5 1545.82 2304.11 1545.82 Q2307.75 1545.82 2309.55 1542.27 Q2311.38 1538.71 2311.38 1531.6 Q2311.38 1524.47 2309.55 1520.93 Q2307.75 1517.37 2304.11 1517.37 M2304.11 1513.66 Q2309.92 1513.66 2312.98 1518.27 Q2316.06 1522.85 2316.06 1531.6 Q2316.06 1540.33 2312.98 1544.94 Q2309.92 1549.52 2304.11 1549.52 Q2298.3 1549.52 2295.22 1544.94 Q2292.17 1540.33 2292.17 1531.6 Q2292.17 1522.85 2295.22 1518.27 Q2298.3 1513.66 2304.11 1513.66 Z\" fill=\"#000000\" fill-rule=\"nonzero\" fill-opacity=\"1\" /><polyline clip-path=\"url(#clip832)\" style=\"stroke:#000000; stroke-linecap:round; stroke-linejoin:round; stroke-width:2; stroke-opacity:0.1; fill:none\" points=\"137.964,1274.2 2352.76,1274.2 \"/>\n",
       "<polyline clip-path=\"url(#clip832)\" style=\"stroke:#000000; stroke-linecap:round; stroke-linejoin:round; stroke-width:2; stroke-opacity:0.1; fill:none\" points=\"137.964,991.767 2352.76,991.767 \"/>\n",
       "<polyline clip-path=\"url(#clip832)\" style=\"stroke:#000000; stroke-linecap:round; stroke-linejoin:round; stroke-width:2; stroke-opacity:0.1; fill:none\" points=\"137.964,709.332 2352.76,709.332 \"/>\n",
       "<polyline clip-path=\"url(#clip832)\" style=\"stroke:#000000; stroke-linecap:round; stroke-linejoin:round; stroke-width:2; stroke-opacity:0.1; fill:none\" points=\"137.964,426.898 2352.76,426.898 \"/>\n",
       "<polyline clip-path=\"url(#clip832)\" style=\"stroke:#000000; stroke-linecap:round; stroke-linejoin:round; stroke-width:2; stroke-opacity:0.1; fill:none\" points=\"137.964,144.463 2352.76,144.463 \"/>\n",
       "<polyline clip-path=\"url(#clip830)\" style=\"stroke:#000000; stroke-linecap:round; stroke-linejoin:round; stroke-width:4; stroke-opacity:1; fill:none\" points=\"137.964,1486.45 137.964,47.2441 \"/>\n",
       "<polyline clip-path=\"url(#clip830)\" style=\"stroke:#000000; stroke-linecap:round; stroke-linejoin:round; stroke-width:4; stroke-opacity:1; fill:none\" points=\"137.964,1274.2 156.862,1274.2 \"/>\n",
       "<polyline clip-path=\"url(#clip830)\" style=\"stroke:#000000; stroke-linecap:round; stroke-linejoin:round; stroke-width:4; stroke-opacity:1; fill:none\" points=\"137.964,991.767 156.862,991.767 \"/>\n",
       "<polyline clip-path=\"url(#clip830)\" style=\"stroke:#000000; stroke-linecap:round; stroke-linejoin:round; stroke-width:4; stroke-opacity:1; fill:none\" points=\"137.964,709.332 156.862,709.332 \"/>\n",
       "<polyline clip-path=\"url(#clip830)\" style=\"stroke:#000000; stroke-linecap:round; stroke-linejoin:round; stroke-width:4; stroke-opacity:1; fill:none\" points=\"137.964,426.898 156.862,426.898 \"/>\n",
       "<polyline clip-path=\"url(#clip830)\" style=\"stroke:#000000; stroke-linecap:round; stroke-linejoin:round; stroke-width:4; stroke-opacity:1; fill:none\" points=\"137.964,144.463 156.862,144.463 \"/>\n",
       "<path clip-path=\"url(#clip830)\" d=\"M94.8345 1272.85 Q98.1909 1273.56 100.066 1275.83 Q101.964 1278.1 101.964 1281.43 Q101.964 1286.55 98.4456 1289.35 Q94.9271 1292.15 88.4456 1292.15 Q86.2697 1292.15 83.9549 1291.71 Q81.6633 1291.3 79.2096 1290.44 L79.2096 1285.93 Q81.154 1287.06 83.4688 1287.64 Q85.7836 1288.22 88.3067 1288.22 Q92.7049 1288.22 94.9965 1286.48 Q97.3113 1284.74 97.3113 1281.43 Q97.3113 1278.38 95.1586 1276.67 Q93.0289 1274.93 89.2095 1274.93 L85.1818 1274.93 L85.1818 1271.09 L89.3947 1271.09 Q92.8438 1271.09 94.6724 1269.72 Q96.5011 1268.33 96.5011 1265.74 Q96.5011 1263.08 94.603 1261.67 Q92.728 1260.23 89.2095 1260.23 Q87.2882 1260.23 85.0892 1260.65 Q82.8901 1261.06 80.2512 1261.94 L80.2512 1257.78 Q82.9133 1257.04 85.2281 1256.67 Q87.566 1256.3 89.6262 1256.3 Q94.9502 1256.3 98.0521 1258.73 Q101.154 1261.13 101.154 1265.25 Q101.154 1268.12 99.5104 1270.12 Q97.8669 1272.08 94.8345 1272.85 Z\" fill=\"#000000\" fill-rule=\"nonzero\" fill-opacity=\"1\" /><path clip-path=\"url(#clip830)\" d=\"M90.4364 989.903 Q87.2882 989.903 85.4364 992.056 Q83.6077 994.209 83.6077 997.959 Q83.6077 1001.69 85.4364 1003.86 Q87.2882 1006.01 90.4364 1006.01 Q93.5845 1006.01 95.4132 1003.86 Q97.265 1001.69 97.265 997.959 Q97.265 994.209 95.4132 992.056 Q93.5845 989.903 90.4364 989.903 M99.7187 975.25 L99.7187 979.51 Q97.9595 978.676 96.1539 978.236 Q94.3715 977.797 92.6123 977.797 Q87.9827 977.797 85.529 980.922 Q83.0984 984.047 82.7512 990.366 Q84.1169 988.352 86.1771 987.287 Q88.2373 986.199 90.7141 986.199 Q95.9224 986.199 98.9317 989.371 Q101.964 992.519 101.964 997.959 Q101.964 1003.28 98.8159 1006.5 Q95.6678 1009.72 90.4364 1009.72 Q84.441 1009.72 81.2697 1005.13 Q78.0985 1000.53 78.0985 991.801 Q78.0985 983.607 81.9873 978.746 Q85.8762 973.862 92.4271 973.862 Q94.1863 973.862 95.9687 974.209 Q97.7743 974.556 99.7187 975.25 Z\" fill=\"#000000\" fill-rule=\"nonzero\" fill-opacity=\"1\" /><path clip-path=\"url(#clip830)\" d=\"M80.3438 725.894 L80.3438 721.635 Q82.1031 722.469 83.9086 722.908 Q85.7142 723.348 87.4503 723.348 Q92.0799 723.348 94.5104 720.246 Q96.9641 717.121 97.3113 710.779 Q95.9687 712.77 93.9086 713.834 Q91.8484 714.899 89.3484 714.899 Q84.1632 714.899 81.1309 711.774 Q78.1216 708.626 78.1216 703.186 Q78.1216 697.862 81.2697 694.645 Q84.4179 691.427 89.6493 691.427 Q95.6447 691.427 98.7928 696.034 Q101.964 700.617 101.964 709.367 Q101.964 717.538 98.0752 722.422 Q94.2095 727.283 87.6586 727.283 Q85.8993 727.283 84.0938 726.936 Q82.2883 726.589 80.3438 725.894 M89.6493 711.242 Q92.7975 711.242 94.6262 709.089 Q96.478 706.936 96.478 703.186 Q96.478 699.459 94.6262 697.307 Q92.7975 695.131 89.6493 695.131 Q86.5012 695.131 84.6494 697.307 Q82.8207 699.459 82.8207 703.186 Q82.8207 706.936 84.6494 709.089 Q86.5012 711.242 89.6493 711.242 Z\" fill=\"#000000\" fill-rule=\"nonzero\" fill-opacity=\"1\" /><path clip-path=\"url(#clip830)\" d=\"M52.2653 440.242 L59.9041 440.242 L59.9041 413.877 L51.594 415.544 L51.594 411.284 L59.8578 409.618 L64.5337 409.618 L64.5337 440.242 L72.1726 440.242 L72.1726 444.178 L52.2653 444.178 L52.2653 440.242 Z\" fill=\"#000000\" fill-rule=\"nonzero\" fill-opacity=\"1\" /><path clip-path=\"url(#clip830)\" d=\"M85.6447 440.242 L101.964 440.242 L101.964 444.178 L80.0197 444.178 L80.0197 440.242 Q82.6818 437.488 87.2651 432.858 Q91.8715 428.205 93.0521 426.863 Q95.2974 424.34 96.1771 422.604 Q97.0798 420.844 97.0798 419.155 Q97.0798 416.4 95.1354 414.664 Q93.2141 412.928 90.1123 412.928 Q87.9132 412.928 85.4595 413.692 Q83.029 414.456 80.2512 416.006 L80.2512 411.284 Q83.0753 410.15 85.529 409.571 Q87.9827 408.993 90.0197 408.993 Q95.39 408.993 98.5845 411.678 Q101.779 414.363 101.779 418.854 Q101.779 420.983 100.969 422.905 Q100.182 424.803 98.0752 427.395 Q97.4965 428.067 94.3947 431.284 Q91.2928 434.479 85.6447 440.242 Z\" fill=\"#000000\" fill-rule=\"nonzero\" fill-opacity=\"1\" /><path clip-path=\"url(#clip830)\" d=\"M51.6634 157.808 L59.3023 157.808 L59.3023 131.442 L50.9921 133.109 L50.9921 128.85 L59.256 127.183 L63.9319 127.183 L63.9319 157.808 L71.5707 157.808 L71.5707 161.743 L51.6634 161.743 L51.6634 157.808 Z\" fill=\"#000000\" fill-rule=\"nonzero\" fill-opacity=\"1\" /><path clip-path=\"url(#clip830)\" d=\"M81.0614 127.183 L99.4178 127.183 L99.4178 131.118 L85.3438 131.118 L85.3438 139.591 Q86.3623 139.243 87.3808 139.081 Q88.3993 138.896 89.4178 138.896 Q95.2049 138.896 98.5845 142.067 Q101.964 145.239 101.964 150.655 Q101.964 156.234 98.4919 159.336 Q95.0197 162.414 88.7003 162.414 Q86.5243 162.414 84.2558 162.044 Q82.0105 161.674 79.6031 160.933 L79.6031 156.234 Q81.6864 157.368 83.9086 157.924 Q86.1308 158.479 88.6077 158.479 Q92.6123 158.479 94.9502 156.373 Q97.2882 154.266 97.2882 150.655 Q97.2882 147.044 94.9502 144.938 Q92.6123 142.831 88.6077 142.831 Q86.7327 142.831 84.8577 143.248 Q83.0058 143.665 81.0614 144.544 L81.0614 127.183 Z\" fill=\"#000000\" fill-rule=\"nonzero\" fill-opacity=\"1\" /><polyline clip-path=\"url(#clip832)\" style=\"stroke:#009af9; stroke-linecap:round; stroke-linejoin:round; stroke-width:4; stroke-opacity:1; fill:none\" points=\"200.647,1445.72 432.805,1300.9 664.964,1156.09 897.122,1011.28 1129.28,866.468 1361.44,721.656 1593.6,576.845 1825.76,432.033 2057.91,287.221 2290.07,142.409 \"/>\n",
       "<circle clip-path=\"url(#clip832)\" cx=\"200.647\" cy=\"1434.25\" r=\"14.4\" fill=\"#e26f46\" fill-rule=\"evenodd\" fill-opacity=\"1\" stroke=\"#000000\" stroke-opacity=\"1\" stroke-width=\"3.2\"/>\n",
       "<circle clip-path=\"url(#clip832)\" cx=\"432.805\" cy=\"1227.13\" r=\"14.4\" fill=\"#e26f46\" fill-rule=\"evenodd\" fill-opacity=\"1\" stroke=\"#000000\" stroke-opacity=\"1\" stroke-width=\"3.2\"/>\n",
       "<circle clip-path=\"url(#clip832)\" cx=\"664.964\" cy=\"1161.23\" r=\"14.4\" fill=\"#e26f46\" fill-rule=\"evenodd\" fill-opacity=\"1\" stroke=\"#000000\" stroke-opacity=\"1\" stroke-width=\"3.2\"/>\n",
       "<circle clip-path=\"url(#clip832)\" cx=\"897.122\" cy=\"1085.91\" r=\"14.4\" fill=\"#e26f46\" fill-rule=\"evenodd\" fill-opacity=\"1\" stroke=\"#000000\" stroke-opacity=\"1\" stroke-width=\"3.2\"/>\n",
       "<circle clip-path=\"url(#clip832)\" cx=\"1129.28\" cy=\"897.622\" r=\"14.4\" fill=\"#e26f46\" fill-rule=\"evenodd\" fill-opacity=\"1\" stroke=\"#000000\" stroke-opacity=\"1\" stroke-width=\"3.2\"/>\n",
       "<circle clip-path=\"url(#clip832)\" cx=\"1361.44\" cy=\"728.161\" r=\"14.4\" fill=\"#e26f46\" fill-rule=\"evenodd\" fill-opacity=\"1\" stroke=\"#000000\" stroke-opacity=\"1\" stroke-width=\"3.2\"/>\n",
       "<circle clip-path=\"url(#clip832)\" cx=\"1593.6\" cy=\"605.773\" r=\"14.4\" fill=\"#e26f46\" fill-rule=\"evenodd\" fill-opacity=\"1\" stroke=\"#000000\" stroke-opacity=\"1\" stroke-width=\"3.2\"/>\n",
       "<circle clip-path=\"url(#clip832)\" cx=\"1825.76\" cy=\"379.825\" r=\"14.4\" fill=\"#e26f46\" fill-rule=\"evenodd\" fill-opacity=\"1\" stroke=\"#000000\" stroke-opacity=\"1\" stroke-width=\"3.2\"/>\n",
       "<circle clip-path=\"url(#clip832)\" cx=\"2057.91\" cy=\"332.753\" r=\"14.4\" fill=\"#e26f46\" fill-rule=\"evenodd\" fill-opacity=\"1\" stroke=\"#000000\" stroke-opacity=\"1\" stroke-width=\"3.2\"/>\n",
       "<circle clip-path=\"url(#clip832)\" cx=\"2290.07\" cy=\"87.9763\" r=\"14.4\" fill=\"#e26f46\" fill-rule=\"evenodd\" fill-opacity=\"1\" stroke=\"#000000\" stroke-opacity=\"1\" stroke-width=\"3.2\"/>\n",
       "<polyline clip-path=\"url(#clip832)\" style=\"stroke:#3da44d; stroke-linecap:round; stroke-linejoin:round; stroke-width:4; stroke-opacity:1; fill:none\" stroke-dasharray=\"16, 10\" points=\"200.647,1445.72 432.805,1300.9 664.964,1156.09 897.122,1011.28 1129.28,866.468 1361.44,721.656 1593.6,576.845 1825.76,432.033 2057.91,287.221 2290.07,142.409 \"/>\n",
       "<path clip-path=\"url(#clip830)\" d=\"M211.79 250.738 L587.922 250.738 L587.922 95.2176 L211.79 95.2176  Z\" fill=\"#ffffff\" fill-rule=\"evenodd\" fill-opacity=\"1\"/>\n",
       "<polyline clip-path=\"url(#clip830)\" style=\"stroke:#000000; stroke-linecap:round; stroke-linejoin:round; stroke-width:4; stroke-opacity:1; fill:none\" points=\"211.79,250.738 587.922,250.738 587.922,95.2176 211.79,95.2176 211.79,250.738 \"/>\n",
       "<polyline clip-path=\"url(#clip830)\" style=\"stroke:#009af9; stroke-linecap:round; stroke-linejoin:round; stroke-width:4; stroke-opacity:1; fill:none\" points=\"236.399,147.058 384.052,147.058 \"/>\n",
       "<path clip-path=\"url(#clip830)\" d=\"M413.337 133.62 L413.337 146.606 L419.216 146.606 Q422.48 146.606 424.263 144.916 Q426.045 143.227 426.045 140.102 Q426.045 137 424.263 135.31 Q422.48 133.62 419.216 133.62 L413.337 133.62 M408.661 129.778 L419.216 129.778 Q425.027 129.778 427.989 132.416 Q430.976 135.032 430.976 140.102 Q430.976 145.217 427.989 147.833 Q425.027 150.449 419.216 150.449 L413.337 150.449 L413.337 164.338 L408.661 164.338 L408.661 129.778 Z\" fill=\"#000000\" fill-rule=\"nonzero\" fill-opacity=\"1\" /><path clip-path=\"url(#clip830)\" d=\"M447.295 128.366 Q444.193 133.69 442.688 138.898 Q441.184 144.106 441.184 149.453 Q441.184 154.801 442.688 160.055 Q444.216 165.287 447.295 170.588 L443.591 170.588 Q440.119 165.148 438.383 159.893 Q436.67 154.639 436.67 149.453 Q436.67 144.291 438.383 139.06 Q440.096 133.828 443.591 128.366 L447.295 128.366 Z\" fill=\"#000000\" fill-rule=\"nonzero\" fill-opacity=\"1\" /><path clip-path=\"url(#clip830)\" d=\"M477.11 138.412 L467.735 151.027 L477.596 164.338 L472.573 164.338 L465.026 154.152 L457.48 164.338 L452.457 164.338 L462.526 150.773 L453.313 138.412 L458.337 138.412 L465.211 147.648 L472.086 138.412 L477.11 138.412 Z\" fill=\"#000000\" fill-rule=\"nonzero\" fill-opacity=\"1\" /><path clip-path=\"url(#clip830)\" d=\"M482.943 128.366 L486.647 128.366 Q490.119 133.828 491.832 139.06 Q493.568 144.291 493.568 149.453 Q493.568 154.639 491.832 159.893 Q490.119 165.148 486.647 170.588 L482.943 170.588 Q486.022 165.287 487.526 160.055 Q489.054 154.801 489.054 149.453 Q489.054 144.106 487.526 138.898 Q486.022 133.69 482.943 128.366 Z\" fill=\"#000000\" fill-rule=\"nonzero\" fill-opacity=\"1\" /><polyline clip-path=\"url(#clip830)\" style=\"stroke:#3da44d; stroke-linecap:round; stroke-linejoin:round; stroke-width:4; stroke-opacity:1; fill:none\" stroke-dasharray=\"16, 10\" points=\"236.399,198.898 384.052,198.898 \"/>\n",
       "<path clip-path=\"url(#clip830)\" d=\"M430.374 200.529 L430.374 216.178 L426.114 216.178 L426.114 200.668 Q426.114 196.988 424.679 195.159 Q423.244 193.33 420.374 193.33 Q416.925 193.33 414.934 195.53 Q412.943 197.729 412.943 201.525 L412.943 216.178 L408.661 216.178 L408.661 190.252 L412.943 190.252 L412.943 194.28 Q414.471 191.942 416.531 190.784 Q418.615 189.627 421.323 189.627 Q425.79 189.627 428.082 192.405 Q430.374 195.159 430.374 200.529 Z\" fill=\"#000000\" fill-rule=\"nonzero\" fill-opacity=\"1\" /><path clip-path=\"url(#clip830)\" d=\"M461.045 202.15 L461.045 204.233 L441.462 204.233 Q441.739 208.631 444.1 210.946 Q446.485 213.238 450.721 213.238 Q453.175 213.238 455.466 212.636 Q457.781 212.034 460.049 210.83 L460.049 214.858 Q457.758 215.83 455.35 216.34 Q452.943 216.849 450.466 216.849 Q444.263 216.849 440.628 213.238 Q437.017 209.627 437.017 203.469 Q437.017 197.104 440.443 193.377 Q443.892 189.627 449.725 189.627 Q454.957 189.627 457.989 193.006 Q461.045 196.363 461.045 202.15 M456.786 200.9 Q456.739 197.405 454.818 195.321 Q452.92 193.238 449.772 193.238 Q446.207 193.238 444.054 195.252 Q441.925 197.266 441.6 200.923 L456.786 200.9 Z\" fill=\"#000000\" fill-rule=\"nonzero\" fill-opacity=\"1\" /><path clip-path=\"url(#clip830)\" d=\"M465.559 190.252 L469.818 190.252 L475.142 210.483 L480.443 190.252 L485.466 190.252 L490.79 210.483 L496.091 190.252 L500.35 190.252 L493.568 216.178 L488.545 216.178 L482.966 194.928 L477.364 216.178 L472.341 216.178 L465.559 190.252 Z\" fill=\"#000000\" fill-rule=\"nonzero\" fill-opacity=\"1\" /><path clip-path=\"url(#clip830)\" d=\"M517.04 180.206 Q513.938 185.53 512.433 190.738 Q510.929 195.946 510.929 201.293 Q510.929 206.641 512.433 211.895 Q513.961 217.127 517.04 222.428 L513.336 222.428 Q509.864 216.988 508.128 211.733 Q506.415 206.479 506.415 201.293 Q506.415 196.131 508.128 190.9 Q509.841 185.668 513.336 180.206 L517.04 180.206 Z\" fill=\"#000000\" fill-rule=\"nonzero\" fill-opacity=\"1\" /><path clip-path=\"url(#clip830)\" d=\"M546.855 190.252 L537.48 202.867 L547.341 216.178 L542.318 216.178 L534.771 205.992 L527.225 216.178 L522.202 216.178 L532.271 202.613 L523.058 190.252 L528.082 190.252 L534.956 199.488 L541.831 190.252 L546.855 190.252 Z\" fill=\"#000000\" fill-rule=\"nonzero\" fill-opacity=\"1\" /><path clip-path=\"url(#clip830)\" d=\"M552.688 180.206 L556.392 180.206 Q559.864 185.668 561.577 190.9 Q563.313 196.131 563.313 201.293 Q563.313 206.479 561.577 211.733 Q559.864 216.988 556.392 222.428 L552.688 222.428 Q555.767 217.127 557.271 211.895 Q558.799 206.641 558.799 201.293 Q558.799 195.946 557.271 190.738 Q555.767 185.53 552.688 180.206 Z\" fill=\"#000000\" fill-rule=\"nonzero\" fill-opacity=\"1\" /></svg>\n"
      ]
     },
     "execution_count": 16,
     "metadata": {},
     "output_type": "execute_result"
    }
   ],
   "source": [
    "rangox=1:1:10\n",
    "plot!(rangox,x->sol[1]*x + sol[2],label=\"new(x)\", linestyle=:dash) #graficoi la nueva recta en punteado"
   ]
  },
  {
   "cell_type": "code",
   "execution_count": 17,
   "metadata": {},
   "outputs": [
    {
     "data": {
      "text/plain": [
       "2-element Vector{Float64}:\n",
       " 0.1374466886967922\n",
       " 0.8528342752216456"
      ]
     },
     "execution_count": 17,
     "metadata": {},
     "output_type": "execute_result"
    }
   ],
   "source": [
    "estimate_errors(fit)"
   ]
  },
  {
   "cell_type": "markdown",
   "metadata": {},
   "source": [
    "### Problema 4 : Ajuste de modelo lineal\n",
    "\n",
    "Supongamos que tenemos una serie de datos $\\{x_i,y_i:i=1,...,n\\}$ y que queremos ajustar un modelo $f$ definido por\n",
    "\n",
    "$$\n",
    "f(x,p) = p_1f_1(x)+p_2f_2(x)+...+p_mf_m(x)\n",
    "$$\n",
    "\n",
    "donde $f_1,f_2,...,f_m$ son algunas funciones de $x$ y $p_1,...,p_m$ son parámetros correspondientementes. Notar que $f$ depende linealmente de los parámetros. En particular, siempre se elige $f_1(x)=1$.\n",
    "\n",
    "El Error Cuadrático\n",
    "\n",
    "$$\n",
    "d(p) = \\sum_{i=1}^n (f(x_i,p)-y_i)^2\n",
    "$$\n",
    "\n",
    "es una medida de distancia que cuantifica cuán bien (o mal) la función $f$ ajusta los datos para cada elección de los parámetros. Su minimización con respecto al vector $p$ permite encontrar el ajuste óptimo. Las condiciones que determinan el valor de $p$ que minimiza $d$ pueden expresarse como un sistema lineal de $m$ ecuaciones para $m$ incógnitas (ver la derivación teórica abajo) \n",
    "$$\n",
    "Ap = b\n",
    "$$\n",
    "\n",
    "\n",
    "1. Cargue los datos provistos en el archivo `cuadratica.dat` en dos vectores $x$ e $y$, y luego grafíquelos utilizando puntos.\n",
    "\n",
    "2. Con dichos vectores, calcule la matriz $A$ y el vector $b$ para el caso particular en que $f_1(x) = 1$, $f_2(x) = x$ y $f_3(x) = x^2$.\n",
    "\n",
    "3. Utilice $A$ y $b$ para encontrar el mejor ajuste $p$, y grafique el modelo ajustado junto a los datos.\n",
    "\n",
    "4. Calcule la estimación de los errores de los parámetros ajustados (ver teoría abajo).\n",
    "\n",
    "5. Repita el ajuste usando el paquete `LsqFit` y compare resultados."
   ]
  },
  {
   "cell_type": "markdown",
   "metadata": {},
   "source": [
    "### Teoría\n",
    "\n",
    "##### Ajuste\n",
    "\n",
    "Notar que el EC puede reescribirse matricialmente como\n",
    "\n",
    "$$\n",
    "d(p) = \\sum_{i=1}^n (f(x_i,p)-y_i)^2 = (Fp-y)'(Fp-y) = |Fp-y|^2\n",
    "$$\n",
    "\n",
    "donde $p'=(p_1,p_2,...,p_m)$ es la forma traspuesta del vector $p$, $F$ es una matriz de $\\mathbb{R}^{n\\times m}$ de entradas $F_{ij} = f_j(x_i)$ e $y'=(y_1,...,y_n)$.\n",
    "\n",
    "La construcción de dicha expresión matricial puede visualzarse facilmente de notar que buscamos el $p$ tal que\n",
    "\n",
    "\\begin{eqnarray}\n",
    "p_1f_1(x_1)+...+p_mf_m(x_1) &\\approx& y_1 \\\\\n",
    "... && \\\\\n",
    "p_1f_1(x_n)+...+p_mf_m(x_n) &\\approx& y_n \\\\\n",
    "\\end{eqnarray}\n",
    "\n",
    "Si $p$ minimiza globalmente a $d$, luego \n",
    "$$\n",
    "\\lim_{\\epsilon \\to 0} \\frac{d(p+\\epsilon q)-d(p)}{\\epsilon}=0\n",
    "$$\n",
    "para todo vector $q$, o equivalentemente $(\\nabla d)(p)=0$. Por otro lado, si bien la proposición recíproca no es generalmente cierta, la función a minimizar es una expresión cuadrática respecto de los parámetros en $p$, por lo que la condición $(\\nabla d)(p)=0$ **sí** garantiza que $p$ sea mínimo global de $d$.\n",
    "\n",
    "Para calcular el gradiente, reescribimos $d(p)$ (ver [1])\n",
    "\n",
    "\\begin{eqnarray}\n",
    "d(p) &=& (Fp-y)'(Fp-y) \\\\\n",
    "&=& (p'F'-y')(Fp-y) \\\\\n",
    "&=& p'F'Fp - p'F'y - y'Fp + y'y \\\\\n",
    "\\end{eqnarray}\n",
    "\n",
    "De esta manera, es fácil ver que (ver [2])\n",
    "\n",
    "\\begin{eqnarray}\n",
    "\\lim_{\\epsilon\\to 0}\n",
    "\\frac{d(p+\\epsilon q)-d(p)}{\\epsilon}\n",
    "&=&\n",
    "q'F'Fp + p'F'Fq - q'F'y - y'Fq\n",
    "\\\\\n",
    "&=&\n",
    "q'(F'Fp-F'y) + (p'F'F-y'F)q\n",
    "\\\\\n",
    "&=&\n",
    "q'c + c'q\n",
    "\\\\\n",
    "\\end{eqnarray}\n",
    "\n",
    "donde $F'$ es la traspuesta de $F$ y $c = F'Fp-F'y$.\n",
    "Luego, $q'c + c'q=0$ se satisface para todo $q$ si y sólo si $c=0$, o equivalentemente, si y sólo si\n",
    "\n",
    "$$\n",
    "F'Fp=F'y\n",
    "$$\n",
    "\n",
    "Este es un sistema de ecuaciones lineales para $p$, \n",
    "\n",
    "$$\n",
    "Ap=b\n",
    "$$\n",
    "\n",
    "donde $A:=F'F$ y $b:=F'y$.\n",
    "\n",
    "Como comentario final, si las columnas de $F$ son linealmente independientes (típicamente lo son), luego $A=F'F$ es invertible y, por ende, $p=A^{-1}b=(F'F)^{-1}F'y$.\n",
    "Aquí, $F^+:=(F'F)^{-1}F'$ es la denominada matriz pseudo-inversa de Moore-Penrose (ver [3]).\n",
    "\n",
    "##### Estimación de errores\n",
    "\n",
    "$\\newcommand{\\avrg}[1]{\\langle #1 \\rangle}$\n",
    "Una estimación de la varianza del $i$-ésimo parámetro $p_i$ debido a los errores experimentales en las mediciones de los valores $y_j$ viene dada por (ver [4])\n",
    "\n",
    "$$\\mathrm{Var}(p_i) = \\sigma^2 (F'F)^{-1}_{ii}$$\n",
    "\n",
    "donde\n",
    "\n",
    "$$\\sigma^2 = \\frac{1}{n-m}d(p)$$\n",
    "\n",
    "es un estimador de la varianza del ruido en los valores de los $y_j$. Luego, una estimación del error asociado al $i$-ésimo parámetro $p_i$ es la raíz cuadrada de dicha varianza, $\\sqrt{\\mathrm{Var}(p_i)}$.\n",
    "\n",
    "**Referencias**\n",
    "\n",
    "[1] https://www.youtube.com/watch?v=jezAWd6GFRg\n",
    "\n",
    "[2] https://math.stackexchange.com/questions/20694/vector-derivative-w-r-t-its-transpose-fracdaxdxt\n",
    "\n",
    "[3] https://en.wikipedia.org/wiki/Moore%E2%80%93Penrose_inverse\n",
    "\n",
    "[4] https://stats.stackexchange.com/questions/216335/standard-error-for-a-parameter-in-ordinary-least-squares"
   ]
  },
  {
   "cell_type": "markdown",
   "metadata": {},
   "source": [
    "**Ayuda:** Para cargar los datos, utilice los paquetes `CSV` y/o `DataFrames`, o utilice el código:"
   ]
  },
  {
   "cell_type": "code",
   "execution_count": null,
   "metadata": {},
   "outputs": [],
   "source": []
  },
  {
   "cell_type": "markdown",
   "metadata": {},
   "source": [
    "### Problema 5 : Ajuste no lineal\n",
    "\n",
    "1. Utilizando el paquete `LsqFit`, ajuste un conjunto de mediciones almacenadas en el archivo de texto llamado `decaimiento.txt` con la función \n",
    "$$\n",
    "F(t) = A \\exp\\bigg(-\\frac{t}{T}\\bigg)\n",
    "$$\n",
    "\n",
    "2. Determine los valores de $A$ y $T$ ajustados.\n",
    "\n",
    "3. Genere un gráfico que muestre tanto los datos medidos como la curva ajustada."
   ]
  },
  {
   "cell_type": "code",
   "execution_count": null,
   "metadata": {},
   "outputs": [],
   "source": [
    "#llamar con "
   ]
  },
  {
   "cell_type": "markdown",
   "metadata": {},
   "source": [
    "## Ejemplos adicionales"
   ]
  },
  {
   "cell_type": "markdown",
   "metadata": {},
   "source": [
    "### Problema 6 \n",
    "\n",
    "El comportamiento de dos átomos ligados formando una molécula estable puede ser descripto en términos de las masas de los mismos, y una energía potencial $U(r)$ que depende de la distancia $r$ entre sus centros.\n",
    "A distancias cortas, los átomos se repelen.\n",
    "A distancias grandes, los átomos se atraen, manteniendo formada la molécula.\n",
    "El potencial de Lennard-Jones es un modelo de $U(r)$ frecuentemente utilizado, y se define por\n",
    "$$\n",
    "U(r) = U_0 \\bigg[ \\bigg( \\frac{r_0}{r} \\bigg)^{12} - 2\\bigg( \\frac{r_0}{r} \\bigg)^6  \\bigg]\n",
    "$$\n",
    "\n",
    "Los parámetros $r_0$ y $U_0$ están empíricamente determinados por la molécula en consideración.\n",
    "Distintas moléculas, requieren distintos valores de $r_0$ y $U_0$.\n",
    "Para $r>r_0$ la pendiente de $U(r)$ es positiva, la fuerza es atractiva. \n",
    "Para $r<r_0$, la pendiente es negativa y la fuerza es fuertemente repulsiva.\n",
    "Para $r=r_0$ la fuerza es nula (mínimo de la energía potencial) y por tanto la molécula está en equilibrio.\n",
    "\n",
    "1. Grafique el potencial de Lennard-Jones usando $r_0=1[\\mathring{A}]$ y $U_0=1[meV]$ para tener una idea de su forma.\n",
    "\n",
    "2. Se realizaron mediciones del potencial $U(r)$ de una moleculada dada, a distintas distancias $r$. Los resultados obtenidos son:\n",
    "\n",
    "    |$r$ [A] | $U(r)$ [meV] |\n",
    "    |------|------------|\n",
    "    |2.85  |  2.66542   |\n",
    "    |2.90  |  1.01110   |\n",
    "    |3.00  |  -1.07252  |\n",
    "    |3.10  |  -2.11419  |\n",
    "    |3.30  |  -2.67023  |\n",
    "    |3.70  |  -2.00824  |\n",
    "    |4.00  |  -1.41200  |\n",
    "    |4.50  |  -0.75629  |\n",
    "    |5.20  |  -0.32556  |\n",
    "    |6.00  |  -0.13291  |\n",
    "    |7.00  |  -0.04498  |\n",
    "    |8.00  |  -0.01276  |\n",
    "\n",
    "    donde $\\mathring{A}$ indica una unidad de Angstrom. Determine los valores de $U_0$ y $r_0$ ajustando los datos de la tabla. Grafique simultaneamente los datos y el ajuste.\n",
    "\n",
    "3. Considere la siguiente tabla e infiera que molécula fué medida\n",
    "\n",
    "|Molécula  |$U_0$ [meV] |  $r_0$ [A] |\n",
    "|----------|------|-----|\n",
    "|Hidrógeno | 2.68 | 3.3 |\n",
    "|Nitrógeno | 8.18 | 4.2 |\n",
    "|Oxígeno   |10.11 | 3.9 |"
   ]
  },
  {
   "cell_type": "code",
   "execution_count": null,
   "metadata": {},
   "outputs": [],
   "source": []
  },
  {
   "cell_type": "markdown",
   "metadata": {},
   "source": [
    "### Problema 7\n",
    "\n",
    "En este ejercicio aprenderá a leer los datos de un archivo similar el del ejercicio anterior, pero usando la librería `CSV.jl`. \n",
    "\n",
    "Ajuste los datos del archivo `math_pendulum.csv` con una función del tipo \n",
    "\n",
    "$$m(t,p) = p_1 + p_2\\cos(p_3t + p_4)$$\n",
    "\n",
    "1. Para ello, primero grafique los datos y obtenga parámetros aproximados a los fines de iniciar la búsqueda de los mejores parámetros.\n",
    "2. Realize el ajuste con la librería `LsqFit`.\n",
    "3. Grafique en un mismo gráfico los datos dados y la mejor aproximación."
   ]
  },
  {
   "cell_type": "markdown",
   "metadata": {},
   "source": [
    "**Ayuda:** para leer los datos use la siguiente expresión:"
   ]
  },
  {
   "cell_type": "code",
   "execution_count": null,
   "metadata": {},
   "outputs": [],
   "source": []
  }
 ],
 "metadata": {
  "@webio": {
   "lastCommId": null,
   "lastKernelId": null
  },
  "kernelspec": {
   "display_name": "Julia 1.10.2",
   "language": "julia",
   "name": "julia-1.10"
  },
  "language_info": {
   "file_extension": ".jl",
   "mimetype": "application/julia",
   "name": "julia",
   "version": "1.10.2"
  }
 },
 "nbformat": 4,
 "nbformat_minor": 4
}
