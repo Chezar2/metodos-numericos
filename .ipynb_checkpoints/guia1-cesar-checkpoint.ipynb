{
 "cells": [
  {
   "cell_type": "markdown",
   "metadata": {},
   "source": [
    "# Métodos Numéricos 2024"
   ]
  },
  {
   "cell_type": "markdown",
   "metadata": {},
   "source": [
    "## Guía 1: 2024-03-12"
   ]
  },
  {
   "cell_type": "markdown",
   "metadata": {},
   "source": [
    "## Parte 1 : Uso de Linux, Julia y Notebooks"
   ]
  },
  {
   "cell_type": "markdown",
   "metadata": {},
   "source": [
    "### Ejercicio 1 : terminal de *bash*\n",
    "\n",
    "1. Abra una terminal de *bash* de linux. Ud. debería ver en la termina un *prompt* `user@host:~$` indicando el nombre del *usuario* logueado y del *host* (la computadora). En la práctica el nombre de user y host pueden cambiar dependiendo de quién es el usuario que está loguead y en que máquina lo haya hecho. Por otro lado, lo que está entre los dos puntos `:` y el signo pesos `$` indica el directorio de trabajo. En este caso, el símbolo es `~` lo cual representa una abreviación del directorio de trabajo de su usuario que, en este ejemplo, es `/home/user/`.\n",
    "\n",
    "2. El prompt le permite a Ud. ingresar comandos de *bash*. Con estos comandos, Ud. podrá crear y borrar directorios, copiar archivos, cambiar de directorio de trabajo, imprimir en pantalla la lista de directorios y archivos en su actual directorio de trabajo, etc. Además, podrá ejecutar programas."
   ]
  },
  {
   "cell_type": "markdown",
   "metadata": {},
   "source": [
    "### Ejercicio 2 : instalando *Julia*\n",
    "\n",
    "*Julia* es un lenguage de programación de [código abierto](https://es.wikipedia.org/wiki/C%C3%B3digo_abierto) (open source) específicamente desarrollado para el cálculo numérico y científico. Es el lenguaje de programación que utilizaremos en la comisión de Julia de los prácticos de Métodos Numéricos (2024).\n",
    "\n",
    "A continuación, Ud. deberá instalar Julia en la computadora en la que está trabajando. En algunos casos, puede que Julia ya esté instalado. Si ese es el caso, llame al profesor para que elimine la instalación así Ud. puede practicar la misma.\n",
    "\n",
    "Para instalar Julia:\n",
    "\n",
    "1. Ingrese a la página oficial de Julia\n",
    "\n",
    "* [https://julialang.org/](https://julialang.org/)\n",
    "        \n",
    "2. En la página de Julia, cliquee en el botón *Download*. Esto lo llevará a Ud. a la página\n",
    "\n",
    "* [https://julialang.org/downloads/](https://julialang.org/downloads/)\n",
    "        \n",
    "3. Luego, vaya hasta la sección *Official Binaries for Manual Download* y baje el archivo \n",
    "\n",
    "* [https://julialang-s3.julialang.org/bin/linux/x64/1.10/julia-1.10.2-linux-x86_64.tar.gz](https://julialang-s3.julialang.org/bin/linux/x64/1.10/julia-1.10.2-linux-x86_64.tar.gz)\n",
    "        \n",
    "    (o la versión equivalente) escondido en el link de nombre `glibc` correspondiente a la versión *Generic Linux on x86* de Linux.\n",
    "    \n",
    "4. Abra una terminal de bash y descomprima el archivo ejecutando el comando\n",
    "\n",
    "        tar -xf julia-1.10.2-linux-x86_64.tar.gz\n",
    "        \n",
    "    esto creará una carpeta llamada `julia-1.10.2` en donde podrá encontrar los archivos de Julia.\n",
    "    \n",
    "5. Para poder ejecutar julia desde cualquier directorio, hay que modificar el archivo de texto `.bashrc` agregandole al final la linea\n",
    "\n",
    "        export PATH=:$HOME/julia-1.10.2/bin:$PATH\n",
    "        \n",
    "   Para ello, puede utilizar el editor de texto `gedit` ingresando el comando\n",
    "   \n",
    "        gedit ~/.bashrc"
   ]
  },
  {
   "cell_type": "markdown",
   "metadata": {},
   "source": [
    "### Ejercicio 3 : instalando *paquetes* de Julia\n",
    "\n",
    "1. En una terminal de bash, inicie una terminal de Julia ingresando el comando `julia`. Con esto, le aparecerá el prompt `julia>` de la terminal de Julia en donde Ud. podrá ingresar comandos de Julia.\n",
    "\n",
    "2. Importe el administrador de paquetes de Julia llamado `Pkg` ingrese el comando \n",
    "\n",
    "        using Pkg \n",
    "   \n",
    "3. Para poder realizar graficos en Julia, instale el paquete `Plots` ingresando el comando \n",
    "\n",
    "        Pkg.add(\"Plots\")\n",
    "   \n",
    "4. Para poder utilizar *notebooks de Jupyter* en Julia, instale el paquete `IJulia` ingresando el comando\n",
    "\n",
    "        Pkg.add(\"IJulia\")\n",
    "   \n",
    "5. Para salir de la terminal de Julia ingrese el comando\n",
    "\n",
    "        exit()"
   ]
  },
  {
   "cell_type": "markdown",
   "metadata": {},
   "source": [
    "### Ejercicio 4 : Clonando el repositorio *git*\n",
    "\n",
    "1. En una terminal de bash, cree un directorio con el formato `apellido-nombre` ingresando el comando\n",
    "\n",
    "        mkdir apellido-nombre\n",
    "\n",
    "    Recuerde usar su primer appellido en vez de `apellido` y su primer nombre en vez de `nombre`. Evite utilizar espacios, acentos o la letra ñ.\n",
    "   \n",
    "2. Cambie de directorio de trabajo ingresando al directorio recientemente creado ingresando el comando\n",
    "\n",
    "        cd apellido-nombre\n",
    "\n",
    "3. Clone el repositorio ingresando el comando\n",
    "\n",
    "        git clone https://github.com/jipphysics/metodos-numericos-2024.git"
   ]
  },
  {
   "cell_type": "markdown",
   "metadata": {},
   "source": [
    "### Ejercicio 5 : Trabajando con *notebooks*\n",
    "\n",
    "1. En una terminal de bash, inicialize una terminal de Julia ingresando el comando\n",
    "\n",
    "        julia\n",
    "    \n",
    "2. En la terminal de Julia, inicialize el administrador de notebooks de *Jupyter* ingresando los comandos\n",
    "\n",
    "        using IJulia\n",
    "        notebook()\n",
    "   \n",
    "3. Desde el administrador de notebooks, vaya a la carpeta del repositior que anteriormente clonó y cree una copia o duplicado de la notebook \n",
    "\n",
    "        guia-1-2024.ipynb\n",
    "\n",
    "4. Abra la copia de la notebook y resuelva los ejercicios y problemas.\n",
    "\n",
    "**IMPORTANTE:** Trabaje siempre en la copia de las notebook del repositorio clonado. Nunca trabaje en la originale. Esto le permitirá en un futuro bajar facilmente el resto de las guías."
   ]
  },
  {
   "cell_type": "markdown",
   "metadata": {},
   "source": [
    "## Parte 2 : Ejercicios de programación en Julia"
   ]
  },
  {
   "cell_type": "markdown",
   "metadata": {},
   "source": [
    "### Ejercicio 6: strings\n",
    "\n",
    "En Julia, como en la mayoría de los lenguajes de programación, uno puede representar texto en el código utilizando cadenas de caracteres (strings). Para construir una cadena de caracteres, simplemente englobe el texto entre comillas\n",
    "\n",
    "        \"Hola mundo!\"\n",
    "        \n",
    "A continuación, construya una cadena de texto con su frase favorita."
   ]
  },
  {
   "cell_type": "code",
   "execution_count": 1,
   "metadata": {},
   "outputs": [
    {
     "data": {
      "text/plain": [
       "\"checheche\""
      ]
     },
     "execution_count": 1,
     "metadata": {},
     "output_type": "execute_result"
    }
   ],
   "source": [
    "\"checheche\""
   ]
  },
  {
   "cell_type": "markdown",
   "metadata": {},
   "source": [
    "### Ejercicio 7: unicode\n",
    "\n",
    "Escribir símbolos especiales en Julia es muy parecido a escribir símbolos especiales en LaTeX. Para ello, se utiliza el sistema unicode\n",
    "\n",
    "* [https://docs.julialang.org/en/v1/manual/unicode-input/](https://docs.julialang.org/en/v1/manual/unicode-input/)\n",
    "\n",
    "Por ejemplo, para ingresar:"
   ]
  },
  {
   "cell_type": "code",
   "execution_count": 2,
   "metadata": {},
   "outputs": [],
   "source": [
    "#÷     # tiene que escribir \\div y luego presionar la tecla tab.\n",
    "\n",
    "\n",
    "#α     # tiene que escribir \\alpha y luego presionar la tecla tab.\n",
    "\n",
    "#⊗     # tiene que escribir \\otimes y luego presionar la tecla tab."
   ]
  },
  {
   "cell_type": "markdown",
   "metadata": {},
   "source": [
    "En una celda de código ingrese los símbolos unicode $\\pm$, $\\times$, $\\Delta$, $\\epsilon$, $\\backepsilon$, $\\subset$ y $x^3$."
   ]
  },
  {
   "cell_type": "code",
   "execution_count": null,
   "metadata": {},
   "outputs": [],
   "source": []
  },
  {
   "cell_type": "markdown",
   "metadata": {},
   "source": [
    " ###Ejercicio 8: números enteros\n",
    "\n",
    "En Julia, Ud. puede representar un número de entero en el código escribiendo el número de la manera usual. Note, sin embargo, que los números enteros que una computadora puede representar abarcan un rango finito de posibilidades, dependiendo del *tipo* de número de entero utilizado. \n",
    "\n",
    "En Julia, existen los tipos `UInt8`, `UInt16`, `UInt32`, `UInt64` y `UInt128` para representar enteros sin signo (Unsigned) de 8, 16, 32, 64 y 128 bits y los tipos `Int8`, `Int16`, `Int32`, `Int64` y `Int128` para representar enteros con signo de 8, 16, 32, 64 y 128 bits. Por defecto, Julia utiliza enteros con signo de 64 bits. Por ende, si Ud. escribe\n",
    "\n",
    "    42\n",
    "    \n",
    "Julia asumirá que dicho número es un número entero de tipo `Int64`. Si Ud. desea que dicho número sea de tipo entero sin signo y 16 bits, simplemente escriba\n",
    "\n",
    "    UInt16(42)\n",
    "\n",
    "Para más detalle, visite la ayuda correspondiente de la página de Julia:\n",
    "\n",
    "* [https://docs.julialang.org/en/v1/manual/integers-and-floating-point-numbers/#Integers](https://docs.julialang.org/en/v1/manual/integers-and-floating-point-numbers/#Integers)\n",
    "\n",
    "A contiuación, ingrese un número de cada tipo."
   ]
  },
  {
   "cell_type": "code",
   "execution_count": 3,
   "metadata": {},
   "outputs": [
    {
     "name": "stdout",
     "output_type": "stream",
     "text": [
      "42"
     ]
    }
   ],
   "source": [
    "a=UInt16(42)\n",
    "print(a)"
   ]
  },
  {
   "cell_type": "markdown",
   "metadata": {},
   "source": [
    "### Ejercicio 9: números flotantes\n",
    "\n",
    "De manera similar a lo que ocurre con los números enteros, Julia puede representar números flotantes de diferentes tipos de precisión. Por defecto, Julia asume que los números flotantes son de 64 bits. Por ejemplo, Julia traduce\n",
    "\n",
    "        1.0\n",
    "        \n",
    "al número `Float64(1.0)`. \n",
    "\n",
    "Ingrese números flotantes de 16, 32 y 64 bits."
   ]
  },
  {
   "cell_type": "code",
   "execution_count": 4,
   "metadata": {},
   "outputs": [
    {
     "name": "stdout",
     "output_type": "stream",
     "text": [
      "2.0"
     ]
    }
   ],
   "source": [
    "a=Float64(1.0)\n",
    "print(a *2)"
   ]
  },
  {
   "cell_type": "markdown",
   "metadata": {},
   "source": [
    "### Ejercicio 10: variables\n",
    "\n",
    "Las variables se usan para almacenar valores. Los valores pueden ser números, strings, arrays, etc. Por ejemplo, en Julia podemos asignar un valor a una variable `x` utilizando la siguiente sintaxis\n",
    "\n",
    "    x = 10.0\n",
    "    \n",
    "Cree diferentes variables asignandole diferentes valores. Modifique luego el valor de las variables."
   ]
  },
  {
   "cell_type": "code",
   "execution_count": 5,
   "metadata": {},
   "outputs": [
    {
     "name": "stdout",
     "output_type": "stream",
     "text": [
      "444\n",
      "el valor es 22\n"
     ]
    }
   ],
   "source": [
    "a=10000\n",
    "b=444\n",
    "c=a ÷b\n",
    "println(b)\n",
    "println(\"el valor es $(c)\")"
   ]
  },
  {
   "cell_type": "markdown",
   "metadata": {},
   "source": [
    "### Ejercicio 11: print\n",
    "\n",
    "Las funciones `print` y `println` nos permiten imprimir cosas en pantalla. Por ejemplo\n",
    "\n",
    "    println(\"Hola mundo!\")\n",
    "    \n",
    "imprimirá\n",
    "\n",
    "    Hola mundo!\n",
    "\n",
    "Se puede usar el concepto de *interpolacion* imprimir el valor de variables. Por ejemplo\n",
    "\n",
    "    x = 10.0\n",
    "    \n",
    "    println(\"El valor de x es $(x)\")\n",
    "    \n",
    "Para más información, lea la documentación correspondiente en la página de Julia\n",
    "\n",
    "* [https://docs.julialang.org/en/v1/manual/strings/#string-interpolation](https://docs.julialang.org/en/v1/manual/strings/#string-interpolation)\n",
    "    \n",
    "Use interpolación para imprimir el valor de las variables definidas arriba.    "
   ]
  },
  {
   "cell_type": "code",
   "execution_count": 6,
   "metadata": {},
   "outputs": [
    {
     "name": "stdout",
     "output_type": "stream",
     "text": [
      "el valor de x es 0.1\n"
     ]
    }
   ],
   "source": [
    "x=0.1\n",
    "println(\"el valor de x es $(x)\")"
   ]
  },
  {
   "cell_type": "markdown",
   "metadata": {},
   "source": [
    "### Ejercicio 12: operadores aritméticos\n",
    "\n",
    "Los operadores aritméticos nos permiten realizar operaciones aritméticas sobre expressiones y/o variables con valores numéricos. Por ejemplo, podemos cambiar de signo, sumar, restar, multiplicar, divir y exponenciar enteros, escribiendo\n",
    "\n",
    "       -3\n",
    "        3 + 4\n",
    "        3 - 4\n",
    "        3 * 4\n",
    "        3 / 4   # División flotante de 3 sobre 4\n",
    "        3 \\ 4   # División flotante de 4 sobre 3\n",
    "        3 ÷ 4   # División entera de 3 sobre 4\n",
    "        3 % 4   # Resto de la división entera de 3 sobre 4\n",
    "        3 ^ 4   # Exponenciación\n",
    "    \n",
    "Para más información, visite la documentación de Julia al respecto\n",
    "\n",
    "* [https://docs.julialang.org/en/v1/manual/mathematical-operations/](https://docs.julialang.org/en/v1/manual/mathematical-operations/)\n",
    "    \n",
    "Pruebe evaluar estas expresiones Ud. mismo. Que ocurre en el caso de las divisiones? Repita las anteriores operaciones con números flotantes. Es posible sumar strings? Y multiplicarlas?"
   ]
  },
  {
   "cell_type": "code",
   "execution_count": 7,
   "metadata": {},
   "outputs": [
    {
     "name": "stdout",
     "output_type": "stream",
     "text": [
      "0.03636363636363636\n"
     ]
    }
   ],
   "source": [
    "a=34-4\n",
    "b=66/3\n",
    "f=2\n",
    "g=55\n",
    "h=f/g\n",
    "println(h)"
   ]
  },
  {
   "cell_type": "markdown",
   "metadata": {},
   "source": [
    "### Ejercicio 13: operadores booleanos\n",
    "\n",
    "Los operadores booleanos permiten realizar operaciones lógicas con los valores booleanos `true` y `false` (verdadero y falso). Por ejemplo, si `x` e `y` representan variables (o constantes) de valores booleanos, podemos aplicar el operador unario de *negación* (cambiar de verdadero a falso y viceversa)\n",
    "\n",
    "        !x\n",
    "        \n",
    "o podemos aplicar los operadores binarios *and* y *or*\n",
    "\n",
    "        x && y\n",
    "        x || y\n",
    "        \n",
    "respectivamente.\n",
    "\n",
    "También existen los operadores de comparación, los cuales retornan un valor booleano. Por ejemplo, los operadores aritméticos `==`, `<`, `>`, `<=`, `>=` (igual, menor, mayor, menor o igual, mayor o igual).\n",
    "\n",
    "Para más información, visite la documentación de Julia al respecto\n",
    "\n",
    "* [https://docs.julialang.org/en/v1/manual/mathematical-operations/](https://docs.julialang.org/en/v1/manual/mathematical-operations/)\n",
    "\n",
    "Para todas las combinaciones posibles de los valores booleanos de las variables `x` e `y`, calcule los valores booleanos de las expresiones `!x`, `x && y` y `x || y`.\n",
    "\n",
    "Luego, asigne valores aritméticos a `x` e `y` y evalúe los operadores de comparación. \n",
    "\n",
    "Pueden compararse strings?"
   ]
  },
  {
   "cell_type": "code",
   "execution_count": 8,
   "metadata": {},
   "outputs": [
    {
     "name": "stdout",
     "output_type": "stream",
     "text": [
      "ss\n"
     ]
    }
   ],
   "source": [
    "a=23\n",
    "b=9\n",
    "if (a==b || a>b)\n",
    "    println(\"ss\");\n",
    "else \n",
    "    println(\"noon\");\n",
    "end"
   ]
  },
  {
   "cell_type": "markdown",
   "metadata": {},
   "source": [
    "### Ejercicio 14: condicionales\n",
    "\n",
    "Existen diferentes formas de controlar el flujo de un programa. Las expresiones condicionales sirven para controlar el flujo de un programa. La más común de ellas es el comando `if`. Veamos un ejemplo\n",
    "\n",
    "        x = 1\n",
    "        if x > 0\n",
    "            println(\"Si\");\n",
    "        else\n",
    "            println(\"No\");        \n",
    "        end\n",
    "        \n",
    "Evalúe el ejemplo. Luego, intente combiar operadores del ejercicio 13 con el if."
   ]
  },
  {
   "cell_type": "code",
   "execution_count": 9,
   "metadata": {},
   "outputs": [
    {
     "name": "stdout",
     "output_type": "stream",
     "text": [
      "no\n"
     ]
    }
   ],
   "source": [
    "x=-88\n",
    "if x>0\n",
    "    println(\"si\");\n",
    "    else\n",
    "    println(\"no\");\n",
    "end"
   ]
  },
  {
   "cell_type": "markdown",
   "metadata": {},
   "source": [
    "### Ejercicio 13: loops\n",
    "\n",
    "Los loops proveen de otra forma de controlar el flujo de un programa. El fomando `for` provee la forma más común de implementar loops en Julia. Por ejemplo\n",
    "\n",
    "        for i in 1:10\n",
    "           println(\"$i\") \n",
    "        end\n",
    "        \n",
    "Para más información, puede leer la documentación de Julia al respecto\n",
    "\n",
    "* [https://docs.julialang.org/en/v1/base/base/#for](https://docs.julialang.org/en/v1/base/base/#for)\n",
    "        \n",
    "Pruebe el ejemplo anterior. Modifíquelo para que imprima los números 1,2,4,8,16,32,64,128,256.   "
   ]
  },
  {
   "cell_type": "code",
   "execution_count": 10,
   "metadata": {},
   "outputs": [
    {
     "name": "stdout",
     "output_type": "stream",
     "text": [
      " el valor es i=0\n",
      "k= 0\n",
      " el valor es i=2\n",
      "k= 4\n",
      " el valor es i=4\n",
      "k= 16\n",
      " el valor es i=6\n",
      "k= 36\n",
      " el valor es i=8\n",
      "k= 64\n"
     ]
    }
   ],
   "source": [
    "for i in 0:2:8\n",
    "    println(\" el valor es i=$i\")\n",
    "    k=i^2\n",
    "    println(\"k= $k\")\n",
    "end"
   ]
  },
  {
   "cell_type": "markdown",
   "metadata": {},
   "source": [
    "### Ejercicio 15: funciones\n",
    "\n",
    "Las funciones proveen otra forma de controlar el flujo de un programa. En Julia, existen varias maneras de implementar una función. A continuación ejemplificamos las dos más simples. La primer forma se utiliza para definir funciones que puedan escribirse en una linea\n",
    "\n",
    "    f(x,y) = 2*x+y^3\n",
    "    f(3,4)\n",
    "    \n",
    "La segunda forma, sirve para definir funciones mas complejas    \n",
    "    \n",
    "    function g(i,n)\n",
    "        for j = 1:n\n",
    "            m=i^j\n",
    "            println(\"$m\")\n",
    "        end\n",
    "    end\n",
    "    g(2,5)\n",
    "    \n",
    "Implemente y pruebe ambas funciones. Luego, implemente y pruebe una función que retorne si un número es par o no. "
   ]
  },
  {
   "cell_type": "code",
   "execution_count": 11,
   "metadata": {},
   "outputs": [
    {
     "name": "stdout",
     "output_type": "stream",
     "text": [
      "2\n",
      "4\n",
      "---- 2da parte---\n",
      "pajaro es:3\n"
     ]
    }
   ],
   "source": [
    "function p(i,n)\n",
    "    for j= 1:n\n",
    "        m=i^j\n",
    "        println(\"$m\")\n",
    "    end\n",
    "end\n",
    "p(2,2)\n",
    "println(\"---- 2da parte---\")\n",
    "function pajaro(x,y)\n",
    "\n",
    "    return x+y\n",
    " # println(y)\n",
    "end\n",
    "h=pajaro(1,2)\n",
    "println(\"pajaro es:\",h)"
   ]
  },
  {
   "cell_type": "code",
   "execution_count": 12,
   "metadata": {
    "scrolled": true
   },
   "outputs": [
    {
     "name": "stdout",
     "output_type": "stream",
     "text": [
      "5\n"
     ]
    }
   ],
   "source": [
    "l(x,y)=2*x+y^3  #altgr coma + espacio\n",
    "println(l(2,1))"
   ]
  },
  {
   "cell_type": "markdown",
   "metadata": {},
   "source": [
    "### Ejercicio 16: arrays\n",
    "\n",
    "El uso de vectores, matrices y tensores en general es muy común en el cálculo numérico. Los arreglos o *arrays* constituyen la forma más común de representar estos objetos matemáticos en un programa. Por ejemplo, para definir un array 1D de 5 números enteros, podemos escribir\n",
    "\n",
    "    a = Array{Int64}(undef,5)\n",
    "    \n",
    "Luego, para acceder al í-esimo elemento del array escribimos `a[i]`. De esta manera, podemos asignar valores a los elementos del array escribiendo\n",
    "\n",
    "    for i in 1:length(a)\n",
    "       a[i] = 100\n",
    "    end\n",
    "\n",
    "y luego ver que, efectivamente las entradas del array valen 100. Por ejemplo, para ver el valor almacenado en la entrada 3 escribimos\n",
    "\n",
    "    a[3]\n",
    "    \n",
    "Para definir un array 2D de dimensiones 3x4 de números flotantes de 64 bits, escribimos\n",
    "\n",
    "    b = Array{Float64}(undef,(3,4))\n",
    "    \n",
    "y para acceder al elemento i,j-ésimo escribimos `b[i,j]`.\n",
    "\n",
    "Cree y asigne valores al array `a`. Repita lo anterior para el array `b`. Luego, fabrique un array de números flotantes de 3D."
   ]
  },
  {
   "cell_type": "code",
   "execution_count": 13,
   "metadata": {},
   "outputs": [
    {
     "name": "stdout",
     "output_type": "stream",
     "text": [
      "3\n",
      "6\n",
      "9\n",
      "12\n",
      "15\n",
      "segunda parte: \n",
      "1.0\n",
      "2.0\n",
      "3.0\n",
      "4.0\n",
      "2.0\n",
      "4.0\n",
      "6.0\n",
      "8.0\n",
      "3.0\n",
      "6.0\n",
      "9.0\n",
      "12.0\n",
      "4.0\n",
      "8.0\n",
      "12.0\n",
      "16.0\n"
     ]
    }
   ],
   "source": [
    "#un array de 1d\n",
    "a=Array{Int64}(undef,5)\n",
    "for i in 1:5\n",
    "    #print(\",i= $i\")\n",
    "    a[i]=3*i\n",
    "end\n",
    "for i in 1:5\n",
    "    println(a[i])\n",
    "end\n",
    "\n",
    "### ahora uno de 2d\n",
    "println(\"segunda parte: \")\n",
    "\n",
    "b= Array{Float64}(undef,(4,4)) #aqui tiraba error por tenerlo def en 4x4 y luego cargar como si fuera 3x4\n",
    "for i in 1:4\n",
    "    for j in 1:4\n",
    "        b[i,j]=i*j\n",
    "    end\n",
    "end\n",
    "\n",
    "for i in 1:4\n",
    "    for j in 1:4\n",
    "        println(b[i,j])\n",
    "    end\n",
    "end\n"
   ]
  },
  {
   "cell_type": "markdown",
   "metadata": {},
   "source": [
    "### Ejercicio 17: gráficos\n",
    "\n",
    "Grafique la función seno en el intervalo $[0,2\\pi]$. Para ello, primero importe el paquete `Plots` escribiendo\n",
    "\n",
    "     using Plots\n",
    "    \n",
    "y luego realize el gráfico con el programa\n",
    "\n",
    "     plot(0:0.01:2*π,sin,xlabel=\"x\",ylabel=\"sen(x)\",label=\"\")\n",
    "     \n",
    "Luego, buscando la documentación del paquete `Plots` de Julia\n",
    "\n",
    "* [https://docs.juliaplots.org/stable/tutorial/#tutorial](https://docs.juliaplots.org/stable/tutorial/#tutorial)\n",
    "\n",
    "determine que es lo que indica cada argumento pasado a la función `plots` en el anterior programa."
   ]
  },
  {
   "cell_type": "code",
   "execution_count": null,
   "metadata": {},
   "outputs": [],
   "source": [
    "using Plots\n",
    " plot(0:0.01:2*π,sin,xlabel=\"x\",ylabel=\"sen(x)\",label=\"\")\n"
   ]
  },
  {
   "cell_type": "code",
   "execution_count": null,
   "metadata": {},
   "outputs": [],
   "source": [
    "import Pkg\n",
    "Pkg.add(\"Plots\")"
   ]
  },
  {
   "cell_type": "markdown",
   "metadata": {},
   "source": [
    "## Parte 3 : Errores numéricos"
   ]
  },
  {
   "cell_type": "markdown",
   "metadata": {},
   "source": [
    "### Problema 1\n",
    "\n",
    "Evaluar las siguientes operaciones matemáticas, una por celda. Tenga en cuenta que, en Julia, la división entera se representa por el símbolo ÷.\n",
    "\n",
    "    A = 5 ÷ 2 + 20 ÷ 6\n",
    "    B = 4 * 6 ÷ 2 - 15 ÷ 2\n",
    "    C = 5 * 15 ÷ 2 ÷ (4 - 2)\n",
    "    D = 1 + 1 ÷ 4\n",
    "    E = 1. + 1 ÷ 4\n",
    "    F = 1 + 1. / 4\n",
    "    G = 1. + 1. / 4.\n",
    "    \n",
    "En que se diferencian los casos, D, E, F y G?"
   ]
  },
  {
   "cell_type": "code",
   "execution_count": null,
   "metadata": {},
   "outputs": [],
   "source": [
    "A=5 ÷ 2 + 20 ÷ 6\n",
    "println(A)"
   ]
  },
  {
   "cell_type": "code",
   "execution_count": null,
   "metadata": {},
   "outputs": [],
   "source": [
    "B=4*6 ÷ 2 - 15 ÷ 2\n",
    "println(B)"
   ]
  },
  {
   "cell_type": "code",
   "execution_count": null,
   "metadata": {},
   "outputs": [],
   "source": [
    "C=5 * 15 ÷2÷(4-2)\n",
    "println(C)"
   ]
  },
  {
   "cell_type": "code",
   "execution_count": null,
   "metadata": {},
   "outputs": [],
   "source": [
    "D=1+1÷4\n",
    "print(D)"
   ]
  },
  {
   "cell_type": "code",
   "execution_count": null,
   "metadata": {},
   "outputs": [],
   "source": [
    "E=1. + 1÷4\n",
    "print(E)"
   ]
  },
  {
   "cell_type": "code",
   "execution_count": null,
   "metadata": {},
   "outputs": [],
   "source": [
    "F=1+1. /4"
   ]
  },
  {
   "cell_type": "code",
   "execution_count": null,
   "metadata": {},
   "outputs": [],
   "source": [
    "G=1. +1. /4.   #se diferencian por flotantes en div entera?"
   ]
  },
  {
   "cell_type": "markdown",
   "metadata": {},
   "source": [
    "### Problema 2\n",
    "\n",
    "Implemente una función que pida dos numeros reales y retorne el mayor de ellos, ó retorne el string `\"iguales\"` si son iguales. Pruebe la función para los casos\n",
    "\n",
    "    f(1,2)\n",
    "    f(2,1)\n",
    "    f(0.0,0.0)\n",
    "    f(0.0,10.0^(-500))\n",
    "    \n",
    "Explique que ocurre en el último caso.    "
   ]
  },
  {
   "cell_type": "code",
   "execution_count": null,
   "metadata": {},
   "outputs": [],
   "source": [
    "function d(x,y)\n",
    "    if (x>y)\n",
    "        return x;\n",
    "    elseif(x<y) \n",
    "        return y;\n",
    "    else\n",
    "            println(\"son iguales\");\n",
    "    end\n",
    "end\n",
    "d(0.0,10.0^(-500)) # en el ultimo caso los considera iguales por ser uno cero, y el ptrp demasiado cercano a cero;"
   ]
  },
  {
   "cell_type": "code",
   "execution_count": null,
   "metadata": {},
   "outputs": [],
   "source": []
  },
  {
   "cell_type": "markdown",
   "metadata": {},
   "source": [
    "### Problema 3\n",
    "\n",
    "Implemente una función que pida un número entero y retorne un booleano determinando si es multiplo de 2 y de 5.\n",
    "Testee la función con ejemplos."
   ]
  },
  {
   "cell_type": "code",
   "execution_count": null,
   "metadata": {},
   "outputs": [],
   "source": [
    "function l(x)\n",
    "   if(x%2==0 && x%5==0)\n",
    "        println(\"es multiplo de 2 y 5\");\n",
    "    else\n",
    "        println(\"no lo es\");\n",
    "    end\n",
    "end\n",
    "    l(50)"
   ]
  },
  {
   "cell_type": "markdown",
   "metadata": {},
   "source": [
    "### Problema 6\n",
    "\n",
    "Implemente una función que pida los coeficientes $A$, $B$ y $C$ de un polinomio real de segundo grado ($A x^2 + B x + C$), calcule e imprima en pantalla las dos raíces del polinomio en formato complejo $a + i b$, sin\n",
    "utilizar algebra compleja.\n",
    "Testee la función con ejemplos."
   ]
  },
  {
   "cell_type": "markdown",
   "metadata": {},
   "source": [
    "**Teoría**\n",
    "\n",
    "Dados\n",
    "$$\n",
    "a = -\\frac{B}{2A}\\in \\mathbb{R}\n",
    "\\;\\;\\;\\;\n",
    "\\mbox{y}\n",
    "\\;\\;\\;\\;\n",
    "b = \\frac{\\sqrt{\\left|B^2-4AC\\right|}}{2A}\\in \\mathbb{R}\n",
    "$$ \n",
    "luego, las soluciones de \n",
    "$$\n",
    "A x^2 + B x + C=0\n",
    "$$\n",
    "son\n",
    "$$\n",
    "x_{\\pm} = a\\pm b\n",
    "$$\n",
    "si el discriminante satisface\n",
    "$$\n",
    "B^2-4AC \\geq 0\n",
    "$$\n",
    "ó son\n",
    "$$\n",
    "x_{\\pm} = a\\pm ib\n",
    "$$\n",
    "en caso contrario."
   ]
  },
  {
   "cell_type": "code",
   "execution_count": null,
   "metadata": {},
   "outputs": [],
   "source": [
    "function j(a,b,c)  # Ax2+Bx+C\n",
    "    #busco las raices\n",
    "    if(b^(2)-4*a*c >= 0) #cumnple primer condicion\n",
    "        r=a+b\n",
    "        f=a-b\n",
    "        println(\"las raices son x1=$(r),x2=$(f)  \");\n",
    "    else\n",
    "        println(\"las raices son $(a)+-i $(b)\");\n",
    "    end    \n",
    "end\n",
    "j(2,3,0)"
   ]
  },
  {
   "cell_type": "markdown",
   "metadata": {},
   "source": [
    "### Problema 7\n",
    "\n",
    "Implemente una función que compute la suma en precisión simple (float de 32 bits)\n",
    "$$\n",
    "\\sum_{n=1}^{10\\,000\\,000} \\frac{1}{n}\n",
    "$$\n",
    "en el orden usual.\n",
    "Luego, implemente otra que compute la suma en el orden opuesto, también en precisión simple.\n",
    "Luego, repita todo el proceso para precisión doble (float de 64 bits).\n",
    "Ejecute todas funciones, observe los resultados y describa las diferencias obtenidas.\n",
    "En particular, indique cuál función es más precisa y explique porqué."
   ]
  },
  {
   "cell_type": "code",
   "execution_count": null,
   "metadata": {},
   "outputs": [],
   "source": [
    "function h(m)\n",
    "    a=Float32(m)\n",
    "    k=0.0   \n",
    "    for i in 1:m\n",
    "       k+=1/i  \n",
    "    end\n",
    "    return k;\n",
    "end\n",
    "h(10000000)"
   ]
  },
  {
   "cell_type": "markdown",
   "metadata": {},
   "source": []
  },
  {
   "cell_type": "markdown",
   "metadata": {},
   "source": [
    "### Problema 8\n",
    "\n",
    "Diseñar una función que calcule la potencia enésima de un número, es decir que devuelva $x^n$ para $x$ real y $n$ entero. Realice un programa que utilice la función e imprima en pantalla las primeras 5 potencias naturales de un número ingresado."
   ]
  },
  {
   "cell_type": "code",
   "execution_count": null,
   "metadata": {},
   "outputs": [],
   "source": [
    "function m(x,y)\n",
    "    return x^(y);\n",
    "end\n",
    "\n",
    "numero=2  #este es el numero a elevar a potencia\n",
    "for i in 1:5\n",
    "   a=m(numero,i)\n",
    "    println(\"$(numero) ^ $(i) = $(a)\")\n",
    "end"
   ]
  },
  {
   "cell_type": "markdown",
   "metadata": {},
   "source": [
    "### Problema 9\n",
    "\n",
    "Implemente una función que tome una matriz $A$ de dimensión $M\\times N$ y un vector $v$ de dimensión $N$ y retorne un vector de dimensión $M$ igual al producto matricial $Av$.\n",
    "\n",
    "Ralice varias pruebas de la función.\n",
    "\n",
    "**Ayuda:** Lea [https://docs.julialang.org/en/v1/base/arrays/](https://docs.julialang.org/en/v1/base/arrays/)."
   ]
  },
  {
   "cell_type": "code",
   "execution_count": null,
   "metadata": {},
   "outputs": [],
   "source": [
    "function multiplicar_matriz(A,v)\n",
    "@assert length(size(A))==2\n",
    "@assert length(size(v))==1\n",
    "M,N=size(A)\n",
    "@assert N== length(v)\n",
    "    w= zeros(M)\n",
    "    for i in 1:M\n",
    "         for j in 1:N\n",
    "            w[i] += A[i,j]*v[j]  #trucaso\n",
    "         end\n",
    "    end\n",
    "    return w\n",
    "end"
   ]
  },
  {
   "cell_type": "code",
   "execution_count": null,
   "metadata": {},
   "outputs": [],
   "source": [
    "using Random   #les cargo valores aleatorios a la matriz y al vector :)\n",
    "A=rand(2,3)\n",
    "v=rand(3)"
   ]
  },
  {
   "cell_type": "code",
   "execution_count": null,
   "metadata": {},
   "outputs": [],
   "source": [
    "w=multiplicar_matriz(A,v)"
   ]
  },
  {
   "cell_type": "markdown",
   "metadata": {},
   "source": []
  },
  {
   "cell_type": "markdown",
   "metadata": {},
   "source": [
    "### Problema 10\n",
    "\n",
    "Se determinaron 9 mediciones de concentraciones de fósforo en un campo y los datos obtenidos fueron:\n",
    "\n",
    "    479.80 \n",
    "    499.10 \n",
    "    510.20 \n",
    "    508.60\n",
    "    503.30\n",
    "    501.20\n",
    "    507.30\n",
    "    499.90\n",
    "    468.60\n",
    "    \n",
    "* Cargue los datos en un array.\n",
    "\n",
    "* Escriba un programa que calcule el promedio y la [estimación de la desviación estandard no sesgada](https://es.wikipedia.org/wiki/Estimaci%C3%B3n_de_la_desviaci%C3%B3n_est%C3%A1ndar_no_sesgada) del array de datos.\n",
    "\n",
    "**Ayudas:**\n",
    "\n",
    "* Puede crear el vector a mano, o puede intentar usando las funciones [split](https://docs.julialang.org/en/v1/base/strings/#Base.split) y [parse](https://docs.julialang.org/en/v1/base/numbers/#Base.parse), o puede intentar usar usar los paquetes [CSV](https://csv.juliadata.org/stable/) y [DataFrames](https://dataframes.juliadata.org/stable/).\n",
    "\n",
    "* El *promedio* de una serie de mediciones $x_1, x_2, ..., x_n$ se defined como\n",
    "\n",
    "    $$\n",
    "    \\overline{x} = \\frac{1}{n} \\sum_{i=1}^n x_i\n",
    "    $$\n",
    "\n",
    "    y la *estimación de la desviación estandard no sesgada* como\n",
    "    \n",
    "    $$\n",
    "    s_x = \\sqrt{\\frac{1}{n-1}\\sum_{i=1}^n (x_i-\\overline{x})^2}\n",
    "    $$"
   ]
  },
  {
   "cell_type": "code",
   "execution_count": null,
   "metadata": {},
   "outputs": [],
   "source": [
    "function promedio(m)\n",
    "    suma=0\n",
    "for i in 1:9\n",
    "        suma+=m[i]\n",
    "end\n",
    "    r=suma/9\n",
    "return r\n",
    "end\n",
    "\n",
    "function estimacion_desviacion_estandar_nosequecosa(m,x)\n",
    "    #primero calculo las sumas\n",
    "    suma=0\n",
    "    for i in 1:9\n",
    "        suma+=(m[i]-x)^2\n",
    "    end\n",
    "    #ahora lo multiplico por 1/n-1 = 1/8  y lo meto en la raiz\n",
    "    #println(\"la suma de los cuadrados: \",suma)\n",
    "    suma2=(suma/8)\n",
    "   # println(\"la suma div 8: \",suma2)\n",
    "    suma3=suma2^(0.5)\n",
    "    \n",
    "    return suma3    \n",
    "end\n",
    "\n",
    "m=zeros(9)  \n",
    " m[1]=479.80 \n",
    " m[2]=499.10 \n",
    " m[3]=510.20 \n",
    " m[4]=508.60\n",
    " m[5]=503.30\n",
    " m[6]=501.20\n",
    " m[7]=507.30\n",
    " m[8]=499.90\n",
    " m[9]=468.60\n",
    "prom=promedio(m)\n",
    "esti=estimacion_desviacion_estandar_nosequecosa(m,prom);\n",
    "println(\"promedio: \",prom)\n",
    "println(\"desviacion estandar: \",esti)"
   ]
  },
  {
   "cell_type": "code",
   "execution_count": null,
   "metadata": {},
   "outputs": [],
   "source": [
    "zeros(3,3)"
   ]
  },
  {
   "cell_type": "code",
   "execution_count": null,
   "metadata": {},
   "outputs": [],
   "source": [
    "ones(2,3)"
   ]
  },
  {
   "cell_type": "markdown",
   "metadata": {},
   "source": [
    "### Problema 11\n",
    "\n",
    "Escriba una funcion que retorne el *string* de la representación en base $b \\leq 16$ de un número natural $n$. Por ejemplo, para $n=42$, la función tiene que retornar `\"101010\"` si $b=2$ (representación binaria), y tiene que retornar `\"2A\"` si $b=16$ (representación hexadecimal).\n",
    "\n",
    "**Ayuda:** Utilice las operaciones división entera `÷` y resto `%`, la concatenación de *string* s (i.e. el operador ` *`) y utilice una *string* `\"0123456789ABCDEF\"` con todos los dígitos necesarios."
   ]
  },
  {
   "cell_type": "code",
   "execution_count": 10,
   "metadata": {},
   "outputs": [
    {
     "name": "stdout",
     "output_type": "stream",
     "text": [
      "la base es: 2 ,y el numero a cambiar es: 5\n",
      "resto 1\n",
      "el array tendra 1 posiciones;\n",
      "1"
     ]
    }
   ],
   "source": [
    "#funcion que cuenta digitos\n",
    "function contador(n)\n",
    "a=1\n",
    "b=0\n",
    "    while a<=n \n",
    "        print(h)\n",
    "            a=a*10\n",
    "            b+=1\n",
    "    end\n",
    " #   println(\"tiene $(b) digitos\")\n",
    "    return b\n",
    "end\n",
    "#calculo el tamaño del array\n",
    "function tamanio(n,base)\n",
    "a=false  #bandera\n",
    "    println(\"la base es: $(base) ,y el numero a cambiar es: $(n)\")\n",
    "cont=0\n",
    "b=0      #contador de restos (para dar tamaño al array\n",
    "    while a==false && cont<5\n",
    "         modulo=n%base\n",
    "        if (modulo==1)\n",
    "            println(\"resto 1\")\n",
    "            b=b+1\n",
    "            cont=cont+1\n",
    "            a=true\n",
    "        else\n",
    "            println(\"resto no 1\")\n",
    "            b=b+1\n",
    "             cont=cont+1\n",
    "        end\n",
    "    end\n",
    "    println(\"el array tendra $(b) posiciones;\")\n",
    "return b\n",
    "end\n",
    "\n",
    "#creo la funcion:\n",
    "function cambio_de_base(n)\n",
    "#primero, debo crear un array donde guardo todos los restos\n",
    "m=zeros(contador(n))\n",
    "println(m)\n",
    "\n",
    "end\n",
    "t=tamanio(5,2)\n",
    "print(t)"
   ]
  },
  {
   "cell_type": "code",
   "execution_count": 12,
   "metadata": {},
   "outputs": [
    {
     "name": "stdout",
     "output_type": "stream",
     "text": [
      "intento 1\n",
      "intento 2\n"
     ]
    },
    {
     "data": {
      "text/plain": [
       "\"2A\""
      ]
     },
     "execution_count": 12,
     "metadata": {},
     "output_type": "execute_result"
    }
   ],
   "source": [
    "#esto es lo que hizo frabritzio (punto 11)\n",
    "\n",
    "function cambio_base(n,b)\n",
    "   resto=\"\"\n",
    "    i=1\n",
    "    digitos=\"0123456789ABCDEF\"\n",
    "    while n>0 \n",
    "        println(\"intento $(i)\")\n",
    "        i=i+1\n",
    "        r=n%b\n",
    "        resto=digitos[r+1]*resto\n",
    "        n=n ÷ b        \n",
    "        end\n",
    "    return resto \n",
    "end\n",
    "\n",
    "cambio_base(42,16) #un capo"
   ]
  },
  {
   "cell_type": "markdown",
   "metadata": {},
   "source": [
    "cambio_base(42,2)"
   ]
  },
  {
   "cell_type": "code",
   "execution_count": null,
   "metadata": {},
   "outputs": [],
   "source": []
  },
  {
   "cell_type": "code",
   "execution_count": null,
   "metadata": {},
   "outputs": [],
   "source": []
  },
  {
   "cell_type": "markdown",
   "metadata": {},
   "source": [
    "### Problema 12\n",
    "\n",
    "Efectúe con un programa en Julia en simple precisión los siguientes cálculos matemáticamente equivalentes,\n",
    "\n",
    "**a)** $1\\,000\\,000 \\times 0.1$\n",
    "\n",
    "**b)** $\\sum_{n=1}^{1\\,000\\,000} 0.1$\n",
    "\n",
    "**c)** $\\sum_{n=1}^{1\\,000} \\left( \\sum_{m=1}^{1\\,000} 0.1\\right)$\n",
    "\n",
    "1. Vaya guardando en vectores los errores parciales cada 1000 iteraciones en el caso **b)**, y en todas las iteraciones de la suma externa en **c)**, de manera que cada suma parcial comprenda 1000 términos de la suma total.\n",
    "\n",
    "2. Grafique de manera comparativa dichos errores en función de los correspondientes valores de $n$. Incluya en el gráfico nombres adecuados en los ejes y con leyendas adecuadas. \n",
    "\n",
    "3. Repita el gráfico utilizando escala logarítmica en el eje $y$.\n",
    "\n",
    "4. Utilce los resultados anteriores para explicar las diferencias obtenidas entre resultados finales de **a)**, **b)** y **c)** y muestre que el error relativo en **b)** es del orden del $1\\%$, pero es mucho menor en **c)**."
   ]
  },
  {
   "cell_type": "code",
   "execution_count": 20,
   "metadata": {},
   "outputs": [
    {
     "name": "stdout",
     "output_type": "stream",
     "text": [
      "100000.0\n",
      "100000.00000133288\n",
      "1.0000000000133114e8\n"
     ]
    }
   ],
   "source": [
    "#a\n",
    "a=Float32(0)\n",
    "a=1000000*0.1\n",
    "println(a)\n",
    "\n",
    "#b\n",
    "suma=Float32(0)\n",
    "for i in 1:1000000\n",
    "    suma+=0.1\n",
    "end\n",
    "println(suma)\n",
    "\n",
    "#c\n",
    "suma1=Float32(0)\n",
    "for i in 1:1000 #primer sumatoria\n",
    "    suma1+=suma #como ya había calculado la segunda sumatoria, solo la agrego\n",
    "end\n",
    "println(suma1)"
   ]
  },
  {
   "cell_type": "code",
   "execution_count": null,
   "metadata": {},
   "outputs": [],
   "source": []
  },
  {
   "cell_type": "markdown",
   "metadata": {},
   "source": [
    "### Problema 13\n",
    "\n",
    "**Serie de Taylor, aproximaciones y errores**\n",
    "\n",
    "La siguiente fórmula permite expresar, usando la serie de Taylor a partir del punto $x=0$, la función *seno* como suma (infinita) de potencias:\n",
    "\n",
    "$$\n",
    "\\sin(x) = \\sum_{j=0}^{\\infty} \\frac{(-1)^j}{(2j+1)!}x^{2j+1}\n",
    "$$\n",
    "\n",
    "Podemos approximar esta expresión en la computadora truncando la serie en algún valor finito de $n$.\n",
    "\n",
    "1. Defina una función, `sin_n(x,n)` que tome como argumentos un valor de la variable `x` y un valor de `n` y devuelva el valor de la suma hasta dicho $n$. \n",
    "    \n",
    "2. Grafique en el intervalo $[0, 2π]$ dicha función para los distintos valores de $n=6,7,8$ y agregue en el mismo gráfico la función `sin(x)` que viene pre-definida en Julia.\n",
    "    \n",
    "3. En otro gráfico grafique el *error* entre la aproximación con $n=8$ y la función estandard de Julia. \n",
    "    \n",
    "4. Defina una nueva función, `sin_n_inv(x,n)` idéntica a al anterior pero donde la suma se haga en orden inverso.\n",
    "    \n",
    "5. Compare los errores obtenidos con `sin_n(x,n)` y `sin_n_inv(x,n)` para `n=8` en el rango $[0,1]$.\n",
    "\n",
    "6. Repita la comparación anterior utilizando precisión simple (i.e. numero flotante de 32 bits). \n",
    "\n",
    "7. Explique las diferencias observadas entre 5. y 6.\n",
    "\n",
    "**Ayudas:** \n",
    "\n",
    "* Para calcular el factorial de un número entero use la función `factorial`.\n",
    "\n",
    "* `Float32(x)` retorna el valor de `x` en precisión simple.\n",
    "\n",
    "* Las expresiones `zero(x)` y `one(x)` retornan 0 y 1, respectivamente, en la misma precisión que la variable `x`."
   ]
  },
  {
   "cell_type": "code",
   "execution_count": 50,
   "metadata": {
    "scrolled": true
   },
   "outputs": [
    {
     "name": "stdout",
     "output_type": "stream",
     "text": [
      "|sen(3.1415927)=-0.07522082|\n",
      "----------------------------\n"
     ]
    }
   ],
   "source": [
    "#1)\n",
    "function sin_n(x,n) #tengo que calcular el polinomio de taylor centrado 0 en hasta n\n",
    "suma=Float32(0)\n",
    "#suma=Float64(0)\n",
    "termino=Float32(0)\n",
    "#termino=Float64(0)\n",
    "    for i in 1:n \n",
    "        i=i-1   #inicia con i=1, pero lo necesito en 0\n",
    "        #println(\"------ i tiene el valor $(i)-----\")\n",
    "        #---------------\n",
    "      #  menos=(-1)^(i)    #los tengo a parte por las dudas  \n",
    "      #  palo=(x)^(2i+1)\n",
    "      #  pancho=factorial(2i+1)\n",
    "        #--------------\n",
    "        termino=(((-1)^(i))*((x)^(2i+1)))/(factorial(2i+1)) #cada termino de la sumatoria\n",
    "       # println(\"el termino tiene el valor: $(termino)\")\n",
    "        suma+=termino\n",
    "       # println(suma)\n",
    "    end\n",
    "    #println(\"----------------------------\")\n",
    "    return suma\n",
    "end\n",
    "x=Float32(3.1415926536)   #esto era re importante che\n",
    "n=4\n",
    "    println(\"|sen($(x))=\",sin_n(x,n),\"|\")\n",
    "    println(\"----------------------------\")"
   ]
  },
  {
   "cell_type": "code",
   "execution_count": 51,
   "metadata": {},
   "outputs": [],
   "source": [
    "#2\n",
    "#using Plots"
   ]
  },
  {
   "cell_type": "code",
   "execution_count": 34,
   "metadata": {
    "scrolled": true
   },
   "outputs": [
    {
     "data": {
      "image/png": "[encoded data removed]",
      "image/svg+xml": [
       "<?xml version=\"1.0\" encoding=\"utf-8\"?>\n",
       "<svg xmlns=\"http://www.w3.org/2000/svg\" xmlns:xlink=\"http://www.w3.org/1999/xlink\" width=\"600\" height=\"400\" viewBox=\"0 0 2400 1600\">\n",
       "<defs>\n",
       "  <clipPath id=\"clip730\">\n",
       "    <rect x=\"0\" y=\"0\" width=\"2400\" height=\"1600\"/>\n",
       "  </clipPath>\n",
       "</defs>\n",
       "<path clip-path=\"url(#clip730)\" d=\"M0 1600 L2400 1600 L2400 0 L0 0  Z\" fill=\"#ffffff\" fill-rule=\"evenodd\" fill-opacity=\"1\"/>\n",
       "<defs>\n",
       "  <clipPath id=\"clip731\">\n",
       "    <rect x=\"480\" y=\"0\" width=\"1681\" height=\"1600\"/>\n",
       "  </clipPath>\n",
       "</defs>\n",
       "<path clip-path=\"url(#clip730)\" d=\"M193.936 1486.45 L2352.76 1486.45 L2352.76 47.2441 L193.936 47.2441  Z\" fill=\"#ffffff\" fill-rule=\"evenodd\" fill-opacity=\"1\"/>\n",
       "<defs>\n",
       "  <clipPath id=\"clip732\">\n",
       "    <rect x=\"193\" y=\"47\" width=\"2160\" height=\"1440\"/>\n",
       "  </clipPath>\n",
       "</defs>\n",
       "<polyline clip-path=\"url(#clip732)\" style=\"stroke:#000000; stroke-linecap:round; stroke-linejoin:round; stroke-width:2; stroke-opacity:0.1; fill:none\" points=\"255.035,1486.45 255.035,47.2441 \"/>\n",
       "<polyline clip-path=\"url(#clip732)\" style=\"stroke:#000000; stroke-linecap:round; stroke-linejoin:round; stroke-width:2; stroke-opacity:0.1; fill:none\" points=\"579.173,1486.45 579.173,47.2441 \"/>\n",
       "<polyline clip-path=\"url(#clip732)\" style=\"stroke:#000000; stroke-linecap:round; stroke-linejoin:round; stroke-width:2; stroke-opacity:0.1; fill:none\" points=\"903.312,1486.45 903.312,47.2441 \"/>\n",
       "<polyline clip-path=\"url(#clip732)\" style=\"stroke:#000000; stroke-linecap:round; stroke-linejoin:round; stroke-width:2; stroke-opacity:0.1; fill:none\" points=\"1227.45,1486.45 1227.45,47.2441 \"/>\n",
       "<polyline clip-path=\"url(#clip732)\" style=\"stroke:#000000; stroke-linecap:round; stroke-linejoin:round; stroke-width:2; stroke-opacity:0.1; fill:none\" points=\"1551.59,1486.45 1551.59,47.2441 \"/>\n",
       "<polyline clip-path=\"url(#clip732)\" style=\"stroke:#000000; stroke-linecap:round; stroke-linejoin:round; stroke-width:2; stroke-opacity:0.1; fill:none\" points=\"1875.73,1486.45 1875.73,47.2441 \"/>\n",
       "<polyline clip-path=\"url(#clip732)\" style=\"stroke:#000000; stroke-linecap:round; stroke-linejoin:round; stroke-width:2; stroke-opacity:0.1; fill:none\" points=\"2199.87,1486.45 2199.87,47.2441 \"/>\n",
       "<polyline clip-path=\"url(#clip730)\" style=\"stroke:#000000; stroke-linecap:round; stroke-linejoin:round; stroke-width:4; stroke-opacity:1; fill:none\" points=\"193.936,1486.45 2352.76,1486.45 \"/>\n",
       "<polyline clip-path=\"url(#clip730)\" style=\"stroke:#000000; stroke-linecap:round; stroke-linejoin:round; stroke-width:4; stroke-opacity:1; fill:none\" points=\"255.035,1486.45 255.035,1467.55 \"/>\n",
       "<polyline clip-path=\"url(#clip730)\" style=\"stroke:#000000; stroke-linecap:round; stroke-linejoin:round; stroke-width:4; stroke-opacity:1; fill:none\" points=\"579.173,1486.45 579.173,1467.55 \"/>\n",
       "<polyline clip-path=\"url(#clip730)\" style=\"stroke:#000000; stroke-linecap:round; stroke-linejoin:round; stroke-width:4; stroke-opacity:1; fill:none\" points=\"903.312,1486.45 903.312,1467.55 \"/>\n",
       "<polyline clip-path=\"url(#clip730)\" style=\"stroke:#000000; stroke-linecap:round; stroke-linejoin:round; stroke-width:4; stroke-opacity:1; fill:none\" points=\"1227.45,1486.45 1227.45,1467.55 \"/>\n",
       "<polyline clip-path=\"url(#clip730)\" style=\"stroke:#000000; stroke-linecap:round; stroke-linejoin:round; stroke-width:4; stroke-opacity:1; fill:none\" points=\"1551.59,1486.45 1551.59,1467.55 \"/>\n",
       "<polyline clip-path=\"url(#clip730)\" style=\"stroke:#000000; stroke-linecap:round; stroke-linejoin:round; stroke-width:4; stroke-opacity:1; fill:none\" points=\"1875.73,1486.45 1875.73,1467.55 \"/>\n",
       "<polyline clip-path=\"url(#clip730)\" style=\"stroke:#000000; stroke-linecap:round; stroke-linejoin:round; stroke-width:4; stroke-opacity:1; fill:none\" points=\"2199.87,1486.45 2199.87,1467.55 \"/>\n",
       "<path clip-path=\"url(#clip730)\" d=\"M255.035 1517.37 Q251.424 1517.37 249.595 1520.93 Q247.789 1524.47 247.789 1531.6 Q247.789 1538.71 249.595 1542.27 Q251.424 1545.82 255.035 1545.82 Q258.669 1545.82 260.474 1542.27 Q262.303 1538.71 262.303 1531.6 Q262.303 1524.47 260.474 1520.93 Q258.669 1517.37 255.035 1517.37 M255.035 1513.66 Q260.845 1513.66 263.9 1518.27 Q266.979 1522.85 266.979 1531.6 Q266.979 1540.33 263.9 1544.94 Q260.845 1549.52 255.035 1549.52 Q249.225 1549.52 246.146 1544.94 Q243.09 1540.33 243.09 1531.6 Q243.09 1522.85 246.146 1518.27 Q249.225 1513.66 255.035 1513.66 Z\" fill=\"#000000\" fill-rule=\"nonzero\" fill-opacity=\"1\" /><path clip-path=\"url(#clip730)\" d=\"M569.555 1544.91 L577.194 1544.91 L577.194 1518.55 L568.884 1520.21 L568.884 1515.95 L577.148 1514.29 L581.824 1514.29 L581.824 1544.91 L589.463 1544.91 L589.463 1548.85 L569.555 1548.85 L569.555 1544.91 Z\" fill=\"#000000\" fill-rule=\"nonzero\" fill-opacity=\"1\" /><path clip-path=\"url(#clip730)\" d=\"M897.965 1544.91 L914.284 1544.91 L914.284 1548.85 L892.34 1548.85 L892.34 1544.91 Q895.002 1542.16 899.585 1537.53 Q904.191 1532.88 905.372 1531.53 Q907.617 1529.01 908.497 1527.27 Q909.4 1525.51 909.4 1523.82 Q909.4 1521.07 907.455 1519.33 Q905.534 1517.6 902.432 1517.6 Q900.233 1517.6 897.779 1518.36 Q895.349 1519.13 892.571 1520.68 L892.571 1515.95 Q895.395 1514.82 897.849 1514.24 Q900.303 1513.66 902.34 1513.66 Q907.71 1513.66 910.904 1516.35 Q914.099 1519.03 914.099 1523.52 Q914.099 1525.65 913.289 1527.57 Q912.502 1529.47 910.395 1532.07 Q909.816 1532.74 906.715 1535.95 Q903.613 1539.15 897.965 1544.91 Z\" fill=\"#000000\" fill-rule=\"nonzero\" fill-opacity=\"1\" /><path clip-path=\"url(#clip730)\" d=\"M1231.7 1530.21 Q1235.05 1530.93 1236.93 1533.2 Q1238.83 1535.47 1238.83 1538.8 Q1238.83 1543.92 1235.31 1546.72 Q1231.79 1549.52 1225.31 1549.52 Q1223.13 1549.52 1220.82 1549.08 Q1218.53 1548.66 1216.07 1547.81 L1216.07 1543.29 Q1218.02 1544.43 1220.33 1545.01 Q1222.65 1545.58 1225.17 1545.58 Q1229.57 1545.58 1231.86 1543.85 Q1234.17 1542.11 1234.17 1538.8 Q1234.17 1535.75 1232.02 1534.03 Q1229.89 1532.3 1226.07 1532.3 L1222.05 1532.3 L1222.05 1528.45 L1226.26 1528.45 Q1229.71 1528.45 1231.54 1527.09 Q1233.36 1525.7 1233.36 1523.11 Q1233.36 1520.45 1231.47 1519.03 Q1229.59 1517.6 1226.07 1517.6 Q1224.15 1517.6 1221.95 1518.01 Q1219.75 1518.43 1217.11 1519.31 L1217.11 1515.14 Q1219.78 1514.4 1222.09 1514.03 Q1224.43 1513.66 1226.49 1513.66 Q1231.81 1513.66 1234.92 1516.09 Q1238.02 1518.5 1238.02 1522.62 Q1238.02 1525.49 1236.37 1527.48 Q1234.73 1529.45 1231.7 1530.21 Z\" fill=\"#000000\" fill-rule=\"nonzero\" fill-opacity=\"1\" /><path clip-path=\"url(#clip730)\" d=\"M1554.6 1518.36 L1542.79 1536.81 L1554.6 1536.81 L1554.6 1518.36 M1553.37 1514.29 L1559.25 1514.29 L1559.25 1536.81 L1564.18 1536.81 L1564.18 1540.7 L1559.25 1540.7 L1559.25 1548.85 L1554.6 1548.85 L1554.6 1540.7 L1539 1540.7 L1539 1536.19 L1553.37 1514.29 Z\" fill=\"#000000\" fill-rule=\"nonzero\" fill-opacity=\"1\" /><path clip-path=\"url(#clip730)\" d=\"M1866.01 1514.29 L1884.36 1514.29 L1884.36 1518.22 L1870.29 1518.22 L1870.29 1526.7 Q1871.31 1526.35 1872.32 1526.19 Q1873.34 1526 1874.36 1526 Q1880.15 1526 1883.53 1529.17 Q1886.91 1532.34 1886.91 1537.76 Q1886.91 1543.34 1883.44 1546.44 Q1879.96 1549.52 1873.64 1549.52 Q1871.47 1549.52 1869.2 1549.15 Q1866.95 1548.78 1864.55 1548.04 L1864.55 1543.34 Q1866.63 1544.47 1868.85 1545.03 Q1871.07 1545.58 1873.55 1545.58 Q1877.56 1545.58 1879.89 1543.48 Q1882.23 1541.37 1882.23 1537.76 Q1882.23 1534.15 1879.89 1532.04 Q1877.56 1529.94 1873.55 1529.94 Q1871.68 1529.94 1869.8 1530.35 Q1867.95 1530.77 1866.01 1531.65 L1866.01 1514.29 Z\" fill=\"#000000\" fill-rule=\"nonzero\" fill-opacity=\"1\" /><path clip-path=\"url(#clip730)\" d=\"M2200.27 1529.7 Q2197.12 1529.7 2195.27 1531.86 Q2193.44 1534.01 2193.44 1537.76 Q2193.44 1541.49 2195.27 1543.66 Q2197.12 1545.82 2200.27 1545.82 Q2203.42 1545.82 2205.25 1543.66 Q2207.1 1541.49 2207.1 1537.76 Q2207.1 1534.01 2205.25 1531.86 Q2203.42 1529.7 2200.27 1529.7 M2209.55 1515.05 L2209.55 1519.31 Q2207.79 1518.48 2205.99 1518.04 Q2204.21 1517.6 2202.45 1517.6 Q2197.82 1517.6 2195.36 1520.72 Q2192.93 1523.85 2192.59 1530.17 Q2193.95 1528.15 2196.01 1527.09 Q2198.07 1526 2200.55 1526 Q2205.76 1526 2208.77 1529.17 Q2211.8 1532.32 2211.8 1537.76 Q2211.8 1543.08 2208.65 1546.3 Q2205.5 1549.52 2200.27 1549.52 Q2194.28 1549.52 2191.1 1544.94 Q2187.93 1540.33 2187.93 1531.6 Q2187.93 1523.41 2191.82 1518.55 Q2195.71 1513.66 2202.26 1513.66 Q2204.02 1513.66 2205.8 1514.01 Q2207.61 1514.36 2209.55 1515.05 Z\" fill=\"#000000\" fill-rule=\"nonzero\" fill-opacity=\"1\" /><polyline clip-path=\"url(#clip732)\" style=\"stroke:#000000; stroke-linecap:round; stroke-linejoin:round; stroke-width:2; stroke-opacity:0.1; fill:none\" points=\"193.936,1445.33 2352.76,1445.33 \"/>\n",
       "<polyline clip-path=\"url(#clip732)\" style=\"stroke:#000000; stroke-linecap:round; stroke-linejoin:round; stroke-width:2; stroke-opacity:0.1; fill:none\" points=\"193.936,1105.97 2352.76,1105.97 \"/>\n",
       "<polyline clip-path=\"url(#clip732)\" style=\"stroke:#000000; stroke-linecap:round; stroke-linejoin:round; stroke-width:2; stroke-opacity:0.1; fill:none\" points=\"193.936,766.61 2352.76,766.61 \"/>\n",
       "<polyline clip-path=\"url(#clip732)\" style=\"stroke:#000000; stroke-linecap:round; stroke-linejoin:round; stroke-width:2; stroke-opacity:0.1; fill:none\" points=\"193.936,427.251 2352.76,427.251 \"/>\n",
       "<polyline clip-path=\"url(#clip732)\" style=\"stroke:#000000; stroke-linecap:round; stroke-linejoin:round; stroke-width:2; stroke-opacity:0.1; fill:none\" points=\"193.936,87.8908 2352.76,87.8908 \"/>\n",
       "<polyline clip-path=\"url(#clip730)\" style=\"stroke:#000000; stroke-linecap:round; stroke-linejoin:round; stroke-width:4; stroke-opacity:1; fill:none\" points=\"193.936,1486.45 193.936,47.2441 \"/>\n",
       "<polyline clip-path=\"url(#clip730)\" style=\"stroke:#000000; stroke-linecap:round; stroke-linejoin:round; stroke-width:4; stroke-opacity:1; fill:none\" points=\"193.936,1445.33 212.834,1445.33 \"/>\n",
       "<polyline clip-path=\"url(#clip730)\" style=\"stroke:#000000; stroke-linecap:round; stroke-linejoin:round; stroke-width:4; stroke-opacity:1; fill:none\" points=\"193.936,1105.97 212.834,1105.97 \"/>\n",
       "<polyline clip-path=\"url(#clip730)\" style=\"stroke:#000000; stroke-linecap:round; stroke-linejoin:round; stroke-width:4; stroke-opacity:1; fill:none\" points=\"193.936,766.61 212.834,766.61 \"/>\n",
       "<polyline clip-path=\"url(#clip730)\" style=\"stroke:#000000; stroke-linecap:round; stroke-linejoin:round; stroke-width:4; stroke-opacity:1; fill:none\" points=\"193.936,427.251 212.834,427.251 \"/>\n",
       "<polyline clip-path=\"url(#clip730)\" style=\"stroke:#000000; stroke-linecap:round; stroke-linejoin:round; stroke-width:4; stroke-opacity:1; fill:none\" points=\"193.936,87.8908 212.834,87.8908 \"/>\n",
       "<path clip-path=\"url(#clip730)\" d=\"M50.9921 1445.78 L80.6679 1445.78 L80.6679 1449.72 L50.9921 1449.72 L50.9921 1445.78 Z\" fill=\"#000000\" fill-rule=\"nonzero\" fill-opacity=\"1\" /><path clip-path=\"url(#clip730)\" d=\"M91.5706 1458.67 L99.2095 1458.67 L99.2095 1432.31 L90.8993 1433.98 L90.8993 1429.72 L99.1632 1428.05 L103.839 1428.05 L103.839 1458.67 L111.478 1458.67 L111.478 1462.61 L91.5706 1462.61 L91.5706 1458.67 Z\" fill=\"#000000\" fill-rule=\"nonzero\" fill-opacity=\"1\" /><path clip-path=\"url(#clip730)\" d=\"M120.922 1456.73 L125.807 1456.73 L125.807 1462.61 L120.922 1462.61 L120.922 1456.73 Z\" fill=\"#000000\" fill-rule=\"nonzero\" fill-opacity=\"1\" /><path clip-path=\"url(#clip730)\" d=\"M145.992 1431.13 Q142.381 1431.13 140.552 1434.69 Q138.746 1438.23 138.746 1445.36 Q138.746 1452.47 140.552 1456.04 Q142.381 1459.58 145.992 1459.58 Q149.626 1459.58 151.431 1456.04 Q153.26 1452.47 153.26 1445.36 Q153.26 1438.23 151.431 1434.69 Q149.626 1431.13 145.992 1431.13 M145.992 1427.42 Q151.802 1427.42 154.857 1432.03 Q157.936 1436.61 157.936 1445.36 Q157.936 1454.09 154.857 1458.7 Q151.802 1463.28 145.992 1463.28 Q140.181 1463.28 137.103 1458.7 Q134.047 1454.09 134.047 1445.36 Q134.047 1436.61 137.103 1432.03 Q140.181 1427.42 145.992 1427.42 Z\" fill=\"#000000\" fill-rule=\"nonzero\" fill-opacity=\"1\" /><path clip-path=\"url(#clip730)\" d=\"M51.9875 1106.42 L81.6633 1106.42 L81.6633 1110.36 L51.9875 1110.36 L51.9875 1106.42 Z\" fill=\"#000000\" fill-rule=\"nonzero\" fill-opacity=\"1\" /><path clip-path=\"url(#clip730)\" d=\"M101.756 1091.77 Q98.1447 1091.77 96.316 1095.33 Q94.5104 1098.88 94.5104 1106 Q94.5104 1113.11 96.316 1116.68 Q98.1447 1120.22 101.756 1120.22 Q105.39 1120.22 107.196 1116.68 Q109.024 1113.11 109.024 1106 Q109.024 1098.88 107.196 1095.33 Q105.39 1091.77 101.756 1091.77 M101.756 1088.07 Q107.566 1088.07 110.621 1092.67 Q113.7 1097.25 113.7 1106 Q113.7 1114.73 110.621 1119.34 Q107.566 1123.92 101.756 1123.92 Q95.9456 1123.92 92.8669 1119.34 Q89.8114 1114.73 89.8114 1106 Q89.8114 1097.25 92.8669 1092.67 Q95.9456 1088.07 101.756 1088.07 Z\" fill=\"#000000\" fill-rule=\"nonzero\" fill-opacity=\"1\" /><path clip-path=\"url(#clip730)\" d=\"M121.918 1117.37 L126.802 1117.37 L126.802 1123.25 L121.918 1123.25 L121.918 1117.37 Z\" fill=\"#000000\" fill-rule=\"nonzero\" fill-opacity=\"1\" /><path clip-path=\"url(#clip730)\" d=\"M137.033 1088.69 L155.39 1088.69 L155.39 1092.63 L141.316 1092.63 L141.316 1101.1 Q142.334 1100.75 143.353 1100.59 Q144.371 1100.4 145.39 1100.4 Q151.177 1100.4 154.556 1103.57 Q157.936 1106.75 157.936 1112.16 Q157.936 1117.74 154.464 1120.84 Q150.992 1123.92 144.672 1123.92 Q142.496 1123.92 140.228 1123.55 Q137.982 1123.18 135.575 1122.44 L135.575 1117.74 Q137.658 1118.88 139.881 1119.43 Q142.103 1119.99 144.58 1119.99 Q148.584 1119.99 150.922 1117.88 Q153.26 1115.77 153.26 1112.16 Q153.26 1108.55 150.922 1106.44 Q148.584 1104.34 144.58 1104.34 Q142.705 1104.34 140.83 1104.75 Q138.978 1105.17 137.033 1106.05 L137.033 1088.69 Z\" fill=\"#000000\" fill-rule=\"nonzero\" fill-opacity=\"1\" /><path clip-path=\"url(#clip730)\" d=\"M100.76 752.409 Q97.1493 752.409 95.3206 755.974 Q93.515 759.515 93.515 766.645 Q93.515 773.751 95.3206 777.316 Q97.1493 780.858 100.76 780.858 Q104.395 780.858 106.2 777.316 Q108.029 773.751 108.029 766.645 Q108.029 759.515 106.2 755.974 Q104.395 752.409 100.76 752.409 M100.76 748.705 Q106.571 748.705 109.626 753.312 Q112.705 757.895 112.705 766.645 Q112.705 775.372 109.626 779.978 Q106.571 784.562 100.76 784.562 Q94.9502 784.562 91.8715 779.978 Q88.816 775.372 88.816 766.645 Q88.816 757.895 91.8715 753.312 Q94.9502 748.705 100.76 748.705 Z\" fill=\"#000000\" fill-rule=\"nonzero\" fill-opacity=\"1\" /><path clip-path=\"url(#clip730)\" d=\"M120.922 778.011 L125.807 778.011 L125.807 783.89 L120.922 783.89 L120.922 778.011 Z\" fill=\"#000000\" fill-rule=\"nonzero\" fill-opacity=\"1\" /><path clip-path=\"url(#clip730)\" d=\"M145.992 752.409 Q142.381 752.409 140.552 755.974 Q138.746 759.515 138.746 766.645 Q138.746 773.751 140.552 777.316 Q142.381 780.858 145.992 780.858 Q149.626 780.858 151.431 777.316 Q153.26 773.751 153.26 766.645 Q153.26 759.515 151.431 755.974 Q149.626 752.409 145.992 752.409 M145.992 748.705 Q151.802 748.705 154.857 753.312 Q157.936 757.895 157.936 766.645 Q157.936 775.372 154.857 779.978 Q151.802 784.562 145.992 784.562 Q140.181 784.562 137.103 779.978 Q134.047 775.372 134.047 766.645 Q134.047 757.895 137.103 753.312 Q140.181 748.705 145.992 748.705 Z\" fill=\"#000000\" fill-rule=\"nonzero\" fill-opacity=\"1\" /><path clip-path=\"url(#clip730)\" d=\"M101.756 413.049 Q98.1447 413.049 96.316 416.614 Q94.5104 420.156 94.5104 427.285 Q94.5104 434.392 96.316 437.957 Q98.1447 441.498 101.756 441.498 Q105.39 441.498 107.196 437.957 Q109.024 434.392 109.024 427.285 Q109.024 420.156 107.196 416.614 Q105.39 413.049 101.756 413.049 M101.756 409.346 Q107.566 409.346 110.621 413.952 Q113.7 418.535 113.7 427.285 Q113.7 436.012 110.621 440.619 Q107.566 445.202 101.756 445.202 Q95.9456 445.202 92.8669 440.619 Q89.8114 436.012 89.8114 427.285 Q89.8114 418.535 92.8669 413.952 Q95.9456 409.346 101.756 409.346 Z\" fill=\"#000000\" fill-rule=\"nonzero\" fill-opacity=\"1\" /><path clip-path=\"url(#clip730)\" d=\"M121.918 438.651 L126.802 438.651 L126.802 444.531 L121.918 444.531 L121.918 438.651 Z\" fill=\"#000000\" fill-rule=\"nonzero\" fill-opacity=\"1\" /><path clip-path=\"url(#clip730)\" d=\"M137.033 409.971 L155.39 409.971 L155.39 413.906 L141.316 413.906 L141.316 422.378 Q142.334 422.031 143.353 421.869 Q144.371 421.683 145.39 421.683 Q151.177 421.683 154.556 424.855 Q157.936 428.026 157.936 433.443 Q157.936 439.021 154.464 442.123 Q150.992 445.202 144.672 445.202 Q142.496 445.202 140.228 444.831 Q137.982 444.461 135.575 443.72 L135.575 439.021 Q137.658 440.156 139.881 440.711 Q142.103 441.267 144.58 441.267 Q148.584 441.267 150.922 439.16 Q153.26 437.054 153.26 433.443 Q153.26 429.832 150.922 427.725 Q148.584 425.619 144.58 425.619 Q142.705 425.619 140.83 426.035 Q138.978 426.452 137.033 427.332 L137.033 409.971 Z\" fill=\"#000000\" fill-rule=\"nonzero\" fill-opacity=\"1\" /><path clip-path=\"url(#clip730)\" d=\"M91.5706 101.236 L99.2095 101.236 L99.2095 74.8701 L90.8993 76.5367 L90.8993 72.2775 L99.1632 70.6108 L103.839 70.6108 L103.839 101.236 L111.478 101.236 L111.478 105.171 L91.5706 105.171 L91.5706 101.236 Z\" fill=\"#000000\" fill-rule=\"nonzero\" fill-opacity=\"1\" /><path clip-path=\"url(#clip730)\" d=\"M120.922 99.2912 L125.807 99.2912 L125.807 105.171 L120.922 105.171 L120.922 99.2912 Z\" fill=\"#000000\" fill-rule=\"nonzero\" fill-opacity=\"1\" /><path clip-path=\"url(#clip730)\" d=\"M145.992 73.6895 Q142.381 73.6895 140.552 77.2543 Q138.746 80.796 138.746 87.9256 Q138.746 95.032 140.552 98.5968 Q142.381 102.138 145.992 102.138 Q149.626 102.138 151.431 98.5968 Q153.26 95.032 153.26 87.9256 Q153.26 80.796 151.431 77.2543 Q149.626 73.6895 145.992 73.6895 M145.992 69.9858 Q151.802 69.9858 154.857 74.5923 Q157.936 79.1756 157.936 87.9256 Q157.936 96.6524 154.857 101.259 Q151.802 105.842 145.992 105.842 Q140.181 105.842 137.103 101.259 Q134.047 96.6524 134.047 87.9256 Q134.047 79.1756 137.103 74.5923 Q140.181 69.9858 145.992 69.9858 Z\" fill=\"#000000\" fill-rule=\"nonzero\" fill-opacity=\"1\" /><polyline clip-path=\"url(#clip732)\" style=\"stroke:#009af9; stroke-linecap:round; stroke-linejoin:round; stroke-width:4; stroke-opacity:1; fill:none\" points=\"255.035,766.61 275.607,723.563 296.179,680.69 316.751,638.162 337.322,596.151 357.894,554.827 378.466,514.356 399.038,474.9 419.61,436.619 440.182,399.667 460.754,364.192 481.326,330.338 501.898,298.24 522.47,268.029 543.042,239.825 563.614,213.742 584.186,189.885 604.758,168.351 625.33,149.225 645.902,132.586 666.474,118.5 687.046,107.023 707.617,98.2021 728.189,92.0728 748.761,88.6596 769.333,87.9763 789.905,90.0256 810.477,94.7992 831.049,102.278 851.621,112.432 872.193,125.22 892.765,140.59 913.337,158.482 933.909,178.822 954.481,201.529 975.053,226.511 995.625,253.668 1016.2,282.891 1036.77,314.061 1057.34,347.054 1077.91,381.736 1098.48,417.967 1119.06,455.603 1139.63,494.491 1160.2,534.475 1180.77,575.393 1201.34,617.081 1221.92,659.372 1242.49,702.094 1263.06,745.076 1283.63,788.145 1304.2,831.127 1324.78,873.849 1345.35,916.139 1365.92,957.828 1386.49,998.746 1407.06,1038.73 1427.64,1077.62 1448.21,1115.25 1468.78,1151.48 1489.35,1186.17 1509.92,1219.16 1530.5,1250.33 1551.07,1279.55 1571.64,1306.71 1592.21,1331.69 1612.78,1354.4 1633.35,1374.74 1653.93,1392.63 1674.5,1408 1695.07,1420.79 1715.64,1430.94 1736.21,1438.42 1756.79,1443.2 1777.36,1445.24 1797.93,1444.56 1818.5,1441.15 1839.07,1435.02 1859.65,1426.2 1880.22,1414.72 1900.79,1400.63 1921.36,1384 1941.93,1364.87 1962.51,1343.34 1983.08,1319.48 2003.65,1293.4 2024.22,1265.19 2044.79,1234.98 2065.37,1202.88 2085.94,1169.03 2106.51,1133.55 2127.08,1096.6 2147.65,1058.32 2168.23,1018.86 2188.8,978.393 2209.37,937.069 2229.94,895.059 2250.51,852.531 2271.09,809.657 2291.66,766.61 \"/>\n",
       "<polyline clip-path=\"url(#clip732)\" style=\"stroke:#e26f46; stroke-linecap:round; stroke-linejoin:round; stroke-width:4; stroke-opacity:1; fill:none\" points=\"255.035,766.61 275.607,723.563 296.179,680.69 316.751,638.162 337.322,596.151 357.894,554.827 378.466,514.356 399.038,474.9 419.61,436.619 440.182,399.667 460.754,364.192 481.326,330.338 501.898,298.24 522.47,268.029 543.042,239.825 563.614,213.742 584.186,189.885 604.758,168.351 625.33,149.225 645.902,132.586 666.474,118.5 687.046,107.023 707.617,98.2021 728.189,92.0728 748.761,88.6596 769.333,87.9763 789.905,90.0256 810.477,94.7992 831.049,102.278 851.621,112.432 872.193,125.22 892.765,140.59 913.337,158.482 933.909,178.822 954.481,201.529 975.053,226.511 995.625,253.668 1016.2,282.891 1036.77,314.061 1057.34,347.054 1077.91,381.736 1098.48,417.967 1119.06,455.603 1139.63,494.491 1160.2,534.475 1180.77,575.393 1201.34,617.081 1221.92,659.372 1242.49,702.094 1263.06,745.076 1283.63,788.145 1304.2,831.128 1324.78,873.85 1345.35,916.141 1365.92,957.83 1386.49,998.749 1407.06,1038.73 1427.64,1077.62 1448.21,1115.26 1468.78,1151.5 1489.35,1186.18 1509.92,1219.18 1530.5,1250.35 1551.07,1279.58 1571.64,1306.75 1592.21,1331.74 1612.78,1354.47 1633.35,1374.83 1653.93,1392.74 1674.5,1408.15 1695.07,1420.97 1715.64,1431.18 1736.21,1438.72 1756.79,1443.57 1777.36,1445.72 1797.93,1445.15 1818.5,1441.89 1839.07,1435.94 1859.65,1427.34 1880.22,1416.14 1900.79,1402.39 1921.36,1386.16 1941.93,1367.53 1962.51,1346.6 1983.08,1323.47 2003.65,1298.27 2024.22,1271.13 2044.79,1242.19 2065.37,1211.62 2085.94,1179.6 2106.51,1146.31 2127.08,1111.97 2147.65,1076.78 2168.23,1041.01 2188.8,1004.9 2209.37,968.73 2229.94,932.809 2250.51,897.458 2271.09,863.028 2291.66,829.898 \"/>\n",
       "<path clip-path=\"url(#clip730)\" d=\"M1839.73 250.738 L2280.8 250.738 L2280.8 95.2176 L1839.73 95.2176  Z\" fill=\"#ffffff\" fill-rule=\"evenodd\" fill-opacity=\"1\"/>\n",
       "<polyline clip-path=\"url(#clip730)\" style=\"stroke:#000000; stroke-linecap:round; stroke-linejoin:round; stroke-width:4; stroke-opacity:1; fill:none\" points=\"1839.73,250.738 2280.8,250.738 2280.8,95.2176 1839.73,95.2176 1839.73,250.738 \"/>\n",
       "<polyline clip-path=\"url(#clip730)\" style=\"stroke:#009af9; stroke-linecap:round; stroke-linejoin:round; stroke-width:4; stroke-opacity:1; fill:none\" points=\"1863.72,147.058 2007.64,147.058 \"/>\n",
       "<path clip-path=\"url(#clip730)\" d=\"M2050.05 139.176 L2050.05 143.203 Q2048.24 142.277 2046.3 141.815 Q2044.36 141.352 2042.27 141.352 Q2039.1 141.352 2037.5 142.324 Q2035.93 143.296 2035.93 145.24 Q2035.93 146.722 2037.06 147.578 Q2038.2 148.412 2041.62 149.176 L2043.08 149.5 Q2047.62 150.472 2049.52 152.254 Q2051.44 154.014 2051.44 157.185 Q2051.44 160.796 2048.57 162.902 Q2045.72 165.009 2040.72 165.009 Q2038.64 165.009 2036.37 164.592 Q2034.12 164.199 2031.62 163.388 L2031.62 158.99 Q2033.99 160.217 2036.28 160.842 Q2038.57 161.444 2040.81 161.444 Q2043.82 161.444 2045.44 160.426 Q2047.06 159.384 2047.06 157.509 Q2047.06 155.773 2045.88 154.847 Q2044.73 153.921 2040.77 153.064 L2039.29 152.717 Q2035.33 151.884 2033.57 150.171 Q2031.81 148.435 2031.81 145.426 Q2031.81 141.768 2034.4 139.778 Q2036.99 137.787 2041.76 137.787 Q2044.12 137.787 2046.21 138.134 Q2048.29 138.481 2050.05 139.176 Z\" fill=\"#000000\" fill-rule=\"nonzero\" fill-opacity=\"1\" /><path clip-path=\"url(#clip730)\" d=\"M2058.22 138.412 L2062.48 138.412 L2062.48 164.338 L2058.22 164.338 L2058.22 138.412 M2058.22 128.319 L2062.48 128.319 L2062.48 133.713 L2058.22 133.713 L2058.22 128.319 Z\" fill=\"#000000\" fill-rule=\"nonzero\" fill-opacity=\"1\" /><path clip-path=\"url(#clip730)\" d=\"M2092.94 148.689 L2092.94 164.338 L2088.68 164.338 L2088.68 148.828 Q2088.68 145.148 2087.25 143.319 Q2085.81 141.49 2082.94 141.49 Q2079.49 141.49 2077.5 143.69 Q2075.51 145.889 2075.51 149.685 L2075.51 164.338 L2071.23 164.338 L2071.23 138.412 L2075.51 138.412 L2075.51 142.44 Q2077.04 140.102 2079.1 138.944 Q2081.18 137.787 2083.89 137.787 Q2088.36 137.787 2090.65 140.565 Q2092.94 143.319 2092.94 148.689 Z\" fill=\"#000000\" fill-rule=\"nonzero\" fill-opacity=\"1\" /><path clip-path=\"url(#clip730)\" d=\"M2111.67 128.366 Q2108.57 133.69 2107.06 138.898 Q2105.56 144.106 2105.56 149.453 Q2105.56 154.801 2107.06 160.055 Q2108.59 165.287 2111.67 170.588 L2107.97 170.588 Q2104.49 165.148 2102.76 159.893 Q2101.05 154.639 2101.05 149.453 Q2101.05 144.291 2102.76 139.06 Q2104.47 133.828 2107.97 128.366 L2111.67 128.366 Z\" fill=\"#000000\" fill-rule=\"nonzero\" fill-opacity=\"1\" /><path clip-path=\"url(#clip730)\" d=\"M2141.48 138.412 L2132.11 151.027 L2141.97 164.338 L2136.95 164.338 L2129.4 154.152 L2121.86 164.338 L2116.83 164.338 L2126.9 150.773 L2117.69 138.412 L2122.71 138.412 L2129.59 147.648 L2136.46 138.412 L2141.48 138.412 Z\" fill=\"#000000\" fill-rule=\"nonzero\" fill-opacity=\"1\" /><path clip-path=\"url(#clip730)\" d=\"M2147.32 128.366 L2151.02 128.366 Q2154.49 133.828 2156.21 139.06 Q2157.94 144.291 2157.94 149.453 Q2157.94 154.639 2156.21 159.893 Q2154.49 165.148 2151.02 170.588 L2147.32 170.588 Q2150.4 165.287 2151.9 160.055 Q2153.43 154.801 2153.43 149.453 Q2153.43 144.106 2151.9 138.898 Q2150.4 133.69 2147.32 128.366 Z\" fill=\"#000000\" fill-rule=\"nonzero\" fill-opacity=\"1\" /><polyline clip-path=\"url(#clip730)\" style=\"stroke:#e26f46; stroke-linecap:round; stroke-linejoin:round; stroke-width:4; stroke-opacity:1; fill:none\" points=\"1863.72,198.898 2007.64,198.898 \"/>\n",
       "<path clip-path=\"url(#clip730)\" d=\"M2050.05 191.016 L2050.05 195.043 Q2048.24 194.117 2046.3 193.655 Q2044.36 193.192 2042.27 193.192 Q2039.1 193.192 2037.5 194.164 Q2035.93 195.136 2035.93 197.08 Q2035.93 198.562 2037.06 199.418 Q2038.2 200.252 2041.62 201.016 L2043.08 201.34 Q2047.62 202.312 2049.52 204.094 Q2051.44 205.854 2051.44 209.025 Q2051.44 212.636 2048.57 214.742 Q2045.72 216.849 2040.72 216.849 Q2038.64 216.849 2036.37 216.432 Q2034.12 216.039 2031.62 215.228 L2031.62 210.83 Q2033.99 212.057 2036.28 212.682 Q2038.57 213.284 2040.81 213.284 Q2043.82 213.284 2045.44 212.266 Q2047.06 211.224 2047.06 209.349 Q2047.06 207.613 2045.88 206.687 Q2044.73 205.761 2040.77 204.904 L2039.29 204.557 Q2035.33 203.724 2033.57 202.011 Q2031.81 200.275 2031.81 197.266 Q2031.81 193.608 2034.4 191.618 Q2036.99 189.627 2041.76 189.627 Q2044.12 189.627 2046.21 189.974 Q2048.29 190.321 2050.05 191.016 Z\" fill=\"#000000\" fill-rule=\"nonzero\" fill-opacity=\"1\" /><path clip-path=\"url(#clip730)\" d=\"M2058.22 190.252 L2062.48 190.252 L2062.48 216.178 L2058.22 216.178 L2058.22 190.252 M2058.22 180.159 L2062.48 180.159 L2062.48 185.553 L2058.22 185.553 L2058.22 180.159 Z\" fill=\"#000000\" fill-rule=\"nonzero\" fill-opacity=\"1\" /><path clip-path=\"url(#clip730)\" d=\"M2092.94 200.529 L2092.94 216.178 L2088.68 216.178 L2088.68 200.668 Q2088.68 196.988 2087.25 195.159 Q2085.81 193.33 2082.94 193.33 Q2079.49 193.33 2077.5 195.53 Q2075.51 197.729 2075.51 201.525 L2075.51 216.178 L2071.23 216.178 L2071.23 190.252 L2075.51 190.252 L2075.51 194.28 Q2077.04 191.942 2079.1 190.784 Q2081.18 189.627 2083.89 189.627 Q2088.36 189.627 2090.65 192.405 Q2092.94 195.159 2092.94 200.529 Z\" fill=\"#000000\" fill-rule=\"nonzero\" fill-opacity=\"1\" /><path clip-path=\"url(#clip730)\" d=\"M2121.14 224.048 L2121.14 227.358 L2096.51 227.358 L2096.51 224.048 L2121.14 224.048 Z\" fill=\"#000000\" fill-rule=\"nonzero\" fill-opacity=\"1\" /><path clip-path=\"url(#clip730)\" d=\"M2146.69 200.529 L2146.69 216.178 L2142.43 216.178 L2142.43 200.668 Q2142.43 196.988 2141 195.159 Q2139.56 193.33 2136.69 193.33 Q2133.24 193.33 2131.25 195.53 Q2129.26 197.729 2129.26 201.525 L2129.26 216.178 L2124.98 216.178 L2124.98 190.252 L2129.26 190.252 L2129.26 194.28 Q2130.79 191.942 2132.85 190.784 Q2134.93 189.627 2137.64 189.627 Q2142.11 189.627 2144.4 192.405 Q2146.69 195.159 2146.69 200.529 Z\" fill=\"#000000\" fill-rule=\"nonzero\" fill-opacity=\"1\" /><path clip-path=\"url(#clip730)\" d=\"M2165.42 180.206 Q2162.32 185.53 2160.81 190.738 Q2159.31 195.946 2159.31 201.293 Q2159.31 206.641 2160.81 211.895 Q2162.34 217.127 2165.42 222.428 L2161.72 222.428 Q2158.24 216.988 2156.51 211.733 Q2154.8 206.479 2154.8 201.293 Q2154.8 196.131 2156.51 190.9 Q2158.22 185.668 2161.72 180.206 L2165.42 180.206 Z\" fill=\"#000000\" fill-rule=\"nonzero\" fill-opacity=\"1\" /><path clip-path=\"url(#clip730)\" d=\"M2195.23 190.252 L2185.86 202.867 L2195.72 216.178 L2190.7 216.178 L2183.15 205.992 L2175.61 216.178 L2170.58 216.178 L2180.65 202.613 L2171.44 190.252 L2176.46 190.252 L2183.34 199.488 L2190.21 190.252 L2195.23 190.252 Z\" fill=\"#000000\" fill-rule=\"nonzero\" fill-opacity=\"1\" /><path clip-path=\"url(#clip730)\" d=\"M2202.83 210.298 L2207.71 210.298 L2207.71 214.279 L2203.92 221.687 L2200.93 221.687 L2202.83 214.279 L2202.83 210.298 Z\" fill=\"#000000\" fill-rule=\"nonzero\" fill-opacity=\"1\" /><path clip-path=\"url(#clip730)\" d=\"M2238.36 200.529 L2238.36 216.178 L2234.1 216.178 L2234.1 200.668 Q2234.1 196.988 2232.66 195.159 Q2231.23 193.33 2228.36 193.33 Q2224.91 193.33 2222.92 195.53 Q2220.93 197.729 2220.93 201.525 L2220.93 216.178 L2216.65 216.178 L2216.65 190.252 L2220.93 190.252 L2220.93 194.28 Q2222.46 191.942 2224.52 190.784 Q2226.6 189.627 2229.31 189.627 Q2233.78 189.627 2236.07 192.405 Q2238.36 195.159 2238.36 200.529 Z\" fill=\"#000000\" fill-rule=\"nonzero\" fill-opacity=\"1\" /><path clip-path=\"url(#clip730)\" d=\"M2246.18 180.206 L2249.89 180.206 Q2253.36 185.668 2255.07 190.9 Q2256.81 196.131 2256.81 201.293 Q2256.81 206.479 2255.07 211.733 Q2253.36 216.988 2249.89 222.428 L2246.18 222.428 Q2249.26 217.127 2250.77 211.895 Q2252.29 206.641 2252.29 201.293 Q2252.29 195.946 2250.77 190.738 Q2249.26 185.53 2246.18 180.206 Z\" fill=\"#000000\" fill-rule=\"nonzero\" fill-opacity=\"1\" /></svg>\n"
      ],
      "text/html": [
       "<?xml version=\"1.0\" encoding=\"utf-8\"?>\n",
       "<svg xmlns=\"http://www.w3.org/2000/svg\" xmlns:xlink=\"http://www.w3.org/1999/xlink\" width=\"600\" height=\"400\" viewBox=\"0 0 2400 1600\">\n",
       "<defs>\n",
       "  <clipPath id=\"clip780\">\n",
       "    <rect x=\"0\" y=\"0\" width=\"2400\" height=\"1600\"/>\n",
       "  </clipPath>\n",
       "</defs>\n",
       "<path clip-path=\"url(#clip780)\" d=\"M0 1600 L2400 1600 L2400 0 L0 0  Z\" fill=\"#ffffff\" fill-rule=\"evenodd\" fill-opacity=\"1\"/>\n",
       "<defs>\n",
       "  <clipPath id=\"clip781\">\n",
       "    <rect x=\"480\" y=\"0\" width=\"1681\" height=\"1600\"/>\n",
       "  </clipPath>\n",
       "</defs>\n",
       "<path clip-path=\"url(#clip780)\" d=\"M193.936 1486.45 L2352.76 1486.45 L2352.76 47.2441 L193.936 47.2441  Z\" fill=\"#ffffff\" fill-rule=\"evenodd\" fill-opacity=\"1\"/>\n",
       "<defs>\n",
       "  <clipPath id=\"clip782\">\n",
       "    <rect x=\"193\" y=\"47\" width=\"2160\" height=\"1440\"/>\n",
       "  </clipPath>\n",
       "</defs>\n",
       "<polyline clip-path=\"url(#clip782)\" style=\"stroke:#000000; stroke-linecap:round; stroke-linejoin:round; stroke-width:2; stroke-opacity:0.1; fill:none\" points=\"255.035,1486.45 255.035,47.2441 \"/>\n",
       "<polyline clip-path=\"url(#clip782)\" style=\"stroke:#000000; stroke-linecap:round; stroke-linejoin:round; stroke-width:2; stroke-opacity:0.1; fill:none\" points=\"579.173,1486.45 579.173,47.2441 \"/>\n",
       "<polyline clip-path=\"url(#clip782)\" style=\"stroke:#000000; stroke-linecap:round; stroke-linejoin:round; stroke-width:2; stroke-opacity:0.1; fill:none\" points=\"903.312,1486.45 903.312,47.2441 \"/>\n",
       "<polyline clip-path=\"url(#clip782)\" style=\"stroke:#000000; stroke-linecap:round; stroke-linejoin:round; stroke-width:2; stroke-opacity:0.1; fill:none\" points=\"1227.45,1486.45 1227.45,47.2441 \"/>\n",
       "<polyline clip-path=\"url(#clip782)\" style=\"stroke:#000000; stroke-linecap:round; stroke-linejoin:round; stroke-width:2; stroke-opacity:0.1; fill:none\" points=\"1551.59,1486.45 1551.59,47.2441 \"/>\n",
       "<polyline clip-path=\"url(#clip782)\" style=\"stroke:#000000; stroke-linecap:round; stroke-linejoin:round; stroke-width:2; stroke-opacity:0.1; fill:none\" points=\"1875.73,1486.45 1875.73,47.2441 \"/>\n",
       "<polyline clip-path=\"url(#clip782)\" style=\"stroke:#000000; stroke-linecap:round; stroke-linejoin:round; stroke-width:2; stroke-opacity:0.1; fill:none\" points=\"2199.87,1486.45 2199.87,47.2441 \"/>\n",
       "<polyline clip-path=\"url(#clip780)\" style=\"stroke:#000000; stroke-linecap:round; stroke-linejoin:round; stroke-width:4; stroke-opacity:1; fill:none\" points=\"193.936,1486.45 2352.76,1486.45 \"/>\n",
       "<polyline clip-path=\"url(#clip780)\" style=\"stroke:#000000; stroke-linecap:round; stroke-linejoin:round; stroke-width:4; stroke-opacity:1; fill:none\" points=\"255.035,1486.45 255.035,1467.55 \"/>\n",
       "<polyline clip-path=\"url(#clip780)\" style=\"stroke:#000000; stroke-linecap:round; stroke-linejoin:round; stroke-width:4; stroke-opacity:1; fill:none\" points=\"579.173,1486.45 579.173,1467.55 \"/>\n",
       "<polyline clip-path=\"url(#clip780)\" style=\"stroke:#000000; stroke-linecap:round; stroke-linejoin:round; stroke-width:4; stroke-opacity:1; fill:none\" points=\"903.312,1486.45 903.312,1467.55 \"/>\n",
       "<polyline clip-path=\"url(#clip780)\" style=\"stroke:#000000; stroke-linecap:round; stroke-linejoin:round; stroke-width:4; stroke-opacity:1; fill:none\" points=\"1227.45,1486.45 1227.45,1467.55 \"/>\n",
       "<polyline clip-path=\"url(#clip780)\" style=\"stroke:#000000; stroke-linecap:round; stroke-linejoin:round; stroke-width:4; stroke-opacity:1; fill:none\" points=\"1551.59,1486.45 1551.59,1467.55 \"/>\n",
       "<polyline clip-path=\"url(#clip780)\" style=\"stroke:#000000; stroke-linecap:round; stroke-linejoin:round; stroke-width:4; stroke-opacity:1; fill:none\" points=\"1875.73,1486.45 1875.73,1467.55 \"/>\n",
       "<polyline clip-path=\"url(#clip780)\" style=\"stroke:#000000; stroke-linecap:round; stroke-linejoin:round; stroke-width:4; stroke-opacity:1; fill:none\" points=\"2199.87,1486.45 2199.87,1467.55 \"/>\n",
       "<path clip-path=\"url(#clip780)\" d=\"M255.035 1517.37 Q251.424 1517.37 249.595 1520.93 Q247.789 1524.47 247.789 1531.6 Q247.789 1538.71 249.595 1542.27 Q251.424 1545.82 255.035 1545.82 Q258.669 1545.82 260.474 1542.27 Q262.303 1538.71 262.303 1531.6 Q262.303 1524.47 260.474 1520.93 Q258.669 1517.37 255.035 1517.37 M255.035 1513.66 Q260.845 1513.66 263.9 1518.27 Q266.979 1522.85 266.979 1531.6 Q266.979 1540.33 263.9 1544.94 Q260.845 1549.52 255.035 1549.52 Q249.225 1549.52 246.146 1544.94 Q243.09 1540.33 243.09 1531.6 Q243.09 1522.85 246.146 1518.27 Q249.225 1513.66 255.035 1513.66 Z\" fill=\"#000000\" fill-rule=\"nonzero\" fill-opacity=\"1\" /><path clip-path=\"url(#clip780)\" d=\"M569.555 1544.91 L577.194 1544.91 L577.194 1518.55 L568.884 1520.21 L568.884 1515.95 L577.148 1514.29 L581.824 1514.29 L581.824 1544.91 L589.463 1544.91 L589.463 1548.85 L569.555 1548.85 L569.555 1544.91 Z\" fill=\"#000000\" fill-rule=\"nonzero\" fill-opacity=\"1\" /><path clip-path=\"url(#clip780)\" d=\"M897.965 1544.91 L914.284 1544.91 L914.284 1548.85 L892.34 1548.85 L892.34 1544.91 Q895.002 1542.16 899.585 1537.53 Q904.191 1532.88 905.372 1531.53 Q907.617 1529.01 908.497 1527.27 Q909.4 1525.51 909.4 1523.82 Q909.4 1521.07 907.455 1519.33 Q905.534 1517.6 902.432 1517.6 Q900.233 1517.6 897.779 1518.36 Q895.349 1519.13 892.571 1520.68 L892.571 1515.95 Q895.395 1514.82 897.849 1514.24 Q900.303 1513.66 902.34 1513.66 Q907.71 1513.66 910.904 1516.35 Q914.099 1519.03 914.099 1523.52 Q914.099 1525.65 913.289 1527.57 Q912.502 1529.47 910.395 1532.07 Q909.816 1532.74 906.715 1535.95 Q903.613 1539.15 897.965 1544.91 Z\" fill=\"#000000\" fill-rule=\"nonzero\" fill-opacity=\"1\" /><path clip-path=\"url(#clip780)\" d=\"M1231.7 1530.21 Q1235.05 1530.93 1236.93 1533.2 Q1238.83 1535.47 1238.83 1538.8 Q1238.83 1543.92 1235.31 1546.72 Q1231.79 1549.52 1225.31 1549.52 Q1223.13 1549.52 1220.82 1549.08 Q1218.53 1548.66 1216.07 1547.81 L1216.07 1543.29 Q1218.02 1544.43 1220.33 1545.01 Q1222.65 1545.58 1225.17 1545.58 Q1229.57 1545.58 1231.86 1543.85 Q1234.17 1542.11 1234.17 1538.8 Q1234.17 1535.75 1232.02 1534.03 Q1229.89 1532.3 1226.07 1532.3 L1222.05 1532.3 L1222.05 1528.45 L1226.26 1528.45 Q1229.71 1528.45 1231.54 1527.09 Q1233.36 1525.7 1233.36 1523.11 Q1233.36 1520.45 1231.47 1519.03 Q1229.59 1517.6 1226.07 1517.6 Q1224.15 1517.6 1221.95 1518.01 Q1219.75 1518.43 1217.11 1519.31 L1217.11 1515.14 Q1219.78 1514.4 1222.09 1514.03 Q1224.43 1513.66 1226.49 1513.66 Q1231.81 1513.66 1234.92 1516.09 Q1238.02 1518.5 1238.02 1522.62 Q1238.02 1525.49 1236.37 1527.48 Q1234.73 1529.45 1231.7 1530.21 Z\" fill=\"#000000\" fill-rule=\"nonzero\" fill-opacity=\"1\" /><path clip-path=\"url(#clip780)\" d=\"M1554.6 1518.36 L1542.79 1536.81 L1554.6 1536.81 L1554.6 1518.36 M1553.37 1514.29 L1559.25 1514.29 L1559.25 1536.81 L1564.18 1536.81 L1564.18 1540.7 L1559.25 1540.7 L1559.25 1548.85 L1554.6 1548.85 L1554.6 1540.7 L1539 1540.7 L1539 1536.19 L1553.37 1514.29 Z\" fill=\"#000000\" fill-rule=\"nonzero\" fill-opacity=\"1\" /><path clip-path=\"url(#clip780)\" d=\"M1866.01 1514.29 L1884.36 1514.29 L1884.36 1518.22 L1870.29 1518.22 L1870.29 1526.7 Q1871.31 1526.35 1872.32 1526.19 Q1873.34 1526 1874.36 1526 Q1880.15 1526 1883.53 1529.17 Q1886.91 1532.34 1886.91 1537.76 Q1886.91 1543.34 1883.44 1546.44 Q1879.96 1549.52 1873.64 1549.52 Q1871.47 1549.52 1869.2 1549.15 Q1866.95 1548.78 1864.55 1548.04 L1864.55 1543.34 Q1866.63 1544.47 1868.85 1545.03 Q1871.07 1545.58 1873.55 1545.58 Q1877.56 1545.58 1879.89 1543.48 Q1882.23 1541.37 1882.23 1537.76 Q1882.23 1534.15 1879.89 1532.04 Q1877.56 1529.94 1873.55 1529.94 Q1871.68 1529.94 1869.8 1530.35 Q1867.95 1530.77 1866.01 1531.65 L1866.01 1514.29 Z\" fill=\"#000000\" fill-rule=\"nonzero\" fill-opacity=\"1\" /><path clip-path=\"url(#clip780)\" d=\"M2200.27 1529.7 Q2197.12 1529.7 2195.27 1531.86 Q2193.44 1534.01 2193.44 1537.76 Q2193.44 1541.49 2195.27 1543.66 Q2197.12 1545.82 2200.27 1545.82 Q2203.42 1545.82 2205.25 1543.66 Q2207.1 1541.49 2207.1 1537.76 Q2207.1 1534.01 2205.25 1531.86 Q2203.42 1529.7 2200.27 1529.7 M2209.55 1515.05 L2209.55 1519.31 Q2207.79 1518.48 2205.99 1518.04 Q2204.21 1517.6 2202.45 1517.6 Q2197.82 1517.6 2195.36 1520.72 Q2192.93 1523.85 2192.59 1530.17 Q2193.95 1528.15 2196.01 1527.09 Q2198.07 1526 2200.55 1526 Q2205.76 1526 2208.77 1529.17 Q2211.8 1532.32 2211.8 1537.76 Q2211.8 1543.08 2208.65 1546.3 Q2205.5 1549.52 2200.27 1549.52 Q2194.28 1549.52 2191.1 1544.94 Q2187.93 1540.33 2187.93 1531.6 Q2187.93 1523.41 2191.82 1518.55 Q2195.71 1513.66 2202.26 1513.66 Q2204.02 1513.66 2205.8 1514.01 Q2207.61 1514.36 2209.55 1515.05 Z\" fill=\"#000000\" fill-rule=\"nonzero\" fill-opacity=\"1\" /><polyline clip-path=\"url(#clip782)\" style=\"stroke:#000000; stroke-linecap:round; stroke-linejoin:round; stroke-width:2; stroke-opacity:0.1; fill:none\" points=\"193.936,1445.33 2352.76,1445.33 \"/>\n",
       "<polyline clip-path=\"url(#clip782)\" style=\"stroke:#000000; stroke-linecap:round; stroke-linejoin:round; stroke-width:2; stroke-opacity:0.1; fill:none\" points=\"193.936,1105.97 2352.76,1105.97 \"/>\n",
       "<polyline clip-path=\"url(#clip782)\" style=\"stroke:#000000; stroke-linecap:round; stroke-linejoin:round; stroke-width:2; stroke-opacity:0.1; fill:none\" points=\"193.936,766.61 2352.76,766.61 \"/>\n",
       "<polyline clip-path=\"url(#clip782)\" style=\"stroke:#000000; stroke-linecap:round; stroke-linejoin:round; stroke-width:2; stroke-opacity:0.1; fill:none\" points=\"193.936,427.251 2352.76,427.251 \"/>\n",
       "<polyline clip-path=\"url(#clip782)\" style=\"stroke:#000000; stroke-linecap:round; stroke-linejoin:round; stroke-width:2; stroke-opacity:0.1; fill:none\" points=\"193.936,87.8908 2352.76,87.8908 \"/>\n",
       "<polyline clip-path=\"url(#clip780)\" style=\"stroke:#000000; stroke-linecap:round; stroke-linejoin:round; stroke-width:4; stroke-opacity:1; fill:none\" points=\"193.936,1486.45 193.936,47.2441 \"/>\n",
       "<polyline clip-path=\"url(#clip780)\" style=\"stroke:#000000; stroke-linecap:round; stroke-linejoin:round; stroke-width:4; stroke-opacity:1; fill:none\" points=\"193.936,1445.33 212.834,1445.33 \"/>\n",
       "<polyline clip-path=\"url(#clip780)\" style=\"stroke:#000000; stroke-linecap:round; stroke-linejoin:round; stroke-width:4; stroke-opacity:1; fill:none\" points=\"193.936,1105.97 212.834,1105.97 \"/>\n",
       "<polyline clip-path=\"url(#clip780)\" style=\"stroke:#000000; stroke-linecap:round; stroke-linejoin:round; stroke-width:4; stroke-opacity:1; fill:none\" points=\"193.936,766.61 212.834,766.61 \"/>\n",
       "<polyline clip-path=\"url(#clip780)\" style=\"stroke:#000000; stroke-linecap:round; stroke-linejoin:round; stroke-width:4; stroke-opacity:1; fill:none\" points=\"193.936,427.251 212.834,427.251 \"/>\n",
       "<polyline clip-path=\"url(#clip780)\" style=\"stroke:#000000; stroke-linecap:round; stroke-linejoin:round; stroke-width:4; stroke-opacity:1; fill:none\" points=\"193.936,87.8908 212.834,87.8908 \"/>\n",
       "<path clip-path=\"url(#clip780)\" d=\"M50.9921 1445.78 L80.6679 1445.78 L80.6679 1449.72 L50.9921 1449.72 L50.9921 1445.78 Z\" fill=\"#000000\" fill-rule=\"nonzero\" fill-opacity=\"1\" /><path clip-path=\"url(#clip780)\" d=\"M91.5706 1458.67 L99.2095 1458.67 L99.2095 1432.31 L90.8993 1433.98 L90.8993 1429.72 L99.1632 1428.05 L103.839 1428.05 L103.839 1458.67 L111.478 1458.67 L111.478 1462.61 L91.5706 1462.61 L91.5706 1458.67 Z\" fill=\"#000000\" fill-rule=\"nonzero\" fill-opacity=\"1\" /><path clip-path=\"url(#clip780)\" d=\"M120.922 1456.73 L125.807 1456.73 L125.807 1462.61 L120.922 1462.61 L120.922 1456.73 Z\" fill=\"#000000\" fill-rule=\"nonzero\" fill-opacity=\"1\" /><path clip-path=\"url(#clip780)\" d=\"M145.992 1431.13 Q142.381 1431.13 140.552 1434.69 Q138.746 1438.23 138.746 1445.36 Q138.746 1452.47 140.552 1456.04 Q142.381 1459.58 145.992 1459.58 Q149.626 1459.58 151.431 1456.04 Q153.26 1452.47 153.26 1445.36 Q153.26 1438.23 151.431 1434.69 Q149.626 1431.13 145.992 1431.13 M145.992 1427.42 Q151.802 1427.42 154.857 1432.03 Q157.936 1436.61 157.936 1445.36 Q157.936 1454.09 154.857 1458.7 Q151.802 1463.28 145.992 1463.28 Q140.181 1463.28 137.103 1458.7 Q134.047 1454.09 134.047 1445.36 Q134.047 1436.61 137.103 1432.03 Q140.181 1427.42 145.992 1427.42 Z\" fill=\"#000000\" fill-rule=\"nonzero\" fill-opacity=\"1\" /><path clip-path=\"url(#clip780)\" d=\"M51.9875 1106.42 L81.6633 1106.42 L81.6633 1110.36 L51.9875 1110.36 L51.9875 1106.42 Z\" fill=\"#000000\" fill-rule=\"nonzero\" fill-opacity=\"1\" /><path clip-path=\"url(#clip780)\" d=\"M101.756 1091.77 Q98.1447 1091.77 96.316 1095.33 Q94.5104 1098.88 94.5104 1106 Q94.5104 1113.11 96.316 1116.68 Q98.1447 1120.22 101.756 1120.22 Q105.39 1120.22 107.196 1116.68 Q109.024 1113.11 109.024 1106 Q109.024 1098.88 107.196 1095.33 Q105.39 1091.77 101.756 1091.77 M101.756 1088.07 Q107.566 1088.07 110.621 1092.67 Q113.7 1097.25 113.7 1106 Q113.7 1114.73 110.621 1119.34 Q107.566 1123.92 101.756 1123.92 Q95.9456 1123.92 92.8669 1119.34 Q89.8114 1114.73 89.8114 1106 Q89.8114 1097.25 92.8669 1092.67 Q95.9456 1088.07 101.756 1088.07 Z\" fill=\"#000000\" fill-rule=\"nonzero\" fill-opacity=\"1\" /><path clip-path=\"url(#clip780)\" d=\"M121.918 1117.37 L126.802 1117.37 L126.802 1123.25 L121.918 1123.25 L121.918 1117.37 Z\" fill=\"#000000\" fill-rule=\"nonzero\" fill-opacity=\"1\" /><path clip-path=\"url(#clip780)\" d=\"M137.033 1088.69 L155.39 1088.69 L155.39 1092.63 L141.316 1092.63 L141.316 1101.1 Q142.334 1100.75 143.353 1100.59 Q144.371 1100.4 145.39 1100.4 Q151.177 1100.4 154.556 1103.57 Q157.936 1106.75 157.936 1112.16 Q157.936 1117.74 154.464 1120.84 Q150.992 1123.92 144.672 1123.92 Q142.496 1123.92 140.228 1123.55 Q137.982 1123.18 135.575 1122.44 L135.575 1117.74 Q137.658 1118.88 139.881 1119.43 Q142.103 1119.99 144.58 1119.99 Q148.584 1119.99 150.922 1117.88 Q153.26 1115.77 153.26 1112.16 Q153.26 1108.55 150.922 1106.44 Q148.584 1104.34 144.58 1104.34 Q142.705 1104.34 140.83 1104.75 Q138.978 1105.17 137.033 1106.05 L137.033 1088.69 Z\" fill=\"#000000\" fill-rule=\"nonzero\" fill-opacity=\"1\" /><path clip-path=\"url(#clip780)\" d=\"M100.76 752.409 Q97.1493 752.409 95.3206 755.974 Q93.515 759.515 93.515 766.645 Q93.515 773.751 95.3206 777.316 Q97.1493 780.858 100.76 780.858 Q104.395 780.858 106.2 777.316 Q108.029 773.751 108.029 766.645 Q108.029 759.515 106.2 755.974 Q104.395 752.409 100.76 752.409 M100.76 748.705 Q106.571 748.705 109.626 753.312 Q112.705 757.895 112.705 766.645 Q112.705 775.372 109.626 779.978 Q106.571 784.562 100.76 784.562 Q94.9502 784.562 91.8715 779.978 Q88.816 775.372 88.816 766.645 Q88.816 757.895 91.8715 753.312 Q94.9502 748.705 100.76 748.705 Z\" fill=\"#000000\" fill-rule=\"nonzero\" fill-opacity=\"1\" /><path clip-path=\"url(#clip780)\" d=\"M120.922 778.011 L125.807 778.011 L125.807 783.89 L120.922 783.89 L120.922 778.011 Z\" fill=\"#000000\" fill-rule=\"nonzero\" fill-opacity=\"1\" /><path clip-path=\"url(#clip780)\" d=\"M145.992 752.409 Q142.381 752.409 140.552 755.974 Q138.746 759.515 138.746 766.645 Q138.746 773.751 140.552 777.316 Q142.381 780.858 145.992 780.858 Q149.626 780.858 151.431 777.316 Q153.26 773.751 153.26 766.645 Q153.26 759.515 151.431 755.974 Q149.626 752.409 145.992 752.409 M145.992 748.705 Q151.802 748.705 154.857 753.312 Q157.936 757.895 157.936 766.645 Q157.936 775.372 154.857 779.978 Q151.802 784.562 145.992 784.562 Q140.181 784.562 137.103 779.978 Q134.047 775.372 134.047 766.645 Q134.047 757.895 137.103 753.312 Q140.181 748.705 145.992 748.705 Z\" fill=\"#000000\" fill-rule=\"nonzero\" fill-opacity=\"1\" /><path clip-path=\"url(#clip780)\" d=\"M101.756 413.049 Q98.1447 413.049 96.316 416.614 Q94.5104 420.156 94.5104 427.285 Q94.5104 434.392 96.316 437.957 Q98.1447 441.498 101.756 441.498 Q105.39 441.498 107.196 437.957 Q109.024 434.392 109.024 427.285 Q109.024 420.156 107.196 416.614 Q105.39 413.049 101.756 413.049 M101.756 409.346 Q107.566 409.346 110.621 413.952 Q113.7 418.535 113.7 427.285 Q113.7 436.012 110.621 440.619 Q107.566 445.202 101.756 445.202 Q95.9456 445.202 92.8669 440.619 Q89.8114 436.012 89.8114 427.285 Q89.8114 418.535 92.8669 413.952 Q95.9456 409.346 101.756 409.346 Z\" fill=\"#000000\" fill-rule=\"nonzero\" fill-opacity=\"1\" /><path clip-path=\"url(#clip780)\" d=\"M121.918 438.651 L126.802 438.651 L126.802 444.531 L121.918 444.531 L121.918 438.651 Z\" fill=\"#000000\" fill-rule=\"nonzero\" fill-opacity=\"1\" /><path clip-path=\"url(#clip780)\" d=\"M137.033 409.971 L155.39 409.971 L155.39 413.906 L141.316 413.906 L141.316 422.378 Q142.334 422.031 143.353 421.869 Q144.371 421.683 145.39 421.683 Q151.177 421.683 154.556 424.855 Q157.936 428.026 157.936 433.443 Q157.936 439.021 154.464 442.123 Q150.992 445.202 144.672 445.202 Q142.496 445.202 140.228 444.831 Q137.982 444.461 135.575 443.72 L135.575 439.021 Q137.658 440.156 139.881 440.711 Q142.103 441.267 144.58 441.267 Q148.584 441.267 150.922 439.16 Q153.26 437.054 153.26 433.443 Q153.26 429.832 150.922 427.725 Q148.584 425.619 144.58 425.619 Q142.705 425.619 140.83 426.035 Q138.978 426.452 137.033 427.332 L137.033 409.971 Z\" fill=\"#000000\" fill-rule=\"nonzero\" fill-opacity=\"1\" /><path clip-path=\"url(#clip780)\" d=\"M91.5706 101.236 L99.2095 101.236 L99.2095 74.8701 L90.8993 76.5367 L90.8993 72.2775 L99.1632 70.6108 L103.839 70.6108 L103.839 101.236 L111.478 101.236 L111.478 105.171 L91.5706 105.171 L91.5706 101.236 Z\" fill=\"#000000\" fill-rule=\"nonzero\" fill-opacity=\"1\" /><path clip-path=\"url(#clip780)\" d=\"M120.922 99.2912 L125.807 99.2912 L125.807 105.171 L120.922 105.171 L120.922 99.2912 Z\" fill=\"#000000\" fill-rule=\"nonzero\" fill-opacity=\"1\" /><path clip-path=\"url(#clip780)\" d=\"M145.992 73.6895 Q142.381 73.6895 140.552 77.2543 Q138.746 80.796 138.746 87.9256 Q138.746 95.032 140.552 98.5968 Q142.381 102.138 145.992 102.138 Q149.626 102.138 151.431 98.5968 Q153.26 95.032 153.26 87.9256 Q153.26 80.796 151.431 77.2543 Q149.626 73.6895 145.992 73.6895 M145.992 69.9858 Q151.802 69.9858 154.857 74.5923 Q157.936 79.1756 157.936 87.9256 Q157.936 96.6524 154.857 101.259 Q151.802 105.842 145.992 105.842 Q140.181 105.842 137.103 101.259 Q134.047 96.6524 134.047 87.9256 Q134.047 79.1756 137.103 74.5923 Q140.181 69.9858 145.992 69.9858 Z\" fill=\"#000000\" fill-rule=\"nonzero\" fill-opacity=\"1\" /><polyline clip-path=\"url(#clip782)\" style=\"stroke:#009af9; stroke-linecap:round; stroke-linejoin:round; stroke-width:4; stroke-opacity:1; fill:none\" points=\"255.035,766.61 275.607,723.563 296.179,680.69 316.751,638.162 337.322,596.151 357.894,554.827 378.466,514.356 399.038,474.9 419.61,436.619 440.182,399.667 460.754,364.192 481.326,330.338 501.898,298.24 522.47,268.029 543.042,239.825 563.614,213.742 584.186,189.885 604.758,168.351 625.33,149.225 645.902,132.586 666.474,118.5 687.046,107.023 707.617,98.2021 728.189,92.0728 748.761,88.6596 769.333,87.9763 789.905,90.0256 810.477,94.7992 831.049,102.278 851.621,112.432 872.193,125.22 892.765,140.59 913.337,158.482 933.909,178.822 954.481,201.529 975.053,226.511 995.625,253.668 1016.2,282.891 1036.77,314.061 1057.34,347.054 1077.91,381.736 1098.48,417.967 1119.06,455.603 1139.63,494.491 1160.2,534.475 1180.77,575.393 1201.34,617.081 1221.92,659.372 1242.49,702.094 1263.06,745.076 1283.63,788.145 1304.2,831.127 1324.78,873.849 1345.35,916.139 1365.92,957.828 1386.49,998.746 1407.06,1038.73 1427.64,1077.62 1448.21,1115.25 1468.78,1151.48 1489.35,1186.17 1509.92,1219.16 1530.5,1250.33 1551.07,1279.55 1571.64,1306.71 1592.21,1331.69 1612.78,1354.4 1633.35,1374.74 1653.93,1392.63 1674.5,1408 1695.07,1420.79 1715.64,1430.94 1736.21,1438.42 1756.79,1443.2 1777.36,1445.24 1797.93,1444.56 1818.5,1441.15 1839.07,1435.02 1859.65,1426.2 1880.22,1414.72 1900.79,1400.63 1921.36,1384 1941.93,1364.87 1962.51,1343.34 1983.08,1319.48 2003.65,1293.4 2024.22,1265.19 2044.79,1234.98 2065.37,1202.88 2085.94,1169.03 2106.51,1133.55 2127.08,1096.6 2147.65,1058.32 2168.23,1018.86 2188.8,978.393 2209.37,937.069 2229.94,895.059 2250.51,852.531 2271.09,809.657 2291.66,766.61 \"/>\n",
       "<polyline clip-path=\"url(#clip782)\" style=\"stroke:#e26f46; stroke-linecap:round; stroke-linejoin:round; stroke-width:4; stroke-opacity:1; fill:none\" points=\"255.035,766.61 275.607,723.563 296.179,680.69 316.751,638.162 337.322,596.151 357.894,554.827 378.466,514.356 399.038,474.9 419.61,436.619 440.182,399.667 460.754,364.192 481.326,330.338 501.898,298.24 522.47,268.029 543.042,239.825 563.614,213.742 584.186,189.885 604.758,168.351 625.33,149.225 645.902,132.586 666.474,118.5 687.046,107.023 707.617,98.2021 728.189,92.0728 748.761,88.6596 769.333,87.9763 789.905,90.0256 810.477,94.7992 831.049,102.278 851.621,112.432 872.193,125.22 892.765,140.59 913.337,158.482 933.909,178.822 954.481,201.529 975.053,226.511 995.625,253.668 1016.2,282.891 1036.77,314.061 1057.34,347.054 1077.91,381.736 1098.48,417.967 1119.06,455.603 1139.63,494.491 1160.2,534.475 1180.77,575.393 1201.34,617.081 1221.92,659.372 1242.49,702.094 1263.06,745.076 1283.63,788.145 1304.2,831.128 1324.78,873.85 1345.35,916.141 1365.92,957.83 1386.49,998.749 1407.06,1038.73 1427.64,1077.62 1448.21,1115.26 1468.78,1151.5 1489.35,1186.18 1509.92,1219.18 1530.5,1250.35 1551.07,1279.58 1571.64,1306.75 1592.21,1331.74 1612.78,1354.47 1633.35,1374.83 1653.93,1392.74 1674.5,1408.15 1695.07,1420.97 1715.64,1431.18 1736.21,1438.72 1756.79,1443.57 1777.36,1445.72 1797.93,1445.15 1818.5,1441.89 1839.07,1435.94 1859.65,1427.34 1880.22,1416.14 1900.79,1402.39 1921.36,1386.16 1941.93,1367.53 1962.51,1346.6 1983.08,1323.47 2003.65,1298.27 2024.22,1271.13 2044.79,1242.19 2065.37,1211.62 2085.94,1179.6 2106.51,1146.31 2127.08,1111.97 2147.65,1076.78 2168.23,1041.01 2188.8,1004.9 2209.37,968.73 2229.94,932.809 2250.51,897.458 2271.09,863.028 2291.66,829.898 \"/>\n",
       "<path clip-path=\"url(#clip780)\" d=\"M1839.73 250.738 L2280.8 250.738 L2280.8 95.2176 L1839.73 95.2176  Z\" fill=\"#ffffff\" fill-rule=\"evenodd\" fill-opacity=\"1\"/>\n",
       "<polyline clip-path=\"url(#clip780)\" style=\"stroke:#000000; stroke-linecap:round; stroke-linejoin:round; stroke-width:4; stroke-opacity:1; fill:none\" points=\"1839.73,250.738 2280.8,250.738 2280.8,95.2176 1839.73,95.2176 1839.73,250.738 \"/>\n",
       "<polyline clip-path=\"url(#clip780)\" style=\"stroke:#009af9; stroke-linecap:round; stroke-linejoin:round; stroke-width:4; stroke-opacity:1; fill:none\" points=\"1863.72,147.058 2007.64,147.058 \"/>\n",
       "<path clip-path=\"url(#clip780)\" d=\"M2050.05 139.176 L2050.05 143.203 Q2048.24 142.277 2046.3 141.815 Q2044.36 141.352 2042.27 141.352 Q2039.1 141.352 2037.5 142.324 Q2035.93 143.296 2035.93 145.24 Q2035.93 146.722 2037.06 147.578 Q2038.2 148.412 2041.62 149.176 L2043.08 149.5 Q2047.62 150.472 2049.52 152.254 Q2051.44 154.014 2051.44 157.185 Q2051.44 160.796 2048.57 162.902 Q2045.72 165.009 2040.72 165.009 Q2038.64 165.009 2036.37 164.592 Q2034.12 164.199 2031.62 163.388 L2031.62 158.99 Q2033.99 160.217 2036.28 160.842 Q2038.57 161.444 2040.81 161.444 Q2043.82 161.444 2045.44 160.426 Q2047.06 159.384 2047.06 157.509 Q2047.06 155.773 2045.88 154.847 Q2044.73 153.921 2040.77 153.064 L2039.29 152.717 Q2035.33 151.884 2033.57 150.171 Q2031.81 148.435 2031.81 145.426 Q2031.81 141.768 2034.4 139.778 Q2036.99 137.787 2041.76 137.787 Q2044.12 137.787 2046.21 138.134 Q2048.29 138.481 2050.05 139.176 Z\" fill=\"#000000\" fill-rule=\"nonzero\" fill-opacity=\"1\" /><path clip-path=\"url(#clip780)\" d=\"M2058.22 138.412 L2062.48 138.412 L2062.48 164.338 L2058.22 164.338 L2058.22 138.412 M2058.22 128.319 L2062.48 128.319 L2062.48 133.713 L2058.22 133.713 L2058.22 128.319 Z\" fill=\"#000000\" fill-rule=\"nonzero\" fill-opacity=\"1\" /><path clip-path=\"url(#clip780)\" d=\"M2092.94 148.689 L2092.94 164.338 L2088.68 164.338 L2088.68 148.828 Q2088.68 145.148 2087.25 143.319 Q2085.81 141.49 2082.94 141.49 Q2079.49 141.49 2077.5 143.69 Q2075.51 145.889 2075.51 149.685 L2075.51 164.338 L2071.23 164.338 L2071.23 138.412 L2075.51 138.412 L2075.51 142.44 Q2077.04 140.102 2079.1 138.944 Q2081.18 137.787 2083.89 137.787 Q2088.36 137.787 2090.65 140.565 Q2092.94 143.319 2092.94 148.689 Z\" fill=\"#000000\" fill-rule=\"nonzero\" fill-opacity=\"1\" /><path clip-path=\"url(#clip780)\" d=\"M2111.67 128.366 Q2108.57 133.69 2107.06 138.898 Q2105.56 144.106 2105.56 149.453 Q2105.56 154.801 2107.06 160.055 Q2108.59 165.287 2111.67 170.588 L2107.97 170.588 Q2104.49 165.148 2102.76 159.893 Q2101.05 154.639 2101.05 149.453 Q2101.05 144.291 2102.76 139.06 Q2104.47 133.828 2107.97 128.366 L2111.67 128.366 Z\" fill=\"#000000\" fill-rule=\"nonzero\" fill-opacity=\"1\" /><path clip-path=\"url(#clip780)\" d=\"M2141.48 138.412 L2132.11 151.027 L2141.97 164.338 L2136.95 164.338 L2129.4 154.152 L2121.86 164.338 L2116.83 164.338 L2126.9 150.773 L2117.69 138.412 L2122.71 138.412 L2129.59 147.648 L2136.46 138.412 L2141.48 138.412 Z\" fill=\"#000000\" fill-rule=\"nonzero\" fill-opacity=\"1\" /><path clip-path=\"url(#clip780)\" d=\"M2147.32 128.366 L2151.02 128.366 Q2154.49 133.828 2156.21 139.06 Q2157.94 144.291 2157.94 149.453 Q2157.94 154.639 2156.21 159.893 Q2154.49 165.148 2151.02 170.588 L2147.32 170.588 Q2150.4 165.287 2151.9 160.055 Q2153.43 154.801 2153.43 149.453 Q2153.43 144.106 2151.9 138.898 Q2150.4 133.69 2147.32 128.366 Z\" fill=\"#000000\" fill-rule=\"nonzero\" fill-opacity=\"1\" /><polyline clip-path=\"url(#clip780)\" style=\"stroke:#e26f46; stroke-linecap:round; stroke-linejoin:round; stroke-width:4; stroke-opacity:1; fill:none\" points=\"1863.72,198.898 2007.64,198.898 \"/>\n",
       "<path clip-path=\"url(#clip780)\" d=\"M2050.05 191.016 L2050.05 195.043 Q2048.24 194.117 2046.3 193.655 Q2044.36 193.192 2042.27 193.192 Q2039.1 193.192 2037.5 194.164 Q2035.93 195.136 2035.93 197.08 Q2035.93 198.562 2037.06 199.418 Q2038.2 200.252 2041.62 201.016 L2043.08 201.34 Q2047.62 202.312 2049.52 204.094 Q2051.44 205.854 2051.44 209.025 Q2051.44 212.636 2048.57 214.742 Q2045.72 216.849 2040.72 216.849 Q2038.64 216.849 2036.37 216.432 Q2034.12 216.039 2031.62 215.228 L2031.62 210.83 Q2033.99 212.057 2036.28 212.682 Q2038.57 213.284 2040.81 213.284 Q2043.82 213.284 2045.44 212.266 Q2047.06 211.224 2047.06 209.349 Q2047.06 207.613 2045.88 206.687 Q2044.73 205.761 2040.77 204.904 L2039.29 204.557 Q2035.33 203.724 2033.57 202.011 Q2031.81 200.275 2031.81 197.266 Q2031.81 193.608 2034.4 191.618 Q2036.99 189.627 2041.76 189.627 Q2044.12 189.627 2046.21 189.974 Q2048.29 190.321 2050.05 191.016 Z\" fill=\"#000000\" fill-rule=\"nonzero\" fill-opacity=\"1\" /><path clip-path=\"url(#clip780)\" d=\"M2058.22 190.252 L2062.48 190.252 L2062.48 216.178 L2058.22 216.178 L2058.22 190.252 M2058.22 180.159 L2062.48 180.159 L2062.48 185.553 L2058.22 185.553 L2058.22 180.159 Z\" fill=\"#000000\" fill-rule=\"nonzero\" fill-opacity=\"1\" /><path clip-path=\"url(#clip780)\" d=\"M2092.94 200.529 L2092.94 216.178 L2088.68 216.178 L2088.68 200.668 Q2088.68 196.988 2087.25 195.159 Q2085.81 193.33 2082.94 193.33 Q2079.49 193.33 2077.5 195.53 Q2075.51 197.729 2075.51 201.525 L2075.51 216.178 L2071.23 216.178 L2071.23 190.252 L2075.51 190.252 L2075.51 194.28 Q2077.04 191.942 2079.1 190.784 Q2081.18 189.627 2083.89 189.627 Q2088.36 189.627 2090.65 192.405 Q2092.94 195.159 2092.94 200.529 Z\" fill=\"#000000\" fill-rule=\"nonzero\" fill-opacity=\"1\" /><path clip-path=\"url(#clip780)\" d=\"M2121.14 224.048 L2121.14 227.358 L2096.51 227.358 L2096.51 224.048 L2121.14 224.048 Z\" fill=\"#000000\" fill-rule=\"nonzero\" fill-opacity=\"1\" /><path clip-path=\"url(#clip780)\" d=\"M2146.69 200.529 L2146.69 216.178 L2142.43 216.178 L2142.43 200.668 Q2142.43 196.988 2141 195.159 Q2139.56 193.33 2136.69 193.33 Q2133.24 193.33 2131.25 195.53 Q2129.26 197.729 2129.26 201.525 L2129.26 216.178 L2124.98 216.178 L2124.98 190.252 L2129.26 190.252 L2129.26 194.28 Q2130.79 191.942 2132.85 190.784 Q2134.93 189.627 2137.64 189.627 Q2142.11 189.627 2144.4 192.405 Q2146.69 195.159 2146.69 200.529 Z\" fill=\"#000000\" fill-rule=\"nonzero\" fill-opacity=\"1\" /><path clip-path=\"url(#clip780)\" d=\"M2165.42 180.206 Q2162.32 185.53 2160.81 190.738 Q2159.31 195.946 2159.31 201.293 Q2159.31 206.641 2160.81 211.895 Q2162.34 217.127 2165.42 222.428 L2161.72 222.428 Q2158.24 216.988 2156.51 211.733 Q2154.8 206.479 2154.8 201.293 Q2154.8 196.131 2156.51 190.9 Q2158.22 185.668 2161.72 180.206 L2165.42 180.206 Z\" fill=\"#000000\" fill-rule=\"nonzero\" fill-opacity=\"1\" /><path clip-path=\"url(#clip780)\" d=\"M2195.23 190.252 L2185.86 202.867 L2195.72 216.178 L2190.7 216.178 L2183.15 205.992 L2175.61 216.178 L2170.58 216.178 L2180.65 202.613 L2171.44 190.252 L2176.46 190.252 L2183.34 199.488 L2190.21 190.252 L2195.23 190.252 Z\" fill=\"#000000\" fill-rule=\"nonzero\" fill-opacity=\"1\" /><path clip-path=\"url(#clip780)\" d=\"M2202.83 210.298 L2207.71 210.298 L2207.71 214.279 L2203.92 221.687 L2200.93 221.687 L2202.83 214.279 L2202.83 210.298 Z\" fill=\"#000000\" fill-rule=\"nonzero\" fill-opacity=\"1\" /><path clip-path=\"url(#clip780)\" d=\"M2238.36 200.529 L2238.36 216.178 L2234.1 216.178 L2234.1 200.668 Q2234.1 196.988 2232.66 195.159 Q2231.23 193.33 2228.36 193.33 Q2224.91 193.33 2222.92 195.53 Q2220.93 197.729 2220.93 201.525 L2220.93 216.178 L2216.65 216.178 L2216.65 190.252 L2220.93 190.252 L2220.93 194.28 Q2222.46 191.942 2224.52 190.784 Q2226.6 189.627 2229.31 189.627 Q2233.78 189.627 2236.07 192.405 Q2238.36 195.159 2238.36 200.529 Z\" fill=\"#000000\" fill-rule=\"nonzero\" fill-opacity=\"1\" /><path clip-path=\"url(#clip780)\" d=\"M2246.18 180.206 L2249.89 180.206 Q2253.36 185.668 2255.07 190.9 Q2256.81 196.131 2256.81 201.293 Q2256.81 206.479 2255.07 211.733 Q2253.36 216.988 2249.89 222.428 L2246.18 222.428 Q2249.26 217.127 2250.77 211.895 Q2252.29 206.641 2252.29 201.293 Q2252.29 195.946 2250.77 190.738 Q2249.26 185.53 2246.18 180.206 Z\" fill=\"#000000\" fill-rule=\"nonzero\" fill-opacity=\"1\" /></svg>\n"
      ]
     },
     "execution_count": 34,
     "metadata": {},
     "output_type": "execute_result"
    }
   ],
   "source": [
    "#plot(0:0.01:2*π,sin,sin_n(1,2),xlabel=\"x\",ylabel=\"sen(x)\",label=\"la funcion\")\n",
    "x = range(0,2*π, length=100)\n",
    "y1 = sin.(x)\n",
    "y2 = sin_n.(x,8)  #aumentar el n \n",
    "plot(x, [y1 y2],label=[\"sin(x)\" \"sin_n(x,n)\"])"
   ]
  },
  {
   "cell_type": "code",
   "execution_count": 38,
   "metadata": {},
   "outputs": [
    {
     "data": {
      "image/png": "[encoded data removed]",
      "image/svg+xml": [
       "<?xml version=\"1.0\" encoding=\"utf-8\"?>\n",
       "<svg xmlns=\"http://www.w3.org/2000/svg\" xmlns:xlink=\"http://www.w3.org/1999/xlink\" width=\"600\" height=\"400\" viewBox=\"0 0 2400 1600\">\n",
       "<defs>\n",
       "  <clipPath id=\"clip090\">\n",
       "    <rect x=\"0\" y=\"0\" width=\"2400\" height=\"1600\"/>\n",
       "  </clipPath>\n",
       "</defs>\n",
       "<path clip-path=\"url(#clip090)\" d=\"M0 1600 L2400 1600 L2400 0 L0 0  Z\" fill=\"#ffffff\" fill-rule=\"evenodd\" fill-opacity=\"1\"/>\n",
       "<defs>\n",
       "  <clipPath id=\"clip091\">\n",
       "    <rect x=\"480\" y=\"0\" width=\"1681\" height=\"1600\"/>\n",
       "  </clipPath>\n",
       "</defs>\n",
       "<path clip-path=\"url(#clip090)\" d=\"M186.76 1486.45 L2352.76 1486.45 L2352.76 47.2441 L186.76 47.2441  Z\" fill=\"#ffffff\" fill-rule=\"evenodd\" fill-opacity=\"1\"/>\n",
       "<defs>\n",
       "  <clipPath id=\"clip092\">\n",
       "    <rect x=\"186\" y=\"47\" width=\"2167\" height=\"1440\"/>\n",
       "  </clipPath>\n",
       "</defs>\n",
       "<polyline clip-path=\"url(#clip092)\" style=\"stroke:#000000; stroke-linecap:round; stroke-linejoin:round; stroke-width:2; stroke-opacity:0.1; fill:none\" points=\"248.062,1486.45 248.062,47.2441 \"/>\n",
       "<polyline clip-path=\"url(#clip092)\" style=\"stroke:#000000; stroke-linecap:round; stroke-linejoin:round; stroke-width:2; stroke-opacity:0.1; fill:none\" points=\"573.278,1486.45 573.278,47.2441 \"/>\n",
       "<polyline clip-path=\"url(#clip092)\" style=\"stroke:#000000; stroke-linecap:round; stroke-linejoin:round; stroke-width:2; stroke-opacity:0.1; fill:none\" points=\"898.494,1486.45 898.494,47.2441 \"/>\n",
       "<polyline clip-path=\"url(#clip092)\" style=\"stroke:#000000; stroke-linecap:round; stroke-linejoin:round; stroke-width:2; stroke-opacity:0.1; fill:none\" points=\"1223.71,1486.45 1223.71,47.2441 \"/>\n",
       "<polyline clip-path=\"url(#clip092)\" style=\"stroke:#000000; stroke-linecap:round; stroke-linejoin:round; stroke-width:2; stroke-opacity:0.1; fill:none\" points=\"1548.93,1486.45 1548.93,47.2441 \"/>\n",
       "<polyline clip-path=\"url(#clip092)\" style=\"stroke:#000000; stroke-linecap:round; stroke-linejoin:round; stroke-width:2; stroke-opacity:0.1; fill:none\" points=\"1874.14,1486.45 1874.14,47.2441 \"/>\n",
       "<polyline clip-path=\"url(#clip092)\" style=\"stroke:#000000; stroke-linecap:round; stroke-linejoin:round; stroke-width:2; stroke-opacity:0.1; fill:none\" points=\"2199.36,1486.45 2199.36,47.2441 \"/>\n",
       "<polyline clip-path=\"url(#clip090)\" style=\"stroke:#000000; stroke-linecap:round; stroke-linejoin:round; stroke-width:4; stroke-opacity:1; fill:none\" points=\"186.76,1486.45 2352.76,1486.45 \"/>\n",
       "<polyline clip-path=\"url(#clip090)\" style=\"stroke:#000000; stroke-linecap:round; stroke-linejoin:round; stroke-width:4; stroke-opacity:1; fill:none\" points=\"248.062,1486.45 248.062,1467.55 \"/>\n",
       "<polyline clip-path=\"url(#clip090)\" style=\"stroke:#000000; stroke-linecap:round; stroke-linejoin:round; stroke-width:4; stroke-opacity:1; fill:none\" points=\"573.278,1486.45 573.278,1467.55 \"/>\n",
       "<polyline clip-path=\"url(#clip090)\" style=\"stroke:#000000; stroke-linecap:round; stroke-linejoin:round; stroke-width:4; stroke-opacity:1; fill:none\" points=\"898.494,1486.45 898.494,1467.55 \"/>\n",
       "<polyline clip-path=\"url(#clip090)\" style=\"stroke:#000000; stroke-linecap:round; stroke-linejoin:round; stroke-width:4; stroke-opacity:1; fill:none\" points=\"1223.71,1486.45 1223.71,1467.55 \"/>\n",
       "<polyline clip-path=\"url(#clip090)\" style=\"stroke:#000000; stroke-linecap:round; stroke-linejoin:round; stroke-width:4; stroke-opacity:1; fill:none\" points=\"1548.93,1486.45 1548.93,1467.55 \"/>\n",
       "<polyline clip-path=\"url(#clip090)\" style=\"stroke:#000000; stroke-linecap:round; stroke-linejoin:round; stroke-width:4; stroke-opacity:1; fill:none\" points=\"1874.14,1486.45 1874.14,1467.55 \"/>\n",
       "<polyline clip-path=\"url(#clip090)\" style=\"stroke:#000000; stroke-linecap:round; stroke-linejoin:round; stroke-width:4; stroke-opacity:1; fill:none\" points=\"2199.36,1486.45 2199.36,1467.55 \"/>\n",
       "<path clip-path=\"url(#clip090)\" d=\"M248.062 1517.37 Q244.451 1517.37 242.622 1520.93 Q240.817 1524.47 240.817 1531.6 Q240.817 1538.71 242.622 1542.27 Q244.451 1545.82 248.062 1545.82 Q251.696 1545.82 253.502 1542.27 Q255.33 1538.71 255.33 1531.6 Q255.33 1524.47 253.502 1520.93 Q251.696 1517.37 248.062 1517.37 M248.062 1513.66 Q253.872 1513.66 256.928 1518.27 Q260.006 1522.85 260.006 1531.6 Q260.006 1540.33 256.928 1544.94 Q253.872 1549.52 248.062 1549.52 Q242.252 1549.52 239.173 1544.94 Q236.117 1540.33 236.117 1531.6 Q236.117 1522.85 239.173 1518.27 Q242.252 1513.66 248.062 1513.66 Z\" fill=\"#000000\" fill-rule=\"nonzero\" fill-opacity=\"1\" /><path clip-path=\"url(#clip090)\" d=\"M563.66 1544.91 L571.299 1544.91 L571.299 1518.55 L562.989 1520.21 L562.989 1515.95 L571.252 1514.29 L575.928 1514.29 L575.928 1544.91 L583.567 1544.91 L583.567 1548.85 L563.66 1548.85 L563.66 1544.91 Z\" fill=\"#000000\" fill-rule=\"nonzero\" fill-opacity=\"1\" /><path clip-path=\"url(#clip090)\" d=\"M893.147 1544.91 L909.466 1544.91 L909.466 1548.85 L887.522 1548.85 L887.522 1544.91 Q890.184 1542.16 894.767 1537.53 Q899.373 1532.88 900.554 1531.53 Q902.799 1529.01 903.679 1527.27 Q904.582 1525.51 904.582 1523.82 Q904.582 1521.07 902.637 1519.33 Q900.716 1517.6 897.614 1517.6 Q895.415 1517.6 892.961 1518.36 Q890.531 1519.13 887.753 1520.68 L887.753 1515.95 Q890.577 1514.82 893.031 1514.24 Q895.485 1513.66 897.522 1513.66 Q902.892 1513.66 906.086 1516.35 Q909.281 1519.03 909.281 1523.52 Q909.281 1525.65 908.471 1527.57 Q907.684 1529.47 905.577 1532.07 Q904.998 1532.74 901.897 1535.95 Q898.795 1539.15 893.147 1544.91 Z\" fill=\"#000000\" fill-rule=\"nonzero\" fill-opacity=\"1\" /><path clip-path=\"url(#clip090)\" d=\"M1227.96 1530.21 Q1231.31 1530.93 1233.19 1533.2 Q1235.09 1535.47 1235.09 1538.8 Q1235.09 1543.92 1231.57 1546.72 Q1228.05 1549.52 1221.57 1549.52 Q1219.39 1549.52 1217.08 1549.08 Q1214.79 1548.66 1212.33 1547.81 L1212.33 1543.29 Q1214.28 1544.43 1216.59 1545.01 Q1218.91 1545.58 1221.43 1545.58 Q1225.83 1545.58 1228.12 1543.85 Q1230.43 1542.11 1230.43 1538.8 Q1230.43 1535.75 1228.28 1534.03 Q1226.15 1532.3 1222.33 1532.3 L1218.3 1532.3 L1218.3 1528.45 L1222.52 1528.45 Q1225.97 1528.45 1227.8 1527.09 Q1229.62 1525.7 1229.62 1523.11 Q1229.62 1520.45 1227.73 1519.03 Q1225.85 1517.6 1222.33 1517.6 Q1220.41 1517.6 1218.21 1518.01 Q1216.01 1518.43 1213.37 1519.31 L1213.37 1515.14 Q1216.04 1514.4 1218.35 1514.03 Q1220.69 1513.66 1222.75 1513.66 Q1228.07 1513.66 1231.18 1516.09 Q1234.28 1518.5 1234.28 1522.62 Q1234.28 1525.49 1232.63 1527.48 Q1230.99 1529.45 1227.96 1530.21 Z\" fill=\"#000000\" fill-rule=\"nonzero\" fill-opacity=\"1\" /><path clip-path=\"url(#clip090)\" d=\"M1551.94 1518.36 L1540.13 1536.81 L1551.94 1536.81 L1551.94 1518.36 M1550.71 1514.29 L1556.59 1514.29 L1556.59 1536.81 L1561.52 1536.81 L1561.52 1540.7 L1556.59 1540.7 L1556.59 1548.85 L1551.94 1548.85 L1551.94 1540.7 L1536.33 1540.7 L1536.33 1536.19 L1550.71 1514.29 Z\" fill=\"#000000\" fill-rule=\"nonzero\" fill-opacity=\"1\" /><path clip-path=\"url(#clip090)\" d=\"M1864.42 1514.29 L1882.78 1514.29 L1882.78 1518.22 L1868.7 1518.22 L1868.7 1526.7 Q1869.72 1526.35 1870.74 1526.19 Q1871.76 1526 1872.78 1526 Q1878.56 1526 1881.94 1529.17 Q1885.32 1532.34 1885.32 1537.76 Q1885.32 1543.34 1881.85 1546.44 Q1878.38 1549.52 1872.06 1549.52 Q1869.88 1549.52 1867.61 1549.15 Q1865.37 1548.78 1862.96 1548.04 L1862.96 1543.34 Q1865.04 1544.47 1867.27 1545.03 Q1869.49 1545.58 1871.97 1545.58 Q1875.97 1545.58 1878.31 1543.48 Q1880.65 1541.37 1880.65 1537.76 Q1880.65 1534.15 1878.31 1532.04 Q1875.97 1529.94 1871.97 1529.94 Q1870.09 1529.94 1868.22 1530.35 Q1866.36 1530.77 1864.42 1531.65 L1864.42 1514.29 Z\" fill=\"#000000\" fill-rule=\"nonzero\" fill-opacity=\"1\" /><path clip-path=\"url(#clip090)\" d=\"M2199.76 1529.7 Q2196.61 1529.7 2194.76 1531.86 Q2192.93 1534.01 2192.93 1537.76 Q2192.93 1541.49 2194.76 1543.66 Q2196.61 1545.82 2199.76 1545.82 Q2202.91 1545.82 2204.74 1543.66 Q2206.59 1541.49 2206.59 1537.76 Q2206.59 1534.01 2204.74 1531.86 Q2202.91 1529.7 2199.76 1529.7 M2209.05 1515.05 L2209.05 1519.31 Q2207.29 1518.48 2205.48 1518.04 Q2203.7 1517.6 2201.94 1517.6 Q2197.31 1517.6 2194.86 1520.72 Q2192.42 1523.85 2192.08 1530.17 Q2193.44 1528.15 2195.5 1527.09 Q2197.56 1526 2200.04 1526 Q2205.25 1526 2208.26 1529.17 Q2211.29 1532.32 2211.29 1537.76 Q2211.29 1543.08 2208.14 1546.3 Q2204.99 1549.52 2199.76 1549.52 Q2193.77 1549.52 2190.6 1544.94 Q2187.42 1540.33 2187.42 1531.6 Q2187.42 1523.41 2191.31 1518.55 Q2195.2 1513.66 2201.75 1513.66 Q2203.51 1513.66 2205.3 1514.01 Q2207.1 1514.36 2209.05 1515.05 Z\" fill=\"#000000\" fill-rule=\"nonzero\" fill-opacity=\"1\" /><polyline clip-path=\"url(#clip092)\" style=\"stroke:#000000; stroke-linecap:round; stroke-linejoin:round; stroke-width:2; stroke-opacity:0.1; fill:none\" points=\"186.76,1445.72 2352.76,1445.72 \"/>\n",
       "<polyline clip-path=\"url(#clip092)\" style=\"stroke:#000000; stroke-linecap:round; stroke-linejoin:round; stroke-width:2; stroke-opacity:0.1; fill:none\" points=\"186.76,1154.5 2352.76,1154.5 \"/>\n",
       "<polyline clip-path=\"url(#clip092)\" style=\"stroke:#000000; stroke-linecap:round; stroke-linejoin:round; stroke-width:2; stroke-opacity:0.1; fill:none\" points=\"186.76,863.281 2352.76,863.281 \"/>\n",
       "<polyline clip-path=\"url(#clip092)\" style=\"stroke:#000000; stroke-linecap:round; stroke-linejoin:round; stroke-width:2; stroke-opacity:0.1; fill:none\" points=\"186.76,572.063 2352.76,572.063 \"/>\n",
       "<polyline clip-path=\"url(#clip092)\" style=\"stroke:#000000; stroke-linecap:round; stroke-linejoin:round; stroke-width:2; stroke-opacity:0.1; fill:none\" points=\"186.76,280.846 2352.76,280.846 \"/>\n",
       "<polyline clip-path=\"url(#clip090)\" style=\"stroke:#000000; stroke-linecap:round; stroke-linejoin:round; stroke-width:4; stroke-opacity:1; fill:none\" points=\"186.76,1486.45 186.76,47.2441 \"/>\n",
       "<polyline clip-path=\"url(#clip090)\" style=\"stroke:#000000; stroke-linecap:round; stroke-linejoin:round; stroke-width:4; stroke-opacity:1; fill:none\" points=\"186.76,1445.72 205.658,1445.72 \"/>\n",
       "<polyline clip-path=\"url(#clip090)\" style=\"stroke:#000000; stroke-linecap:round; stroke-linejoin:round; stroke-width:4; stroke-opacity:1; fill:none\" points=\"186.76,1154.5 205.658,1154.5 \"/>\n",
       "<polyline clip-path=\"url(#clip090)\" style=\"stroke:#000000; stroke-linecap:round; stroke-linejoin:round; stroke-width:4; stroke-opacity:1; fill:none\" points=\"186.76,863.281 205.658,863.281 \"/>\n",
       "<polyline clip-path=\"url(#clip090)\" style=\"stroke:#000000; stroke-linecap:round; stroke-linejoin:round; stroke-width:4; stroke-opacity:1; fill:none\" points=\"186.76,572.063 205.658,572.063 \"/>\n",
       "<polyline clip-path=\"url(#clip090)\" style=\"stroke:#000000; stroke-linecap:round; stroke-linejoin:round; stroke-width:4; stroke-opacity:1; fill:none\" points=\"186.76,280.846 205.658,280.846 \"/>\n",
       "<path clip-path=\"url(#clip090)\" d=\"M63.4226 1431.51 Q59.8115 1431.51 57.9828 1435.08 Q56.1773 1438.62 56.1773 1445.75 Q56.1773 1452.86 57.9828 1456.42 Q59.8115 1459.96 63.4226 1459.96 Q67.0569 1459.96 68.8624 1456.42 Q70.6911 1452.86 70.6911 1445.75 Q70.6911 1438.62 68.8624 1435.08 Q67.0569 1431.51 63.4226 1431.51 M63.4226 1427.81 Q69.2328 1427.81 72.2883 1432.42 Q75.367 1437 75.367 1445.75 Q75.367 1454.48 72.2883 1459.08 Q69.2328 1463.67 63.4226 1463.67 Q57.6125 1463.67 54.5338 1459.08 Q51.4782 1454.48 51.4782 1445.75 Q51.4782 1437 54.5338 1432.42 Q57.6125 1427.81 63.4226 1427.81 Z\" fill=\"#000000\" fill-rule=\"nonzero\" fill-opacity=\"1\" /><path clip-path=\"url(#clip090)\" d=\"M83.5845 1457.12 L88.4688 1457.12 L88.4688 1463 L83.5845 1463 L83.5845 1457.12 Z\" fill=\"#000000\" fill-rule=\"nonzero\" fill-opacity=\"1\" /><path clip-path=\"url(#clip090)\" d=\"M108.654 1431.51 Q105.043 1431.51 103.214 1435.08 Q101.409 1438.62 101.409 1445.75 Q101.409 1452.86 103.214 1456.42 Q105.043 1459.96 108.654 1459.96 Q112.288 1459.96 114.094 1456.42 Q115.922 1452.86 115.922 1445.75 Q115.922 1438.62 114.094 1435.08 Q112.288 1431.51 108.654 1431.51 M108.654 1427.81 Q114.464 1427.81 117.52 1432.42 Q120.598 1437 120.598 1445.75 Q120.598 1454.48 117.52 1459.08 Q114.464 1463.67 108.654 1463.67 Q102.844 1463.67 99.765 1459.08 Q96.7095 1454.48 96.7095 1445.75 Q96.7095 1437 99.765 1432.42 Q102.844 1427.81 108.654 1427.81 Z\" fill=\"#000000\" fill-rule=\"nonzero\" fill-opacity=\"1\" /><path clip-path=\"url(#clip090)\" d=\"M138.816 1431.51 Q135.205 1431.51 133.376 1435.08 Q131.57 1438.62 131.57 1445.75 Q131.57 1452.86 133.376 1456.42 Q135.205 1459.96 138.816 1459.96 Q142.45 1459.96 144.256 1456.42 Q146.084 1452.86 146.084 1445.75 Q146.084 1438.62 144.256 1435.08 Q142.45 1431.51 138.816 1431.51 M138.816 1427.81 Q144.626 1427.81 147.681 1432.42 Q150.76 1437 150.76 1445.75 Q150.76 1454.48 147.681 1459.08 Q144.626 1463.67 138.816 1463.67 Q133.006 1463.67 129.927 1459.08 Q126.871 1454.48 126.871 1445.75 Q126.871 1437 129.927 1432.42 Q133.006 1427.81 138.816 1427.81 Z\" fill=\"#000000\" fill-rule=\"nonzero\" fill-opacity=\"1\" /><path clip-path=\"url(#clip090)\" d=\"M65.0198 1140.3 Q61.4087 1140.3 59.58 1143.86 Q57.7745 1147.4 57.7745 1154.53 Q57.7745 1161.64 59.58 1165.2 Q61.4087 1168.75 65.0198 1168.75 Q68.6541 1168.75 70.4596 1165.2 Q72.2883 1161.64 72.2883 1154.53 Q72.2883 1147.4 70.4596 1143.86 Q68.6541 1140.3 65.0198 1140.3 M65.0198 1136.59 Q70.83 1136.59 73.8855 1141.2 Q76.9642 1145.78 76.9642 1154.53 Q76.9642 1163.26 73.8855 1167.87 Q70.83 1172.45 65.0198 1172.45 Q59.2097 1172.45 56.131 1167.87 Q53.0754 1163.26 53.0754 1154.53 Q53.0754 1145.78 56.131 1141.2 Q59.2097 1136.59 65.0198 1136.59 Z\" fill=\"#000000\" fill-rule=\"nonzero\" fill-opacity=\"1\" /><path clip-path=\"url(#clip090)\" d=\"M85.1818 1165.9 L90.066 1165.9 L90.066 1171.78 L85.1818 1171.78 L85.1818 1165.9 Z\" fill=\"#000000\" fill-rule=\"nonzero\" fill-opacity=\"1\" /><path clip-path=\"url(#clip090)\" d=\"M110.251 1140.3 Q106.64 1140.3 104.811 1143.86 Q103.006 1147.4 103.006 1154.53 Q103.006 1161.64 104.811 1165.2 Q106.64 1168.75 110.251 1168.75 Q113.885 1168.75 115.691 1165.2 Q117.52 1161.64 117.52 1154.53 Q117.52 1147.4 115.691 1143.86 Q113.885 1140.3 110.251 1140.3 M110.251 1136.59 Q116.061 1136.59 119.117 1141.2 Q122.195 1145.78 122.195 1154.53 Q122.195 1163.26 119.117 1167.87 Q116.061 1172.45 110.251 1172.45 Q104.441 1172.45 101.362 1167.87 Q98.3067 1163.26 98.3067 1154.53 Q98.3067 1145.78 101.362 1141.2 Q104.441 1136.59 110.251 1136.59 Z\" fill=\"#000000\" fill-rule=\"nonzero\" fill-opacity=\"1\" /><path clip-path=\"url(#clip090)\" d=\"M134.441 1167.84 L150.76 1167.84 L150.76 1171.78 L128.816 1171.78 L128.816 1167.84 Q131.478 1165.09 136.061 1160.46 Q140.668 1155.81 141.848 1154.46 Q144.093 1151.94 144.973 1150.2 Q145.876 1148.45 145.876 1146.76 Q145.876 1144 143.931 1142.26 Q142.01 1140.53 138.908 1140.53 Q136.709 1140.53 134.256 1141.29 Q131.825 1142.06 129.047 1143.61 L129.047 1138.88 Q131.871 1137.75 134.325 1137.17 Q136.779 1136.59 138.816 1136.59 Q144.186 1136.59 147.38 1139.28 Q150.575 1141.96 150.575 1146.45 Q150.575 1148.58 149.765 1150.51 Q148.978 1152.4 146.871 1155 Q146.293 1155.67 143.191 1158.88 Q140.089 1162.08 134.441 1167.84 Z\" fill=\"#000000\" fill-rule=\"nonzero\" fill-opacity=\"1\" /><path clip-path=\"url(#clip090)\" d=\"M62.9365 849.08 Q59.3254 849.08 57.4967 852.644 Q55.6912 856.186 55.6912 863.316 Q55.6912 870.422 57.4967 873.987 Q59.3254 877.528 62.9365 877.528 Q66.5707 877.528 68.3763 873.987 Q70.205 870.422 70.205 863.316 Q70.205 856.186 68.3763 852.644 Q66.5707 849.08 62.9365 849.08 M62.9365 845.376 Q68.7467 845.376 71.8022 849.982 Q74.8809 854.566 74.8809 863.316 Q74.8809 872.042 71.8022 876.649 Q68.7467 881.232 62.9365 881.232 Q57.1264 881.232 54.0477 876.649 Q50.9921 872.042 50.9921 863.316 Q50.9921 854.566 54.0477 849.982 Q57.1264 845.376 62.9365 845.376 Z\" fill=\"#000000\" fill-rule=\"nonzero\" fill-opacity=\"1\" /><path clip-path=\"url(#clip090)\" d=\"M83.0984 874.681 L87.9827 874.681 L87.9827 880.561 L83.0984 880.561 L83.0984 874.681 Z\" fill=\"#000000\" fill-rule=\"nonzero\" fill-opacity=\"1\" /><path clip-path=\"url(#clip090)\" d=\"M108.168 849.08 Q104.557 849.08 102.728 852.644 Q100.922 856.186 100.922 863.316 Q100.922 870.422 102.728 873.987 Q104.557 877.528 108.168 877.528 Q111.802 877.528 113.608 873.987 Q115.436 870.422 115.436 863.316 Q115.436 856.186 113.608 852.644 Q111.802 849.08 108.168 849.08 M108.168 845.376 Q113.978 845.376 117.033 849.982 Q120.112 854.566 120.112 863.316 Q120.112 872.042 117.033 876.649 Q113.978 881.232 108.168 881.232 Q102.358 881.232 99.2789 876.649 Q96.2234 872.042 96.2234 863.316 Q96.2234 854.566 99.2789 849.982 Q102.358 845.376 108.168 845.376 Z\" fill=\"#000000\" fill-rule=\"nonzero\" fill-opacity=\"1\" /><path clip-path=\"url(#clip090)\" d=\"M141.177 850.075 L129.371 868.524 L141.177 868.524 L141.177 850.075 M139.95 846.001 L145.83 846.001 L145.83 868.524 L150.76 868.524 L150.76 872.413 L145.83 872.413 L145.83 880.561 L141.177 880.561 L141.177 872.413 L125.575 872.413 L125.575 867.899 L139.95 846.001 Z\" fill=\"#000000\" fill-rule=\"nonzero\" fill-opacity=\"1\" /><path clip-path=\"url(#clip090)\" d=\"M63.2606 557.862 Q59.6495 557.862 57.8208 561.427 Q56.0152 564.969 56.0152 572.098 Q56.0152 579.205 57.8208 582.769 Q59.6495 586.311 63.2606 586.311 Q66.8948 586.311 68.7004 582.769 Q70.5291 579.205 70.5291 572.098 Q70.5291 564.969 68.7004 561.427 Q66.8948 557.862 63.2606 557.862 M63.2606 554.158 Q69.0707 554.158 72.1263 558.765 Q75.205 563.348 75.205 572.098 Q75.205 580.825 72.1263 585.431 Q69.0707 590.015 63.2606 590.015 Q57.4504 590.015 54.3717 585.431 Q51.3162 580.825 51.3162 572.098 Q51.3162 563.348 54.3717 558.765 Q57.4504 554.158 63.2606 554.158 Z\" fill=\"#000000\" fill-rule=\"nonzero\" fill-opacity=\"1\" /><path clip-path=\"url(#clip090)\" d=\"M83.4225 583.464 L88.3067 583.464 L88.3067 589.343 L83.4225 589.343 L83.4225 583.464 Z\" fill=\"#000000\" fill-rule=\"nonzero\" fill-opacity=\"1\" /><path clip-path=\"url(#clip090)\" d=\"M108.492 557.862 Q104.881 557.862 103.052 561.427 Q101.246 564.969 101.246 572.098 Q101.246 579.205 103.052 582.769 Q104.881 586.311 108.492 586.311 Q112.126 586.311 113.932 582.769 Q115.76 579.205 115.76 572.098 Q115.76 564.969 113.932 561.427 Q112.126 557.862 108.492 557.862 M108.492 554.158 Q114.302 554.158 117.358 558.765 Q120.436 563.348 120.436 572.098 Q120.436 580.825 117.358 585.431 Q114.302 590.015 108.492 590.015 Q102.682 590.015 99.603 585.431 Q96.5474 580.825 96.5474 572.098 Q96.5474 563.348 99.603 558.765 Q102.682 554.158 108.492 554.158 Z\" fill=\"#000000\" fill-rule=\"nonzero\" fill-opacity=\"1\" /><path clip-path=\"url(#clip090)\" d=\"M139.232 570.2 Q136.084 570.2 134.232 572.353 Q132.404 574.506 132.404 578.256 Q132.404 581.982 134.232 584.158 Q136.084 586.311 139.232 586.311 Q142.381 586.311 144.209 584.158 Q146.061 581.982 146.061 578.256 Q146.061 574.506 144.209 572.353 Q142.381 570.2 139.232 570.2 M148.515 555.547 L148.515 559.807 Q146.756 558.973 144.95 558.533 Q143.168 558.094 141.408 558.094 Q136.779 558.094 134.325 561.219 Q131.894 564.344 131.547 570.663 Q132.913 568.649 134.973 567.584 Q137.033 566.496 139.51 566.496 Q144.718 566.496 147.728 569.668 Q150.76 572.816 150.76 578.256 Q150.76 583.58 147.612 586.797 Q144.464 590.015 139.232 590.015 Q133.237 590.015 130.066 585.431 Q126.894 580.825 126.894 572.098 Q126.894 563.904 130.783 559.043 Q134.672 554.158 141.223 554.158 Q142.982 554.158 144.765 554.506 Q146.57 554.853 148.515 555.547 Z\" fill=\"#000000\" fill-rule=\"nonzero\" fill-opacity=\"1\" /><path clip-path=\"url(#clip090)\" d=\"M63.5152 266.645 Q59.9041 266.645 58.0754 270.21 Q56.2699 273.751 56.2699 280.881 Q56.2699 287.987 58.0754 291.552 Q59.9041 295.094 63.5152 295.094 Q67.1494 295.094 68.955 291.552 Q70.7837 287.987 70.7837 280.881 Q70.7837 273.751 68.955 270.21 Q67.1494 266.645 63.5152 266.645 M63.5152 262.941 Q69.3254 262.941 72.3809 267.548 Q75.4596 272.131 75.4596 280.881 Q75.4596 289.608 72.3809 294.214 Q69.3254 298.797 63.5152 298.797 Q57.7051 298.797 54.6264 294.214 Q51.5708 289.608 51.5708 280.881 Q51.5708 272.131 54.6264 267.548 Q57.7051 262.941 63.5152 262.941 Z\" fill=\"#000000\" fill-rule=\"nonzero\" fill-opacity=\"1\" /><path clip-path=\"url(#clip090)\" d=\"M83.6771 292.246 L88.5614 292.246 L88.5614 298.126 L83.6771 298.126 L83.6771 292.246 Z\" fill=\"#000000\" fill-rule=\"nonzero\" fill-opacity=\"1\" /><path clip-path=\"url(#clip090)\" d=\"M108.746 266.645 Q105.135 266.645 103.307 270.21 Q101.501 273.751 101.501 280.881 Q101.501 287.987 103.307 291.552 Q105.135 295.094 108.746 295.094 Q112.381 295.094 114.186 291.552 Q116.015 287.987 116.015 280.881 Q116.015 273.751 114.186 270.21 Q112.381 266.645 108.746 266.645 M108.746 262.941 Q114.557 262.941 117.612 267.548 Q120.691 272.131 120.691 280.881 Q120.691 289.608 117.612 294.214 Q114.557 298.797 108.746 298.797 Q102.936 298.797 99.8576 294.214 Q96.8021 289.608 96.8021 280.881 Q96.8021 272.131 99.8576 267.548 Q102.936 262.941 108.746 262.941 Z\" fill=\"#000000\" fill-rule=\"nonzero\" fill-opacity=\"1\" /><path clip-path=\"url(#clip090)\" d=\"M138.908 281.714 Q135.575 281.714 133.654 283.497 Q131.756 285.279 131.756 288.404 Q131.756 291.529 133.654 293.311 Q135.575 295.094 138.908 295.094 Q142.242 295.094 144.163 293.311 Q146.084 291.506 146.084 288.404 Q146.084 285.279 144.163 283.497 Q142.265 281.714 138.908 281.714 M134.232 279.723 Q131.223 278.983 129.533 276.922 Q127.867 274.862 127.867 271.899 Q127.867 267.756 130.807 265.348 Q133.769 262.941 138.908 262.941 Q144.07 262.941 147.01 265.348 Q149.95 267.756 149.95 271.899 Q149.95 274.862 148.26 276.922 Q146.593 278.983 143.607 279.723 Q146.987 280.51 148.862 282.802 Q150.76 285.094 150.76 288.404 Q150.76 293.427 147.681 296.112 Q144.626 298.797 138.908 298.797 Q133.191 298.797 130.112 296.112 Q127.057 293.427 127.057 288.404 Q127.057 285.094 128.955 282.802 Q130.853 280.51 134.232 279.723 M132.519 272.339 Q132.519 275.024 134.186 276.529 Q135.876 278.034 138.908 278.034 Q141.918 278.034 143.607 276.529 Q145.32 275.024 145.32 272.339 Q145.32 269.654 143.607 268.149 Q141.918 266.645 138.908 266.645 Q135.876 266.645 134.186 268.149 Q132.519 269.654 132.519 272.339 Z\" fill=\"#000000\" fill-rule=\"nonzero\" fill-opacity=\"1\" /><polyline clip-path=\"url(#clip092)\" style=\"stroke:#009af9; stroke-linecap:round; stroke-linejoin:round; stroke-width:4; stroke-opacity:1; fill:none\" points=\"248.062,1445.72 268.702,1445.72 289.343,1445.72 309.983,1445.72 330.623,1445.72 351.264,1445.72 371.904,1445.72 392.544,1445.72 413.184,1445.72 433.825,1445.72 454.465,1445.72 475.105,1445.72 495.746,1445.72 516.386,1445.72 537.026,1445.72 557.667,1445.72 578.307,1445.72 598.947,1445.72 619.588,1445.72 640.228,1445.72 660.868,1445.72 681.509,1445.72 702.149,1445.72 722.789,1445.72 743.43,1445.72 764.07,1445.72 784.71,1445.72 805.351,1445.72 825.991,1445.72 846.631,1445.72 867.272,1445.72 887.912,1445.72 908.552,1445.72 929.193,1445.72 949.833,1445.72 970.473,1445.72 991.114,1445.72 1011.75,1445.72 1032.39,1445.72 1053.03,1445.72 1073.67,1445.72 1094.32,1445.72 1114.96,1445.71 1135.6,1445.71 1156.24,1445.71 1176.88,1445.71 1197.52,1445.71 1218.16,1445.71 1238.8,1445.71 1259.44,1445.71 1280.08,1445.7 1300.72,1445.7 1321.36,1445.69 1342,1445.68 1362.64,1445.67 1383.28,1445.65 1403.92,1445.62 1424.56,1445.59 1445.2,1445.55 1465.84,1445.5 1486.48,1445.42 1507.12,1445.33 1527.76,1445.21 1548.4,1445.05 1569.04,1444.85 1589.68,1444.58 1610.32,1444.25 1630.96,1443.83 1651.6,1443.29 1672.24,1442.61 1692.88,1441.76 1713.53,1440.69 1734.17,1439.35 1754.81,1437.68 1775.45,1435.6 1796.09,1433.03 1816.73,1429.86 1837.37,1425.94 1858.01,1421.14 1878.65,1415.25 1899.29,1408.05 1919.93,1399.28 1940.57,1388.61 1961.21,1375.67 1981.85,1360.02 2002.49,1341.12 2023.13,1318.35 2043.77,1290.99 2064.41,1258.18 2085.05,1218.91 2105.69,1172.01 2126.33,1116.11 2146.97,1049.62 2167.61,970.673 2188.25,877.125 2208.89,766.477 2229.53,635.84 2250.17,481.874 2270.81,300.732 2291.45,87.9763 \"/>\n",
       "<path clip-path=\"url(#clip090)\" d=\"M258.96 198.898 L587.712 198.898 L587.712 95.2176 L258.96 95.2176  Z\" fill=\"#ffffff\" fill-rule=\"evenodd\" fill-opacity=\"1\"/>\n",
       "<polyline clip-path=\"url(#clip090)\" style=\"stroke:#000000; stroke-linecap:round; stroke-linejoin:round; stroke-width:4; stroke-opacity:1; fill:none\" points=\"258.96,198.898 587.712,198.898 587.712,95.2176 258.96,95.2176 258.96,198.898 \"/>\n",
       "<polyline clip-path=\"url(#clip090)\" style=\"stroke:#009af9; stroke-linecap:round; stroke-linejoin:round; stroke-width:4; stroke-opacity:1; fill:none\" points=\"283.027,147.058 427.426,147.058 \"/>\n",
       "<path clip-path=\"url(#clip090)\" d=\"M475.521 150.31 L475.521 152.393 L455.937 152.393 Q456.215 156.791 458.576 159.106 Q460.96 161.398 465.197 161.398 Q467.65 161.398 469.942 160.796 Q472.257 160.194 474.525 158.99 L474.525 163.018 Q472.234 163.99 469.826 164.5 Q467.419 165.009 464.942 165.009 Q458.738 165.009 455.104 161.398 Q451.493 157.787 451.493 151.629 Q451.493 145.264 454.919 141.537 Q458.368 137.787 464.201 137.787 Q469.433 137.787 472.465 141.166 Q475.521 144.523 475.521 150.31 M471.261 149.06 Q471.215 145.565 469.294 143.481 Q467.396 141.398 464.247 141.398 Q460.683 141.398 458.53 143.412 Q456.4 145.426 456.076 149.083 L471.261 149.06 Z\" fill=\"#000000\" fill-rule=\"nonzero\" fill-opacity=\"1\" /><path clip-path=\"url(#clip090)\" d=\"M497.534 142.393 Q496.817 141.977 495.96 141.791 Q495.127 141.583 494.108 141.583 Q490.497 141.583 488.553 143.944 Q486.632 146.282 486.632 150.68 L486.632 164.338 L482.349 164.338 L482.349 138.412 L486.632 138.412 L486.632 142.44 Q487.974 140.078 490.127 138.944 Q492.28 137.787 495.358 137.787 Q495.798 137.787 496.331 137.856 Q496.863 137.903 497.511 138.018 L497.534 142.393 Z\" fill=\"#000000\" fill-rule=\"nonzero\" fill-opacity=\"1\" /><path clip-path=\"url(#clip090)\" d=\"M516.192 142.393 Q515.474 141.977 514.618 141.791 Q513.784 141.583 512.766 141.583 Q509.155 141.583 507.21 143.944 Q505.289 146.282 505.289 150.68 L505.289 164.338 L501.007 164.338 L501.007 138.412 L505.289 138.412 L505.289 142.44 Q506.632 140.078 508.784 138.944 Q510.937 137.787 514.016 137.787 Q514.456 137.787 514.988 137.856 Q515.52 137.903 516.169 138.018 L516.192 142.393 Z\" fill=\"#000000\" fill-rule=\"nonzero\" fill-opacity=\"1\" /><path clip-path=\"url(#clip090)\" d=\"M529.664 141.398 Q526.238 141.398 524.247 144.083 Q522.256 146.745 522.256 151.398 Q522.256 156.051 524.224 158.736 Q526.215 161.398 529.664 161.398 Q533.067 161.398 535.057 158.713 Q537.048 156.027 537.048 151.398 Q537.048 146.791 535.057 144.106 Q533.067 141.398 529.664 141.398 M529.664 137.787 Q535.219 137.787 538.391 141.398 Q541.562 145.009 541.562 151.398 Q541.562 157.764 538.391 161.398 Q535.219 165.009 529.664 165.009 Q524.085 165.009 520.914 161.398 Q517.766 157.764 517.766 151.398 Q517.766 145.009 520.914 141.398 Q524.085 137.787 529.664 137.787 Z\" fill=\"#000000\" fill-rule=\"nonzero\" fill-opacity=\"1\" /><path clip-path=\"url(#clip090)\" d=\"M563.645 142.393 Q562.928 141.977 562.071 141.791 Q561.238 141.583 560.219 141.583 Q556.608 141.583 554.664 143.944 Q552.742 146.282 552.742 150.68 L552.742 164.338 L548.46 164.338 L548.46 138.412 L552.742 138.412 L552.742 142.44 Q554.085 140.078 556.238 138.944 Q558.391 137.787 561.469 137.787 Q561.909 137.787 562.441 137.856 Q562.974 137.903 563.622 138.018 L563.645 142.393 Z\" fill=\"#000000\" fill-rule=\"nonzero\" fill-opacity=\"1\" /></svg>\n"
      ],
      "text/html": [
       "<?xml version=\"1.0\" encoding=\"utf-8\"?>\n",
       "<svg xmlns=\"http://www.w3.org/2000/svg\" xmlns:xlink=\"http://www.w3.org/1999/xlink\" width=\"600\" height=\"400\" viewBox=\"0 0 2400 1600\">\n",
       "<defs>\n",
       "  <clipPath id=\"clip140\">\n",
       "    <rect x=\"0\" y=\"0\" width=\"2400\" height=\"1600\"/>\n",
       "  </clipPath>\n",
       "</defs>\n",
       "<path clip-path=\"url(#clip140)\" d=\"M0 1600 L2400 1600 L2400 0 L0 0  Z\" fill=\"#ffffff\" fill-rule=\"evenodd\" fill-opacity=\"1\"/>\n",
       "<defs>\n",
       "  <clipPath id=\"clip141\">\n",
       "    <rect x=\"480\" y=\"0\" width=\"1681\" height=\"1600\"/>\n",
       "  </clipPath>\n",
       "</defs>\n",
       "<path clip-path=\"url(#clip140)\" d=\"M186.76 1486.45 L2352.76 1486.45 L2352.76 47.2441 L186.76 47.2441  Z\" fill=\"#ffffff\" fill-rule=\"evenodd\" fill-opacity=\"1\"/>\n",
       "<defs>\n",
       "  <clipPath id=\"clip142\">\n",
       "    <rect x=\"186\" y=\"47\" width=\"2167\" height=\"1440\"/>\n",
       "  </clipPath>\n",
       "</defs>\n",
       "<polyline clip-path=\"url(#clip142)\" style=\"stroke:#000000; stroke-linecap:round; stroke-linejoin:round; stroke-width:2; stroke-opacity:0.1; fill:none\" points=\"248.062,1486.45 248.062,47.2441 \"/>\n",
       "<polyline clip-path=\"url(#clip142)\" style=\"stroke:#000000; stroke-linecap:round; stroke-linejoin:round; stroke-width:2; stroke-opacity:0.1; fill:none\" points=\"573.278,1486.45 573.278,47.2441 \"/>\n",
       "<polyline clip-path=\"url(#clip142)\" style=\"stroke:#000000; stroke-linecap:round; stroke-linejoin:round; stroke-width:2; stroke-opacity:0.1; fill:none\" points=\"898.494,1486.45 898.494,47.2441 \"/>\n",
       "<polyline clip-path=\"url(#clip142)\" style=\"stroke:#000000; stroke-linecap:round; stroke-linejoin:round; stroke-width:2; stroke-opacity:0.1; fill:none\" points=\"1223.71,1486.45 1223.71,47.2441 \"/>\n",
       "<polyline clip-path=\"url(#clip142)\" style=\"stroke:#000000; stroke-linecap:round; stroke-linejoin:round; stroke-width:2; stroke-opacity:0.1; fill:none\" points=\"1548.93,1486.45 1548.93,47.2441 \"/>\n",
       "<polyline clip-path=\"url(#clip142)\" style=\"stroke:#000000; stroke-linecap:round; stroke-linejoin:round; stroke-width:2; stroke-opacity:0.1; fill:none\" points=\"1874.14,1486.45 1874.14,47.2441 \"/>\n",
       "<polyline clip-path=\"url(#clip142)\" style=\"stroke:#000000; stroke-linecap:round; stroke-linejoin:round; stroke-width:2; stroke-opacity:0.1; fill:none\" points=\"2199.36,1486.45 2199.36,47.2441 \"/>\n",
       "<polyline clip-path=\"url(#clip140)\" style=\"stroke:#000000; stroke-linecap:round; stroke-linejoin:round; stroke-width:4; stroke-opacity:1; fill:none\" points=\"186.76,1486.45 2352.76,1486.45 \"/>\n",
       "<polyline clip-path=\"url(#clip140)\" style=\"stroke:#000000; stroke-linecap:round; stroke-linejoin:round; stroke-width:4; stroke-opacity:1; fill:none\" points=\"248.062,1486.45 248.062,1467.55 \"/>\n",
       "<polyline clip-path=\"url(#clip140)\" style=\"stroke:#000000; stroke-linecap:round; stroke-linejoin:round; stroke-width:4; stroke-opacity:1; fill:none\" points=\"573.278,1486.45 573.278,1467.55 \"/>\n",
       "<polyline clip-path=\"url(#clip140)\" style=\"stroke:#000000; stroke-linecap:round; stroke-linejoin:round; stroke-width:4; stroke-opacity:1; fill:none\" points=\"898.494,1486.45 898.494,1467.55 \"/>\n",
       "<polyline clip-path=\"url(#clip140)\" style=\"stroke:#000000; stroke-linecap:round; stroke-linejoin:round; stroke-width:4; stroke-opacity:1; fill:none\" points=\"1223.71,1486.45 1223.71,1467.55 \"/>\n",
       "<polyline clip-path=\"url(#clip140)\" style=\"stroke:#000000; stroke-linecap:round; stroke-linejoin:round; stroke-width:4; stroke-opacity:1; fill:none\" points=\"1548.93,1486.45 1548.93,1467.55 \"/>\n",
       "<polyline clip-path=\"url(#clip140)\" style=\"stroke:#000000; stroke-linecap:round; stroke-linejoin:round; stroke-width:4; stroke-opacity:1; fill:none\" points=\"1874.14,1486.45 1874.14,1467.55 \"/>\n",
       "<polyline clip-path=\"url(#clip140)\" style=\"stroke:#000000; stroke-linecap:round; stroke-linejoin:round; stroke-width:4; stroke-opacity:1; fill:none\" points=\"2199.36,1486.45 2199.36,1467.55 \"/>\n",
       "<path clip-path=\"url(#clip140)\" d=\"M248.062 1517.37 Q244.451 1517.37 242.622 1520.93 Q240.817 1524.47 240.817 1531.6 Q240.817 1538.71 242.622 1542.27 Q244.451 1545.82 248.062 1545.82 Q251.696 1545.82 253.502 1542.27 Q255.33 1538.71 255.33 1531.6 Q255.33 1524.47 253.502 1520.93 Q251.696 1517.37 248.062 1517.37 M248.062 1513.66 Q253.872 1513.66 256.928 1518.27 Q260.006 1522.85 260.006 1531.6 Q260.006 1540.33 256.928 1544.94 Q253.872 1549.52 248.062 1549.52 Q242.252 1549.52 239.173 1544.94 Q236.117 1540.33 236.117 1531.6 Q236.117 1522.85 239.173 1518.27 Q242.252 1513.66 248.062 1513.66 Z\" fill=\"#000000\" fill-rule=\"nonzero\" fill-opacity=\"1\" /><path clip-path=\"url(#clip140)\" d=\"M563.66 1544.91 L571.299 1544.91 L571.299 1518.55 L562.989 1520.21 L562.989 1515.95 L571.252 1514.29 L575.928 1514.29 L575.928 1544.91 L583.567 1544.91 L583.567 1548.85 L563.66 1548.85 L563.66 1544.91 Z\" fill=\"#000000\" fill-rule=\"nonzero\" fill-opacity=\"1\" /><path clip-path=\"url(#clip140)\" d=\"M893.147 1544.91 L909.466 1544.91 L909.466 1548.85 L887.522 1548.85 L887.522 1544.91 Q890.184 1542.16 894.767 1537.53 Q899.373 1532.88 900.554 1531.53 Q902.799 1529.01 903.679 1527.27 Q904.582 1525.51 904.582 1523.82 Q904.582 1521.07 902.637 1519.33 Q900.716 1517.6 897.614 1517.6 Q895.415 1517.6 892.961 1518.36 Q890.531 1519.13 887.753 1520.68 L887.753 1515.95 Q890.577 1514.82 893.031 1514.24 Q895.485 1513.66 897.522 1513.66 Q902.892 1513.66 906.086 1516.35 Q909.281 1519.03 909.281 1523.52 Q909.281 1525.65 908.471 1527.57 Q907.684 1529.47 905.577 1532.07 Q904.998 1532.74 901.897 1535.95 Q898.795 1539.15 893.147 1544.91 Z\" fill=\"#000000\" fill-rule=\"nonzero\" fill-opacity=\"1\" /><path clip-path=\"url(#clip140)\" d=\"M1227.96 1530.21 Q1231.31 1530.93 1233.19 1533.2 Q1235.09 1535.47 1235.09 1538.8 Q1235.09 1543.92 1231.57 1546.72 Q1228.05 1549.52 1221.57 1549.52 Q1219.39 1549.52 1217.08 1549.08 Q1214.79 1548.66 1212.33 1547.81 L1212.33 1543.29 Q1214.28 1544.43 1216.59 1545.01 Q1218.91 1545.58 1221.43 1545.58 Q1225.83 1545.58 1228.12 1543.85 Q1230.43 1542.11 1230.43 1538.8 Q1230.43 1535.75 1228.28 1534.03 Q1226.15 1532.3 1222.33 1532.3 L1218.3 1532.3 L1218.3 1528.45 L1222.52 1528.45 Q1225.97 1528.45 1227.8 1527.09 Q1229.62 1525.7 1229.62 1523.11 Q1229.62 1520.45 1227.73 1519.03 Q1225.85 1517.6 1222.33 1517.6 Q1220.41 1517.6 1218.21 1518.01 Q1216.01 1518.43 1213.37 1519.31 L1213.37 1515.14 Q1216.04 1514.4 1218.35 1514.03 Q1220.69 1513.66 1222.75 1513.66 Q1228.07 1513.66 1231.18 1516.09 Q1234.28 1518.5 1234.28 1522.62 Q1234.28 1525.49 1232.63 1527.48 Q1230.99 1529.45 1227.96 1530.21 Z\" fill=\"#000000\" fill-rule=\"nonzero\" fill-opacity=\"1\" /><path clip-path=\"url(#clip140)\" d=\"M1551.94 1518.36 L1540.13 1536.81 L1551.94 1536.81 L1551.94 1518.36 M1550.71 1514.29 L1556.59 1514.29 L1556.59 1536.81 L1561.52 1536.81 L1561.52 1540.7 L1556.59 1540.7 L1556.59 1548.85 L1551.94 1548.85 L1551.94 1540.7 L1536.33 1540.7 L1536.33 1536.19 L1550.71 1514.29 Z\" fill=\"#000000\" fill-rule=\"nonzero\" fill-opacity=\"1\" /><path clip-path=\"url(#clip140)\" d=\"M1864.42 1514.29 L1882.78 1514.29 L1882.78 1518.22 L1868.7 1518.22 L1868.7 1526.7 Q1869.72 1526.35 1870.74 1526.19 Q1871.76 1526 1872.78 1526 Q1878.56 1526 1881.94 1529.17 Q1885.32 1532.34 1885.32 1537.76 Q1885.32 1543.34 1881.85 1546.44 Q1878.38 1549.52 1872.06 1549.52 Q1869.88 1549.52 1867.61 1549.15 Q1865.37 1548.78 1862.96 1548.04 L1862.96 1543.34 Q1865.04 1544.47 1867.27 1545.03 Q1869.49 1545.58 1871.97 1545.58 Q1875.97 1545.58 1878.31 1543.48 Q1880.65 1541.37 1880.65 1537.76 Q1880.65 1534.15 1878.31 1532.04 Q1875.97 1529.94 1871.97 1529.94 Q1870.09 1529.94 1868.22 1530.35 Q1866.36 1530.77 1864.42 1531.65 L1864.42 1514.29 Z\" fill=\"#000000\" fill-rule=\"nonzero\" fill-opacity=\"1\" /><path clip-path=\"url(#clip140)\" d=\"M2199.76 1529.7 Q2196.61 1529.7 2194.76 1531.86 Q2192.93 1534.01 2192.93 1537.76 Q2192.93 1541.49 2194.76 1543.66 Q2196.61 1545.82 2199.76 1545.82 Q2202.91 1545.82 2204.74 1543.66 Q2206.59 1541.49 2206.59 1537.76 Q2206.59 1534.01 2204.74 1531.86 Q2202.91 1529.7 2199.76 1529.7 M2209.05 1515.05 L2209.05 1519.31 Q2207.29 1518.48 2205.48 1518.04 Q2203.7 1517.6 2201.94 1517.6 Q2197.31 1517.6 2194.86 1520.72 Q2192.42 1523.85 2192.08 1530.17 Q2193.44 1528.15 2195.5 1527.09 Q2197.56 1526 2200.04 1526 Q2205.25 1526 2208.26 1529.17 Q2211.29 1532.32 2211.29 1537.76 Q2211.29 1543.08 2208.14 1546.3 Q2204.99 1549.52 2199.76 1549.52 Q2193.77 1549.52 2190.6 1544.94 Q2187.42 1540.33 2187.42 1531.6 Q2187.42 1523.41 2191.31 1518.55 Q2195.2 1513.66 2201.75 1513.66 Q2203.51 1513.66 2205.3 1514.01 Q2207.1 1514.36 2209.05 1515.05 Z\" fill=\"#000000\" fill-rule=\"nonzero\" fill-opacity=\"1\" /><polyline clip-path=\"url(#clip142)\" style=\"stroke:#000000; stroke-linecap:round; stroke-linejoin:round; stroke-width:2; stroke-opacity:0.1; fill:none\" points=\"186.76,1445.72 2352.76,1445.72 \"/>\n",
       "<polyline clip-path=\"url(#clip142)\" style=\"stroke:#000000; stroke-linecap:round; stroke-linejoin:round; stroke-width:2; stroke-opacity:0.1; fill:none\" points=\"186.76,1154.5 2352.76,1154.5 \"/>\n",
       "<polyline clip-path=\"url(#clip142)\" style=\"stroke:#000000; stroke-linecap:round; stroke-linejoin:round; stroke-width:2; stroke-opacity:0.1; fill:none\" points=\"186.76,863.281 2352.76,863.281 \"/>\n",
       "<polyline clip-path=\"url(#clip142)\" style=\"stroke:#000000; stroke-linecap:round; stroke-linejoin:round; stroke-width:2; stroke-opacity:0.1; fill:none\" points=\"186.76,572.063 2352.76,572.063 \"/>\n",
       "<polyline clip-path=\"url(#clip142)\" style=\"stroke:#000000; stroke-linecap:round; stroke-linejoin:round; stroke-width:2; stroke-opacity:0.1; fill:none\" points=\"186.76,280.846 2352.76,280.846 \"/>\n",
       "<polyline clip-path=\"url(#clip140)\" style=\"stroke:#000000; stroke-linecap:round; stroke-linejoin:round; stroke-width:4; stroke-opacity:1; fill:none\" points=\"186.76,1486.45 186.76,47.2441 \"/>\n",
       "<polyline clip-path=\"url(#clip140)\" style=\"stroke:#000000; stroke-linecap:round; stroke-linejoin:round; stroke-width:4; stroke-opacity:1; fill:none\" points=\"186.76,1445.72 205.658,1445.72 \"/>\n",
       "<polyline clip-path=\"url(#clip140)\" style=\"stroke:#000000; stroke-linecap:round; stroke-linejoin:round; stroke-width:4; stroke-opacity:1; fill:none\" points=\"186.76,1154.5 205.658,1154.5 \"/>\n",
       "<polyline clip-path=\"url(#clip140)\" style=\"stroke:#000000; stroke-linecap:round; stroke-linejoin:round; stroke-width:4; stroke-opacity:1; fill:none\" points=\"186.76,863.281 205.658,863.281 \"/>\n",
       "<polyline clip-path=\"url(#clip140)\" style=\"stroke:#000000; stroke-linecap:round; stroke-linejoin:round; stroke-width:4; stroke-opacity:1; fill:none\" points=\"186.76,572.063 205.658,572.063 \"/>\n",
       "<polyline clip-path=\"url(#clip140)\" style=\"stroke:#000000; stroke-linecap:round; stroke-linejoin:round; stroke-width:4; stroke-opacity:1; fill:none\" points=\"186.76,280.846 205.658,280.846 \"/>\n",
       "<path clip-path=\"url(#clip140)\" d=\"M63.4226 1431.51 Q59.8115 1431.51 57.9828 1435.08 Q56.1773 1438.62 56.1773 1445.75 Q56.1773 1452.86 57.9828 1456.42 Q59.8115 1459.96 63.4226 1459.96 Q67.0569 1459.96 68.8624 1456.42 Q70.6911 1452.86 70.6911 1445.75 Q70.6911 1438.62 68.8624 1435.08 Q67.0569 1431.51 63.4226 1431.51 M63.4226 1427.81 Q69.2328 1427.81 72.2883 1432.42 Q75.367 1437 75.367 1445.75 Q75.367 1454.48 72.2883 1459.08 Q69.2328 1463.67 63.4226 1463.67 Q57.6125 1463.67 54.5338 1459.08 Q51.4782 1454.48 51.4782 1445.75 Q51.4782 1437 54.5338 1432.42 Q57.6125 1427.81 63.4226 1427.81 Z\" fill=\"#000000\" fill-rule=\"nonzero\" fill-opacity=\"1\" /><path clip-path=\"url(#clip140)\" d=\"M83.5845 1457.12 L88.4688 1457.12 L88.4688 1463 L83.5845 1463 L83.5845 1457.12 Z\" fill=\"#000000\" fill-rule=\"nonzero\" fill-opacity=\"1\" /><path clip-path=\"url(#clip140)\" d=\"M108.654 1431.51 Q105.043 1431.51 103.214 1435.08 Q101.409 1438.62 101.409 1445.75 Q101.409 1452.86 103.214 1456.42 Q105.043 1459.96 108.654 1459.96 Q112.288 1459.96 114.094 1456.42 Q115.922 1452.86 115.922 1445.75 Q115.922 1438.62 114.094 1435.08 Q112.288 1431.51 108.654 1431.51 M108.654 1427.81 Q114.464 1427.81 117.52 1432.42 Q120.598 1437 120.598 1445.75 Q120.598 1454.48 117.52 1459.08 Q114.464 1463.67 108.654 1463.67 Q102.844 1463.67 99.765 1459.08 Q96.7095 1454.48 96.7095 1445.75 Q96.7095 1437 99.765 1432.42 Q102.844 1427.81 108.654 1427.81 Z\" fill=\"#000000\" fill-rule=\"nonzero\" fill-opacity=\"1\" /><path clip-path=\"url(#clip140)\" d=\"M138.816 1431.51 Q135.205 1431.51 133.376 1435.08 Q131.57 1438.62 131.57 1445.75 Q131.57 1452.86 133.376 1456.42 Q135.205 1459.96 138.816 1459.96 Q142.45 1459.96 144.256 1456.42 Q146.084 1452.86 146.084 1445.75 Q146.084 1438.62 144.256 1435.08 Q142.45 1431.51 138.816 1431.51 M138.816 1427.81 Q144.626 1427.81 147.681 1432.42 Q150.76 1437 150.76 1445.75 Q150.76 1454.48 147.681 1459.08 Q144.626 1463.67 138.816 1463.67 Q133.006 1463.67 129.927 1459.08 Q126.871 1454.48 126.871 1445.75 Q126.871 1437 129.927 1432.42 Q133.006 1427.81 138.816 1427.81 Z\" fill=\"#000000\" fill-rule=\"nonzero\" fill-opacity=\"1\" /><path clip-path=\"url(#clip140)\" d=\"M65.0198 1140.3 Q61.4087 1140.3 59.58 1143.86 Q57.7745 1147.4 57.7745 1154.53 Q57.7745 1161.64 59.58 1165.2 Q61.4087 1168.75 65.0198 1168.75 Q68.6541 1168.75 70.4596 1165.2 Q72.2883 1161.64 72.2883 1154.53 Q72.2883 1147.4 70.4596 1143.86 Q68.6541 1140.3 65.0198 1140.3 M65.0198 1136.59 Q70.83 1136.59 73.8855 1141.2 Q76.9642 1145.78 76.9642 1154.53 Q76.9642 1163.26 73.8855 1167.87 Q70.83 1172.45 65.0198 1172.45 Q59.2097 1172.45 56.131 1167.87 Q53.0754 1163.26 53.0754 1154.53 Q53.0754 1145.78 56.131 1141.2 Q59.2097 1136.59 65.0198 1136.59 Z\" fill=\"#000000\" fill-rule=\"nonzero\" fill-opacity=\"1\" /><path clip-path=\"url(#clip140)\" d=\"M85.1818 1165.9 L90.066 1165.9 L90.066 1171.78 L85.1818 1171.78 L85.1818 1165.9 Z\" fill=\"#000000\" fill-rule=\"nonzero\" fill-opacity=\"1\" /><path clip-path=\"url(#clip140)\" d=\"M110.251 1140.3 Q106.64 1140.3 104.811 1143.86 Q103.006 1147.4 103.006 1154.53 Q103.006 1161.64 104.811 1165.2 Q106.64 1168.75 110.251 1168.75 Q113.885 1168.75 115.691 1165.2 Q117.52 1161.64 117.52 1154.53 Q117.52 1147.4 115.691 1143.86 Q113.885 1140.3 110.251 1140.3 M110.251 1136.59 Q116.061 1136.59 119.117 1141.2 Q122.195 1145.78 122.195 1154.53 Q122.195 1163.26 119.117 1167.87 Q116.061 1172.45 110.251 1172.45 Q104.441 1172.45 101.362 1167.87 Q98.3067 1163.26 98.3067 1154.53 Q98.3067 1145.78 101.362 1141.2 Q104.441 1136.59 110.251 1136.59 Z\" fill=\"#000000\" fill-rule=\"nonzero\" fill-opacity=\"1\" /><path clip-path=\"url(#clip140)\" d=\"M134.441 1167.84 L150.76 1167.84 L150.76 1171.78 L128.816 1171.78 L128.816 1167.84 Q131.478 1165.09 136.061 1160.46 Q140.668 1155.81 141.848 1154.46 Q144.093 1151.94 144.973 1150.2 Q145.876 1148.45 145.876 1146.76 Q145.876 1144 143.931 1142.26 Q142.01 1140.53 138.908 1140.53 Q136.709 1140.53 134.256 1141.29 Q131.825 1142.06 129.047 1143.61 L129.047 1138.88 Q131.871 1137.75 134.325 1137.17 Q136.779 1136.59 138.816 1136.59 Q144.186 1136.59 147.38 1139.28 Q150.575 1141.96 150.575 1146.45 Q150.575 1148.58 149.765 1150.51 Q148.978 1152.4 146.871 1155 Q146.293 1155.67 143.191 1158.88 Q140.089 1162.08 134.441 1167.84 Z\" fill=\"#000000\" fill-rule=\"nonzero\" fill-opacity=\"1\" /><path clip-path=\"url(#clip140)\" d=\"M62.9365 849.08 Q59.3254 849.08 57.4967 852.644 Q55.6912 856.186 55.6912 863.316 Q55.6912 870.422 57.4967 873.987 Q59.3254 877.528 62.9365 877.528 Q66.5707 877.528 68.3763 873.987 Q70.205 870.422 70.205 863.316 Q70.205 856.186 68.3763 852.644 Q66.5707 849.08 62.9365 849.08 M62.9365 845.376 Q68.7467 845.376 71.8022 849.982 Q74.8809 854.566 74.8809 863.316 Q74.8809 872.042 71.8022 876.649 Q68.7467 881.232 62.9365 881.232 Q57.1264 881.232 54.0477 876.649 Q50.9921 872.042 50.9921 863.316 Q50.9921 854.566 54.0477 849.982 Q57.1264 845.376 62.9365 845.376 Z\" fill=\"#000000\" fill-rule=\"nonzero\" fill-opacity=\"1\" /><path clip-path=\"url(#clip140)\" d=\"M83.0984 874.681 L87.9827 874.681 L87.9827 880.561 L83.0984 880.561 L83.0984 874.681 Z\" fill=\"#000000\" fill-rule=\"nonzero\" fill-opacity=\"1\" /><path clip-path=\"url(#clip140)\" d=\"M108.168 849.08 Q104.557 849.08 102.728 852.644 Q100.922 856.186 100.922 863.316 Q100.922 870.422 102.728 873.987 Q104.557 877.528 108.168 877.528 Q111.802 877.528 113.608 873.987 Q115.436 870.422 115.436 863.316 Q115.436 856.186 113.608 852.644 Q111.802 849.08 108.168 849.08 M108.168 845.376 Q113.978 845.376 117.033 849.982 Q120.112 854.566 120.112 863.316 Q120.112 872.042 117.033 876.649 Q113.978 881.232 108.168 881.232 Q102.358 881.232 99.2789 876.649 Q96.2234 872.042 96.2234 863.316 Q96.2234 854.566 99.2789 849.982 Q102.358 845.376 108.168 845.376 Z\" fill=\"#000000\" fill-rule=\"nonzero\" fill-opacity=\"1\" /><path clip-path=\"url(#clip140)\" d=\"M141.177 850.075 L129.371 868.524 L141.177 868.524 L141.177 850.075 M139.95 846.001 L145.83 846.001 L145.83 868.524 L150.76 868.524 L150.76 872.413 L145.83 872.413 L145.83 880.561 L141.177 880.561 L141.177 872.413 L125.575 872.413 L125.575 867.899 L139.95 846.001 Z\" fill=\"#000000\" fill-rule=\"nonzero\" fill-opacity=\"1\" /><path clip-path=\"url(#clip140)\" d=\"M63.2606 557.862 Q59.6495 557.862 57.8208 561.427 Q56.0152 564.969 56.0152 572.098 Q56.0152 579.205 57.8208 582.769 Q59.6495 586.311 63.2606 586.311 Q66.8948 586.311 68.7004 582.769 Q70.5291 579.205 70.5291 572.098 Q70.5291 564.969 68.7004 561.427 Q66.8948 557.862 63.2606 557.862 M63.2606 554.158 Q69.0707 554.158 72.1263 558.765 Q75.205 563.348 75.205 572.098 Q75.205 580.825 72.1263 585.431 Q69.0707 590.015 63.2606 590.015 Q57.4504 590.015 54.3717 585.431 Q51.3162 580.825 51.3162 572.098 Q51.3162 563.348 54.3717 558.765 Q57.4504 554.158 63.2606 554.158 Z\" fill=\"#000000\" fill-rule=\"nonzero\" fill-opacity=\"1\" /><path clip-path=\"url(#clip140)\" d=\"M83.4225 583.464 L88.3067 583.464 L88.3067 589.343 L83.4225 589.343 L83.4225 583.464 Z\" fill=\"#000000\" fill-rule=\"nonzero\" fill-opacity=\"1\" /><path clip-path=\"url(#clip140)\" d=\"M108.492 557.862 Q104.881 557.862 103.052 561.427 Q101.246 564.969 101.246 572.098 Q101.246 579.205 103.052 582.769 Q104.881 586.311 108.492 586.311 Q112.126 586.311 113.932 582.769 Q115.76 579.205 115.76 572.098 Q115.76 564.969 113.932 561.427 Q112.126 557.862 108.492 557.862 M108.492 554.158 Q114.302 554.158 117.358 558.765 Q120.436 563.348 120.436 572.098 Q120.436 580.825 117.358 585.431 Q114.302 590.015 108.492 590.015 Q102.682 590.015 99.603 585.431 Q96.5474 580.825 96.5474 572.098 Q96.5474 563.348 99.603 558.765 Q102.682 554.158 108.492 554.158 Z\" fill=\"#000000\" fill-rule=\"nonzero\" fill-opacity=\"1\" /><path clip-path=\"url(#clip140)\" d=\"M139.232 570.2 Q136.084 570.2 134.232 572.353 Q132.404 574.506 132.404 578.256 Q132.404 581.982 134.232 584.158 Q136.084 586.311 139.232 586.311 Q142.381 586.311 144.209 584.158 Q146.061 581.982 146.061 578.256 Q146.061 574.506 144.209 572.353 Q142.381 570.2 139.232 570.2 M148.515 555.547 L148.515 559.807 Q146.756 558.973 144.95 558.533 Q143.168 558.094 141.408 558.094 Q136.779 558.094 134.325 561.219 Q131.894 564.344 131.547 570.663 Q132.913 568.649 134.973 567.584 Q137.033 566.496 139.51 566.496 Q144.718 566.496 147.728 569.668 Q150.76 572.816 150.76 578.256 Q150.76 583.58 147.612 586.797 Q144.464 590.015 139.232 590.015 Q133.237 590.015 130.066 585.431 Q126.894 580.825 126.894 572.098 Q126.894 563.904 130.783 559.043 Q134.672 554.158 141.223 554.158 Q142.982 554.158 144.765 554.506 Q146.57 554.853 148.515 555.547 Z\" fill=\"#000000\" fill-rule=\"nonzero\" fill-opacity=\"1\" /><path clip-path=\"url(#clip140)\" d=\"M63.5152 266.645 Q59.9041 266.645 58.0754 270.21 Q56.2699 273.751 56.2699 280.881 Q56.2699 287.987 58.0754 291.552 Q59.9041 295.094 63.5152 295.094 Q67.1494 295.094 68.955 291.552 Q70.7837 287.987 70.7837 280.881 Q70.7837 273.751 68.955 270.21 Q67.1494 266.645 63.5152 266.645 M63.5152 262.941 Q69.3254 262.941 72.3809 267.548 Q75.4596 272.131 75.4596 280.881 Q75.4596 289.608 72.3809 294.214 Q69.3254 298.797 63.5152 298.797 Q57.7051 298.797 54.6264 294.214 Q51.5708 289.608 51.5708 280.881 Q51.5708 272.131 54.6264 267.548 Q57.7051 262.941 63.5152 262.941 Z\" fill=\"#000000\" fill-rule=\"nonzero\" fill-opacity=\"1\" /><path clip-path=\"url(#clip140)\" d=\"M83.6771 292.246 L88.5614 292.246 L88.5614 298.126 L83.6771 298.126 L83.6771 292.246 Z\" fill=\"#000000\" fill-rule=\"nonzero\" fill-opacity=\"1\" /><path clip-path=\"url(#clip140)\" d=\"M108.746 266.645 Q105.135 266.645 103.307 270.21 Q101.501 273.751 101.501 280.881 Q101.501 287.987 103.307 291.552 Q105.135 295.094 108.746 295.094 Q112.381 295.094 114.186 291.552 Q116.015 287.987 116.015 280.881 Q116.015 273.751 114.186 270.21 Q112.381 266.645 108.746 266.645 M108.746 262.941 Q114.557 262.941 117.612 267.548 Q120.691 272.131 120.691 280.881 Q120.691 289.608 117.612 294.214 Q114.557 298.797 108.746 298.797 Q102.936 298.797 99.8576 294.214 Q96.8021 289.608 96.8021 280.881 Q96.8021 272.131 99.8576 267.548 Q102.936 262.941 108.746 262.941 Z\" fill=\"#000000\" fill-rule=\"nonzero\" fill-opacity=\"1\" /><path clip-path=\"url(#clip140)\" d=\"M138.908 281.714 Q135.575 281.714 133.654 283.497 Q131.756 285.279 131.756 288.404 Q131.756 291.529 133.654 293.311 Q135.575 295.094 138.908 295.094 Q142.242 295.094 144.163 293.311 Q146.084 291.506 146.084 288.404 Q146.084 285.279 144.163 283.497 Q142.265 281.714 138.908 281.714 M134.232 279.723 Q131.223 278.983 129.533 276.922 Q127.867 274.862 127.867 271.899 Q127.867 267.756 130.807 265.348 Q133.769 262.941 138.908 262.941 Q144.07 262.941 147.01 265.348 Q149.95 267.756 149.95 271.899 Q149.95 274.862 148.26 276.922 Q146.593 278.983 143.607 279.723 Q146.987 280.51 148.862 282.802 Q150.76 285.094 150.76 288.404 Q150.76 293.427 147.681 296.112 Q144.626 298.797 138.908 298.797 Q133.191 298.797 130.112 296.112 Q127.057 293.427 127.057 288.404 Q127.057 285.094 128.955 282.802 Q130.853 280.51 134.232 279.723 M132.519 272.339 Q132.519 275.024 134.186 276.529 Q135.876 278.034 138.908 278.034 Q141.918 278.034 143.607 276.529 Q145.32 275.024 145.32 272.339 Q145.32 269.654 143.607 268.149 Q141.918 266.645 138.908 266.645 Q135.876 266.645 134.186 268.149 Q132.519 269.654 132.519 272.339 Z\" fill=\"#000000\" fill-rule=\"nonzero\" fill-opacity=\"1\" /><polyline clip-path=\"url(#clip142)\" style=\"stroke:#009af9; stroke-linecap:round; stroke-linejoin:round; stroke-width:4; stroke-opacity:1; fill:none\" points=\"248.062,1445.72 268.702,1445.72 289.343,1445.72 309.983,1445.72 330.623,1445.72 351.264,1445.72 371.904,1445.72 392.544,1445.72 413.184,1445.72 433.825,1445.72 454.465,1445.72 475.105,1445.72 495.746,1445.72 516.386,1445.72 537.026,1445.72 557.667,1445.72 578.307,1445.72 598.947,1445.72 619.588,1445.72 640.228,1445.72 660.868,1445.72 681.509,1445.72 702.149,1445.72 722.789,1445.72 743.43,1445.72 764.07,1445.72 784.71,1445.72 805.351,1445.72 825.991,1445.72 846.631,1445.72 867.272,1445.72 887.912,1445.72 908.552,1445.72 929.193,1445.72 949.833,1445.72 970.473,1445.72 991.114,1445.72 1011.75,1445.72 1032.39,1445.72 1053.03,1445.72 1073.67,1445.72 1094.32,1445.72 1114.96,1445.71 1135.6,1445.71 1156.24,1445.71 1176.88,1445.71 1197.52,1445.71 1218.16,1445.71 1238.8,1445.71 1259.44,1445.71 1280.08,1445.7 1300.72,1445.7 1321.36,1445.69 1342,1445.68 1362.64,1445.67 1383.28,1445.65 1403.92,1445.62 1424.56,1445.59 1445.2,1445.55 1465.84,1445.5 1486.48,1445.42 1507.12,1445.33 1527.76,1445.21 1548.4,1445.05 1569.04,1444.85 1589.68,1444.58 1610.32,1444.25 1630.96,1443.83 1651.6,1443.29 1672.24,1442.61 1692.88,1441.76 1713.53,1440.69 1734.17,1439.35 1754.81,1437.68 1775.45,1435.6 1796.09,1433.03 1816.73,1429.86 1837.37,1425.94 1858.01,1421.14 1878.65,1415.25 1899.29,1408.05 1919.93,1399.28 1940.57,1388.61 1961.21,1375.67 1981.85,1360.02 2002.49,1341.12 2023.13,1318.35 2043.77,1290.99 2064.41,1258.18 2085.05,1218.91 2105.69,1172.01 2126.33,1116.11 2146.97,1049.62 2167.61,970.673 2188.25,877.125 2208.89,766.477 2229.53,635.84 2250.17,481.874 2270.81,300.732 2291.45,87.9763 \"/>\n",
       "<path clip-path=\"url(#clip140)\" d=\"M258.96 198.898 L587.712 198.898 L587.712 95.2176 L258.96 95.2176  Z\" fill=\"#ffffff\" fill-rule=\"evenodd\" fill-opacity=\"1\"/>\n",
       "<polyline clip-path=\"url(#clip140)\" style=\"stroke:#000000; stroke-linecap:round; stroke-linejoin:round; stroke-width:4; stroke-opacity:1; fill:none\" points=\"258.96,198.898 587.712,198.898 587.712,95.2176 258.96,95.2176 258.96,198.898 \"/>\n",
       "<polyline clip-path=\"url(#clip140)\" style=\"stroke:#009af9; stroke-linecap:round; stroke-linejoin:round; stroke-width:4; stroke-opacity:1; fill:none\" points=\"283.027,147.058 427.426,147.058 \"/>\n",
       "<path clip-path=\"url(#clip140)\" d=\"M475.521 150.31 L475.521 152.393 L455.937 152.393 Q456.215 156.791 458.576 159.106 Q460.96 161.398 465.197 161.398 Q467.65 161.398 469.942 160.796 Q472.257 160.194 474.525 158.99 L474.525 163.018 Q472.234 163.99 469.826 164.5 Q467.419 165.009 464.942 165.009 Q458.738 165.009 455.104 161.398 Q451.493 157.787 451.493 151.629 Q451.493 145.264 454.919 141.537 Q458.368 137.787 464.201 137.787 Q469.433 137.787 472.465 141.166 Q475.521 144.523 475.521 150.31 M471.261 149.06 Q471.215 145.565 469.294 143.481 Q467.396 141.398 464.247 141.398 Q460.683 141.398 458.53 143.412 Q456.4 145.426 456.076 149.083 L471.261 149.06 Z\" fill=\"#000000\" fill-rule=\"nonzero\" fill-opacity=\"1\" /><path clip-path=\"url(#clip140)\" d=\"M497.534 142.393 Q496.817 141.977 495.96 141.791 Q495.127 141.583 494.108 141.583 Q490.497 141.583 488.553 143.944 Q486.632 146.282 486.632 150.68 L486.632 164.338 L482.349 164.338 L482.349 138.412 L486.632 138.412 L486.632 142.44 Q487.974 140.078 490.127 138.944 Q492.28 137.787 495.358 137.787 Q495.798 137.787 496.331 137.856 Q496.863 137.903 497.511 138.018 L497.534 142.393 Z\" fill=\"#000000\" fill-rule=\"nonzero\" fill-opacity=\"1\" /><path clip-path=\"url(#clip140)\" d=\"M516.192 142.393 Q515.474 141.977 514.618 141.791 Q513.784 141.583 512.766 141.583 Q509.155 141.583 507.21 143.944 Q505.289 146.282 505.289 150.68 L505.289 164.338 L501.007 164.338 L501.007 138.412 L505.289 138.412 L505.289 142.44 Q506.632 140.078 508.784 138.944 Q510.937 137.787 514.016 137.787 Q514.456 137.787 514.988 137.856 Q515.52 137.903 516.169 138.018 L516.192 142.393 Z\" fill=\"#000000\" fill-rule=\"nonzero\" fill-opacity=\"1\" /><path clip-path=\"url(#clip140)\" d=\"M529.664 141.398 Q526.238 141.398 524.247 144.083 Q522.256 146.745 522.256 151.398 Q522.256 156.051 524.224 158.736 Q526.215 161.398 529.664 161.398 Q533.067 161.398 535.057 158.713 Q537.048 156.027 537.048 151.398 Q537.048 146.791 535.057 144.106 Q533.067 141.398 529.664 141.398 M529.664 137.787 Q535.219 137.787 538.391 141.398 Q541.562 145.009 541.562 151.398 Q541.562 157.764 538.391 161.398 Q535.219 165.009 529.664 165.009 Q524.085 165.009 520.914 161.398 Q517.766 157.764 517.766 151.398 Q517.766 145.009 520.914 141.398 Q524.085 137.787 529.664 137.787 Z\" fill=\"#000000\" fill-rule=\"nonzero\" fill-opacity=\"1\" /><path clip-path=\"url(#clip140)\" d=\"M563.645 142.393 Q562.928 141.977 562.071 141.791 Q561.238 141.583 560.219 141.583 Q556.608 141.583 554.664 143.944 Q552.742 146.282 552.742 150.68 L552.742 164.338 L548.46 164.338 L548.46 138.412 L552.742 138.412 L552.742 142.44 Q554.085 140.078 556.238 138.944 Q558.391 137.787 561.469 137.787 Q561.909 137.787 562.441 137.856 Q562.974 137.903 563.622 138.018 L563.645 142.393 Z\" fill=\"#000000\" fill-rule=\"nonzero\" fill-opacity=\"1\" /></svg>\n"
      ]
     },
     "execution_count": 38,
     "metadata": {},
     "output_type": "execute_result"
    }
   ],
   "source": [
    "#3 graficar el error\n",
    "error(x)=sin(x)-sin_n(x,8)  #digo que el error es la diferencia entre sin por defecto y la que hice por taylor\n",
    "#tiene un n=8, cualquier cosa cambiarlo\n",
    "x = range(0,2*π, length=100)\n",
    "y = error.(x)  #aumentar el n \n",
    "plot(x,y,label=\"error\")"
   ]
  },
  {
   "cell_type": "code",
   "execution_count": 46,
   "metadata": {},
   "outputs": [
    {
     "data": {
      "text/plain": [
       "sin_n_inv (generic function with 1 method)"
      ]
     },
     "execution_count": 46,
     "metadata": {},
     "output_type": "execute_result"
    }
   ],
   "source": [
    "#algo de sumas inversas (what)\n",
    "function sin_n_inv(x,n) #tengo que calcular el polinomio de taylor centrado 0 en hasta n\n",
    "suma=Float32(0)\n",
    "#suma=Float64(0)\n",
    "termino=Float32(0)\n",
    "#termino=Float64(0)\n",
    "    for i in n:1 #le cambié el orden a esto, supuestamente ahora sería inverso no?\n",
    "        i=i-1 \n",
    "        termino=(((-1)^(i))*((x)^(2i+1)))/(factorial(2i+1)) #cada termino de la sumatoria\n",
    "        suma+=termino\n",
    "    end\n",
    "    return suma\n",
    "end"
   ]
  },
  {
   "cell_type": "code",
   "execution_count": 49,
   "metadata": {},
   "outputs": [
    {
     "data": {
      "image/png": "[encoded data removed]",
      "image/svg+xml": [
       "<?xml version=\"1.0\" encoding=\"utf-8\"?>\n",
       "<svg xmlns=\"http://www.w3.org/2000/svg\" xmlns:xlink=\"http://www.w3.org/1999/xlink\" width=\"600\" height=\"400\" viewBox=\"0 0 2400 1600\">\n",
       "<defs>\n",
       "  <clipPath id=\"clip720\">\n",
       "    <rect x=\"0\" y=\"0\" width=\"2400\" height=\"1600\"/>\n",
       "  </clipPath>\n",
       "</defs>\n",
       "<path clip-path=\"url(#clip720)\" d=\"M0 1600 L2400 1600 L2400 0 L0 0  Z\" fill=\"#ffffff\" fill-rule=\"evenodd\" fill-opacity=\"1\"/>\n",
       "<defs>\n",
       "  <clipPath id=\"clip721\">\n",
       "    <rect x=\"480\" y=\"0\" width=\"1681\" height=\"1600\"/>\n",
       "  </clipPath>\n",
       "</defs>\n",
       "<path clip-path=\"url(#clip720)\" d=\"M156.598 1486.45 L2352.76 1486.45 L2352.76 47.2441 L156.598 47.2441  Z\" fill=\"#ffffff\" fill-rule=\"evenodd\" fill-opacity=\"1\"/>\n",
       "<defs>\n",
       "  <clipPath id=\"clip722\">\n",
       "    <rect x=\"156\" y=\"47\" width=\"2197\" height=\"1440\"/>\n",
       "  </clipPath>\n",
       "</defs>\n",
       "<polyline clip-path=\"url(#clip722)\" style=\"stroke:#000000; stroke-linecap:round; stroke-linejoin:round; stroke-width:2; stroke-opacity:0.1; fill:none\" points=\"218.754,1486.45 218.754,47.2441 \"/>\n",
       "<polyline clip-path=\"url(#clip722)\" style=\"stroke:#000000; stroke-linecap:round; stroke-linejoin:round; stroke-width:2; stroke-opacity:0.1; fill:none\" points=\"736.715,1486.45 736.715,47.2441 \"/>\n",
       "<polyline clip-path=\"url(#clip722)\" style=\"stroke:#000000; stroke-linecap:round; stroke-linejoin:round; stroke-width:2; stroke-opacity:0.1; fill:none\" points=\"1254.68,1486.45 1254.68,47.2441 \"/>\n",
       "<polyline clip-path=\"url(#clip722)\" style=\"stroke:#000000; stroke-linecap:round; stroke-linejoin:round; stroke-width:2; stroke-opacity:0.1; fill:none\" points=\"1772.64,1486.45 1772.64,47.2441 \"/>\n",
       "<polyline clip-path=\"url(#clip722)\" style=\"stroke:#000000; stroke-linecap:round; stroke-linejoin:round; stroke-width:2; stroke-opacity:0.1; fill:none\" points=\"2290.6,1486.45 2290.6,47.2441 \"/>\n",
       "<polyline clip-path=\"url(#clip720)\" style=\"stroke:#000000; stroke-linecap:round; stroke-linejoin:round; stroke-width:4; stroke-opacity:1; fill:none\" points=\"156.598,1486.45 2352.76,1486.45 \"/>\n",
       "<polyline clip-path=\"url(#clip720)\" style=\"stroke:#000000; stroke-linecap:round; stroke-linejoin:round; stroke-width:4; stroke-opacity:1; fill:none\" points=\"218.754,1486.45 218.754,1467.55 \"/>\n",
       "<polyline clip-path=\"url(#clip720)\" style=\"stroke:#000000; stroke-linecap:round; stroke-linejoin:round; stroke-width:4; stroke-opacity:1; fill:none\" points=\"736.715,1486.45 736.715,1467.55 \"/>\n",
       "<polyline clip-path=\"url(#clip720)\" style=\"stroke:#000000; stroke-linecap:round; stroke-linejoin:round; stroke-width:4; stroke-opacity:1; fill:none\" points=\"1254.68,1486.45 1254.68,1467.55 \"/>\n",
       "<polyline clip-path=\"url(#clip720)\" style=\"stroke:#000000; stroke-linecap:round; stroke-linejoin:round; stroke-width:4; stroke-opacity:1; fill:none\" points=\"1772.64,1486.45 1772.64,1467.55 \"/>\n",
       "<polyline clip-path=\"url(#clip720)\" style=\"stroke:#000000; stroke-linecap:round; stroke-linejoin:round; stroke-width:4; stroke-opacity:1; fill:none\" points=\"2290.6,1486.45 2290.6,1467.55 \"/>\n",
       "<path clip-path=\"url(#clip720)\" d=\"M181.057 1517.37 Q177.446 1517.37 175.617 1520.93 Q173.812 1524.47 173.812 1531.6 Q173.812 1538.71 175.617 1542.27 Q177.446 1545.82 181.057 1545.82 Q184.691 1545.82 186.497 1542.27 Q188.326 1538.71 188.326 1531.6 Q188.326 1524.47 186.497 1520.93 Q184.691 1517.37 181.057 1517.37 M181.057 1513.66 Q186.867 1513.66 189.923 1518.27 Q193.001 1522.85 193.001 1531.6 Q193.001 1540.33 189.923 1544.94 Q186.867 1549.52 181.057 1549.52 Q175.247 1549.52 172.168 1544.94 Q169.113 1540.33 169.113 1531.6 Q169.113 1522.85 172.168 1518.27 Q175.247 1513.66 181.057 1513.66 Z\" fill=\"#000000\" fill-rule=\"nonzero\" fill-opacity=\"1\" /><path clip-path=\"url(#clip720)\" d=\"M201.219 1542.97 L206.103 1542.97 L206.103 1548.85 L201.219 1548.85 L201.219 1542.97 Z\" fill=\"#000000\" fill-rule=\"nonzero\" fill-opacity=\"1\" /><path clip-path=\"url(#clip720)\" d=\"M226.288 1517.37 Q222.677 1517.37 220.849 1520.93 Q219.043 1524.47 219.043 1531.6 Q219.043 1538.71 220.849 1542.27 Q222.677 1545.82 226.288 1545.82 Q229.923 1545.82 231.728 1542.27 Q233.557 1538.71 233.557 1531.6 Q233.557 1524.47 231.728 1520.93 Q229.923 1517.37 226.288 1517.37 M226.288 1513.66 Q232.098 1513.66 235.154 1518.27 Q238.233 1522.85 238.233 1531.6 Q238.233 1540.33 235.154 1544.94 Q232.098 1549.52 226.288 1549.52 Q220.478 1549.52 217.399 1544.94 Q214.344 1540.33 214.344 1531.6 Q214.344 1522.85 217.399 1518.27 Q220.478 1513.66 226.288 1513.66 Z\" fill=\"#000000\" fill-rule=\"nonzero\" fill-opacity=\"1\" /><path clip-path=\"url(#clip720)\" d=\"M256.45 1517.37 Q252.839 1517.37 251.01 1520.93 Q249.205 1524.47 249.205 1531.6 Q249.205 1538.71 251.01 1542.27 Q252.839 1545.82 256.45 1545.82 Q260.084 1545.82 261.89 1542.27 Q263.719 1538.71 263.719 1531.6 Q263.719 1524.47 261.89 1520.93 Q260.084 1517.37 256.45 1517.37 M256.45 1513.66 Q262.26 1513.66 265.316 1518.27 Q268.395 1522.85 268.395 1531.6 Q268.395 1540.33 265.316 1544.94 Q262.26 1549.52 256.45 1549.52 Q250.64 1549.52 247.561 1544.94 Q244.506 1540.33 244.506 1531.6 Q244.506 1522.85 247.561 1518.27 Q250.64 1513.66 256.45 1513.66 Z\" fill=\"#000000\" fill-rule=\"nonzero\" fill-opacity=\"1\" /><path clip-path=\"url(#clip720)\" d=\"M699.516 1517.37 Q695.905 1517.37 694.077 1520.93 Q692.271 1524.47 692.271 1531.6 Q692.271 1538.71 694.077 1542.27 Q695.905 1545.82 699.516 1545.82 Q703.151 1545.82 704.956 1542.27 Q706.785 1538.71 706.785 1531.6 Q706.785 1524.47 704.956 1520.93 Q703.151 1517.37 699.516 1517.37 M699.516 1513.66 Q705.327 1513.66 708.382 1518.27 Q711.461 1522.85 711.461 1531.6 Q711.461 1540.33 708.382 1544.94 Q705.327 1549.52 699.516 1549.52 Q693.706 1549.52 690.628 1544.94 Q687.572 1540.33 687.572 1531.6 Q687.572 1522.85 690.628 1518.27 Q693.706 1513.66 699.516 1513.66 Z\" fill=\"#000000\" fill-rule=\"nonzero\" fill-opacity=\"1\" /><path clip-path=\"url(#clip720)\" d=\"M719.678 1542.97 L724.563 1542.97 L724.563 1548.85 L719.678 1548.85 L719.678 1542.97 Z\" fill=\"#000000\" fill-rule=\"nonzero\" fill-opacity=\"1\" /><path clip-path=\"url(#clip720)\" d=\"M738.776 1544.91 L755.095 1544.91 L755.095 1548.85 L733.151 1548.85 L733.151 1544.91 Q735.813 1542.16 740.396 1537.53 Q745.002 1532.88 746.183 1531.53 Q748.428 1529.01 749.308 1527.27 Q750.211 1525.51 750.211 1523.82 Q750.211 1521.07 748.266 1519.33 Q746.345 1517.6 743.243 1517.6 Q741.044 1517.6 738.59 1518.36 Q736.16 1519.13 733.382 1520.68 L733.382 1515.95 Q736.206 1514.82 738.66 1514.24 Q741.113 1513.66 743.151 1513.66 Q748.521 1513.66 751.715 1516.35 Q754.91 1519.03 754.91 1523.52 Q754.91 1525.65 754.1 1527.57 Q753.312 1529.47 751.206 1532.07 Q750.627 1532.74 747.525 1535.95 Q744.424 1539.15 738.776 1544.91 Z\" fill=\"#000000\" fill-rule=\"nonzero\" fill-opacity=\"1\" /><path clip-path=\"url(#clip720)\" d=\"M764.956 1514.29 L783.312 1514.29 L783.312 1518.22 L769.238 1518.22 L769.238 1526.7 Q770.257 1526.35 771.275 1526.19 Q772.294 1526 773.312 1526 Q779.099 1526 782.479 1529.17 Q785.859 1532.34 785.859 1537.76 Q785.859 1543.34 782.386 1546.44 Q778.914 1549.52 772.595 1549.52 Q770.419 1549.52 768.15 1549.15 Q765.905 1548.78 763.498 1548.04 L763.498 1543.34 Q765.581 1544.47 767.803 1545.03 Q770.025 1545.58 772.502 1545.58 Q776.507 1545.58 778.845 1543.48 Q781.183 1541.37 781.183 1537.76 Q781.183 1534.15 778.845 1532.04 Q776.507 1529.94 772.502 1529.94 Q770.627 1529.94 768.752 1530.35 Q766.9 1530.77 764.956 1531.65 L764.956 1514.29 Z\" fill=\"#000000\" fill-rule=\"nonzero\" fill-opacity=\"1\" /><path clip-path=\"url(#clip720)\" d=\"M1216.98 1517.37 Q1213.37 1517.37 1211.54 1520.93 Q1209.74 1524.47 1209.74 1531.6 Q1209.74 1538.71 1211.54 1542.27 Q1213.37 1545.82 1216.98 1545.82 Q1220.61 1545.82 1222.42 1542.27 Q1224.25 1538.71 1224.25 1531.6 Q1224.25 1524.47 1222.42 1520.93 Q1220.61 1517.37 1216.98 1517.37 M1216.98 1513.66 Q1222.79 1513.66 1225.85 1518.27 Q1228.92 1522.85 1228.92 1531.6 Q1228.92 1540.33 1225.85 1544.94 Q1222.79 1549.52 1216.98 1549.52 Q1211.17 1549.52 1208.09 1544.94 Q1205.04 1540.33 1205.04 1531.6 Q1205.04 1522.85 1208.09 1518.27 Q1211.17 1513.66 1216.98 1513.66 Z\" fill=\"#000000\" fill-rule=\"nonzero\" fill-opacity=\"1\" /><path clip-path=\"url(#clip720)\" d=\"M1237.14 1542.97 L1242.03 1542.97 L1242.03 1548.85 L1237.14 1548.85 L1237.14 1542.97 Z\" fill=\"#000000\" fill-rule=\"nonzero\" fill-opacity=\"1\" /><path clip-path=\"url(#clip720)\" d=\"M1252.26 1514.29 L1270.61 1514.29 L1270.61 1518.22 L1256.54 1518.22 L1256.54 1526.7 Q1257.56 1526.35 1258.58 1526.19 Q1259.6 1526 1260.61 1526 Q1266.4 1526 1269.78 1529.17 Q1273.16 1532.34 1273.16 1537.76 Q1273.16 1543.34 1269.69 1546.44 Q1266.22 1549.52 1259.9 1549.52 Q1257.72 1549.52 1255.45 1549.15 Q1253.21 1548.78 1250.8 1548.04 L1250.8 1543.34 Q1252.88 1544.47 1255.11 1545.03 Q1257.33 1545.58 1259.8 1545.58 Q1263.81 1545.58 1266.15 1543.48 Q1268.48 1541.37 1268.48 1537.76 Q1268.48 1534.15 1266.15 1532.04 Q1263.81 1529.94 1259.8 1529.94 Q1257.93 1529.94 1256.05 1530.35 Q1254.2 1530.77 1252.26 1531.65 L1252.26 1514.29 Z\" fill=\"#000000\" fill-rule=\"nonzero\" fill-opacity=\"1\" /><path clip-path=\"url(#clip720)\" d=\"M1292.37 1517.37 Q1288.76 1517.37 1286.93 1520.93 Q1285.13 1524.47 1285.13 1531.6 Q1285.13 1538.71 1286.93 1542.27 Q1288.76 1545.82 1292.37 1545.82 Q1296.01 1545.82 1297.81 1542.27 Q1299.64 1538.71 1299.64 1531.6 Q1299.64 1524.47 1297.81 1520.93 Q1296.01 1517.37 1292.37 1517.37 M1292.37 1513.66 Q1298.18 1513.66 1301.24 1518.27 Q1304.32 1522.85 1304.32 1531.6 Q1304.32 1540.33 1301.24 1544.94 Q1298.18 1549.52 1292.37 1549.52 Q1286.56 1549.52 1283.48 1544.94 Q1280.43 1540.33 1280.43 1531.6 Q1280.43 1522.85 1283.48 1518.27 Q1286.56 1513.66 1292.37 1513.66 Z\" fill=\"#000000\" fill-rule=\"nonzero\" fill-opacity=\"1\" /><path clip-path=\"url(#clip720)\" d=\"M1735.44 1517.37 Q1731.83 1517.37 1730 1520.93 Q1728.19 1524.47 1728.19 1531.6 Q1728.19 1538.71 1730 1542.27 Q1731.83 1545.82 1735.44 1545.82 Q1739.07 1545.82 1740.88 1542.27 Q1742.71 1538.71 1742.71 1531.6 Q1742.71 1524.47 1740.88 1520.93 Q1739.07 1517.37 1735.44 1517.37 M1735.44 1513.66 Q1741.25 1513.66 1744.31 1518.27 Q1747.38 1522.85 1747.38 1531.6 Q1747.38 1540.33 1744.31 1544.94 Q1741.25 1549.52 1735.44 1549.52 Q1729.63 1549.52 1726.55 1544.94 Q1723.5 1540.33 1723.5 1531.6 Q1723.5 1522.85 1726.55 1518.27 Q1729.63 1513.66 1735.44 1513.66 Z\" fill=\"#000000\" fill-rule=\"nonzero\" fill-opacity=\"1\" /><path clip-path=\"url(#clip720)\" d=\"M1755.6 1542.97 L1760.49 1542.97 L1760.49 1548.85 L1755.6 1548.85 L1755.6 1542.97 Z\" fill=\"#000000\" fill-rule=\"nonzero\" fill-opacity=\"1\" /><path clip-path=\"url(#clip720)\" d=\"M1769.49 1514.29 L1791.71 1514.29 L1791.71 1516.28 L1779.17 1548.85 L1774.28 1548.85 L1786.09 1518.22 L1769.49 1518.22 L1769.49 1514.29 Z\" fill=\"#000000\" fill-rule=\"nonzero\" fill-opacity=\"1\" /><path clip-path=\"url(#clip720)\" d=\"M1800.88 1514.29 L1819.24 1514.29 L1819.24 1518.22 L1805.16 1518.22 L1805.16 1526.7 Q1806.18 1526.35 1807.2 1526.19 Q1808.22 1526 1809.24 1526 Q1815.02 1526 1818.4 1529.17 Q1821.78 1532.34 1821.78 1537.76 Q1821.78 1543.34 1818.31 1546.44 Q1814.84 1549.52 1808.52 1549.52 Q1806.34 1549.52 1804.07 1549.15 Q1801.83 1548.78 1799.42 1548.04 L1799.42 1543.34 Q1801.5 1544.47 1803.73 1545.03 Q1805.95 1545.58 1808.43 1545.58 Q1812.43 1545.58 1814.77 1543.48 Q1817.11 1541.37 1817.11 1537.76 Q1817.11 1534.15 1814.77 1532.04 Q1812.43 1529.94 1808.43 1529.94 Q1806.55 1529.94 1804.68 1530.35 Q1802.82 1530.77 1800.88 1531.65 L1800.88 1514.29 Z\" fill=\"#000000\" fill-rule=\"nonzero\" fill-opacity=\"1\" /><path clip-path=\"url(#clip720)\" d=\"M2242.67 1544.91 L2250.31 1544.91 L2250.31 1518.55 L2242 1520.21 L2242 1515.95 L2250.27 1514.29 L2254.94 1514.29 L2254.94 1544.91 L2262.58 1544.91 L2262.58 1548.85 L2242.67 1548.85 L2242.67 1544.91 Z\" fill=\"#000000\" fill-rule=\"nonzero\" fill-opacity=\"1\" /><path clip-path=\"url(#clip720)\" d=\"M2272.02 1542.97 L2276.91 1542.97 L2276.91 1548.85 L2272.02 1548.85 L2272.02 1542.97 Z\" fill=\"#000000\" fill-rule=\"nonzero\" fill-opacity=\"1\" /><path clip-path=\"url(#clip720)\" d=\"M2297.09 1517.37 Q2293.48 1517.37 2291.65 1520.93 Q2289.85 1524.47 2289.85 1531.6 Q2289.85 1538.71 2291.65 1542.27 Q2293.48 1545.82 2297.09 1545.82 Q2300.73 1545.82 2302.53 1542.27 Q2304.36 1538.71 2304.36 1531.6 Q2304.36 1524.47 2302.53 1520.93 Q2300.73 1517.37 2297.09 1517.37 M2297.09 1513.66 Q2302.9 1513.66 2305.96 1518.27 Q2309.04 1522.85 2309.04 1531.6 Q2309.04 1540.33 2305.96 1544.94 Q2302.9 1549.52 2297.09 1549.52 Q2291.28 1549.52 2288.2 1544.94 Q2285.15 1540.33 2285.15 1531.6 Q2285.15 1522.85 2288.2 1518.27 Q2291.28 1513.66 2297.09 1513.66 Z\" fill=\"#000000\" fill-rule=\"nonzero\" fill-opacity=\"1\" /><path clip-path=\"url(#clip720)\" d=\"M2327.26 1517.37 Q2323.64 1517.37 2321.82 1520.93 Q2320.01 1524.47 2320.01 1531.6 Q2320.01 1538.71 2321.82 1542.27 Q2323.64 1545.82 2327.26 1545.82 Q2330.89 1545.82 2332.7 1542.27 Q2334.52 1538.71 2334.52 1531.6 Q2334.52 1524.47 2332.7 1520.93 Q2330.89 1517.37 2327.26 1517.37 M2327.26 1513.66 Q2333.07 1513.66 2336.12 1518.27 Q2339.2 1522.85 2339.2 1531.6 Q2339.2 1540.33 2336.12 1544.94 Q2333.07 1549.52 2327.26 1549.52 Q2321.45 1549.52 2318.37 1544.94 Q2315.31 1540.33 2315.31 1531.6 Q2315.31 1522.85 2318.37 1518.27 Q2321.45 1513.66 2327.26 1513.66 Z\" fill=\"#000000\" fill-rule=\"nonzero\" fill-opacity=\"1\" /><polyline clip-path=\"url(#clip722)\" style=\"stroke:#000000; stroke-linecap:round; stroke-linejoin:round; stroke-width:2; stroke-opacity:0.1; fill:none\" points=\"156.598,1445.72 2352.76,1445.72 \"/>\n",
       "<polyline clip-path=\"url(#clip722)\" style=\"stroke:#000000; stroke-linecap:round; stroke-linejoin:round; stroke-width:2; stroke-opacity:0.1; fill:none\" points=\"156.598,1123.01 2352.76,1123.01 \"/>\n",
       "<polyline clip-path=\"url(#clip722)\" style=\"stroke:#000000; stroke-linecap:round; stroke-linejoin:round; stroke-width:2; stroke-opacity:0.1; fill:none\" points=\"156.598,800.303 2352.76,800.303 \"/>\n",
       "<polyline clip-path=\"url(#clip722)\" style=\"stroke:#000000; stroke-linecap:round; stroke-linejoin:round; stroke-width:2; stroke-opacity:0.1; fill:none\" points=\"156.598,477.597 2352.76,477.597 \"/>\n",
       "<polyline clip-path=\"url(#clip722)\" style=\"stroke:#000000; stroke-linecap:round; stroke-linejoin:round; stroke-width:2; stroke-opacity:0.1; fill:none\" points=\"156.598,154.891 2352.76,154.891 \"/>\n",
       "<polyline clip-path=\"url(#clip720)\" style=\"stroke:#000000; stroke-linecap:round; stroke-linejoin:round; stroke-width:4; stroke-opacity:1; fill:none\" points=\"156.598,1486.45 156.598,47.2441 \"/>\n",
       "<polyline clip-path=\"url(#clip720)\" style=\"stroke:#000000; stroke-linecap:round; stroke-linejoin:round; stroke-width:4; stroke-opacity:1; fill:none\" points=\"156.598,1445.72 175.496,1445.72 \"/>\n",
       "<polyline clip-path=\"url(#clip720)\" style=\"stroke:#000000; stroke-linecap:round; stroke-linejoin:round; stroke-width:4; stroke-opacity:1; fill:none\" points=\"156.598,1123.01 175.496,1123.01 \"/>\n",
       "<polyline clip-path=\"url(#clip720)\" style=\"stroke:#000000; stroke-linecap:round; stroke-linejoin:round; stroke-width:4; stroke-opacity:1; fill:none\" points=\"156.598,800.303 175.496,800.303 \"/>\n",
       "<polyline clip-path=\"url(#clip720)\" style=\"stroke:#000000; stroke-linecap:round; stroke-linejoin:round; stroke-width:4; stroke-opacity:1; fill:none\" points=\"156.598,477.597 175.496,477.597 \"/>\n",
       "<polyline clip-path=\"url(#clip720)\" style=\"stroke:#000000; stroke-linecap:round; stroke-linejoin:round; stroke-width:4; stroke-opacity:1; fill:none\" points=\"156.598,154.891 175.496,154.891 \"/>\n",
       "<path clip-path=\"url(#clip720)\" d=\"M63.4226 1431.51 Q59.8115 1431.51 57.9828 1435.08 Q56.1773 1438.62 56.1773 1445.75 Q56.1773 1452.86 57.9828 1456.42 Q59.8115 1459.96 63.4226 1459.96 Q67.0569 1459.96 68.8624 1456.42 Q70.6911 1452.86 70.6911 1445.75 Q70.6911 1438.62 68.8624 1435.08 Q67.0569 1431.51 63.4226 1431.51 M63.4226 1427.81 Q69.2328 1427.81 72.2883 1432.42 Q75.367 1437 75.367 1445.75 Q75.367 1454.48 72.2883 1459.08 Q69.2328 1463.67 63.4226 1463.67 Q57.6125 1463.67 54.5338 1459.08 Q51.4782 1454.48 51.4782 1445.75 Q51.4782 1437 54.5338 1432.42 Q57.6125 1427.81 63.4226 1427.81 Z\" fill=\"#000000\" fill-rule=\"nonzero\" fill-opacity=\"1\" /><path clip-path=\"url(#clip720)\" d=\"M83.5845 1457.12 L88.4688 1457.12 L88.4688 1463 L83.5845 1463 L83.5845 1457.12 Z\" fill=\"#000000\" fill-rule=\"nonzero\" fill-opacity=\"1\" /><path clip-path=\"url(#clip720)\" d=\"M108.654 1431.51 Q105.043 1431.51 103.214 1435.08 Q101.409 1438.62 101.409 1445.75 Q101.409 1452.86 103.214 1456.42 Q105.043 1459.96 108.654 1459.96 Q112.288 1459.96 114.094 1456.42 Q115.922 1452.86 115.922 1445.75 Q115.922 1438.62 114.094 1435.08 Q112.288 1431.51 108.654 1431.51 M108.654 1427.81 Q114.464 1427.81 117.52 1432.42 Q120.598 1437 120.598 1445.75 Q120.598 1454.48 117.52 1459.08 Q114.464 1463.67 108.654 1463.67 Q102.844 1463.67 99.765 1459.08 Q96.7095 1454.48 96.7095 1445.75 Q96.7095 1437 99.765 1432.42 Q102.844 1427.81 108.654 1427.81 Z\" fill=\"#000000\" fill-rule=\"nonzero\" fill-opacity=\"1\" /><path clip-path=\"url(#clip720)\" d=\"M65.0198 1108.81 Q61.4087 1108.81 59.58 1112.37 Q57.7745 1115.91 57.7745 1123.04 Q57.7745 1130.15 59.58 1133.72 Q61.4087 1137.26 65.0198 1137.26 Q68.6541 1137.26 70.4596 1133.72 Q72.2883 1130.15 72.2883 1123.04 Q72.2883 1115.91 70.4596 1112.37 Q68.6541 1108.81 65.0198 1108.81 M65.0198 1105.1 Q70.83 1105.1 73.8855 1109.71 Q76.9642 1114.29 76.9642 1123.04 Q76.9642 1131.77 73.8855 1136.38 Q70.83 1140.96 65.0198 1140.96 Q59.2097 1140.96 56.131 1136.38 Q53.0754 1131.77 53.0754 1123.04 Q53.0754 1114.29 56.131 1109.71 Q59.2097 1105.1 65.0198 1105.1 Z\" fill=\"#000000\" fill-rule=\"nonzero\" fill-opacity=\"1\" /><path clip-path=\"url(#clip720)\" d=\"M85.1818 1134.41 L90.066 1134.41 L90.066 1140.29 L85.1818 1140.29 L85.1818 1134.41 Z\" fill=\"#000000\" fill-rule=\"nonzero\" fill-opacity=\"1\" /><path clip-path=\"url(#clip720)\" d=\"M104.279 1136.35 L120.598 1136.35 L120.598 1140.29 L98.6539 1140.29 L98.6539 1136.35 Q101.316 1133.6 105.899 1128.97 Q110.506 1124.32 111.686 1122.97 Q113.932 1120.45 114.811 1118.72 Q115.714 1116.96 115.714 1115.27 Q115.714 1112.51 113.77 1110.78 Q111.848 1109.04 108.746 1109.04 Q106.547 1109.04 104.094 1109.8 Q101.663 1110.57 98.8854 1112.12 L98.8854 1107.4 Q101.709 1106.26 104.163 1105.68 Q106.617 1105.1 108.654 1105.1 Q114.024 1105.1 117.219 1107.79 Q120.413 1110.47 120.413 1114.97 Q120.413 1117.1 119.603 1119.02 Q118.816 1120.91 116.709 1123.51 Q116.131 1124.18 113.029 1127.4 Q109.927 1130.59 104.279 1136.35 Z\" fill=\"#000000\" fill-rule=\"nonzero\" fill-opacity=\"1\" /><path clip-path=\"url(#clip720)\" d=\"M62.9365 786.102 Q59.3254 786.102 57.4967 789.667 Q55.6912 793.208 55.6912 800.338 Q55.6912 807.445 57.4967 811.009 Q59.3254 814.551 62.9365 814.551 Q66.5707 814.551 68.3763 811.009 Q70.205 807.445 70.205 800.338 Q70.205 793.208 68.3763 789.667 Q66.5707 786.102 62.9365 786.102 M62.9365 782.398 Q68.7467 782.398 71.8022 787.005 Q74.8809 791.588 74.8809 800.338 Q74.8809 809.065 71.8022 813.671 Q68.7467 818.255 62.9365 818.255 Q57.1264 818.255 54.0477 813.671 Q50.9921 809.065 50.9921 800.338 Q50.9921 791.588 54.0477 787.005 Q57.1264 782.398 62.9365 782.398 Z\" fill=\"#000000\" fill-rule=\"nonzero\" fill-opacity=\"1\" /><path clip-path=\"url(#clip720)\" d=\"M83.0984 811.704 L87.9827 811.704 L87.9827 817.583 L83.0984 817.583 L83.0984 811.704 Z\" fill=\"#000000\" fill-rule=\"nonzero\" fill-opacity=\"1\" /><path clip-path=\"url(#clip720)\" d=\"M111.015 787.097 L99.2095 805.546 L111.015 805.546 L111.015 787.097 M109.788 783.023 L115.668 783.023 L115.668 805.546 L120.598 805.546 L120.598 809.435 L115.668 809.435 L115.668 817.583 L111.015 817.583 L111.015 809.435 L95.4132 809.435 L95.4132 804.921 L109.788 783.023 Z\" fill=\"#000000\" fill-rule=\"nonzero\" fill-opacity=\"1\" /><path clip-path=\"url(#clip720)\" d=\"M63.2606 463.396 Q59.6495 463.396 57.8208 466.961 Q56.0152 470.502 56.0152 477.632 Q56.0152 484.738 57.8208 488.303 Q59.6495 491.845 63.2606 491.845 Q66.8948 491.845 68.7004 488.303 Q70.5291 484.738 70.5291 477.632 Q70.5291 470.502 68.7004 466.961 Q66.8948 463.396 63.2606 463.396 M63.2606 459.692 Q69.0707 459.692 72.1263 464.299 Q75.205 468.882 75.205 477.632 Q75.205 486.359 72.1263 490.965 Q69.0707 495.548 63.2606 495.548 Q57.4504 495.548 54.3717 490.965 Q51.3162 486.359 51.3162 477.632 Q51.3162 468.882 54.3717 464.299 Q57.4504 459.692 63.2606 459.692 Z\" fill=\"#000000\" fill-rule=\"nonzero\" fill-opacity=\"1\" /><path clip-path=\"url(#clip720)\" d=\"M83.4225 488.998 L88.3067 488.998 L88.3067 494.877 L83.4225 494.877 L83.4225 488.998 Z\" fill=\"#000000\" fill-rule=\"nonzero\" fill-opacity=\"1\" /><path clip-path=\"url(#clip720)\" d=\"M109.071 475.734 Q105.922 475.734 104.071 477.887 Q102.242 480.039 102.242 483.789 Q102.242 487.516 104.071 489.692 Q105.922 491.845 109.071 491.845 Q112.219 491.845 114.047 489.692 Q115.899 487.516 115.899 483.789 Q115.899 480.039 114.047 477.887 Q112.219 475.734 109.071 475.734 M118.353 461.081 L118.353 465.34 Q116.594 464.507 114.788 464.067 Q113.006 463.627 111.246 463.627 Q106.617 463.627 104.163 466.752 Q101.733 469.877 101.385 476.197 Q102.751 474.183 104.811 473.118 Q106.871 472.03 109.348 472.03 Q114.557 472.03 117.566 475.201 Q120.598 478.349 120.598 483.789 Q120.598 489.113 117.45 492.331 Q114.302 495.548 109.071 495.548 Q103.075 495.548 99.9039 490.965 Q96.7326 486.359 96.7326 477.632 Q96.7326 469.437 100.621 464.576 Q104.51 459.692 111.061 459.692 Q112.82 459.692 114.603 460.039 Q116.408 460.387 118.353 461.081 Z\" fill=\"#000000\" fill-rule=\"nonzero\" fill-opacity=\"1\" /><path clip-path=\"url(#clip720)\" d=\"M63.5152 140.69 Q59.9041 140.69 58.0754 144.254 Q56.2699 147.796 56.2699 154.926 Q56.2699 162.032 58.0754 165.597 Q59.9041 169.139 63.5152 169.139 Q67.1494 169.139 68.955 165.597 Q70.7837 162.032 70.7837 154.926 Q70.7837 147.796 68.955 144.254 Q67.1494 140.69 63.5152 140.69 M63.5152 136.986 Q69.3254 136.986 72.3809 141.592 Q75.4596 146.176 75.4596 154.926 Q75.4596 163.653 72.3809 168.259 Q69.3254 172.842 63.5152 172.842 Q57.7051 172.842 54.6264 168.259 Q51.5708 163.653 51.5708 154.926 Q51.5708 146.176 54.6264 141.592 Q57.7051 136.986 63.5152 136.986 Z\" fill=\"#000000\" fill-rule=\"nonzero\" fill-opacity=\"1\" /><path clip-path=\"url(#clip720)\" d=\"M83.6771 166.291 L88.5614 166.291 L88.5614 172.171 L83.6771 172.171 L83.6771 166.291 Z\" fill=\"#000000\" fill-rule=\"nonzero\" fill-opacity=\"1\" /><path clip-path=\"url(#clip720)\" d=\"M108.746 155.759 Q105.413 155.759 103.492 157.541 Q101.594 159.324 101.594 162.449 Q101.594 165.574 103.492 167.356 Q105.413 169.139 108.746 169.139 Q112.08 169.139 114.001 167.356 Q115.922 165.551 115.922 162.449 Q115.922 159.324 114.001 157.541 Q112.103 155.759 108.746 155.759 M104.071 153.768 Q101.061 153.028 99.3715 150.967 Q97.7048 148.907 97.7048 145.944 Q97.7048 141.801 100.645 139.393 Q103.608 136.986 108.746 136.986 Q113.908 136.986 116.848 139.393 Q119.788 141.801 119.788 145.944 Q119.788 148.907 118.098 150.967 Q116.432 153.028 113.445 153.768 Q116.825 154.555 118.7 156.847 Q120.598 159.139 120.598 162.449 Q120.598 167.472 117.52 170.157 Q114.464 172.842 108.746 172.842 Q103.029 172.842 99.9502 170.157 Q96.8947 167.472 96.8947 162.449 Q96.8947 159.139 98.7928 156.847 Q100.691 154.555 104.071 153.768 M102.358 146.384 Q102.358 149.069 104.024 150.574 Q105.714 152.079 108.746 152.079 Q111.756 152.079 113.445 150.574 Q115.158 149.069 115.158 146.384 Q115.158 143.699 113.445 142.194 Q111.756 140.69 108.746 140.69 Q105.714 140.69 104.024 142.194 Q102.358 143.699 102.358 146.384 Z\" fill=\"#000000\" fill-rule=\"nonzero\" fill-opacity=\"1\" /><polyline clip-path=\"url(#clip722)\" style=\"stroke:#009af9; stroke-linecap:round; stroke-linejoin:round; stroke-width:4; stroke-opacity:1; fill:none\" points=\"218.754,1445.72 239.681,1429.42 260.609,1413.12 281.537,1396.83 302.465,1380.54 323.392,1364.26 344.32,1347.99 365.248,1331.72 386.176,1315.47 407.103,1299.23 428.031,1283.01 448.959,1266.8 469.887,1250.61 490.814,1234.45 511.742,1218.3 532.67,1202.18 553.598,1186.08 574.525,1170 595.453,1153.96 616.381,1137.95 637.309,1121.96 658.236,1106.01 679.164,1090.1 700.092,1074.22 721.02,1058.38 741.947,1042.58 762.875,1026.81 783.803,1011.1 804.731,995.423 825.658,979.796 846.586,964.216 867.514,948.685 888.442,933.205 909.369,917.777 930.297,902.403 951.225,887.084 972.152,871.823 993.08,856.62 1014.01,841.477 1034.94,826.396 1055.86,811.378 1076.79,796.424 1097.72,781.537 1118.65,766.718 1139.57,751.968 1160.5,737.289 1181.43,722.682 1202.36,708.148 1223.29,693.69 1244.21,679.309 1265.14,665.006 1286.07,650.783 1307,636.64 1327.92,622.581 1348.85,608.605 1369.78,594.715 1390.71,580.911 1411.64,567.196 1432.56,553.57 1453.49,540.036 1474.42,526.593 1495.35,513.245 1516.27,499.992 1537.2,486.835 1558.13,473.776 1579.06,460.816 1599.98,447.957 1620.91,435.199 1641.84,422.545 1662.77,409.995 1683.7,397.551 1704.62,385.213 1725.55,372.984 1746.48,360.864 1767.41,348.855 1788.33,336.958 1809.26,325.174 1830.19,313.505 1851.12,301.95 1872.05,290.513 1892.97,279.193 1913.9,267.993 1934.83,256.912 1955.76,245.953 1976.68,235.116 1997.61,224.403 2018.54,213.815 2039.47,203.352 2060.4,193.016 2081.32,182.807 2102.25,172.728 2123.18,162.778 2144.11,152.96 2165.03,143.273 2185.96,133.719 2206.89,124.299 2227.82,115.014 2248.75,105.864 2269.67,96.8514 2290.6,87.9763 \"/>\n",
       "<polyline clip-path=\"url(#clip722)\" style=\"stroke:#e26f46; stroke-linecap:round; stroke-linejoin:round; stroke-width:4; stroke-opacity:1; fill:none\" points=\"218.754,1445.72 239.681,1445.72 260.609,1445.72 281.537,1445.72 302.465,1445.72 323.392,1445.72 344.32,1445.72 365.248,1445.72 386.176,1445.72 407.103,1445.72 428.031,1445.72 448.959,1445.72 469.887,1445.72 490.814,1445.72 511.742,1445.72 532.67,1445.72 553.598,1445.72 574.525,1445.72 595.453,1445.72 616.381,1445.72 637.309,1445.72 658.236,1445.72 679.164,1445.72 700.092,1445.72 721.02,1445.72 741.947,1445.72 762.875,1445.72 783.803,1445.72 804.731,1445.72 825.658,1445.72 846.586,1445.72 867.514,1445.72 888.442,1445.72 909.369,1445.72 930.297,1445.72 951.225,1445.72 972.152,1445.72 993.08,1445.72 1014.01,1445.72 1034.94,1445.72 1055.86,1445.72 1076.79,1445.72 1097.72,1445.72 1118.65,1445.72 1139.57,1445.72 1160.5,1445.72 1181.43,1445.72 1202.36,1445.72 1223.29,1445.72 1244.21,1445.72 1265.14,1445.72 1286.07,1445.72 1307,1445.72 1327.92,1445.72 1348.85,1445.72 1369.78,1445.72 1390.71,1445.72 1411.64,1445.72 1432.56,1445.72 1453.49,1445.72 1474.42,1445.72 1495.35,1445.72 1516.27,1445.72 1537.2,1445.72 1558.13,1445.72 1579.06,1445.72 1599.98,1445.72 1620.91,1445.72 1641.84,1445.72 1662.77,1445.72 1683.7,1445.72 1704.62,1445.72 1725.55,1445.72 1746.48,1445.72 1767.41,1445.72 1788.33,1445.72 1809.26,1445.72 1830.19,1445.72 1851.12,1445.72 1872.05,1445.72 1892.97,1445.72 1913.9,1445.72 1934.83,1445.72 1955.76,1445.72 1976.68,1445.72 1997.61,1445.72 2018.54,1445.72 2039.47,1445.72 2060.4,1445.72 2081.32,1445.72 2102.25,1445.72 2123.18,1445.72 2144.11,1445.72 2165.03,1445.72 2185.96,1445.72 2206.89,1445.72 2227.82,1445.72 2248.75,1445.72 2269.67,1445.72 2290.6,1445.72 \"/>\n",
       "<path clip-path=\"url(#clip720)\" d=\"M229.803 250.738 L769.58 250.738 L769.58 95.2176 L229.803 95.2176  Z\" fill=\"#ffffff\" fill-rule=\"evenodd\" fill-opacity=\"1\"/>\n",
       "<polyline clip-path=\"url(#clip720)\" style=\"stroke:#000000; stroke-linecap:round; stroke-linejoin:round; stroke-width:4; stroke-opacity:1; fill:none\" points=\"229.803,250.738 769.58,250.738 769.58,95.2176 229.803,95.2176 229.803,250.738 \"/>\n",
       "<polyline clip-path=\"url(#clip720)\" style=\"stroke:#009af9; stroke-linecap:round; stroke-linejoin:round; stroke-width:4; stroke-opacity:1; fill:none\" points=\"254.205,147.058 400.616,147.058 \"/>\n",
       "<path clip-path=\"url(#clip720)\" d=\"M443.443 139.176 L443.443 143.203 Q441.638 142.277 439.693 141.815 Q437.749 141.352 435.666 141.352 Q432.494 141.352 430.897 142.324 Q429.323 143.296 429.323 145.24 Q429.323 146.722 430.457 147.578 Q431.592 148.412 435.017 149.176 L436.476 149.5 Q441.013 150.472 442.911 152.254 Q444.832 154.014 444.832 157.185 Q444.832 160.796 441.962 162.902 Q439.115 165.009 434.115 165.009 Q432.031 165.009 429.763 164.592 Q427.517 164.199 425.018 163.388 L425.018 158.99 Q427.379 160.217 429.67 160.842 Q431.962 161.444 434.207 161.444 Q437.217 161.444 438.837 160.426 Q440.457 159.384 440.457 157.509 Q440.457 155.773 439.277 154.847 Q438.119 153.921 434.161 153.064 L432.68 152.717 Q428.721 151.884 426.962 150.171 Q425.203 148.435 425.203 145.426 Q425.203 141.768 427.795 139.778 Q430.388 137.787 435.156 137.787 Q437.517 137.787 439.601 138.134 Q441.684 138.481 443.443 139.176 Z\" fill=\"#000000\" fill-rule=\"nonzero\" fill-opacity=\"1\" /><path clip-path=\"url(#clip720)\" d=\"M451.615 138.412 L455.874 138.412 L455.874 164.338 L451.615 164.338 L451.615 138.412 M451.615 128.319 L455.874 128.319 L455.874 133.713 L451.615 133.713 L451.615 128.319 Z\" fill=\"#000000\" fill-rule=\"nonzero\" fill-opacity=\"1\" /><path clip-path=\"url(#clip720)\" d=\"M486.337 148.689 L486.337 164.338 L482.077 164.338 L482.077 148.828 Q482.077 145.148 480.642 143.319 Q479.207 141.49 476.337 141.49 Q472.888 141.49 470.897 143.69 Q468.906 145.889 468.906 149.685 L468.906 164.338 L464.624 164.338 L464.624 138.412 L468.906 138.412 L468.906 142.44 Q470.434 140.102 472.494 138.944 Q474.577 137.787 477.286 137.787 Q481.753 137.787 484.045 140.565 Q486.337 143.319 486.337 148.689 Z\" fill=\"#000000\" fill-rule=\"nonzero\" fill-opacity=\"1\" /><path clip-path=\"url(#clip720)\" d=\"M514.531 172.208 L514.531 175.518 L489.901 175.518 L489.901 172.208 L514.531 172.208 Z\" fill=\"#000000\" fill-rule=\"nonzero\" fill-opacity=\"1\" /><path clip-path=\"url(#clip720)\" d=\"M540.086 148.689 L540.086 164.338 L535.827 164.338 L535.827 148.828 Q535.827 145.148 534.392 143.319 Q532.957 141.49 530.086 141.49 Q526.637 141.49 524.647 143.69 Q522.656 145.889 522.656 149.685 L522.656 164.338 L518.373 164.338 L518.373 138.412 L522.656 138.412 L522.656 142.44 Q524.184 140.102 526.244 138.944 Q528.327 137.787 531.035 137.787 Q535.503 137.787 537.795 140.565 Q540.086 143.319 540.086 148.689 Z\" fill=\"#000000\" fill-rule=\"nonzero\" fill-opacity=\"1\" /><path clip-path=\"url(#clip720)\" d=\"M558.813 128.366 Q555.711 133.69 554.207 138.898 Q552.702 144.106 552.702 149.453 Q552.702 154.801 554.207 160.055 Q555.734 165.287 558.813 170.588 L555.109 170.588 Q551.637 165.148 549.901 159.893 Q548.188 154.639 548.188 149.453 Q548.188 144.291 549.901 139.06 Q551.614 133.828 555.109 128.366 L558.813 128.366 Z\" fill=\"#000000\" fill-rule=\"nonzero\" fill-opacity=\"1\" /><path clip-path=\"url(#clip720)\" d=\"M588.628 138.412 L579.253 151.027 L589.114 164.338 L584.091 164.338 L576.544 154.152 L568.998 164.338 L563.975 164.338 L574.044 150.773 L564.832 138.412 L569.855 138.412 L576.73 147.648 L583.605 138.412 L588.628 138.412 Z\" fill=\"#000000\" fill-rule=\"nonzero\" fill-opacity=\"1\" /><path clip-path=\"url(#clip720)\" d=\"M596.22 158.458 L601.105 158.458 L601.105 162.439 L597.308 169.847 L594.322 169.847 L596.22 162.439 L596.22 158.458 Z\" fill=\"#000000\" fill-rule=\"nonzero\" fill-opacity=\"1\" /><path clip-path=\"url(#clip720)\" d=\"M631.753 148.689 L631.753 164.338 L627.493 164.338 L627.493 148.828 Q627.493 145.148 626.058 143.319 Q624.623 141.49 621.753 141.49 Q618.304 141.49 616.313 143.69 Q614.322 145.889 614.322 149.685 L614.322 164.338 L610.04 164.338 L610.04 138.412 L614.322 138.412 L614.322 142.44 Q615.85 140.102 617.91 138.944 Q619.993 137.787 622.702 137.787 Q627.169 137.787 629.461 140.565 Q631.753 143.319 631.753 148.689 Z\" fill=\"#000000\" fill-rule=\"nonzero\" fill-opacity=\"1\" /><path clip-path=\"url(#clip720)\" d=\"M639.577 128.366 L643.28 128.366 Q646.752 133.828 648.465 139.06 Q650.201 144.291 650.201 149.453 Q650.201 154.639 648.465 159.893 Q646.752 165.148 643.28 170.588 L639.577 170.588 Q642.655 165.287 644.16 160.055 Q645.688 154.801 645.688 149.453 Q645.688 144.106 644.16 138.898 Q642.655 133.69 639.577 128.366 Z\" fill=\"#000000\" fill-rule=\"nonzero\" fill-opacity=\"1\" /><polyline clip-path=\"url(#clip720)\" style=\"stroke:#e26f46; stroke-linecap:round; stroke-linejoin:round; stroke-width:4; stroke-opacity:1; fill:none\" points=\"254.205,198.898 400.616,198.898 \"/>\n",
       "<path clip-path=\"url(#clip720)\" d=\"M443.443 191.016 L443.443 195.043 Q441.638 194.117 439.693 193.655 Q437.749 193.192 435.666 193.192 Q432.494 193.192 430.897 194.164 Q429.323 195.136 429.323 197.08 Q429.323 198.562 430.457 199.418 Q431.592 200.252 435.017 201.016 L436.476 201.34 Q441.013 202.312 442.911 204.094 Q444.832 205.854 444.832 209.025 Q444.832 212.636 441.962 214.742 Q439.115 216.849 434.115 216.849 Q432.031 216.849 429.763 216.432 Q427.517 216.039 425.018 215.228 L425.018 210.83 Q427.379 212.057 429.67 212.682 Q431.962 213.284 434.207 213.284 Q437.217 213.284 438.837 212.266 Q440.457 211.224 440.457 209.349 Q440.457 207.613 439.277 206.687 Q438.119 205.761 434.161 204.904 L432.68 204.557 Q428.721 203.724 426.962 202.011 Q425.203 200.275 425.203 197.266 Q425.203 193.608 427.795 191.618 Q430.388 189.627 435.156 189.627 Q437.517 189.627 439.601 189.974 Q441.684 190.321 443.443 191.016 Z\" fill=\"#000000\" fill-rule=\"nonzero\" fill-opacity=\"1\" /><path clip-path=\"url(#clip720)\" d=\"M451.615 190.252 L455.874 190.252 L455.874 216.178 L451.615 216.178 L451.615 190.252 M451.615 180.159 L455.874 180.159 L455.874 185.553 L451.615 185.553 L451.615 180.159 Z\" fill=\"#000000\" fill-rule=\"nonzero\" fill-opacity=\"1\" /><path clip-path=\"url(#clip720)\" d=\"M486.337 200.529 L486.337 216.178 L482.077 216.178 L482.077 200.668 Q482.077 196.988 480.642 195.159 Q479.207 193.33 476.337 193.33 Q472.888 193.33 470.897 195.53 Q468.906 197.729 468.906 201.525 L468.906 216.178 L464.624 216.178 L464.624 190.252 L468.906 190.252 L468.906 194.28 Q470.434 191.942 472.494 190.784 Q474.577 189.627 477.286 189.627 Q481.753 189.627 484.045 192.405 Q486.337 195.159 486.337 200.529 Z\" fill=\"#000000\" fill-rule=\"nonzero\" fill-opacity=\"1\" /><path clip-path=\"url(#clip720)\" d=\"M514.531 224.048 L514.531 227.358 L489.901 227.358 L489.901 224.048 L514.531 224.048 Z\" fill=\"#000000\" fill-rule=\"nonzero\" fill-opacity=\"1\" /><path clip-path=\"url(#clip720)\" d=\"M540.086 200.529 L540.086 216.178 L535.827 216.178 L535.827 200.668 Q535.827 196.988 534.392 195.159 Q532.957 193.33 530.086 193.33 Q526.637 193.33 524.647 195.53 Q522.656 197.729 522.656 201.525 L522.656 216.178 L518.373 216.178 L518.373 190.252 L522.656 190.252 L522.656 194.28 Q524.184 191.942 526.244 190.784 Q528.327 189.627 531.035 189.627 Q535.503 189.627 537.795 192.405 Q540.086 195.159 540.086 200.529 Z\" fill=\"#000000\" fill-rule=\"nonzero\" fill-opacity=\"1\" /><path clip-path=\"url(#clip720)\" d=\"M568.281 224.048 L568.281 227.358 L543.651 227.358 L543.651 224.048 L568.281 224.048 Z\" fill=\"#000000\" fill-rule=\"nonzero\" fill-opacity=\"1\" /><path clip-path=\"url(#clip720)\" d=\"M572.285 190.252 L576.544 190.252 L576.544 216.178 L572.285 216.178 L572.285 190.252 M572.285 180.159 L576.544 180.159 L576.544 185.553 L572.285 185.553 L572.285 180.159 Z\" fill=\"#000000\" fill-rule=\"nonzero\" fill-opacity=\"1\" /><path clip-path=\"url(#clip720)\" d=\"M607.007 200.529 L607.007 216.178 L602.748 216.178 L602.748 200.668 Q602.748 196.988 601.313 195.159 Q599.878 193.33 597.007 193.33 Q593.558 193.33 591.568 195.53 Q589.577 197.729 589.577 201.525 L589.577 216.178 L585.294 216.178 L585.294 190.252 L589.577 190.252 L589.577 194.28 Q591.105 191.942 593.165 190.784 Q595.248 189.627 597.956 189.627 Q602.424 189.627 604.716 192.405 Q607.007 195.159 607.007 200.529 Z\" fill=\"#000000\" fill-rule=\"nonzero\" fill-opacity=\"1\" /><path clip-path=\"url(#clip720)\" d=\"M612.447 190.252 L616.961 190.252 L625.063 212.011 L633.165 190.252 L637.678 190.252 L627.956 216.178 L622.169 216.178 L612.447 190.252 Z\" fill=\"#000000\" fill-rule=\"nonzero\" fill-opacity=\"1\" /><path clip-path=\"url(#clip720)\" d=\"M653.789 180.206 Q650.688 185.53 649.183 190.738 Q647.678 195.946 647.678 201.293 Q647.678 206.641 649.183 211.895 Q650.711 217.127 653.789 222.428 L650.086 222.428 Q646.614 216.988 644.877 211.733 Q643.164 206.479 643.164 201.293 Q643.164 196.131 644.877 190.9 Q646.59 185.668 650.086 180.206 L653.789 180.206 Z\" fill=\"#000000\" fill-rule=\"nonzero\" fill-opacity=\"1\" /><path clip-path=\"url(#clip720)\" d=\"M683.604 190.252 L674.229 202.867 L684.09 216.178 L679.067 216.178 L671.521 205.992 L663.975 216.178 L658.951 216.178 L669.021 202.613 L659.808 190.252 L664.831 190.252 L671.706 199.488 L678.581 190.252 L683.604 190.252 Z\" fill=\"#000000\" fill-rule=\"nonzero\" fill-opacity=\"1\" /><path clip-path=\"url(#clip720)\" d=\"M691.197 210.298 L696.081 210.298 L696.081 214.279 L692.285 221.687 L689.298 221.687 L691.197 214.279 L691.197 210.298 Z\" fill=\"#000000\" fill-rule=\"nonzero\" fill-opacity=\"1\" /><path clip-path=\"url(#clip720)\" d=\"M726.729 200.529 L726.729 216.178 L722.47 216.178 L722.47 200.668 Q722.47 196.988 721.034 195.159 Q719.599 193.33 716.729 193.33 Q713.28 193.33 711.289 195.53 Q709.298 197.729 709.298 201.525 L709.298 216.178 L705.016 216.178 L705.016 190.252 L709.298 190.252 L709.298 194.28 Q710.826 191.942 712.886 190.784 Q714.97 189.627 717.678 189.627 Q722.146 189.627 724.437 192.405 Q726.729 195.159 726.729 200.529 Z\" fill=\"#000000\" fill-rule=\"nonzero\" fill-opacity=\"1\" /><path clip-path=\"url(#clip720)\" d=\"M734.553 180.206 L738.257 180.206 Q741.729 185.668 743.442 190.9 Q745.178 196.131 745.178 201.293 Q745.178 206.479 743.442 211.733 Q741.729 216.988 738.257 222.428 L734.553 222.428 Q737.632 217.127 739.136 211.895 Q740.664 206.641 740.664 201.293 Q740.664 195.946 739.136 190.738 Q737.632 185.53 734.553 180.206 Z\" fill=\"#000000\" fill-rule=\"nonzero\" fill-opacity=\"1\" /></svg>\n"
      ],
      "text/html": [
       "<?xml version=\"1.0\" encoding=\"utf-8\"?>\n",
       "<svg xmlns=\"http://www.w3.org/2000/svg\" xmlns:xlink=\"http://www.w3.org/1999/xlink\" width=\"600\" height=\"400\" viewBox=\"0 0 2400 1600\">\n",
       "<defs>\n",
       "  <clipPath id=\"clip770\">\n",
       "    <rect x=\"0\" y=\"0\" width=\"2400\" height=\"1600\"/>\n",
       "  </clipPath>\n",
       "</defs>\n",
       "<path clip-path=\"url(#clip770)\" d=\"M0 1600 L2400 1600 L2400 0 L0 0  Z\" fill=\"#ffffff\" fill-rule=\"evenodd\" fill-opacity=\"1\"/>\n",
       "<defs>\n",
       "  <clipPath id=\"clip771\">\n",
       "    <rect x=\"480\" y=\"0\" width=\"1681\" height=\"1600\"/>\n",
       "  </clipPath>\n",
       "</defs>\n",
       "<path clip-path=\"url(#clip770)\" d=\"M156.598 1486.45 L2352.76 1486.45 L2352.76 47.2441 L156.598 47.2441  Z\" fill=\"#ffffff\" fill-rule=\"evenodd\" fill-opacity=\"1\"/>\n",
       "<defs>\n",
       "  <clipPath id=\"clip772\">\n",
       "    <rect x=\"156\" y=\"47\" width=\"2197\" height=\"1440\"/>\n",
       "  </clipPath>\n",
       "</defs>\n",
       "<polyline clip-path=\"url(#clip772)\" style=\"stroke:#000000; stroke-linecap:round; stroke-linejoin:round; stroke-width:2; stroke-opacity:0.1; fill:none\" points=\"218.754,1486.45 218.754,47.2441 \"/>\n",
       "<polyline clip-path=\"url(#clip772)\" style=\"stroke:#000000; stroke-linecap:round; stroke-linejoin:round; stroke-width:2; stroke-opacity:0.1; fill:none\" points=\"736.715,1486.45 736.715,47.2441 \"/>\n",
       "<polyline clip-path=\"url(#clip772)\" style=\"stroke:#000000; stroke-linecap:round; stroke-linejoin:round; stroke-width:2; stroke-opacity:0.1; fill:none\" points=\"1254.68,1486.45 1254.68,47.2441 \"/>\n",
       "<polyline clip-path=\"url(#clip772)\" style=\"stroke:#000000; stroke-linecap:round; stroke-linejoin:round; stroke-width:2; stroke-opacity:0.1; fill:none\" points=\"1772.64,1486.45 1772.64,47.2441 \"/>\n",
       "<polyline clip-path=\"url(#clip772)\" style=\"stroke:#000000; stroke-linecap:round; stroke-linejoin:round; stroke-width:2; stroke-opacity:0.1; fill:none\" points=\"2290.6,1486.45 2290.6,47.2441 \"/>\n",
       "<polyline clip-path=\"url(#clip770)\" style=\"stroke:#000000; stroke-linecap:round; stroke-linejoin:round; stroke-width:4; stroke-opacity:1; fill:none\" points=\"156.598,1486.45 2352.76,1486.45 \"/>\n",
       "<polyline clip-path=\"url(#clip770)\" style=\"stroke:#000000; stroke-linecap:round; stroke-linejoin:round; stroke-width:4; stroke-opacity:1; fill:none\" points=\"218.754,1486.45 218.754,1467.55 \"/>\n",
       "<polyline clip-path=\"url(#clip770)\" style=\"stroke:#000000; stroke-linecap:round; stroke-linejoin:round; stroke-width:4; stroke-opacity:1; fill:none\" points=\"736.715,1486.45 736.715,1467.55 \"/>\n",
       "<polyline clip-path=\"url(#clip770)\" style=\"stroke:#000000; stroke-linecap:round; stroke-linejoin:round; stroke-width:4; stroke-opacity:1; fill:none\" points=\"1254.68,1486.45 1254.68,1467.55 \"/>\n",
       "<polyline clip-path=\"url(#clip770)\" style=\"stroke:#000000; stroke-linecap:round; stroke-linejoin:round; stroke-width:4; stroke-opacity:1; fill:none\" points=\"1772.64,1486.45 1772.64,1467.55 \"/>\n",
       "<polyline clip-path=\"url(#clip770)\" style=\"stroke:#000000; stroke-linecap:round; stroke-linejoin:round; stroke-width:4; stroke-opacity:1; fill:none\" points=\"2290.6,1486.45 2290.6,1467.55 \"/>\n",
       "<path clip-path=\"url(#clip770)\" d=\"M181.057 1517.37 Q177.446 1517.37 175.617 1520.93 Q173.812 1524.47 173.812 1531.6 Q173.812 1538.71 175.617 1542.27 Q177.446 1545.82 181.057 1545.82 Q184.691 1545.82 186.497 1542.27 Q188.326 1538.71 188.326 1531.6 Q188.326 1524.47 186.497 1520.93 Q184.691 1517.37 181.057 1517.37 M181.057 1513.66 Q186.867 1513.66 189.923 1518.27 Q193.001 1522.85 193.001 1531.6 Q193.001 1540.33 189.923 1544.94 Q186.867 1549.52 181.057 1549.52 Q175.247 1549.52 172.168 1544.94 Q169.113 1540.33 169.113 1531.6 Q169.113 1522.85 172.168 1518.27 Q175.247 1513.66 181.057 1513.66 Z\" fill=\"#000000\" fill-rule=\"nonzero\" fill-opacity=\"1\" /><path clip-path=\"url(#clip770)\" d=\"M201.219 1542.97 L206.103 1542.97 L206.103 1548.85 L201.219 1548.85 L201.219 1542.97 Z\" fill=\"#000000\" fill-rule=\"nonzero\" fill-opacity=\"1\" /><path clip-path=\"url(#clip770)\" d=\"M226.288 1517.37 Q222.677 1517.37 220.849 1520.93 Q219.043 1524.47 219.043 1531.6 Q219.043 1538.71 220.849 1542.27 Q222.677 1545.82 226.288 1545.82 Q229.923 1545.82 231.728 1542.27 Q233.557 1538.71 233.557 1531.6 Q233.557 1524.47 231.728 1520.93 Q229.923 1517.37 226.288 1517.37 M226.288 1513.66 Q232.098 1513.66 235.154 1518.27 Q238.233 1522.85 238.233 1531.6 Q238.233 1540.33 235.154 1544.94 Q232.098 1549.52 226.288 1549.52 Q220.478 1549.52 217.399 1544.94 Q214.344 1540.33 214.344 1531.6 Q214.344 1522.85 217.399 1518.27 Q220.478 1513.66 226.288 1513.66 Z\" fill=\"#000000\" fill-rule=\"nonzero\" fill-opacity=\"1\" /><path clip-path=\"url(#clip770)\" d=\"M256.45 1517.37 Q252.839 1517.37 251.01 1520.93 Q249.205 1524.47 249.205 1531.6 Q249.205 1538.71 251.01 1542.27 Q252.839 1545.82 256.45 1545.82 Q260.084 1545.82 261.89 1542.27 Q263.719 1538.71 263.719 1531.6 Q263.719 1524.47 261.89 1520.93 Q260.084 1517.37 256.45 1517.37 M256.45 1513.66 Q262.26 1513.66 265.316 1518.27 Q268.395 1522.85 268.395 1531.6 Q268.395 1540.33 265.316 1544.94 Q262.26 1549.52 256.45 1549.52 Q250.64 1549.52 247.561 1544.94 Q244.506 1540.33 244.506 1531.6 Q244.506 1522.85 247.561 1518.27 Q250.64 1513.66 256.45 1513.66 Z\" fill=\"#000000\" fill-rule=\"nonzero\" fill-opacity=\"1\" /><path clip-path=\"url(#clip770)\" d=\"M699.516 1517.37 Q695.905 1517.37 694.077 1520.93 Q692.271 1524.47 692.271 1531.6 Q692.271 1538.71 694.077 1542.27 Q695.905 1545.82 699.516 1545.82 Q703.151 1545.82 704.956 1542.27 Q706.785 1538.71 706.785 1531.6 Q706.785 1524.47 704.956 1520.93 Q703.151 1517.37 699.516 1517.37 M699.516 1513.66 Q705.327 1513.66 708.382 1518.27 Q711.461 1522.85 711.461 1531.6 Q711.461 1540.33 708.382 1544.94 Q705.327 1549.52 699.516 1549.52 Q693.706 1549.52 690.628 1544.94 Q687.572 1540.33 687.572 1531.6 Q687.572 1522.85 690.628 1518.27 Q693.706 1513.66 699.516 1513.66 Z\" fill=\"#000000\" fill-rule=\"nonzero\" fill-opacity=\"1\" /><path clip-path=\"url(#clip770)\" d=\"M719.678 1542.97 L724.563 1542.97 L724.563 1548.85 L719.678 1548.85 L719.678 1542.97 Z\" fill=\"#000000\" fill-rule=\"nonzero\" fill-opacity=\"1\" /><path clip-path=\"url(#clip770)\" d=\"M738.776 1544.91 L755.095 1544.91 L755.095 1548.85 L733.151 1548.85 L733.151 1544.91 Q735.813 1542.16 740.396 1537.53 Q745.002 1532.88 746.183 1531.53 Q748.428 1529.01 749.308 1527.27 Q750.211 1525.51 750.211 1523.82 Q750.211 1521.07 748.266 1519.33 Q746.345 1517.6 743.243 1517.6 Q741.044 1517.6 738.59 1518.36 Q736.16 1519.13 733.382 1520.68 L733.382 1515.95 Q736.206 1514.82 738.66 1514.24 Q741.113 1513.66 743.151 1513.66 Q748.521 1513.66 751.715 1516.35 Q754.91 1519.03 754.91 1523.52 Q754.91 1525.65 754.1 1527.57 Q753.312 1529.47 751.206 1532.07 Q750.627 1532.74 747.525 1535.95 Q744.424 1539.15 738.776 1544.91 Z\" fill=\"#000000\" fill-rule=\"nonzero\" fill-opacity=\"1\" /><path clip-path=\"url(#clip770)\" d=\"M764.956 1514.29 L783.312 1514.29 L783.312 1518.22 L769.238 1518.22 L769.238 1526.7 Q770.257 1526.35 771.275 1526.19 Q772.294 1526 773.312 1526 Q779.099 1526 782.479 1529.17 Q785.859 1532.34 785.859 1537.76 Q785.859 1543.34 782.386 1546.44 Q778.914 1549.52 772.595 1549.52 Q770.419 1549.52 768.15 1549.15 Q765.905 1548.78 763.498 1548.04 L763.498 1543.34 Q765.581 1544.47 767.803 1545.03 Q770.025 1545.58 772.502 1545.58 Q776.507 1545.58 778.845 1543.48 Q781.183 1541.37 781.183 1537.76 Q781.183 1534.15 778.845 1532.04 Q776.507 1529.94 772.502 1529.94 Q770.627 1529.94 768.752 1530.35 Q766.9 1530.77 764.956 1531.65 L764.956 1514.29 Z\" fill=\"#000000\" fill-rule=\"nonzero\" fill-opacity=\"1\" /><path clip-path=\"url(#clip770)\" d=\"M1216.98 1517.37 Q1213.37 1517.37 1211.54 1520.93 Q1209.74 1524.47 1209.74 1531.6 Q1209.74 1538.71 1211.54 1542.27 Q1213.37 1545.82 1216.98 1545.82 Q1220.61 1545.82 1222.42 1542.27 Q1224.25 1538.71 1224.25 1531.6 Q1224.25 1524.47 1222.42 1520.93 Q1220.61 1517.37 1216.98 1517.37 M1216.98 1513.66 Q1222.79 1513.66 1225.85 1518.27 Q1228.92 1522.85 1228.92 1531.6 Q1228.92 1540.33 1225.85 1544.94 Q1222.79 1549.52 1216.98 1549.52 Q1211.17 1549.52 1208.09 1544.94 Q1205.04 1540.33 1205.04 1531.6 Q1205.04 1522.85 1208.09 1518.27 Q1211.17 1513.66 1216.98 1513.66 Z\" fill=\"#000000\" fill-rule=\"nonzero\" fill-opacity=\"1\" /><path clip-path=\"url(#clip770)\" d=\"M1237.14 1542.97 L1242.03 1542.97 L1242.03 1548.85 L1237.14 1548.85 L1237.14 1542.97 Z\" fill=\"#000000\" fill-rule=\"nonzero\" fill-opacity=\"1\" /><path clip-path=\"url(#clip770)\" d=\"M1252.26 1514.29 L1270.61 1514.29 L1270.61 1518.22 L1256.54 1518.22 L1256.54 1526.7 Q1257.56 1526.35 1258.58 1526.19 Q1259.6 1526 1260.61 1526 Q1266.4 1526 1269.78 1529.17 Q1273.16 1532.34 1273.16 1537.76 Q1273.16 1543.34 1269.69 1546.44 Q1266.22 1549.52 1259.9 1549.52 Q1257.72 1549.52 1255.45 1549.15 Q1253.21 1548.78 1250.8 1548.04 L1250.8 1543.34 Q1252.88 1544.47 1255.11 1545.03 Q1257.33 1545.58 1259.8 1545.58 Q1263.81 1545.58 1266.15 1543.48 Q1268.48 1541.37 1268.48 1537.76 Q1268.48 1534.15 1266.15 1532.04 Q1263.81 1529.94 1259.8 1529.94 Q1257.93 1529.94 1256.05 1530.35 Q1254.2 1530.77 1252.26 1531.65 L1252.26 1514.29 Z\" fill=\"#000000\" fill-rule=\"nonzero\" fill-opacity=\"1\" /><path clip-path=\"url(#clip770)\" d=\"M1292.37 1517.37 Q1288.76 1517.37 1286.93 1520.93 Q1285.13 1524.47 1285.13 1531.6 Q1285.13 1538.71 1286.93 1542.27 Q1288.76 1545.82 1292.37 1545.82 Q1296.01 1545.82 1297.81 1542.27 Q1299.64 1538.71 1299.64 1531.6 Q1299.64 1524.47 1297.81 1520.93 Q1296.01 1517.37 1292.37 1517.37 M1292.37 1513.66 Q1298.18 1513.66 1301.24 1518.27 Q1304.32 1522.85 1304.32 1531.6 Q1304.32 1540.33 1301.24 1544.94 Q1298.18 1549.52 1292.37 1549.52 Q1286.56 1549.52 1283.48 1544.94 Q1280.43 1540.33 1280.43 1531.6 Q1280.43 1522.85 1283.48 1518.27 Q1286.56 1513.66 1292.37 1513.66 Z\" fill=\"#000000\" fill-rule=\"nonzero\" fill-opacity=\"1\" /><path clip-path=\"url(#clip770)\" d=\"M1735.44 1517.37 Q1731.83 1517.37 1730 1520.93 Q1728.19 1524.47 1728.19 1531.6 Q1728.19 1538.71 1730 1542.27 Q1731.83 1545.82 1735.44 1545.82 Q1739.07 1545.82 1740.88 1542.27 Q1742.71 1538.71 1742.71 1531.6 Q1742.71 1524.47 1740.88 1520.93 Q1739.07 1517.37 1735.44 1517.37 M1735.44 1513.66 Q1741.25 1513.66 1744.31 1518.27 Q1747.38 1522.85 1747.38 1531.6 Q1747.38 1540.33 1744.31 1544.94 Q1741.25 1549.52 1735.44 1549.52 Q1729.63 1549.52 1726.55 1544.94 Q1723.5 1540.33 1723.5 1531.6 Q1723.5 1522.85 1726.55 1518.27 Q1729.63 1513.66 1735.44 1513.66 Z\" fill=\"#000000\" fill-rule=\"nonzero\" fill-opacity=\"1\" /><path clip-path=\"url(#clip770)\" d=\"M1755.6 1542.97 L1760.49 1542.97 L1760.49 1548.85 L1755.6 1548.85 L1755.6 1542.97 Z\" fill=\"#000000\" fill-rule=\"nonzero\" fill-opacity=\"1\" /><path clip-path=\"url(#clip770)\" d=\"M1769.49 1514.29 L1791.71 1514.29 L1791.71 1516.28 L1779.17 1548.85 L1774.28 1548.85 L1786.09 1518.22 L1769.49 1518.22 L1769.49 1514.29 Z\" fill=\"#000000\" fill-rule=\"nonzero\" fill-opacity=\"1\" /><path clip-path=\"url(#clip770)\" d=\"M1800.88 1514.29 L1819.24 1514.29 L1819.24 1518.22 L1805.16 1518.22 L1805.16 1526.7 Q1806.18 1526.35 1807.2 1526.19 Q1808.22 1526 1809.24 1526 Q1815.02 1526 1818.4 1529.17 Q1821.78 1532.34 1821.78 1537.76 Q1821.78 1543.34 1818.31 1546.44 Q1814.84 1549.52 1808.52 1549.52 Q1806.34 1549.52 1804.07 1549.15 Q1801.83 1548.78 1799.42 1548.04 L1799.42 1543.34 Q1801.5 1544.47 1803.73 1545.03 Q1805.95 1545.58 1808.43 1545.58 Q1812.43 1545.58 1814.77 1543.48 Q1817.11 1541.37 1817.11 1537.76 Q1817.11 1534.15 1814.77 1532.04 Q1812.43 1529.94 1808.43 1529.94 Q1806.55 1529.94 1804.68 1530.35 Q1802.82 1530.77 1800.88 1531.65 L1800.88 1514.29 Z\" fill=\"#000000\" fill-rule=\"nonzero\" fill-opacity=\"1\" /><path clip-path=\"url(#clip770)\" d=\"M2242.67 1544.91 L2250.31 1544.91 L2250.31 1518.55 L2242 1520.21 L2242 1515.95 L2250.27 1514.29 L2254.94 1514.29 L2254.94 1544.91 L2262.58 1544.91 L2262.58 1548.85 L2242.67 1548.85 L2242.67 1544.91 Z\" fill=\"#000000\" fill-rule=\"nonzero\" fill-opacity=\"1\" /><path clip-path=\"url(#clip770)\" d=\"M2272.02 1542.97 L2276.91 1542.97 L2276.91 1548.85 L2272.02 1548.85 L2272.02 1542.97 Z\" fill=\"#000000\" fill-rule=\"nonzero\" fill-opacity=\"1\" /><path clip-path=\"url(#clip770)\" d=\"M2297.09 1517.37 Q2293.48 1517.37 2291.65 1520.93 Q2289.85 1524.47 2289.85 1531.6 Q2289.85 1538.71 2291.65 1542.27 Q2293.48 1545.82 2297.09 1545.82 Q2300.73 1545.82 2302.53 1542.27 Q2304.36 1538.71 2304.36 1531.6 Q2304.36 1524.47 2302.53 1520.93 Q2300.73 1517.37 2297.09 1517.37 M2297.09 1513.66 Q2302.9 1513.66 2305.96 1518.27 Q2309.04 1522.85 2309.04 1531.6 Q2309.04 1540.33 2305.96 1544.94 Q2302.9 1549.52 2297.09 1549.52 Q2291.28 1549.52 2288.2 1544.94 Q2285.15 1540.33 2285.15 1531.6 Q2285.15 1522.85 2288.2 1518.27 Q2291.28 1513.66 2297.09 1513.66 Z\" fill=\"#000000\" fill-rule=\"nonzero\" fill-opacity=\"1\" /><path clip-path=\"url(#clip770)\" d=\"M2327.26 1517.37 Q2323.64 1517.37 2321.82 1520.93 Q2320.01 1524.47 2320.01 1531.6 Q2320.01 1538.71 2321.82 1542.27 Q2323.64 1545.82 2327.26 1545.82 Q2330.89 1545.82 2332.7 1542.27 Q2334.52 1538.71 2334.52 1531.6 Q2334.52 1524.47 2332.7 1520.93 Q2330.89 1517.37 2327.26 1517.37 M2327.26 1513.66 Q2333.07 1513.66 2336.12 1518.27 Q2339.2 1522.85 2339.2 1531.6 Q2339.2 1540.33 2336.12 1544.94 Q2333.07 1549.52 2327.26 1549.52 Q2321.45 1549.52 2318.37 1544.94 Q2315.31 1540.33 2315.31 1531.6 Q2315.31 1522.85 2318.37 1518.27 Q2321.45 1513.66 2327.26 1513.66 Z\" fill=\"#000000\" fill-rule=\"nonzero\" fill-opacity=\"1\" /><polyline clip-path=\"url(#clip772)\" style=\"stroke:#000000; stroke-linecap:round; stroke-linejoin:round; stroke-width:2; stroke-opacity:0.1; fill:none\" points=\"156.598,1445.72 2352.76,1445.72 \"/>\n",
       "<polyline clip-path=\"url(#clip772)\" style=\"stroke:#000000; stroke-linecap:round; stroke-linejoin:round; stroke-width:2; stroke-opacity:0.1; fill:none\" points=\"156.598,1123.01 2352.76,1123.01 \"/>\n",
       "<polyline clip-path=\"url(#clip772)\" style=\"stroke:#000000; stroke-linecap:round; stroke-linejoin:round; stroke-width:2; stroke-opacity:0.1; fill:none\" points=\"156.598,800.303 2352.76,800.303 \"/>\n",
       "<polyline clip-path=\"url(#clip772)\" style=\"stroke:#000000; stroke-linecap:round; stroke-linejoin:round; stroke-width:2; stroke-opacity:0.1; fill:none\" points=\"156.598,477.597 2352.76,477.597 \"/>\n",
       "<polyline clip-path=\"url(#clip772)\" style=\"stroke:#000000; stroke-linecap:round; stroke-linejoin:round; stroke-width:2; stroke-opacity:0.1; fill:none\" points=\"156.598,154.891 2352.76,154.891 \"/>\n",
       "<polyline clip-path=\"url(#clip770)\" style=\"stroke:#000000; stroke-linecap:round; stroke-linejoin:round; stroke-width:4; stroke-opacity:1; fill:none\" points=\"156.598,1486.45 156.598,47.2441 \"/>\n",
       "<polyline clip-path=\"url(#clip770)\" style=\"stroke:#000000; stroke-linecap:round; stroke-linejoin:round; stroke-width:4; stroke-opacity:1; fill:none\" points=\"156.598,1445.72 175.496,1445.72 \"/>\n",
       "<polyline clip-path=\"url(#clip770)\" style=\"stroke:#000000; stroke-linecap:round; stroke-linejoin:round; stroke-width:4; stroke-opacity:1; fill:none\" points=\"156.598,1123.01 175.496,1123.01 \"/>\n",
       "<polyline clip-path=\"url(#clip770)\" style=\"stroke:#000000; stroke-linecap:round; stroke-linejoin:round; stroke-width:4; stroke-opacity:1; fill:none\" points=\"156.598,800.303 175.496,800.303 \"/>\n",
       "<polyline clip-path=\"url(#clip770)\" style=\"stroke:#000000; stroke-linecap:round; stroke-linejoin:round; stroke-width:4; stroke-opacity:1; fill:none\" points=\"156.598,477.597 175.496,477.597 \"/>\n",
       "<polyline clip-path=\"url(#clip770)\" style=\"stroke:#000000; stroke-linecap:round; stroke-linejoin:round; stroke-width:4; stroke-opacity:1; fill:none\" points=\"156.598,154.891 175.496,154.891 \"/>\n",
       "<path clip-path=\"url(#clip770)\" d=\"M63.4226 1431.51 Q59.8115 1431.51 57.9828 1435.08 Q56.1773 1438.62 56.1773 1445.75 Q56.1773 1452.86 57.9828 1456.42 Q59.8115 1459.96 63.4226 1459.96 Q67.0569 1459.96 68.8624 1456.42 Q70.6911 1452.86 70.6911 1445.75 Q70.6911 1438.62 68.8624 1435.08 Q67.0569 1431.51 63.4226 1431.51 M63.4226 1427.81 Q69.2328 1427.81 72.2883 1432.42 Q75.367 1437 75.367 1445.75 Q75.367 1454.48 72.2883 1459.08 Q69.2328 1463.67 63.4226 1463.67 Q57.6125 1463.67 54.5338 1459.08 Q51.4782 1454.48 51.4782 1445.75 Q51.4782 1437 54.5338 1432.42 Q57.6125 1427.81 63.4226 1427.81 Z\" fill=\"#000000\" fill-rule=\"nonzero\" fill-opacity=\"1\" /><path clip-path=\"url(#clip770)\" d=\"M83.5845 1457.12 L88.4688 1457.12 L88.4688 1463 L83.5845 1463 L83.5845 1457.12 Z\" fill=\"#000000\" fill-rule=\"nonzero\" fill-opacity=\"1\" /><path clip-path=\"url(#clip770)\" d=\"M108.654 1431.51 Q105.043 1431.51 103.214 1435.08 Q101.409 1438.62 101.409 1445.75 Q101.409 1452.86 103.214 1456.42 Q105.043 1459.96 108.654 1459.96 Q112.288 1459.96 114.094 1456.42 Q115.922 1452.86 115.922 1445.75 Q115.922 1438.62 114.094 1435.08 Q112.288 1431.51 108.654 1431.51 M108.654 1427.81 Q114.464 1427.81 117.52 1432.42 Q120.598 1437 120.598 1445.75 Q120.598 1454.48 117.52 1459.08 Q114.464 1463.67 108.654 1463.67 Q102.844 1463.67 99.765 1459.08 Q96.7095 1454.48 96.7095 1445.75 Q96.7095 1437 99.765 1432.42 Q102.844 1427.81 108.654 1427.81 Z\" fill=\"#000000\" fill-rule=\"nonzero\" fill-opacity=\"1\" /><path clip-path=\"url(#clip770)\" d=\"M65.0198 1108.81 Q61.4087 1108.81 59.58 1112.37 Q57.7745 1115.91 57.7745 1123.04 Q57.7745 1130.15 59.58 1133.72 Q61.4087 1137.26 65.0198 1137.26 Q68.6541 1137.26 70.4596 1133.72 Q72.2883 1130.15 72.2883 1123.04 Q72.2883 1115.91 70.4596 1112.37 Q68.6541 1108.81 65.0198 1108.81 M65.0198 1105.1 Q70.83 1105.1 73.8855 1109.71 Q76.9642 1114.29 76.9642 1123.04 Q76.9642 1131.77 73.8855 1136.38 Q70.83 1140.96 65.0198 1140.96 Q59.2097 1140.96 56.131 1136.38 Q53.0754 1131.77 53.0754 1123.04 Q53.0754 1114.29 56.131 1109.71 Q59.2097 1105.1 65.0198 1105.1 Z\" fill=\"#000000\" fill-rule=\"nonzero\" fill-opacity=\"1\" /><path clip-path=\"url(#clip770)\" d=\"M85.1818 1134.41 L90.066 1134.41 L90.066 1140.29 L85.1818 1140.29 L85.1818 1134.41 Z\" fill=\"#000000\" fill-rule=\"nonzero\" fill-opacity=\"1\" /><path clip-path=\"url(#clip770)\" d=\"M104.279 1136.35 L120.598 1136.35 L120.598 1140.29 L98.6539 1140.29 L98.6539 1136.35 Q101.316 1133.6 105.899 1128.97 Q110.506 1124.32 111.686 1122.97 Q113.932 1120.45 114.811 1118.72 Q115.714 1116.96 115.714 1115.27 Q115.714 1112.51 113.77 1110.78 Q111.848 1109.04 108.746 1109.04 Q106.547 1109.04 104.094 1109.8 Q101.663 1110.57 98.8854 1112.12 L98.8854 1107.4 Q101.709 1106.26 104.163 1105.68 Q106.617 1105.1 108.654 1105.1 Q114.024 1105.1 117.219 1107.79 Q120.413 1110.47 120.413 1114.97 Q120.413 1117.1 119.603 1119.02 Q118.816 1120.91 116.709 1123.51 Q116.131 1124.18 113.029 1127.4 Q109.927 1130.59 104.279 1136.35 Z\" fill=\"#000000\" fill-rule=\"nonzero\" fill-opacity=\"1\" /><path clip-path=\"url(#clip770)\" d=\"M62.9365 786.102 Q59.3254 786.102 57.4967 789.667 Q55.6912 793.208 55.6912 800.338 Q55.6912 807.445 57.4967 811.009 Q59.3254 814.551 62.9365 814.551 Q66.5707 814.551 68.3763 811.009 Q70.205 807.445 70.205 800.338 Q70.205 793.208 68.3763 789.667 Q66.5707 786.102 62.9365 786.102 M62.9365 782.398 Q68.7467 782.398 71.8022 787.005 Q74.8809 791.588 74.8809 800.338 Q74.8809 809.065 71.8022 813.671 Q68.7467 818.255 62.9365 818.255 Q57.1264 818.255 54.0477 813.671 Q50.9921 809.065 50.9921 800.338 Q50.9921 791.588 54.0477 787.005 Q57.1264 782.398 62.9365 782.398 Z\" fill=\"#000000\" fill-rule=\"nonzero\" fill-opacity=\"1\" /><path clip-path=\"url(#clip770)\" d=\"M83.0984 811.704 L87.9827 811.704 L87.9827 817.583 L83.0984 817.583 L83.0984 811.704 Z\" fill=\"#000000\" fill-rule=\"nonzero\" fill-opacity=\"1\" /><path clip-path=\"url(#clip770)\" d=\"M111.015 787.097 L99.2095 805.546 L111.015 805.546 L111.015 787.097 M109.788 783.023 L115.668 783.023 L115.668 805.546 L120.598 805.546 L120.598 809.435 L115.668 809.435 L115.668 817.583 L111.015 817.583 L111.015 809.435 L95.4132 809.435 L95.4132 804.921 L109.788 783.023 Z\" fill=\"#000000\" fill-rule=\"nonzero\" fill-opacity=\"1\" /><path clip-path=\"url(#clip770)\" d=\"M63.2606 463.396 Q59.6495 463.396 57.8208 466.961 Q56.0152 470.502 56.0152 477.632 Q56.0152 484.738 57.8208 488.303 Q59.6495 491.845 63.2606 491.845 Q66.8948 491.845 68.7004 488.303 Q70.5291 484.738 70.5291 477.632 Q70.5291 470.502 68.7004 466.961 Q66.8948 463.396 63.2606 463.396 M63.2606 459.692 Q69.0707 459.692 72.1263 464.299 Q75.205 468.882 75.205 477.632 Q75.205 486.359 72.1263 490.965 Q69.0707 495.548 63.2606 495.548 Q57.4504 495.548 54.3717 490.965 Q51.3162 486.359 51.3162 477.632 Q51.3162 468.882 54.3717 464.299 Q57.4504 459.692 63.2606 459.692 Z\" fill=\"#000000\" fill-rule=\"nonzero\" fill-opacity=\"1\" /><path clip-path=\"url(#clip770)\" d=\"M83.4225 488.998 L88.3067 488.998 L88.3067 494.877 L83.4225 494.877 L83.4225 488.998 Z\" fill=\"#000000\" fill-rule=\"nonzero\" fill-opacity=\"1\" /><path clip-path=\"url(#clip770)\" d=\"M109.071 475.734 Q105.922 475.734 104.071 477.887 Q102.242 480.039 102.242 483.789 Q102.242 487.516 104.071 489.692 Q105.922 491.845 109.071 491.845 Q112.219 491.845 114.047 489.692 Q115.899 487.516 115.899 483.789 Q115.899 480.039 114.047 477.887 Q112.219 475.734 109.071 475.734 M118.353 461.081 L118.353 465.34 Q116.594 464.507 114.788 464.067 Q113.006 463.627 111.246 463.627 Q106.617 463.627 104.163 466.752 Q101.733 469.877 101.385 476.197 Q102.751 474.183 104.811 473.118 Q106.871 472.03 109.348 472.03 Q114.557 472.03 117.566 475.201 Q120.598 478.349 120.598 483.789 Q120.598 489.113 117.45 492.331 Q114.302 495.548 109.071 495.548 Q103.075 495.548 99.9039 490.965 Q96.7326 486.359 96.7326 477.632 Q96.7326 469.437 100.621 464.576 Q104.51 459.692 111.061 459.692 Q112.82 459.692 114.603 460.039 Q116.408 460.387 118.353 461.081 Z\" fill=\"#000000\" fill-rule=\"nonzero\" fill-opacity=\"1\" /><path clip-path=\"url(#clip770)\" d=\"M63.5152 140.69 Q59.9041 140.69 58.0754 144.254 Q56.2699 147.796 56.2699 154.926 Q56.2699 162.032 58.0754 165.597 Q59.9041 169.139 63.5152 169.139 Q67.1494 169.139 68.955 165.597 Q70.7837 162.032 70.7837 154.926 Q70.7837 147.796 68.955 144.254 Q67.1494 140.69 63.5152 140.69 M63.5152 136.986 Q69.3254 136.986 72.3809 141.592 Q75.4596 146.176 75.4596 154.926 Q75.4596 163.653 72.3809 168.259 Q69.3254 172.842 63.5152 172.842 Q57.7051 172.842 54.6264 168.259 Q51.5708 163.653 51.5708 154.926 Q51.5708 146.176 54.6264 141.592 Q57.7051 136.986 63.5152 136.986 Z\" fill=\"#000000\" fill-rule=\"nonzero\" fill-opacity=\"1\" /><path clip-path=\"url(#clip770)\" d=\"M83.6771 166.291 L88.5614 166.291 L88.5614 172.171 L83.6771 172.171 L83.6771 166.291 Z\" fill=\"#000000\" fill-rule=\"nonzero\" fill-opacity=\"1\" /><path clip-path=\"url(#clip770)\" d=\"M108.746 155.759 Q105.413 155.759 103.492 157.541 Q101.594 159.324 101.594 162.449 Q101.594 165.574 103.492 167.356 Q105.413 169.139 108.746 169.139 Q112.08 169.139 114.001 167.356 Q115.922 165.551 115.922 162.449 Q115.922 159.324 114.001 157.541 Q112.103 155.759 108.746 155.759 M104.071 153.768 Q101.061 153.028 99.3715 150.967 Q97.7048 148.907 97.7048 145.944 Q97.7048 141.801 100.645 139.393 Q103.608 136.986 108.746 136.986 Q113.908 136.986 116.848 139.393 Q119.788 141.801 119.788 145.944 Q119.788 148.907 118.098 150.967 Q116.432 153.028 113.445 153.768 Q116.825 154.555 118.7 156.847 Q120.598 159.139 120.598 162.449 Q120.598 167.472 117.52 170.157 Q114.464 172.842 108.746 172.842 Q103.029 172.842 99.9502 170.157 Q96.8947 167.472 96.8947 162.449 Q96.8947 159.139 98.7928 156.847 Q100.691 154.555 104.071 153.768 M102.358 146.384 Q102.358 149.069 104.024 150.574 Q105.714 152.079 108.746 152.079 Q111.756 152.079 113.445 150.574 Q115.158 149.069 115.158 146.384 Q115.158 143.699 113.445 142.194 Q111.756 140.69 108.746 140.69 Q105.714 140.69 104.024 142.194 Q102.358 143.699 102.358 146.384 Z\" fill=\"#000000\" fill-rule=\"nonzero\" fill-opacity=\"1\" /><polyline clip-path=\"url(#clip772)\" style=\"stroke:#009af9; stroke-linecap:round; stroke-linejoin:round; stroke-width:4; stroke-opacity:1; fill:none\" points=\"218.754,1445.72 239.681,1429.42 260.609,1413.12 281.537,1396.83 302.465,1380.54 323.392,1364.26 344.32,1347.99 365.248,1331.72 386.176,1315.47 407.103,1299.23 428.031,1283.01 448.959,1266.8 469.887,1250.61 490.814,1234.45 511.742,1218.3 532.67,1202.18 553.598,1186.08 574.525,1170 595.453,1153.96 616.381,1137.95 637.309,1121.96 658.236,1106.01 679.164,1090.1 700.092,1074.22 721.02,1058.38 741.947,1042.58 762.875,1026.81 783.803,1011.1 804.731,995.423 825.658,979.796 846.586,964.216 867.514,948.685 888.442,933.205 909.369,917.777 930.297,902.403 951.225,887.084 972.152,871.823 993.08,856.62 1014.01,841.477 1034.94,826.396 1055.86,811.378 1076.79,796.424 1097.72,781.537 1118.65,766.718 1139.57,751.968 1160.5,737.289 1181.43,722.682 1202.36,708.148 1223.29,693.69 1244.21,679.309 1265.14,665.006 1286.07,650.783 1307,636.64 1327.92,622.581 1348.85,608.605 1369.78,594.715 1390.71,580.911 1411.64,567.196 1432.56,553.57 1453.49,540.036 1474.42,526.593 1495.35,513.245 1516.27,499.992 1537.2,486.835 1558.13,473.776 1579.06,460.816 1599.98,447.957 1620.91,435.199 1641.84,422.545 1662.77,409.995 1683.7,397.551 1704.62,385.213 1725.55,372.984 1746.48,360.864 1767.41,348.855 1788.33,336.958 1809.26,325.174 1830.19,313.505 1851.12,301.95 1872.05,290.513 1892.97,279.193 1913.9,267.993 1934.83,256.912 1955.76,245.953 1976.68,235.116 1997.61,224.403 2018.54,213.815 2039.47,203.352 2060.4,193.016 2081.32,182.807 2102.25,172.728 2123.18,162.778 2144.11,152.96 2165.03,143.273 2185.96,133.719 2206.89,124.299 2227.82,115.014 2248.75,105.864 2269.67,96.8514 2290.6,87.9763 \"/>\n",
       "<polyline clip-path=\"url(#clip772)\" style=\"stroke:#e26f46; stroke-linecap:round; stroke-linejoin:round; stroke-width:4; stroke-opacity:1; fill:none\" points=\"218.754,1445.72 239.681,1445.72 260.609,1445.72 281.537,1445.72 302.465,1445.72 323.392,1445.72 344.32,1445.72 365.248,1445.72 386.176,1445.72 407.103,1445.72 428.031,1445.72 448.959,1445.72 469.887,1445.72 490.814,1445.72 511.742,1445.72 532.67,1445.72 553.598,1445.72 574.525,1445.72 595.453,1445.72 616.381,1445.72 637.309,1445.72 658.236,1445.72 679.164,1445.72 700.092,1445.72 721.02,1445.72 741.947,1445.72 762.875,1445.72 783.803,1445.72 804.731,1445.72 825.658,1445.72 846.586,1445.72 867.514,1445.72 888.442,1445.72 909.369,1445.72 930.297,1445.72 951.225,1445.72 972.152,1445.72 993.08,1445.72 1014.01,1445.72 1034.94,1445.72 1055.86,1445.72 1076.79,1445.72 1097.72,1445.72 1118.65,1445.72 1139.57,1445.72 1160.5,1445.72 1181.43,1445.72 1202.36,1445.72 1223.29,1445.72 1244.21,1445.72 1265.14,1445.72 1286.07,1445.72 1307,1445.72 1327.92,1445.72 1348.85,1445.72 1369.78,1445.72 1390.71,1445.72 1411.64,1445.72 1432.56,1445.72 1453.49,1445.72 1474.42,1445.72 1495.35,1445.72 1516.27,1445.72 1537.2,1445.72 1558.13,1445.72 1579.06,1445.72 1599.98,1445.72 1620.91,1445.72 1641.84,1445.72 1662.77,1445.72 1683.7,1445.72 1704.62,1445.72 1725.55,1445.72 1746.48,1445.72 1767.41,1445.72 1788.33,1445.72 1809.26,1445.72 1830.19,1445.72 1851.12,1445.72 1872.05,1445.72 1892.97,1445.72 1913.9,1445.72 1934.83,1445.72 1955.76,1445.72 1976.68,1445.72 1997.61,1445.72 2018.54,1445.72 2039.47,1445.72 2060.4,1445.72 2081.32,1445.72 2102.25,1445.72 2123.18,1445.72 2144.11,1445.72 2165.03,1445.72 2185.96,1445.72 2206.89,1445.72 2227.82,1445.72 2248.75,1445.72 2269.67,1445.72 2290.6,1445.72 \"/>\n",
       "<path clip-path=\"url(#clip770)\" d=\"M229.803 250.738 L769.58 250.738 L769.58 95.2176 L229.803 95.2176  Z\" fill=\"#ffffff\" fill-rule=\"evenodd\" fill-opacity=\"1\"/>\n",
       "<polyline clip-path=\"url(#clip770)\" style=\"stroke:#000000; stroke-linecap:round; stroke-linejoin:round; stroke-width:4; stroke-opacity:1; fill:none\" points=\"229.803,250.738 769.58,250.738 769.58,95.2176 229.803,95.2176 229.803,250.738 \"/>\n",
       "<polyline clip-path=\"url(#clip770)\" style=\"stroke:#009af9; stroke-linecap:round; stroke-linejoin:round; stroke-width:4; stroke-opacity:1; fill:none\" points=\"254.205,147.058 400.616,147.058 \"/>\n",
       "<path clip-path=\"url(#clip770)\" d=\"M443.443 139.176 L443.443 143.203 Q441.638 142.277 439.693 141.815 Q437.749 141.352 435.666 141.352 Q432.494 141.352 430.897 142.324 Q429.323 143.296 429.323 145.24 Q429.323 146.722 430.457 147.578 Q431.592 148.412 435.017 149.176 L436.476 149.5 Q441.013 150.472 442.911 152.254 Q444.832 154.014 444.832 157.185 Q444.832 160.796 441.962 162.902 Q439.115 165.009 434.115 165.009 Q432.031 165.009 429.763 164.592 Q427.517 164.199 425.018 163.388 L425.018 158.99 Q427.379 160.217 429.67 160.842 Q431.962 161.444 434.207 161.444 Q437.217 161.444 438.837 160.426 Q440.457 159.384 440.457 157.509 Q440.457 155.773 439.277 154.847 Q438.119 153.921 434.161 153.064 L432.68 152.717 Q428.721 151.884 426.962 150.171 Q425.203 148.435 425.203 145.426 Q425.203 141.768 427.795 139.778 Q430.388 137.787 435.156 137.787 Q437.517 137.787 439.601 138.134 Q441.684 138.481 443.443 139.176 Z\" fill=\"#000000\" fill-rule=\"nonzero\" fill-opacity=\"1\" /><path clip-path=\"url(#clip770)\" d=\"M451.615 138.412 L455.874 138.412 L455.874 164.338 L451.615 164.338 L451.615 138.412 M451.615 128.319 L455.874 128.319 L455.874 133.713 L451.615 133.713 L451.615 128.319 Z\" fill=\"#000000\" fill-rule=\"nonzero\" fill-opacity=\"1\" /><path clip-path=\"url(#clip770)\" d=\"M486.337 148.689 L486.337 164.338 L482.077 164.338 L482.077 148.828 Q482.077 145.148 480.642 143.319 Q479.207 141.49 476.337 141.49 Q472.888 141.49 470.897 143.69 Q468.906 145.889 468.906 149.685 L468.906 164.338 L464.624 164.338 L464.624 138.412 L468.906 138.412 L468.906 142.44 Q470.434 140.102 472.494 138.944 Q474.577 137.787 477.286 137.787 Q481.753 137.787 484.045 140.565 Q486.337 143.319 486.337 148.689 Z\" fill=\"#000000\" fill-rule=\"nonzero\" fill-opacity=\"1\" /><path clip-path=\"url(#clip770)\" d=\"M514.531 172.208 L514.531 175.518 L489.901 175.518 L489.901 172.208 L514.531 172.208 Z\" fill=\"#000000\" fill-rule=\"nonzero\" fill-opacity=\"1\" /><path clip-path=\"url(#clip770)\" d=\"M540.086 148.689 L540.086 164.338 L535.827 164.338 L535.827 148.828 Q535.827 145.148 534.392 143.319 Q532.957 141.49 530.086 141.49 Q526.637 141.49 524.647 143.69 Q522.656 145.889 522.656 149.685 L522.656 164.338 L518.373 164.338 L518.373 138.412 L522.656 138.412 L522.656 142.44 Q524.184 140.102 526.244 138.944 Q528.327 137.787 531.035 137.787 Q535.503 137.787 537.795 140.565 Q540.086 143.319 540.086 148.689 Z\" fill=\"#000000\" fill-rule=\"nonzero\" fill-opacity=\"1\" /><path clip-path=\"url(#clip770)\" d=\"M558.813 128.366 Q555.711 133.69 554.207 138.898 Q552.702 144.106 552.702 149.453 Q552.702 154.801 554.207 160.055 Q555.734 165.287 558.813 170.588 L555.109 170.588 Q551.637 165.148 549.901 159.893 Q548.188 154.639 548.188 149.453 Q548.188 144.291 549.901 139.06 Q551.614 133.828 555.109 128.366 L558.813 128.366 Z\" fill=\"#000000\" fill-rule=\"nonzero\" fill-opacity=\"1\" /><path clip-path=\"url(#clip770)\" d=\"M588.628 138.412 L579.253 151.027 L589.114 164.338 L584.091 164.338 L576.544 154.152 L568.998 164.338 L563.975 164.338 L574.044 150.773 L564.832 138.412 L569.855 138.412 L576.73 147.648 L583.605 138.412 L588.628 138.412 Z\" fill=\"#000000\" fill-rule=\"nonzero\" fill-opacity=\"1\" /><path clip-path=\"url(#clip770)\" d=\"M596.22 158.458 L601.105 158.458 L601.105 162.439 L597.308 169.847 L594.322 169.847 L596.22 162.439 L596.22 158.458 Z\" fill=\"#000000\" fill-rule=\"nonzero\" fill-opacity=\"1\" /><path clip-path=\"url(#clip770)\" d=\"M631.753 148.689 L631.753 164.338 L627.493 164.338 L627.493 148.828 Q627.493 145.148 626.058 143.319 Q624.623 141.49 621.753 141.49 Q618.304 141.49 616.313 143.69 Q614.322 145.889 614.322 149.685 L614.322 164.338 L610.04 164.338 L610.04 138.412 L614.322 138.412 L614.322 142.44 Q615.85 140.102 617.91 138.944 Q619.993 137.787 622.702 137.787 Q627.169 137.787 629.461 140.565 Q631.753 143.319 631.753 148.689 Z\" fill=\"#000000\" fill-rule=\"nonzero\" fill-opacity=\"1\" /><path clip-path=\"url(#clip770)\" d=\"M639.577 128.366 L643.28 128.366 Q646.752 133.828 648.465 139.06 Q650.201 144.291 650.201 149.453 Q650.201 154.639 648.465 159.893 Q646.752 165.148 643.28 170.588 L639.577 170.588 Q642.655 165.287 644.16 160.055 Q645.688 154.801 645.688 149.453 Q645.688 144.106 644.16 138.898 Q642.655 133.69 639.577 128.366 Z\" fill=\"#000000\" fill-rule=\"nonzero\" fill-opacity=\"1\" /><polyline clip-path=\"url(#clip770)\" style=\"stroke:#e26f46; stroke-linecap:round; stroke-linejoin:round; stroke-width:4; stroke-opacity:1; fill:none\" points=\"254.205,198.898 400.616,198.898 \"/>\n",
       "<path clip-path=\"url(#clip770)\" d=\"M443.443 191.016 L443.443 195.043 Q441.638 194.117 439.693 193.655 Q437.749 193.192 435.666 193.192 Q432.494 193.192 430.897 194.164 Q429.323 195.136 429.323 197.08 Q429.323 198.562 430.457 199.418 Q431.592 200.252 435.017 201.016 L436.476 201.34 Q441.013 202.312 442.911 204.094 Q444.832 205.854 444.832 209.025 Q444.832 212.636 441.962 214.742 Q439.115 216.849 434.115 216.849 Q432.031 216.849 429.763 216.432 Q427.517 216.039 425.018 215.228 L425.018 210.83 Q427.379 212.057 429.67 212.682 Q431.962 213.284 434.207 213.284 Q437.217 213.284 438.837 212.266 Q440.457 211.224 440.457 209.349 Q440.457 207.613 439.277 206.687 Q438.119 205.761 434.161 204.904 L432.68 204.557 Q428.721 203.724 426.962 202.011 Q425.203 200.275 425.203 197.266 Q425.203 193.608 427.795 191.618 Q430.388 189.627 435.156 189.627 Q437.517 189.627 439.601 189.974 Q441.684 190.321 443.443 191.016 Z\" fill=\"#000000\" fill-rule=\"nonzero\" fill-opacity=\"1\" /><path clip-path=\"url(#clip770)\" d=\"M451.615 190.252 L455.874 190.252 L455.874 216.178 L451.615 216.178 L451.615 190.252 M451.615 180.159 L455.874 180.159 L455.874 185.553 L451.615 185.553 L451.615 180.159 Z\" fill=\"#000000\" fill-rule=\"nonzero\" fill-opacity=\"1\" /><path clip-path=\"url(#clip770)\" d=\"M486.337 200.529 L486.337 216.178 L482.077 216.178 L482.077 200.668 Q482.077 196.988 480.642 195.159 Q479.207 193.33 476.337 193.33 Q472.888 193.33 470.897 195.53 Q468.906 197.729 468.906 201.525 L468.906 216.178 L464.624 216.178 L464.624 190.252 L468.906 190.252 L468.906 194.28 Q470.434 191.942 472.494 190.784 Q474.577 189.627 477.286 189.627 Q481.753 189.627 484.045 192.405 Q486.337 195.159 486.337 200.529 Z\" fill=\"#000000\" fill-rule=\"nonzero\" fill-opacity=\"1\" /><path clip-path=\"url(#clip770)\" d=\"M514.531 224.048 L514.531 227.358 L489.901 227.358 L489.901 224.048 L514.531 224.048 Z\" fill=\"#000000\" fill-rule=\"nonzero\" fill-opacity=\"1\" /><path clip-path=\"url(#clip770)\" d=\"M540.086 200.529 L540.086 216.178 L535.827 216.178 L535.827 200.668 Q535.827 196.988 534.392 195.159 Q532.957 193.33 530.086 193.33 Q526.637 193.33 524.647 195.53 Q522.656 197.729 522.656 201.525 L522.656 216.178 L518.373 216.178 L518.373 190.252 L522.656 190.252 L522.656 194.28 Q524.184 191.942 526.244 190.784 Q528.327 189.627 531.035 189.627 Q535.503 189.627 537.795 192.405 Q540.086 195.159 540.086 200.529 Z\" fill=\"#000000\" fill-rule=\"nonzero\" fill-opacity=\"1\" /><path clip-path=\"url(#clip770)\" d=\"M568.281 224.048 L568.281 227.358 L543.651 227.358 L543.651 224.048 L568.281 224.048 Z\" fill=\"#000000\" fill-rule=\"nonzero\" fill-opacity=\"1\" /><path clip-path=\"url(#clip770)\" d=\"M572.285 190.252 L576.544 190.252 L576.544 216.178 L572.285 216.178 L572.285 190.252 M572.285 180.159 L576.544 180.159 L576.544 185.553 L572.285 185.553 L572.285 180.159 Z\" fill=\"#000000\" fill-rule=\"nonzero\" fill-opacity=\"1\" /><path clip-path=\"url(#clip770)\" d=\"M607.007 200.529 L607.007 216.178 L602.748 216.178 L602.748 200.668 Q602.748 196.988 601.313 195.159 Q599.878 193.33 597.007 193.33 Q593.558 193.33 591.568 195.53 Q589.577 197.729 589.577 201.525 L589.577 216.178 L585.294 216.178 L585.294 190.252 L589.577 190.252 L589.577 194.28 Q591.105 191.942 593.165 190.784 Q595.248 189.627 597.956 189.627 Q602.424 189.627 604.716 192.405 Q607.007 195.159 607.007 200.529 Z\" fill=\"#000000\" fill-rule=\"nonzero\" fill-opacity=\"1\" /><path clip-path=\"url(#clip770)\" d=\"M612.447 190.252 L616.961 190.252 L625.063 212.011 L633.165 190.252 L637.678 190.252 L627.956 216.178 L622.169 216.178 L612.447 190.252 Z\" fill=\"#000000\" fill-rule=\"nonzero\" fill-opacity=\"1\" /><path clip-path=\"url(#clip770)\" d=\"M653.789 180.206 Q650.688 185.53 649.183 190.738 Q647.678 195.946 647.678 201.293 Q647.678 206.641 649.183 211.895 Q650.711 217.127 653.789 222.428 L650.086 222.428 Q646.614 216.988 644.877 211.733 Q643.164 206.479 643.164 201.293 Q643.164 196.131 644.877 190.9 Q646.59 185.668 650.086 180.206 L653.789 180.206 Z\" fill=\"#000000\" fill-rule=\"nonzero\" fill-opacity=\"1\" /><path clip-path=\"url(#clip770)\" d=\"M683.604 190.252 L674.229 202.867 L684.09 216.178 L679.067 216.178 L671.521 205.992 L663.975 216.178 L658.951 216.178 L669.021 202.613 L659.808 190.252 L664.831 190.252 L671.706 199.488 L678.581 190.252 L683.604 190.252 Z\" fill=\"#000000\" fill-rule=\"nonzero\" fill-opacity=\"1\" /><path clip-path=\"url(#clip770)\" d=\"M691.197 210.298 L696.081 210.298 L696.081 214.279 L692.285 221.687 L689.298 221.687 L691.197 214.279 L691.197 210.298 Z\" fill=\"#000000\" fill-rule=\"nonzero\" fill-opacity=\"1\" /><path clip-path=\"url(#clip770)\" d=\"M726.729 200.529 L726.729 216.178 L722.47 216.178 L722.47 200.668 Q722.47 196.988 721.034 195.159 Q719.599 193.33 716.729 193.33 Q713.28 193.33 711.289 195.53 Q709.298 197.729 709.298 201.525 L709.298 216.178 L705.016 216.178 L705.016 190.252 L709.298 190.252 L709.298 194.28 Q710.826 191.942 712.886 190.784 Q714.97 189.627 717.678 189.627 Q722.146 189.627 724.437 192.405 Q726.729 195.159 726.729 200.529 Z\" fill=\"#000000\" fill-rule=\"nonzero\" fill-opacity=\"1\" /><path clip-path=\"url(#clip770)\" d=\"M734.553 180.206 L738.257 180.206 Q741.729 185.668 743.442 190.9 Q745.178 196.131 745.178 201.293 Q745.178 206.479 743.442 211.733 Q741.729 216.988 738.257 222.428 L734.553 222.428 Q737.632 217.127 739.136 211.895 Q740.664 206.641 740.664 201.293 Q740.664 195.946 739.136 190.738 Q737.632 185.53 734.553 180.206 Z\" fill=\"#000000\" fill-rule=\"nonzero\" fill-opacity=\"1\" /></svg>\n"
      ]
     },
     "execution_count": 49,
     "metadata": {},
     "output_type": "execute_result"
    }
   ],
   "source": [
    "#5 comparar sin_n y sin_n_inv\n",
    "x = range(0,1, length=100)\n",
    "y1 = sin_n.(x,8)\n",
    "y2 = sin_n_inv.(x,8) \n",
    "plot(x, [y1 y2],label=[\"sin_n(x,n)\" \"sin_n_inv(x,n)\"])"
   ]
  },
  {
   "cell_type": "markdown",
   "metadata": {},
   "source": [
    "### Problema 14\n",
    "\n",
    "1. Escriba un programa que calcule la posición y la velocidad en función del tiempo para un problema de tiro oblicuo. El programa debe asumiendo que el proyectil parte del origen, y debe tomar como datos de entrada el ángulo $\\theta$ (en grados) y la rapidéz inicial $v_0$ (en m/seg.) del proyectil.\n",
    "\n",
    "2. Calcule la trayectoria para $\\theta=°30$ y $v_0=50\\, m/s$. Elija el incremento temporal ($\\Delta t$) de manera que eventualmente pueda graficar una trajectoria con 600 puntos en el intervalo entre el disparo y el instante $T$ en que el proyectil vuelve a tener altura 0. \n",
    "\n",
    "3. En una figura grafique $x(t)$, $y(t)$ y $v_y(t)$ en función de $t$. \n",
    "\n",
    "4. En otra figura grafique la trayectoria del proyectil.\n",
    "\n",
    "**Ayuda:** para plotear puntos o curvas, lea [https://docs.juliaplots.org/latest/tutorial/](https://docs.juliaplots.org/latest/tutorial/)."
   ]
  },
  {
   "cell_type": "code",
   "execution_count": null,
   "metadata": {},
   "outputs": [],
   "source": []
  },
  {
   "cell_type": "code",
   "execution_count": null,
   "metadata": {},
   "outputs": [],
   "source": []
  },
  {
   "cell_type": "markdown",
   "metadata": {},
   "source": [
    "### Problema 15\n",
    "\n",
    "Escriba un programa para calcular un valor aproximado de $\\pi$ utilizando los siguientes métodos.\n",
    "\n",
    "1. La fórmula recurrente de Arquímedes, que  acota $\\pi$ entre $p_n$ y $P_n$, con $p_n < \\pi < P_n$, siendo $p_n$ y $P_n$ los perímetros de los polígonos regulares de $n$ lados inscriptos y circunscriptos, respectivamente, en la circunsferencia de radio $1/2$. \n",
    "\n",
    "    La fórmula de recurrencia que encontró Arquímides es la siguiente:\n",
    "    \n",
    "    $$\n",
    "    \\begin{align}\n",
    "    P_{2n} &= \\frac{2 p_n P_n}{p_n + P_n} \\\\\n",
    "    p_{2n} &= \\sqrt{P_{2n} p_n} \n",
    "    \\end{align}\n",
    "    $$\n",
    "    \n",
    "    Usando los valores $P_6=2\\sqrt{3}$ y $p_6 = 3$, correspondientes al hexágono, escriba un programa que realice 20 iteraciones recorriendo $k=0,1,..., 20$, y escriba los resultados en pantalla de $k$, $n=6\\times 2^k$, $p_n$, $P_n$, la aproximación $\\pi_n = (p_n+P_n)/2$ y el error $|\\pi_n-\\pi|$.\n",
    "\n",
    "2. La productoria de Wallis\n",
    "\n",
    "    $$\n",
    "    \\frac{\\pi}{2} = \\prod_{n=1}^\\infty \\frac{(2n)^2}{(2n)^2-1} = \\frac43\\frac{16}{15}\\frac{36}{35}\\frac{64}{63}\\dots \n",
    "    $$\n",
    "    \n",
    "    truncando la productoria a $10^6$ factores."
   ]
  },
  {
   "cell_type": "code",
   "execution_count": null,
   "metadata": {},
   "outputs": [],
   "source": []
  },
  {
   "cell_type": "markdown",
   "metadata": {},
   "source": [
    "### Problema 16\n",
    "\n",
    "La fórmula cuadrática nos dice que las raíces de $ax^2 + bx + c = 0$ son\n",
    "\n",
    "$$\n",
    "x_1 = \\frac{-b+\\sqrt{b^2-4ac}}{2a},\n",
    "\\;\\;\\;\\;\n",
    "x_2 = \\frac{-b-\\sqrt{b^2-4ac}}{2a}\n",
    "$$\n",
    "\n",
    "Si $b^2 \\gg 4ac$, cálculo de $x_1$ involucra en el numerador la sustracción de dos números casi iguales cuando $b>0$, y ocurre para el cálculo de $x_2$ cuando $b<0$.\n",
    "La división por números gigantes suele generar errores numéricos severos.\n",
    "Para solucionar este problema, conviene *racionalizar los numeradores* en cuestión.\n",
    "Más precisamente, conviene calcular la raíz $x_1$ usando la expresión\n",
    "\n",
    "$$\n",
    "x_1 = \\frac{-b+\\sqrt{b^2-4ac}}{2a} \\frac{-b-\\sqrt{b^2-4ac}}{-b-\\sqrt{b^2-4ac}} = \\frac{-2c}{b+\\sqrt{b^2-4ac}}\n",
    "$$\n",
    "\n",
    "cuando $b>0$, y conviene calcular la raíz $x_2$ usando la expresión\n",
    "\n",
    "$$\n",
    "x_2 = \\frac{-b-\\sqrt{b^2-4ac}}{2a} \\frac{-b+\\sqrt{b^2-4ac}}{-b+\\sqrt{b^2-4ac}} = \\frac{2c}{-b+\\sqrt{b^2-4ac}}\n",
    "$$\n",
    "\n",
    "cuando $b<0$.\n",
    "\n",
    "1. Implemente una función que utilice las fórmulas usuales para calcular las raices $x_1$ y $x_2$.\n",
    "\n",
    "2. Implemente otra función que utilice las fórmulas *racionalizadas* para calcular las raíces $x_1$ y $x_2$.\n",
    "\n",
    "3. Implemente una función que calcule las raíces $x_1$ y $x_2$ evaluando la condición $b>0$ para decidir que fórmula utilizar en cada caso.\n",
    "\n",
    "4. Utilice las funciones de los incisos anteriores para encontrar aproximaciones numéricas a las raíces de las ecuaciónes\n",
    "\n",
    "   a) $x^2 + 6210x + 1 = 0$\n",
    "\n",
    "   b) $x^2 - 6210x + 1 = 0$\n",
    "\n",
    "5. Repita el inciso anterior para precisión simple.\n",
    "\n",
    "6. Describa lo observado."
   ]
  },
  {
   "cell_type": "code",
   "execution_count": null,
   "metadata": {},
   "outputs": [],
   "source": []
  },
  {
   "cell_type": "markdown",
   "metadata": {},
   "source": [
    "**6.**\n",
    "Bla bla bla..."
   ]
  }
 ],
 "metadata": {
  "@webio": {
   "lastCommId": null,
   "lastKernelId": null
  },
  "kernelspec": {
   "display_name": "Julia 1.10.2",
   "language": "julia",
   "name": "julia-1.10"
  },
  "language_info": {
   "file_extension": ".jl",
   "mimetype": "application/julia",
   "name": "julia",
   "version": "1.10.2"
  }
 },
 "nbformat": 4,
 "nbformat_minor": 4
}
