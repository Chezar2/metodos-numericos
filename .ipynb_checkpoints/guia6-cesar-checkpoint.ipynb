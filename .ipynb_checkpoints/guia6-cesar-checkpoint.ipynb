{
 "cells": [
  {
   "cell_type": "markdown",
   "metadata": {},
   "source": [
    "# Métodos Numéricos (2024)\n",
    "\n",
    "## Guía 6: Integración Numérica"
   ]
  },
  {
   "cell_type": "code",
   "execution_count": 1,
   "metadata": {},
   "outputs": [],
   "source": [
    "using Plots\n",
    "using LaTeXStrings\n",
    "#import Pkg; Pkg.add(\"DataFrames\")\n",
    "using DataFrames"
   ]
  },
  {
   "cell_type": "markdown",
   "metadata": {},
   "source": [
    "## Problema 1\n",
    "1. Haciendo los calculos a mano y trabajando con 7 cifras significativas, encuentre las aproximaciones a las integrales definidas:\n",
    "\n",
    "    a. $I_1 = \\int_0^1 x^4 dx$\n",
    "\n",
    "    b. $I_2 = \\int_0^{\\pi} \\sin{(x)} dx$\n",
    "\n",
    "utilizando las reglas simples de *i) punto medio*, *ii) trapecio* y *iii) Simpson*. \n",
    "\n",
    "2. Calcule el error absoluto y el error relativo en cada caso y para cada método."
   ]
  },
  {
   "cell_type": "markdown",
   "metadata": {},
   "source": [
    "**Teoría**\n",
    "\n",
    "La regla simple del punto medio es:\n",
    "$$\n",
    "\\int_a^b dx\\, f(x) \\approx (b-a)f\\bigg(\\frac{a+b}{2}\\bigg)\n",
    "$$\n",
    "\n",
    "La regla simple del trapecio es:\n",
    "$$\n",
    "\\int_a^b dx\\, f(x) \\approx \\frac{b-a}{2}\\bigg(f(a) + f(b)\\bigg)\n",
    "$$\n",
    "\n",
    "La regla simple de Simpson es:\n",
    "$$\n",
    "\\int_a^b dx\\, f(x) \\approx \\frac{b-a}{6}\\bigg(f(a) + 4f\\bigg(\\frac{a+b}{2}\\bigg) + f(b)\\bigg)\n",
    "$$"
   ]
  },
  {
   "cell_type": "code",
   "execution_count": 2,
   "metadata": {},
   "outputs": [
    {
     "data": {
      "text/plain": [
       "simpson (generic function with 1 method)"
      ]
     },
     "execution_count": 2,
     "metadata": {},
     "output_type": "execute_result"
    }
   ],
   "source": [
    "#funciones para luego\n",
    "function punto_medio(f,a,b)\n",
    "    t=(b-a)*(f((a+b)/2))\n",
    "    return t\n",
    "end\n",
    "function trapecio(f,a,b)\n",
    "    t=((b-a)/2)*(f(a)+f(b))\n",
    "    return t\n",
    "end\n",
    "function simpson(f,a,b)\n",
    "    t=(b-a)/6 *(f(a)+4*(f((b+a)/2))+f(b))\n",
    "    return t\n",
    "end"
   ]
  },
  {
   "cell_type": "code",
   "execution_count": 3,
   "metadata": {},
   "outputs": [
    {
     "name": "stdout",
     "output_type": "stream",
     "text": [
      "I1: punto medio: 0.0625, trapecio:0.0, simpson:0.20833333333333331\n",
      "I2: punto medio: 3.141592653589793, trapecio:1.5707963267948966, simpson:2.0943951023931953\n"
     ]
    }
   ],
   "source": [
    "setprecision(7) # para trabajar con esa presición  ^2\n",
    "#I1\n",
    "#punto medio:\n",
    "I11=(1)*((1/2)^4)\n",
    "#trapecio\n",
    "I12=(1/2)*(sin(π)+sin(0))\n",
    "#simpson\n",
    "I13=(1/6)*(0+4*((1/2)^4)+(1^4))\n",
    "\n",
    "#I2\n",
    "#punto medio:\n",
    "I21=(π)*(sin(π/2))\n",
    "#trapecio\n",
    "I22=(π/2)*(1^4)\n",
    "#simpson\n",
    "I23=(π/6)*(sin(0)+4*(sin(π/2))+(sin(π)))\n",
    "\n",
    "println(\"I1: punto medio: $(I11), trapecio:$(I12), simpson:$(I13)\")#la exacta es 0.2\n",
    "println(\"I2: punto medio: $(I21), trapecio:$(I22), simpson:$(I23)\")#la exacta es 2"
   ]
  },
  {
   "cell_type": "code",
   "execution_count": 4,
   "metadata": {},
   "outputs": [
    {
     "name": "stdout",
     "output_type": "stream",
     "text": [
      "I1: E_punto medio: 0.1375, E_trapecio:0.2, E_simpson:0.008333333333333304\n",
      "I2: E_punto medio: 2.941592653589793, E_trapecio:1.3707963267948966, E_simpson:1.8943951023931953\n"
     ]
    }
   ],
   "source": [
    "#calculo de error\n",
    "#setprecision(7)\n",
    "I1=(1.0/5.0)\n",
    "I2=1.0\n",
    "function error1(a)\n",
    "   return abs(a-I1) \n",
    "end\n",
    "function error2(a)\n",
    "   return abs(a-I1) \n",
    "end\n",
    "#acá me compliqué un poco, pero son unas funciones que sacan el error restando lo calculado manualmente I1,I2 (valor real)\n",
    "#con el valor aproximado los sacados por los metodos I11,I12,etc.\n",
    "println(\"I1: E_punto medio: $(error1(I11)), E_trapecio:$(error1(I12)), E_simpson:$(error1(I13))\")\n",
    "println(\"I2: E_punto medio: $(error2(I21)), E_trapecio:$(error2(I22)), E_simpson:$(error2(I23))\")#comparar con alguien, no se si está bien"
   ]
  },
  {
   "cell_type": "markdown",
   "metadata": {},
   "source": [
    "## Problema 2\n",
    "\n",
    "1. Repita el problema 1 dividiendo el intervalo de integración en dos subintervalos de igual tamaño. Es decir:\n",
    "\n",
    "    a. $I_1=\\int_0^{1/2} x^4 dx+ \\int_{1/2}^1 x^4 dx$\n",
    "\n",
    "    b. $I_2=\\int_0^{\\pi/2}\\sin{(x)}dx+\\int_{\\pi/2}^{\\pi}\\sin{(x)} dx$\n",
    "\n",
    "2. Compare resultados con lo obtenido en el problema 1."
   ]
  },
  {
   "cell_type": "code",
   "execution_count": 5,
   "metadata": {},
   "outputs": [
    {
     "name": "stdout",
     "output_type": "stream",
     "text": [
      "I1: punto medio: 0.16015625, trapecio:0.28125, simpson:0.20052083333333331\n",
      "I2: punto medio: 2.221441469079183, trapecio:1.5707963267948966, simpson:2.0045597549844207\n"
     ]
    }
   ],
   "source": [
    "#1a\n",
    "#I1\n",
    "f(x)=x^4\n",
    "I11=punto_medio(f,0,0.5)+punto_medio(f,0.5,1)\n",
    "I12=trapecio(f,0,0.5)+trapecio(f,0.5,1)\n",
    "I13=simpson(f,0,0.5)+simpson(f,0.5,1)\n",
    "#I2\n",
    "f(x)=sin(x) #reescribo f para no tener q cambiar codigo\n",
    "I21=punto_medio(f,0,π/2)+punto_medio(f,π/2,π)\n",
    "I22=trapecio(f,0,π/2)+trapecio(f,π/2,π)\n",
    "I23=simpson(f,0,π/2)+simpson(f,π/2,π)\n",
    "#imprimo todo\n",
    "println(\"I1: punto medio: $(I11), trapecio:$(I12), simpson:$(I13)\") #salieron bien creo, la exacta es 0.2\n",
    "println(\"I2: punto medio: $(I21), trapecio:$(I22), simpson:$(I23)\") #la exacta es 2"
   ]
  },
  {
   "cell_type": "markdown",
   "metadata": {},
   "source": [
    "## Problema 3\n",
    "1. Construya funciones que dada una función arbitraria, retornen  las aproximaciones numéricas $S_M$, $S_T$ y $S_S$ a una integral de la forma\n",
    "$$\n",
    "I = \\int_a ^b f(x) dx\n",
    "$$\n",
    "utilizando las reglas compuestas del *punto medio*, del *trapecio* y de *Simpson*, respectivamente.\n",
    "Las funciones deben evaluar el integrando $f(x)$ en $n+1$ puntos equiespaciados $x_i$ para $i=0,1,2,...,n$ y con espaciamiento $h=(b-a)/n$.\n",
    "En el caso del punto medio, se evalúa en los $x_i+h/2$ para $i=0,1,...,n-1$.\n",
    "\n",
    "2. Calcule $S_M$, $S_T$ y $S_S$ para la integral:\n",
    "$$\n",
    "I = \\int _0 ^1 e^{-x} dx\n",
    "$$\n",
    "Utilice un espaciamiento $h_1=0.05$ em ambos casos. Luego repita el procedimiento disminuyendo su \n",
    "espaciamiento a la mitad, $h_2=h_1/2=0.025$.\n",
    "\n",
    "3. Teniendo en cuenta que es posible conocer el resultado exacto de la integral en cuestión, evalúe el error\n",
    "$\\varepsilon(h)=|S-I|$, para $h=0.05$ y $h=0.025$ para los tres métodos de aproximación.\n",
    "Verifique que el cociente de precisión, definido como \n",
    "$$\n",
    "Q = \\frac{\\varepsilon(h)}{\\varepsilon(h/2)}\n",
    "$$\n",
    "toma un valor aproximado a $4$ cuando se usa la regla del *punto medio* y del *trapecio*, y un valor aproximado a $16$ cuando se usa la regla de *Simpson*. \n",
    "Teniendo en cuenta la expresión del error de truncamiento en cada caso, justifique este resultado.\n",
    "\n",
    "**Consejo:** tener cuidado con *Simpson* en elegir siempre un número par de intervalos, i.e, un número impar de puntos. Pruebe con una integral conocida, qué resultados da cuando usa un número impar de intervalos. Incluya en la función para dicho método un chequeo de que el número de puntos sea par."
   ]
  },
  {
   "cell_type": "code",
   "execution_count": 6,
   "metadata": {},
   "outputs": [
    {
     "data": {
      "text/plain": [
       "segundo_generador_puntos_equispaciados (generic function with 1 method)"
      ]
     },
     "execution_count": 6,
     "metadata": {},
     "output_type": "execute_result"
    }
   ],
   "source": [
    "#3.1\n",
    "function primer_generador_puntos_equispaciados(a,b,n) #tengo que hacer dos //con n intervalos\n",
    "    puntos=zeros(n+1)\n",
    "    h=(b-a)/n\n",
    "    puntos[1]=a\n",
    "    for i in 2:(n+1)\n",
    "        puntos[i]= puntos[i-1]+h #vos aumentado el valor con h\n",
    "    end\n",
    "    return puntos\n",
    "end\n",
    "function segundo_generador_puntos_equispaciados(a,b,n) #solo n-1 intervalos\n",
    "    puntos=zeros(n)\n",
    "    h=(b-a)/(n) #es h/2\n",
    "    puntos[1]=a\n",
    "    for i in 2:(n)\n",
    "        puntos[i]= puntos[i-1]+h #vos aumentado el valor con h\n",
    "    end\n",
    "    return puntos\n",
    "end\n",
    "     #   #generador_puntos_equispaciados(0,10,4) #funciona bien"
   ]
  },
  {
   "cell_type": "code",
   "execution_count": 29,
   "metadata": {},
   "outputs": [
    {
     "data": {
      "text/plain": [
       "S_s (generic function with 1 method)"
      ]
     },
     "execution_count": 29,
     "metadata": {},
     "output_type": "execute_result"
    }
   ],
   "source": [
    "#como al principio ya habia armado las funciones que calcula la intergral entres dos puntos, \n",
    "#ahora solo me queda armar una funcion que las llame por pequeños intervalos (con los puntos recien generados como extremos)\n",
    "#y sume los valores, para tener la integral total de la funcion elegida.\n",
    "#=function S_M(f,a,b,n)#n es la cantidad de intervalos que quiero\n",
    "    puntos=segundo_generador_puntos_equispaciados(a,b,n) #llamo la funcion creadora de puntos\n",
    "    suma=0.0\n",
    "    for i in 1:(n-1) # le resto uno para que no de error en la ultima iteración, por usar [i+1]\n",
    "    suma+=punto_medio(f,puntos[i],puntos[i+1]) #voy sumando las integrales en cada intervalo\n",
    "    end\n",
    "    return suma\n",
    "end =#\n",
    "function S_m(f,a,b,n)\n",
    "    h=(b-a)/n\n",
    "    x=zeros(n+1)\n",
    "    x[1]=a\n",
    "    ls=[]\n",
    "    for i in 1:n\n",
    "        x[i+1]=x[i]+h\n",
    "        I=punto_medio(f,x[i],x[i+1]) \n",
    "        push!(ls,I)\n",
    "    end\n",
    "    return sum(ls)\n",
    "end\n",
    "function S_T(f,a,b,n)#n es la cantidad de intervalos que quiero\n",
    "    puntos=primer_generador_puntos_equispaciados(a,b,n) #llamo la funcion creadora de puntos\n",
    "    suma=0.0\n",
    "    for i in 1:(n) # le resto uno para que no de error en la ultima iteración, por usar [i+1]\n",
    "    suma+=trapecio(f,puntos[i],puntos[i+1]) #voy sumando las integrales en cada intervalo\n",
    "    end\n",
    "    return suma\n",
    "end\n",
    "#=function S_S(f,a,b,n)#n es la cantidad de intervalos que quiero\n",
    "    puntos=primer_generador_puntos_equispaciados(a,b,n) #llamo la funcion creadora de puntos\n",
    "    suma=0.0\n",
    "    if n%2==1\n",
    "        println(\"es impar rey\")\n",
    "        return 0\n",
    "    else\n",
    "        for i in 1:n # le resto uno para que no de error en la ultima iteración, por usar [i+1]\n",
    "        suma+=simpson(f,puntos[i],puntos[i+1]) #voy sumando las integrales en cada intervalo\n",
    "        end\n",
    "        return suma\n",
    "    end\n",
    "end =#\n",
    "function S_s(f,a,b,n)\n",
    "    h=(b-a)/n\n",
    "    x=zeros(n+1)\n",
    "    x[1]=a\n",
    "    ls=[]\n",
    "    if n%2==1\n",
    "        return printl(\"nono\")\n",
    "    else\n",
    "    end\n",
    "        for i in 1:n\n",
    "        x[i+1]=x[i]+h\n",
    "        I = (x[i+1] - x[i])/6 * (f(x[i]) + 4 * f((x[i] + x[i+1])/2) + f(x[i+1]))\n",
    "        #I=simpson(f,x[i],x[i+1])\n",
    "         push!(ls,I)\n",
    "    end\n",
    "           return sum(ls)\n",
    "end\n",
    "#=\"                   ## otro método ##                     \"\n",
    "function SS(a,b,n,f)\n",
    "    @assert(n%2 == 0)\n",
    "    h = (b-a)/n\n",
    "    sp = 0\n",
    "    si = 0\n",
    "    for j in 1:((n/2)-1)\n",
    "        sp = sp + f(a + h*2j)\n",
    "    end\n",
    "     for j in 1:(n/2)\n",
    "        si = si + f(a + h*(2*j-1))\n",
    "    end\n",
    "    I = (h/3)*(f(a)+2*sp+4*si+f(b))\n",
    "    return I \n",
    "end =# # funcion  igual al otro"
   ]
  },
  {
   "cell_type": "code",
   "execution_count": 30,
   "metadata": {},
   "outputs": [
    {
     "name": "stdout",
     "output_type": "stream",
     "text": [
      "con n=20 (o sea h=0.05)\n",
      "primer metodo: 0.6320547177379595, segundo: 0.6322522451248159, tercero: 0.632120560200245, valor real: 0.63212\n",
      "con n=40 (o sea h=0.025)\n",
      "primer metodo: 0.6321040976557458, segundo: 0.6321534814313879, tercero: 0.632120558914293, valor real: 0.63212\n"
     ]
    }
   ],
   "source": [
    "#3.2\n",
    "#como me pide un esparcimiento de h1=0.05 -> n=20, en h2=h1/2->n=40\n",
    "f(x)=exp(-1*x)\n",
    "a=0.0\n",
    "b=1.0\n",
    "n=20\n",
    "i1=S_m(f,a,b,n)\n",
    "i2=S_T(f,a,b,n)\n",
    "i3=S_s(f,a,b,n) #simpson tiene que usar par cantidad de intervalos\n",
    "#i3=SS(a,b,20,f)\n",
    "I_real=0.63212 #lo saqué de symbolab :)\n",
    "println(\"con n=20 (o sea h=0.05)\") #saco n despejando y ya\n",
    "println(\"primer metodo: $(i1), segundo: $(i2), tercero: $(i3), valor real: $(I_real)\")\n",
    "\n",
    "#ahora hago lo mismo pero con n=40\n",
    "a=0.0\n",
    "b=1.0\n",
    "n=40\n",
    "I1=S_m(f,a,b,n)\n",
    "I2=S_T(f,a,b,n)\n",
    "I3=S_s(f,a,b,n) #con el metodo viejo\n",
    "#I3=SS(a,b,40,f)\n",
    "println(\"con n=40 (o sea h=0.025)\")\n",
    "println(\"primer metodo: $(I1), segundo: $(I2), tercero: $(I3), valor real: $(I_real)\") "
   ]
  },
  {
   "cell_type": "code",
   "execution_count": 31,
   "metadata": {},
   "outputs": [
    {
     "name": "stdout",
     "output_type": "stream",
     "text": [
      "Q1: 4.105197384548383; Q2: 3.9498049914196818; Q3: 15.999094835121433\n"
     ]
    }
   ],
   "source": [
    "# 3.3 saco los errores\n",
    "#para n=20 (h=0.05)\n",
    "e1=abs(i1-I_real)\n",
    "e2=abs(i2-I_real)\n",
    "e3=abs(i3-I_real)\n",
    "#para n=40 (h=0.025)\n",
    "E1=abs(I1-I_real)\n",
    "E2=abs(I2-I_real)\n",
    "E3=abs(I3-I_real)\n",
    "#ahora los cociente de presicion\n",
    "Q1=e1/E1 #con punto medio\n",
    "Q2=e2/E2 #con trapecio\n",
    "#Q3=e3/E3 #con simpson\n",
    "Q3=(abs(-f(1)+f(0)-i3))/(abs(-f(1)+f(0)-I3)) # no se porque con este si da casi 16\n",
    "println(\"Q1: $(Q1); Q2: $(Q2); Q3: $(Q3)\") "
   ]
  },
  {
   "cell_type": "markdown",
   "metadata": {},
   "source": [
    "## Problema 4\n",
    "1. Para los métodos de integración numérica del problema 3, implemente fórmulas de estimación del error en función de el número de puntos $n$, una cota máxima $M$ asociada a $f(x)$ o alguna de sus derivadas, y los extremos $a$ y $b$ del intérvalo de integración.\n",
    "\n",
    "2. Indique, para cada método, el mínimo $n$ necesario para alcanzar un error relativo menor a $10^{-7}$ de las siguientes integrales\n",
    "\n",
    "    a. $\\int_0^{1/2} \\frac{2}{x-4} \\; dx$\n",
    "\n",
    "    b. $\\int_1^{3/2} x^2 \\log x \\; dx$\n",
    "\n",
    "3. Compruebe usando los métodos del problema 3 si las estimaciones de $n$ son adecuadas."
   ]
  },
  {
   "cell_type": "code",
   "execution_count": 33,
   "metadata": {},
   "outputs": [
    {
     "data": {
      "text/plain": [
       "error_simpson (generic function with 1 method)"
      ]
     },
     "execution_count": 33,
     "metadata": {},
     "output_type": "execute_result"
    }
   ],
   "source": [
    "# Función para estimar el error del método del punto medio\n",
    "function error_punto_medio(a, b, n, M)\n",
    "    return (b - a)^3 / (24 * n^2) * M\n",
    "end\n",
    "# Función para estimar el error del método del trapecio\n",
    "function error_trapecio(a, b, n, M)\n",
    "    return (b - a)^3 / (12 * n^2) * M\n",
    "end\n",
    "# Función para estimar el error del método de Simpson\n",
    "function error_simpson(a, b, n, M)\n",
    "    return (b - a)^5 / (180 * n^4) * M\n",
    "end"
   ]
  },
  {
   "cell_type": "code",
   "execution_count": 34,
   "metadata": {},
   "outputs": [
    {
     "data": {
      "text/plain": [
       "F2 (generic function with 1 method)"
      ]
     },
     "execution_count": 34,
     "metadata": {},
     "output_type": "execute_result"
    }
   ],
   "source": [
    "#por teorico, para sacar el error, necesitamos varias derivadas de las funciones:\n",
    "f1(x)=2/(x-4)\n",
    "f2(x)=(x^2)*log(x) # las funciones\n",
    "#voy a necesitar sus derivadas 2das y 4tas\n",
    "f12(x)= 4/(x-4)^3 #derivad 2da de primer función\n",
    "f14(x)=48/(x-4)^5 #derivada 4ta\n",
    "f22(x)=2*log(x)+3 #derivas 2da y cuarta de segunda función\n",
    "f24(x)=-2/(x^2)\n",
    "\n",
    "#las funciones integradas\n",
    "F1(x)=2*log(4-x)\n",
    "F2(x)=((x^3)*(3*log(x)-1))/9"
   ]
  },
  {
   "cell_type": "code",
   "execution_count": 41,
   "metadata": {},
   "outputs": [
    {
     "data": {
      "image/png": "[encoded data removed]",
      "image/svg+xml": [
       "<?xml version=\"1.0\" encoding=\"utf-8\"?>\n",
       "<svg xmlns=\"http://www.w3.org/2000/svg\" xmlns:xlink=\"http://www.w3.org/1999/xlink\" width=\"600\" height=\"400\" viewBox=\"0 0 2400 1600\">\n",
       "<defs>\n",
       "  <clipPath id=\"clip480\">\n",
       "    <rect x=\"0\" y=\"0\" width=\"2400\" height=\"1600\"/>\n",
       "  </clipPath>\n",
       "</defs>\n",
       "<path clip-path=\"url(#clip480)\" d=\"M0 1600 L2400 1600 L2400 0 L0 0  Z\" fill=\"#ffffff\" fill-rule=\"evenodd\" fill-opacity=\"1\"/>\n",
       "<defs>\n",
       "  <clipPath id=\"clip481\">\n",
       "    <rect x=\"480\" y=\"0\" width=\"1681\" height=\"1600\"/>\n",
       "  </clipPath>\n",
       "</defs>\n",
       "<path clip-path=\"url(#clip480)\" d=\"M147.478 1486.45 L2352.76 1486.45 L2352.76 47.2441 L147.478 47.2441  Z\" fill=\"#ffffff\" fill-rule=\"evenodd\" fill-opacity=\"1\"/>\n",
       "<defs>\n",
       "  <clipPath id=\"clip482\">\n",
       "    <rect x=\"147\" y=\"47\" width=\"2206\" height=\"1440\"/>\n",
       "  </clipPath>\n",
       "</defs>\n",
       "<polyline clip-path=\"url(#clip482)\" style=\"stroke:#000000; stroke-linecap:round; stroke-linejoin:round; stroke-width:2; stroke-opacity:0.1; fill:none\" points=\"147.478,1486.45 147.478,47.2441 \"/>\n",
       "<polyline clip-path=\"url(#clip482)\" style=\"stroke:#000000; stroke-linecap:round; stroke-linejoin:round; stroke-width:2; stroke-opacity:0.1; fill:none\" points=\"882.571,1486.45 882.571,47.2441 \"/>\n",
       "<polyline clip-path=\"url(#clip482)\" style=\"stroke:#000000; stroke-linecap:round; stroke-linejoin:round; stroke-width:2; stroke-opacity:0.1; fill:none\" points=\"1617.66,1486.45 1617.66,47.2441 \"/>\n",
       "<polyline clip-path=\"url(#clip482)\" style=\"stroke:#000000; stroke-linecap:round; stroke-linejoin:round; stroke-width:2; stroke-opacity:0.1; fill:none\" points=\"2352.76,1486.45 2352.76,47.2441 \"/>\n",
       "<polyline clip-path=\"url(#clip480)\" style=\"stroke:#000000; stroke-linecap:round; stroke-linejoin:round; stroke-width:4; stroke-opacity:1; fill:none\" points=\"147.478,1486.45 2352.76,1486.45 \"/>\n",
       "<polyline clip-path=\"url(#clip480)\" style=\"stroke:#000000; stroke-linecap:round; stroke-linejoin:round; stroke-width:4; stroke-opacity:1; fill:none\" points=\"147.478,1486.45 147.478,1467.55 \"/>\n",
       "<polyline clip-path=\"url(#clip480)\" style=\"stroke:#000000; stroke-linecap:round; stroke-linejoin:round; stroke-width:4; stroke-opacity:1; fill:none\" points=\"882.571,1486.45 882.571,1467.55 \"/>\n",
       "<polyline clip-path=\"url(#clip480)\" style=\"stroke:#000000; stroke-linecap:round; stroke-linejoin:round; stroke-width:4; stroke-opacity:1; fill:none\" points=\"1617.66,1486.45 1617.66,1467.55 \"/>\n",
       "<polyline clip-path=\"url(#clip480)\" style=\"stroke:#000000; stroke-linecap:round; stroke-linejoin:round; stroke-width:4; stroke-opacity:1; fill:none\" points=\"2352.76,1486.45 2352.76,1467.55 \"/>\n",
       "<path clip-path=\"url(#clip480)\" d=\"M117.235 1532.02 L146.911 1532.02 L146.911 1535.95 L117.235 1535.95 L117.235 1532.02 Z\" fill=\"#000000\" fill-rule=\"nonzero\" fill-opacity=\"1\" /><path clip-path=\"url(#clip480)\" d=\"M157.814 1544.91 L165.452 1544.91 L165.452 1518.55 L157.142 1520.21 L157.142 1515.95 L165.406 1514.29 L170.082 1514.29 L170.082 1544.91 L177.721 1544.91 L177.721 1548.85 L157.814 1548.85 L157.814 1544.91 Z\" fill=\"#000000\" fill-rule=\"nonzero\" fill-opacity=\"1\" /><path clip-path=\"url(#clip480)\" d=\"M882.571 1517.37 Q878.959 1517.37 877.131 1520.93 Q875.325 1524.47 875.325 1531.6 Q875.325 1538.71 877.131 1542.27 Q878.959 1545.82 882.571 1545.82 Q886.205 1545.82 888.01 1542.27 Q889.839 1538.71 889.839 1531.6 Q889.839 1524.47 888.01 1520.93 Q886.205 1517.37 882.571 1517.37 M882.571 1513.66 Q888.381 1513.66 891.436 1518.27 Q894.515 1522.85 894.515 1531.6 Q894.515 1540.33 891.436 1544.94 Q888.381 1549.52 882.571 1549.52 Q876.76 1549.52 873.682 1544.94 Q870.626 1540.33 870.626 1531.6 Q870.626 1522.85 873.682 1518.27 Q876.76 1513.66 882.571 1513.66 Z\" fill=\"#000000\" fill-rule=\"nonzero\" fill-opacity=\"1\" /><path clip-path=\"url(#clip480)\" d=\"M1608.05 1544.91 L1615.68 1544.91 L1615.68 1518.55 L1607.37 1520.21 L1607.37 1515.95 L1615.64 1514.29 L1620.31 1514.29 L1620.31 1544.91 L1627.95 1544.91 L1627.95 1548.85 L1608.05 1548.85 L1608.05 1544.91 Z\" fill=\"#000000\" fill-rule=\"nonzero\" fill-opacity=\"1\" /><path clip-path=\"url(#clip480)\" d=\"M2347.41 1544.91 L2363.73 1544.91 L2363.73 1548.85 L2341.78 1548.85 L2341.78 1544.91 Q2344.45 1542.16 2349.03 1537.53 Q2353.64 1532.88 2354.82 1531.53 Q2357.06 1529.01 2357.94 1527.27 Q2358.84 1525.51 2358.84 1523.82 Q2358.84 1521.07 2356.9 1519.33 Q2354.98 1517.6 2351.88 1517.6 Q2349.68 1517.6 2347.22 1518.36 Q2344.79 1519.13 2342.02 1520.68 L2342.02 1515.95 Q2344.84 1514.82 2347.29 1514.24 Q2349.75 1513.66 2351.78 1513.66 Q2357.15 1513.66 2360.35 1516.35 Q2363.54 1519.03 2363.54 1523.52 Q2363.54 1525.65 2362.73 1527.57 Q2361.95 1529.47 2359.84 1532.07 Q2359.26 1532.74 2356.16 1535.95 Q2353.06 1539.15 2347.41 1544.91 Z\" fill=\"#000000\" fill-rule=\"nonzero\" fill-opacity=\"1\" /><polyline clip-path=\"url(#clip482)\" style=\"stroke:#000000; stroke-linecap:round; stroke-linejoin:round; stroke-width:2; stroke-opacity:0.1; fill:none\" points=\"147.478,1486.45 2352.76,1486.45 \"/>\n",
       "<polyline clip-path=\"url(#clip482)\" style=\"stroke:#000000; stroke-linecap:round; stroke-linejoin:round; stroke-width:2; stroke-opacity:0.1; fill:none\" points=\"147.478,1126.65 2352.76,1126.65 \"/>\n",
       "<polyline clip-path=\"url(#clip482)\" style=\"stroke:#000000; stroke-linecap:round; stroke-linejoin:round; stroke-width:2; stroke-opacity:0.1; fill:none\" points=\"147.478,766.846 2352.76,766.846 \"/>\n",
       "<polyline clip-path=\"url(#clip482)\" style=\"stroke:#000000; stroke-linecap:round; stroke-linejoin:round; stroke-width:2; stroke-opacity:0.1; fill:none\" points=\"147.478,407.045 2352.76,407.045 \"/>\n",
       "<polyline clip-path=\"url(#clip482)\" style=\"stroke:#000000; stroke-linecap:round; stroke-linejoin:round; stroke-width:2; stroke-opacity:0.1; fill:none\" points=\"147.478,47.2441 2352.76,47.2441 \"/>\n",
       "<polyline clip-path=\"url(#clip480)\" style=\"stroke:#000000; stroke-linecap:round; stroke-linejoin:round; stroke-width:4; stroke-opacity:1; fill:none\" points=\"147.478,1486.45 147.478,47.2441 \"/>\n",
       "<polyline clip-path=\"url(#clip480)\" style=\"stroke:#000000; stroke-linecap:round; stroke-linejoin:round; stroke-width:4; stroke-opacity:1; fill:none\" points=\"147.478,1486.45 166.376,1486.45 \"/>\n",
       "<polyline clip-path=\"url(#clip480)\" style=\"stroke:#000000; stroke-linecap:round; stroke-linejoin:round; stroke-width:4; stroke-opacity:1; fill:none\" points=\"147.478,1126.65 166.376,1126.65 \"/>\n",
       "<polyline clip-path=\"url(#clip480)\" style=\"stroke:#000000; stroke-linecap:round; stroke-linejoin:round; stroke-width:4; stroke-opacity:1; fill:none\" points=\"147.478,766.846 166.376,766.846 \"/>\n",
       "<polyline clip-path=\"url(#clip480)\" style=\"stroke:#000000; stroke-linecap:round; stroke-linejoin:round; stroke-width:4; stroke-opacity:1; fill:none\" points=\"147.478,407.045 166.376,407.045 \"/>\n",
       "<polyline clip-path=\"url(#clip480)\" style=\"stroke:#000000; stroke-linecap:round; stroke-linejoin:round; stroke-width:4; stroke-opacity:1; fill:none\" points=\"147.478,47.2441 166.376,47.2441 \"/>\n",
       "<path clip-path=\"url(#clip480)\" d=\"M51.3625 1486.9 L81.0383 1486.9 L81.0383 1490.83 L51.3625 1490.83 L51.3625 1486.9 Z\" fill=\"#000000\" fill-rule=\"nonzero\" fill-opacity=\"1\" /><path clip-path=\"url(#clip480)\" d=\"M95.1586 1499.79 L111.478 1499.79 L111.478 1503.73 L89.5336 1503.73 L89.5336 1499.79 Q92.1956 1497.04 96.7789 1492.41 Q101.385 1487.76 102.566 1486.41 Q104.811 1483.89 105.691 1482.15 Q106.594 1480.39 106.594 1478.7 Q106.594 1475.95 104.649 1474.21 Q102.728 1472.48 99.6261 1472.48 Q97.4271 1472.48 94.9734 1473.24 Q92.5428 1474.01 89.7651 1475.56 L89.7651 1470.83 Q92.5891 1469.7 95.0428 1469.12 Q97.4965 1468.54 99.5335 1468.54 Q104.904 1468.54 108.098 1471.23 Q111.293 1473.91 111.293 1478.4 Q111.293 1480.53 110.483 1482.45 Q109.696 1484.35 107.589 1486.95 Q107.01 1487.62 103.909 1490.83 Q100.807 1494.03 95.1586 1499.79 Z\" fill=\"#000000\" fill-rule=\"nonzero\" fill-opacity=\"1\" /><path clip-path=\"url(#clip480)\" d=\"M50.9921 1127.1 L80.6679 1127.1 L80.6679 1131.03 L50.9921 1131.03 L50.9921 1127.1 Z\" fill=\"#000000\" fill-rule=\"nonzero\" fill-opacity=\"1\" /><path clip-path=\"url(#clip480)\" d=\"M91.5706 1139.99 L99.2095 1139.99 L99.2095 1113.63 L90.8993 1115.29 L90.8993 1111.03 L99.1632 1109.37 L103.839 1109.37 L103.839 1139.99 L111.478 1139.99 L111.478 1143.93 L91.5706 1143.93 L91.5706 1139.99 Z\" fill=\"#000000\" fill-rule=\"nonzero\" fill-opacity=\"1\" /><path clip-path=\"url(#clip480)\" d=\"M99.5335 752.645 Q95.9224 752.645 94.0937 756.209 Q92.2882 759.751 92.2882 766.881 Q92.2882 773.987 94.0937 777.552 Q95.9224 781.094 99.5335 781.094 Q103.168 781.094 104.973 777.552 Q106.802 773.987 106.802 766.881 Q106.802 759.751 104.973 756.209 Q103.168 752.645 99.5335 752.645 M99.5335 748.941 Q105.344 748.941 108.399 753.547 Q111.478 758.131 111.478 766.881 Q111.478 775.608 108.399 780.214 Q105.344 784.797 99.5335 784.797 Q93.7234 784.797 90.6447 780.214 Q87.5892 775.608 87.5892 766.881 Q87.5892 758.131 90.6447 753.547 Q93.7234 748.941 99.5335 748.941 Z\" fill=\"#000000\" fill-rule=\"nonzero\" fill-opacity=\"1\" /><path clip-path=\"url(#clip480)\" d=\"M91.5706 420.39 L99.2095 420.39 L99.2095 394.024 L90.8993 395.691 L90.8993 391.432 L99.1632 389.765 L103.839 389.765 L103.839 420.39 L111.478 420.39 L111.478 424.325 L91.5706 424.325 L91.5706 420.39 Z\" fill=\"#000000\" fill-rule=\"nonzero\" fill-opacity=\"1\" /><path clip-path=\"url(#clip480)\" d=\"M95.1586 60.5889 L111.478 60.5889 L111.478 64.5241 L89.5336 64.5241 L89.5336 60.5889 Q92.1956 57.8343 96.7789 53.2047 Q101.385 48.552 102.566 47.2094 Q104.811 44.6862 105.691 42.9501 Q106.594 41.1909 106.594 39.5011 Q106.594 36.7465 104.649 35.0104 Q102.728 33.2743 99.6261 33.2743 Q97.4271 33.2743 94.9734 34.0381 Q92.5428 34.802 89.7651 36.3529 L89.7651 31.6308 Q92.5891 30.4965 95.0428 29.9178 Q97.4965 29.3391 99.5335 29.3391 Q104.904 29.3391 108.098 32.0243 Q111.293 34.7094 111.293 39.2002 Q111.293 41.3298 110.483 43.2511 Q109.696 45.1492 107.589 47.7418 Q107.01 48.4131 103.909 51.6306 Q100.807 54.8251 95.1586 60.5889 Z\" fill=\"#000000\" fill-rule=\"nonzero\" fill-opacity=\"1\" /><polyline clip-path=\"url(#clip482)\" style=\"stroke:#009af9; stroke-linecap:round; stroke-linejoin:round; stroke-width:4; stroke-opacity:1; fill:none\" points=\"-2792.89,768.82 -2745.03,768.864 -2302.51,769.333 -2036.58,769.688 -1811.73,770.042 -1567.48,770.496 -1342.31,770.994 -1100.9,771.635 -821.204,772.553 -572.643,773.577 -354.677,774.687 -117.036,776.193 122.018,778.124 386.323,780.931 637.802,784.537 899.281,789.721 1119.39,795.776 1388.12,806.451 1634.29,821.374 1861.66,842.621 2091.96,877.07 2350.08,945.766 2583.97,1067.43 2851.76,1390.93 3099.7,2277.99 3221.93,3400.12 3344.15,5975.38 3462.82,13007.6 3581.49,41380 3642.32,97777.6 3703.14,333268 3733.56,801234 3763.97,2.78812e+06 3779.17,4.1943e+06 3794.38,4.1943e+06 3798.18,4.1943e+06 3801.98,4.1943e+06 3805.79,4.1943e+06 3809.59,4.1943e+06 3811.49,4.1943e+06 3813.39,4.1943e+06 3815.29,4.1943e+06 3817.19,4.1943e+06 3819.09,4.1943e+06 3820.99,4.1943e+06 3822.89,4.1943e+06 3824.79,-4.1943e+06 3826.88,-4.1943e+06 3828.96,-4.1943e+06 3831.04,-4.1943e+06 3833.12,-4.1943e+06 3835.21,-4.1943e+06 3837.29,-4.1943e+06 3839.37,-4.1943e+06 3841.45,-4.1943e+06 3849.78,-4.1943e+06 3858.11,-4.1943e+06 3874.78,-4.10413e+06 3891.44,-1.77826e+06 3924.76,-540872 3958.08,-230884 4024.72,-68820.2 4091.36,-28793.3 4284.98,-5029.09 4478.59,-1261.44 4518.31,-933.343 4558.03,-672.358 \"/>\n",
       "</svg>\n"
      ],
      "text/html": [
       "<?xml version=\"1.0\" encoding=\"utf-8\"?>\n",
       "<svg xmlns=\"http://www.w3.org/2000/svg\" xmlns:xlink=\"http://www.w3.org/1999/xlink\" width=\"600\" height=\"400\" viewBox=\"0 0 2400 1600\">\n",
       "<defs>\n",
       "  <clipPath id=\"clip530\">\n",
       "    <rect x=\"0\" y=\"0\" width=\"2400\" height=\"1600\"/>\n",
       "  </clipPath>\n",
       "</defs>\n",
       "<path clip-path=\"url(#clip530)\" d=\"M0 1600 L2400 1600 L2400 0 L0 0  Z\" fill=\"#ffffff\" fill-rule=\"evenodd\" fill-opacity=\"1\"/>\n",
       "<defs>\n",
       "  <clipPath id=\"clip531\">\n",
       "    <rect x=\"480\" y=\"0\" width=\"1681\" height=\"1600\"/>\n",
       "  </clipPath>\n",
       "</defs>\n",
       "<path clip-path=\"url(#clip530)\" d=\"M147.478 1486.45 L2352.76 1486.45 L2352.76 47.2441 L147.478 47.2441  Z\" fill=\"#ffffff\" fill-rule=\"evenodd\" fill-opacity=\"1\"/>\n",
       "<defs>\n",
       "  <clipPath id=\"clip532\">\n",
       "    <rect x=\"147\" y=\"47\" width=\"2206\" height=\"1440\"/>\n",
       "  </clipPath>\n",
       "</defs>\n",
       "<polyline clip-path=\"url(#clip532)\" style=\"stroke:#000000; stroke-linecap:round; stroke-linejoin:round; stroke-width:2; stroke-opacity:0.1; fill:none\" points=\"147.478,1486.45 147.478,47.2441 \"/>\n",
       "<polyline clip-path=\"url(#clip532)\" style=\"stroke:#000000; stroke-linecap:round; stroke-linejoin:round; stroke-width:2; stroke-opacity:0.1; fill:none\" points=\"882.571,1486.45 882.571,47.2441 \"/>\n",
       "<polyline clip-path=\"url(#clip532)\" style=\"stroke:#000000; stroke-linecap:round; stroke-linejoin:round; stroke-width:2; stroke-opacity:0.1; fill:none\" points=\"1617.66,1486.45 1617.66,47.2441 \"/>\n",
       "<polyline clip-path=\"url(#clip532)\" style=\"stroke:#000000; stroke-linecap:round; stroke-linejoin:round; stroke-width:2; stroke-opacity:0.1; fill:none\" points=\"2352.76,1486.45 2352.76,47.2441 \"/>\n",
       "<polyline clip-path=\"url(#clip530)\" style=\"stroke:#000000; stroke-linecap:round; stroke-linejoin:round; stroke-width:4; stroke-opacity:1; fill:none\" points=\"147.478,1486.45 2352.76,1486.45 \"/>\n",
       "<polyline clip-path=\"url(#clip530)\" style=\"stroke:#000000; stroke-linecap:round; stroke-linejoin:round; stroke-width:4; stroke-opacity:1; fill:none\" points=\"147.478,1486.45 147.478,1467.55 \"/>\n",
       "<polyline clip-path=\"url(#clip530)\" style=\"stroke:#000000; stroke-linecap:round; stroke-linejoin:round; stroke-width:4; stroke-opacity:1; fill:none\" points=\"882.571,1486.45 882.571,1467.55 \"/>\n",
       "<polyline clip-path=\"url(#clip530)\" style=\"stroke:#000000; stroke-linecap:round; stroke-linejoin:round; stroke-width:4; stroke-opacity:1; fill:none\" points=\"1617.66,1486.45 1617.66,1467.55 \"/>\n",
       "<polyline clip-path=\"url(#clip530)\" style=\"stroke:#000000; stroke-linecap:round; stroke-linejoin:round; stroke-width:4; stroke-opacity:1; fill:none\" points=\"2352.76,1486.45 2352.76,1467.55 \"/>\n",
       "<path clip-path=\"url(#clip530)\" d=\"M117.235 1532.02 L146.911 1532.02 L146.911 1535.95 L117.235 1535.95 L117.235 1532.02 Z\" fill=\"#000000\" fill-rule=\"nonzero\" fill-opacity=\"1\" /><path clip-path=\"url(#clip530)\" d=\"M157.814 1544.91 L165.452 1544.91 L165.452 1518.55 L157.142 1520.21 L157.142 1515.95 L165.406 1514.29 L170.082 1514.29 L170.082 1544.91 L177.721 1544.91 L177.721 1548.85 L157.814 1548.85 L157.814 1544.91 Z\" fill=\"#000000\" fill-rule=\"nonzero\" fill-opacity=\"1\" /><path clip-path=\"url(#clip530)\" d=\"M882.571 1517.37 Q878.959 1517.37 877.131 1520.93 Q875.325 1524.47 875.325 1531.6 Q875.325 1538.71 877.131 1542.27 Q878.959 1545.82 882.571 1545.82 Q886.205 1545.82 888.01 1542.27 Q889.839 1538.71 889.839 1531.6 Q889.839 1524.47 888.01 1520.93 Q886.205 1517.37 882.571 1517.37 M882.571 1513.66 Q888.381 1513.66 891.436 1518.27 Q894.515 1522.85 894.515 1531.6 Q894.515 1540.33 891.436 1544.94 Q888.381 1549.52 882.571 1549.52 Q876.76 1549.52 873.682 1544.94 Q870.626 1540.33 870.626 1531.6 Q870.626 1522.85 873.682 1518.27 Q876.76 1513.66 882.571 1513.66 Z\" fill=\"#000000\" fill-rule=\"nonzero\" fill-opacity=\"1\" /><path clip-path=\"url(#clip530)\" d=\"M1608.05 1544.91 L1615.68 1544.91 L1615.68 1518.55 L1607.37 1520.21 L1607.37 1515.95 L1615.64 1514.29 L1620.31 1514.29 L1620.31 1544.91 L1627.95 1544.91 L1627.95 1548.85 L1608.05 1548.85 L1608.05 1544.91 Z\" fill=\"#000000\" fill-rule=\"nonzero\" fill-opacity=\"1\" /><path clip-path=\"url(#clip530)\" d=\"M2347.41 1544.91 L2363.73 1544.91 L2363.73 1548.85 L2341.78 1548.85 L2341.78 1544.91 Q2344.45 1542.16 2349.03 1537.53 Q2353.64 1532.88 2354.82 1531.53 Q2357.06 1529.01 2357.94 1527.27 Q2358.84 1525.51 2358.84 1523.82 Q2358.84 1521.07 2356.9 1519.33 Q2354.98 1517.6 2351.88 1517.6 Q2349.68 1517.6 2347.22 1518.36 Q2344.79 1519.13 2342.02 1520.68 L2342.02 1515.95 Q2344.84 1514.82 2347.29 1514.24 Q2349.75 1513.66 2351.78 1513.66 Q2357.15 1513.66 2360.35 1516.35 Q2363.54 1519.03 2363.54 1523.52 Q2363.54 1525.65 2362.73 1527.57 Q2361.95 1529.47 2359.84 1532.07 Q2359.26 1532.74 2356.16 1535.95 Q2353.06 1539.15 2347.41 1544.91 Z\" fill=\"#000000\" fill-rule=\"nonzero\" fill-opacity=\"1\" /><polyline clip-path=\"url(#clip532)\" style=\"stroke:#000000; stroke-linecap:round; stroke-linejoin:round; stroke-width:2; stroke-opacity:0.1; fill:none\" points=\"147.478,1486.45 2352.76,1486.45 \"/>\n",
       "<polyline clip-path=\"url(#clip532)\" style=\"stroke:#000000; stroke-linecap:round; stroke-linejoin:round; stroke-width:2; stroke-opacity:0.1; fill:none\" points=\"147.478,1126.65 2352.76,1126.65 \"/>\n",
       "<polyline clip-path=\"url(#clip532)\" style=\"stroke:#000000; stroke-linecap:round; stroke-linejoin:round; stroke-width:2; stroke-opacity:0.1; fill:none\" points=\"147.478,766.846 2352.76,766.846 \"/>\n",
       "<polyline clip-path=\"url(#clip532)\" style=\"stroke:#000000; stroke-linecap:round; stroke-linejoin:round; stroke-width:2; stroke-opacity:0.1; fill:none\" points=\"147.478,407.045 2352.76,407.045 \"/>\n",
       "<polyline clip-path=\"url(#clip532)\" style=\"stroke:#000000; stroke-linecap:round; stroke-linejoin:round; stroke-width:2; stroke-opacity:0.1; fill:none\" points=\"147.478,47.2441 2352.76,47.2441 \"/>\n",
       "<polyline clip-path=\"url(#clip530)\" style=\"stroke:#000000; stroke-linecap:round; stroke-linejoin:round; stroke-width:4; stroke-opacity:1; fill:none\" points=\"147.478,1486.45 147.478,47.2441 \"/>\n",
       "<polyline clip-path=\"url(#clip530)\" style=\"stroke:#000000; stroke-linecap:round; stroke-linejoin:round; stroke-width:4; stroke-opacity:1; fill:none\" points=\"147.478,1486.45 166.376,1486.45 \"/>\n",
       "<polyline clip-path=\"url(#clip530)\" style=\"stroke:#000000; stroke-linecap:round; stroke-linejoin:round; stroke-width:4; stroke-opacity:1; fill:none\" points=\"147.478,1126.65 166.376,1126.65 \"/>\n",
       "<polyline clip-path=\"url(#clip530)\" style=\"stroke:#000000; stroke-linecap:round; stroke-linejoin:round; stroke-width:4; stroke-opacity:1; fill:none\" points=\"147.478,766.846 166.376,766.846 \"/>\n",
       "<polyline clip-path=\"url(#clip530)\" style=\"stroke:#000000; stroke-linecap:round; stroke-linejoin:round; stroke-width:4; stroke-opacity:1; fill:none\" points=\"147.478,407.045 166.376,407.045 \"/>\n",
       "<polyline clip-path=\"url(#clip530)\" style=\"stroke:#000000; stroke-linecap:round; stroke-linejoin:round; stroke-width:4; stroke-opacity:1; fill:none\" points=\"147.478,47.2441 166.376,47.2441 \"/>\n",
       "<path clip-path=\"url(#clip530)\" d=\"M51.3625 1486.9 L81.0383 1486.9 L81.0383 1490.83 L51.3625 1490.83 L51.3625 1486.9 Z\" fill=\"#000000\" fill-rule=\"nonzero\" fill-opacity=\"1\" /><path clip-path=\"url(#clip530)\" d=\"M95.1586 1499.79 L111.478 1499.79 L111.478 1503.73 L89.5336 1503.73 L89.5336 1499.79 Q92.1956 1497.04 96.7789 1492.41 Q101.385 1487.76 102.566 1486.41 Q104.811 1483.89 105.691 1482.15 Q106.594 1480.39 106.594 1478.7 Q106.594 1475.95 104.649 1474.21 Q102.728 1472.48 99.6261 1472.48 Q97.4271 1472.48 94.9734 1473.24 Q92.5428 1474.01 89.7651 1475.56 L89.7651 1470.83 Q92.5891 1469.7 95.0428 1469.12 Q97.4965 1468.54 99.5335 1468.54 Q104.904 1468.54 108.098 1471.23 Q111.293 1473.91 111.293 1478.4 Q111.293 1480.53 110.483 1482.45 Q109.696 1484.35 107.589 1486.95 Q107.01 1487.62 103.909 1490.83 Q100.807 1494.03 95.1586 1499.79 Z\" fill=\"#000000\" fill-rule=\"nonzero\" fill-opacity=\"1\" /><path clip-path=\"url(#clip530)\" d=\"M50.9921 1127.1 L80.6679 1127.1 L80.6679 1131.03 L50.9921 1131.03 L50.9921 1127.1 Z\" fill=\"#000000\" fill-rule=\"nonzero\" fill-opacity=\"1\" /><path clip-path=\"url(#clip530)\" d=\"M91.5706 1139.99 L99.2095 1139.99 L99.2095 1113.63 L90.8993 1115.29 L90.8993 1111.03 L99.1632 1109.37 L103.839 1109.37 L103.839 1139.99 L111.478 1139.99 L111.478 1143.93 L91.5706 1143.93 L91.5706 1139.99 Z\" fill=\"#000000\" fill-rule=\"nonzero\" fill-opacity=\"1\" /><path clip-path=\"url(#clip530)\" d=\"M99.5335 752.645 Q95.9224 752.645 94.0937 756.209 Q92.2882 759.751 92.2882 766.881 Q92.2882 773.987 94.0937 777.552 Q95.9224 781.094 99.5335 781.094 Q103.168 781.094 104.973 777.552 Q106.802 773.987 106.802 766.881 Q106.802 759.751 104.973 756.209 Q103.168 752.645 99.5335 752.645 M99.5335 748.941 Q105.344 748.941 108.399 753.547 Q111.478 758.131 111.478 766.881 Q111.478 775.608 108.399 780.214 Q105.344 784.797 99.5335 784.797 Q93.7234 784.797 90.6447 780.214 Q87.5892 775.608 87.5892 766.881 Q87.5892 758.131 90.6447 753.547 Q93.7234 748.941 99.5335 748.941 Z\" fill=\"#000000\" fill-rule=\"nonzero\" fill-opacity=\"1\" /><path clip-path=\"url(#clip530)\" d=\"M91.5706 420.39 L99.2095 420.39 L99.2095 394.024 L90.8993 395.691 L90.8993 391.432 L99.1632 389.765 L103.839 389.765 L103.839 420.39 L111.478 420.39 L111.478 424.325 L91.5706 424.325 L91.5706 420.39 Z\" fill=\"#000000\" fill-rule=\"nonzero\" fill-opacity=\"1\" /><path clip-path=\"url(#clip530)\" d=\"M95.1586 60.5889 L111.478 60.5889 L111.478 64.5241 L89.5336 64.5241 L89.5336 60.5889 Q92.1956 57.8343 96.7789 53.2047 Q101.385 48.552 102.566 47.2094 Q104.811 44.6862 105.691 42.9501 Q106.594 41.1909 106.594 39.5011 Q106.594 36.7465 104.649 35.0104 Q102.728 33.2743 99.6261 33.2743 Q97.4271 33.2743 94.9734 34.0381 Q92.5428 34.802 89.7651 36.3529 L89.7651 31.6308 Q92.5891 30.4965 95.0428 29.9178 Q97.4965 29.3391 99.5335 29.3391 Q104.904 29.3391 108.098 32.0243 Q111.293 34.7094 111.293 39.2002 Q111.293 41.3298 110.483 43.2511 Q109.696 45.1492 107.589 47.7418 Q107.01 48.4131 103.909 51.6306 Q100.807 54.8251 95.1586 60.5889 Z\" fill=\"#000000\" fill-rule=\"nonzero\" fill-opacity=\"1\" /><polyline clip-path=\"url(#clip532)\" style=\"stroke:#009af9; stroke-linecap:round; stroke-linejoin:round; stroke-width:4; stroke-opacity:1; fill:none\" points=\"-2792.89,768.82 -2745.03,768.864 -2302.51,769.333 -2036.58,769.688 -1811.73,770.042 -1567.48,770.496 -1342.31,770.994 -1100.9,771.635 -821.204,772.553 -572.643,773.577 -354.677,774.687 -117.036,776.193 122.018,778.124 386.323,780.931 637.802,784.537 899.281,789.721 1119.39,795.776 1388.12,806.451 1634.29,821.374 1861.66,842.621 2091.96,877.07 2350.08,945.766 2583.97,1067.43 2851.76,1390.93 3099.7,2277.99 3221.93,3400.12 3344.15,5975.38 3462.82,13007.6 3581.49,41380 3642.32,97777.6 3703.14,333268 3733.56,801234 3763.97,2.78812e+06 3779.17,4.1943e+06 3794.38,4.1943e+06 3798.18,4.1943e+06 3801.98,4.1943e+06 3805.79,4.1943e+06 3809.59,4.1943e+06 3811.49,4.1943e+06 3813.39,4.1943e+06 3815.29,4.1943e+06 3817.19,4.1943e+06 3819.09,4.1943e+06 3820.99,4.1943e+06 3822.89,4.1943e+06 3824.79,-4.1943e+06 3826.88,-4.1943e+06 3828.96,-4.1943e+06 3831.04,-4.1943e+06 3833.12,-4.1943e+06 3835.21,-4.1943e+06 3837.29,-4.1943e+06 3839.37,-4.1943e+06 3841.45,-4.1943e+06 3849.78,-4.1943e+06 3858.11,-4.1943e+06 3874.78,-4.10413e+06 3891.44,-1.77826e+06 3924.76,-540872 3958.08,-230884 4024.72,-68820.2 4091.36,-28793.3 4284.98,-5029.09 4478.59,-1261.44 4518.31,-933.343 4558.03,-672.358 \"/>\n",
       "</svg>\n"
      ]
     },
     "execution_count": 41,
     "metadata": {},
     "output_type": "execute_result"
    }
   ],
   "source": [
    "#vamos a encontrar las cotas, usando gráficos de las derivadas 2das y 4ta \n",
    "#primera función:\n",
    "plot(f12,label=\"\")\n",
    "xlims!(-1,2)\n",
    "ylims!(-2,2)"
   ]
  },
  {
   "cell_type": "code",
   "execution_count": 40,
   "metadata": {},
   "outputs": [
    {
     "data": {
      "image/png": "[encoded data removed]",
      "image/svg+xml": [
       "<?xml version=\"1.0\" encoding=\"utf-8\"?>\n",
       "<svg xmlns=\"http://www.w3.org/2000/svg\" xmlns:xlink=\"http://www.w3.org/1999/xlink\" width=\"600\" height=\"400\" viewBox=\"0 0 2400 1600\">\n",
       "<defs>\n",
       "  <clipPath id=\"clip390\">\n",
       "    <rect x=\"0\" y=\"0\" width=\"2400\" height=\"1600\"/>\n",
       "  </clipPath>\n",
       "</defs>\n",
       "<path clip-path=\"url(#clip390)\" d=\"M0 1600 L2400 1600 L2400 0 L0 0  Z\" fill=\"#ffffff\" fill-rule=\"evenodd\" fill-opacity=\"1\"/>\n",
       "<defs>\n",
       "  <clipPath id=\"clip391\">\n",
       "    <rect x=\"480\" y=\"0\" width=\"1681\" height=\"1600\"/>\n",
       "  </clipPath>\n",
       "</defs>\n",
       "<path clip-path=\"url(#clip390)\" d=\"M147.478 1486.45 L2352.76 1486.45 L2352.76 47.2441 L147.478 47.2441  Z\" fill=\"#ffffff\" fill-rule=\"evenodd\" fill-opacity=\"1\"/>\n",
       "<defs>\n",
       "  <clipPath id=\"clip392\">\n",
       "    <rect x=\"147\" y=\"47\" width=\"2206\" height=\"1440\"/>\n",
       "  </clipPath>\n",
       "</defs>\n",
       "<polyline clip-path=\"url(#clip392)\" style=\"stroke:#000000; stroke-linecap:round; stroke-linejoin:round; stroke-width:2; stroke-opacity:0.1; fill:none\" points=\"147.478,1486.45 147.478,47.2441 \"/>\n",
       "<polyline clip-path=\"url(#clip392)\" style=\"stroke:#000000; stroke-linecap:round; stroke-linejoin:round; stroke-width:2; stroke-opacity:0.1; fill:none\" points=\"882.571,1486.45 882.571,47.2441 \"/>\n",
       "<polyline clip-path=\"url(#clip392)\" style=\"stroke:#000000; stroke-linecap:round; stroke-linejoin:round; stroke-width:2; stroke-opacity:0.1; fill:none\" points=\"1617.66,1486.45 1617.66,47.2441 \"/>\n",
       "<polyline clip-path=\"url(#clip392)\" style=\"stroke:#000000; stroke-linecap:round; stroke-linejoin:round; stroke-width:2; stroke-opacity:0.1; fill:none\" points=\"2352.76,1486.45 2352.76,47.2441 \"/>\n",
       "<polyline clip-path=\"url(#clip390)\" style=\"stroke:#000000; stroke-linecap:round; stroke-linejoin:round; stroke-width:4; stroke-opacity:1; fill:none\" points=\"147.478,1486.45 2352.76,1486.45 \"/>\n",
       "<polyline clip-path=\"url(#clip390)\" style=\"stroke:#000000; stroke-linecap:round; stroke-linejoin:round; stroke-width:4; stroke-opacity:1; fill:none\" points=\"147.478,1486.45 147.478,1467.55 \"/>\n",
       "<polyline clip-path=\"url(#clip390)\" style=\"stroke:#000000; stroke-linecap:round; stroke-linejoin:round; stroke-width:4; stroke-opacity:1; fill:none\" points=\"882.571,1486.45 882.571,1467.55 \"/>\n",
       "<polyline clip-path=\"url(#clip390)\" style=\"stroke:#000000; stroke-linecap:round; stroke-linejoin:round; stroke-width:4; stroke-opacity:1; fill:none\" points=\"1617.66,1486.45 1617.66,1467.55 \"/>\n",
       "<polyline clip-path=\"url(#clip390)\" style=\"stroke:#000000; stroke-linecap:round; stroke-linejoin:round; stroke-width:4; stroke-opacity:1; fill:none\" points=\"2352.76,1486.45 2352.76,1467.55 \"/>\n",
       "<path clip-path=\"url(#clip390)\" d=\"M117.235 1532.02 L146.911 1532.02 L146.911 1535.95 L117.235 1535.95 L117.235 1532.02 Z\" fill=\"#000000\" fill-rule=\"nonzero\" fill-opacity=\"1\" /><path clip-path=\"url(#clip390)\" d=\"M157.814 1544.91 L165.452 1544.91 L165.452 1518.55 L157.142 1520.21 L157.142 1515.95 L165.406 1514.29 L170.082 1514.29 L170.082 1544.91 L177.721 1544.91 L177.721 1548.85 L157.814 1548.85 L157.814 1544.91 Z\" fill=\"#000000\" fill-rule=\"nonzero\" fill-opacity=\"1\" /><path clip-path=\"url(#clip390)\" d=\"M882.571 1517.37 Q878.959 1517.37 877.131 1520.93 Q875.325 1524.47 875.325 1531.6 Q875.325 1538.71 877.131 1542.27 Q878.959 1545.82 882.571 1545.82 Q886.205 1545.82 888.01 1542.27 Q889.839 1538.71 889.839 1531.6 Q889.839 1524.47 888.01 1520.93 Q886.205 1517.37 882.571 1517.37 M882.571 1513.66 Q888.381 1513.66 891.436 1518.27 Q894.515 1522.85 894.515 1531.6 Q894.515 1540.33 891.436 1544.94 Q888.381 1549.52 882.571 1549.52 Q876.76 1549.52 873.682 1544.94 Q870.626 1540.33 870.626 1531.6 Q870.626 1522.85 873.682 1518.27 Q876.76 1513.66 882.571 1513.66 Z\" fill=\"#000000\" fill-rule=\"nonzero\" fill-opacity=\"1\" /><path clip-path=\"url(#clip390)\" d=\"M1608.05 1544.91 L1615.68 1544.91 L1615.68 1518.55 L1607.37 1520.21 L1607.37 1515.95 L1615.64 1514.29 L1620.31 1514.29 L1620.31 1544.91 L1627.95 1544.91 L1627.95 1548.85 L1608.05 1548.85 L1608.05 1544.91 Z\" fill=\"#000000\" fill-rule=\"nonzero\" fill-opacity=\"1\" /><path clip-path=\"url(#clip390)\" d=\"M2347.41 1544.91 L2363.73 1544.91 L2363.73 1548.85 L2341.78 1548.85 L2341.78 1544.91 Q2344.45 1542.16 2349.03 1537.53 Q2353.64 1532.88 2354.82 1531.53 Q2357.06 1529.01 2357.94 1527.27 Q2358.84 1525.51 2358.84 1523.82 Q2358.84 1521.07 2356.9 1519.33 Q2354.98 1517.6 2351.88 1517.6 Q2349.68 1517.6 2347.22 1518.36 Q2344.79 1519.13 2342.02 1520.68 L2342.02 1515.95 Q2344.84 1514.82 2347.29 1514.24 Q2349.75 1513.66 2351.78 1513.66 Q2357.15 1513.66 2360.35 1516.35 Q2363.54 1519.03 2363.54 1523.52 Q2363.54 1525.65 2362.73 1527.57 Q2361.95 1529.47 2359.84 1532.07 Q2359.26 1532.74 2356.16 1535.95 Q2353.06 1539.15 2347.41 1544.91 Z\" fill=\"#000000\" fill-rule=\"nonzero\" fill-opacity=\"1\" /><polyline clip-path=\"url(#clip392)\" style=\"stroke:#000000; stroke-linecap:round; stroke-linejoin:round; stroke-width:2; stroke-opacity:0.1; fill:none\" points=\"147.478,1486.45 2352.76,1486.45 \"/>\n",
       "<polyline clip-path=\"url(#clip392)\" style=\"stroke:#000000; stroke-linecap:round; stroke-linejoin:round; stroke-width:2; stroke-opacity:0.1; fill:none\" points=\"147.478,1126.65 2352.76,1126.65 \"/>\n",
       "<polyline clip-path=\"url(#clip392)\" style=\"stroke:#000000; stroke-linecap:round; stroke-linejoin:round; stroke-width:2; stroke-opacity:0.1; fill:none\" points=\"147.478,766.846 2352.76,766.846 \"/>\n",
       "<polyline clip-path=\"url(#clip392)\" style=\"stroke:#000000; stroke-linecap:round; stroke-linejoin:round; stroke-width:2; stroke-opacity:0.1; fill:none\" points=\"147.478,407.045 2352.76,407.045 \"/>\n",
       "<polyline clip-path=\"url(#clip392)\" style=\"stroke:#000000; stroke-linecap:round; stroke-linejoin:round; stroke-width:2; stroke-opacity:0.1; fill:none\" points=\"147.478,47.2441 2352.76,47.2441 \"/>\n",
       "<polyline clip-path=\"url(#clip390)\" style=\"stroke:#000000; stroke-linecap:round; stroke-linejoin:round; stroke-width:4; stroke-opacity:1; fill:none\" points=\"147.478,1486.45 147.478,47.2441 \"/>\n",
       "<polyline clip-path=\"url(#clip390)\" style=\"stroke:#000000; stroke-linecap:round; stroke-linejoin:round; stroke-width:4; stroke-opacity:1; fill:none\" points=\"147.478,1486.45 166.376,1486.45 \"/>\n",
       "<polyline clip-path=\"url(#clip390)\" style=\"stroke:#000000; stroke-linecap:round; stroke-linejoin:round; stroke-width:4; stroke-opacity:1; fill:none\" points=\"147.478,1126.65 166.376,1126.65 \"/>\n",
       "<polyline clip-path=\"url(#clip390)\" style=\"stroke:#000000; stroke-linecap:round; stroke-linejoin:round; stroke-width:4; stroke-opacity:1; fill:none\" points=\"147.478,766.846 166.376,766.846 \"/>\n",
       "<polyline clip-path=\"url(#clip390)\" style=\"stroke:#000000; stroke-linecap:round; stroke-linejoin:round; stroke-width:4; stroke-opacity:1; fill:none\" points=\"147.478,407.045 166.376,407.045 \"/>\n",
       "<polyline clip-path=\"url(#clip390)\" style=\"stroke:#000000; stroke-linecap:round; stroke-linejoin:round; stroke-width:4; stroke-opacity:1; fill:none\" points=\"147.478,47.2441 166.376,47.2441 \"/>\n",
       "<path clip-path=\"url(#clip390)\" d=\"M51.3625 1486.9 L81.0383 1486.9 L81.0383 1490.83 L51.3625 1490.83 L51.3625 1486.9 Z\" fill=\"#000000\" fill-rule=\"nonzero\" fill-opacity=\"1\" /><path clip-path=\"url(#clip390)\" d=\"M95.1586 1499.79 L111.478 1499.79 L111.478 1503.73 L89.5336 1503.73 L89.5336 1499.79 Q92.1956 1497.04 96.7789 1492.41 Q101.385 1487.76 102.566 1486.41 Q104.811 1483.89 105.691 1482.15 Q106.594 1480.39 106.594 1478.7 Q106.594 1475.95 104.649 1474.21 Q102.728 1472.48 99.6261 1472.48 Q97.4271 1472.48 94.9734 1473.24 Q92.5428 1474.01 89.7651 1475.56 L89.7651 1470.83 Q92.5891 1469.7 95.0428 1469.12 Q97.4965 1468.54 99.5335 1468.54 Q104.904 1468.54 108.098 1471.23 Q111.293 1473.91 111.293 1478.4 Q111.293 1480.53 110.483 1482.45 Q109.696 1484.35 107.589 1486.95 Q107.01 1487.62 103.909 1490.83 Q100.807 1494.03 95.1586 1499.79 Z\" fill=\"#000000\" fill-rule=\"nonzero\" fill-opacity=\"1\" /><path clip-path=\"url(#clip390)\" d=\"M50.9921 1127.1 L80.6679 1127.1 L80.6679 1131.03 L50.9921 1131.03 L50.9921 1127.1 Z\" fill=\"#000000\" fill-rule=\"nonzero\" fill-opacity=\"1\" /><path clip-path=\"url(#clip390)\" d=\"M91.5706 1139.99 L99.2095 1139.99 L99.2095 1113.63 L90.8993 1115.29 L90.8993 1111.03 L99.1632 1109.37 L103.839 1109.37 L103.839 1139.99 L111.478 1139.99 L111.478 1143.93 L91.5706 1143.93 L91.5706 1139.99 Z\" fill=\"#000000\" fill-rule=\"nonzero\" fill-opacity=\"1\" /><path clip-path=\"url(#clip390)\" d=\"M99.5335 752.645 Q95.9224 752.645 94.0937 756.209 Q92.2882 759.751 92.2882 766.881 Q92.2882 773.987 94.0937 777.552 Q95.9224 781.094 99.5335 781.094 Q103.168 781.094 104.973 777.552 Q106.802 773.987 106.802 766.881 Q106.802 759.751 104.973 756.209 Q103.168 752.645 99.5335 752.645 M99.5335 748.941 Q105.344 748.941 108.399 753.547 Q111.478 758.131 111.478 766.881 Q111.478 775.608 108.399 780.214 Q105.344 784.797 99.5335 784.797 Q93.7234 784.797 90.6447 780.214 Q87.5892 775.608 87.5892 766.881 Q87.5892 758.131 90.6447 753.547 Q93.7234 748.941 99.5335 748.941 Z\" fill=\"#000000\" fill-rule=\"nonzero\" fill-opacity=\"1\" /><path clip-path=\"url(#clip390)\" d=\"M91.5706 420.39 L99.2095 420.39 L99.2095 394.024 L90.8993 395.691 L90.8993 391.432 L99.1632 389.765 L103.839 389.765 L103.839 420.39 L111.478 420.39 L111.478 424.325 L91.5706 424.325 L91.5706 420.39 Z\" fill=\"#000000\" fill-rule=\"nonzero\" fill-opacity=\"1\" /><path clip-path=\"url(#clip390)\" d=\"M95.1586 60.5889 L111.478 60.5889 L111.478 64.5241 L89.5336 64.5241 L89.5336 60.5889 Q92.1956 57.8343 96.7789 53.2047 Q101.385 48.552 102.566 47.2094 Q104.811 44.6862 105.691 42.9501 Q106.594 41.1909 106.594 39.5011 Q106.594 36.7465 104.649 35.0104 Q102.728 33.2743 99.6261 33.2743 Q97.4271 33.2743 94.9734 34.0381 Q92.5428 34.802 89.7651 36.3529 L89.7651 31.6308 Q92.5891 30.4965 95.0428 29.9178 Q97.4965 29.3391 99.5335 29.3391 Q104.904 29.3391 108.098 32.0243 Q111.293 34.7094 111.293 39.2002 Q111.293 41.3298 110.483 43.2511 Q109.696 45.1492 107.589 47.7418 Q107.01 48.4131 103.909 51.6306 Q100.807 54.8251 95.1586 60.5889 Z\" fill=\"#000000\" fill-rule=\"nonzero\" fill-opacity=\"1\" /><polyline clip-path=\"url(#clip392)\" style=\"stroke:#009af9; stroke-linecap:round; stroke-linejoin:round; stroke-width:4; stroke-opacity:1; fill:none\" points=\"-2792.89,767.138 -2745.03,767.149 -2302.51,767.276 -2036.58,767.383 -1811.73,767.499 -1567.48,767.66 -1342.31,767.854 -1100.9,768.127 -821.204,768.562 -572.643,769.105 -354.677,769.759 -117.036,770.75 122.018,772.185 386.323,774.579 637.802,778.154 899.281,784.199 1119.39,792.511 1388.12,810.165 1634.29,840.66 1861.66,894.581 2091.96,1005.38 2350.08,1301.65 2583.97,2036.55 2851.76,5057.28 3099.7,19499.9 3221.93,48037.7 3344.15,148097 3462.82,612807 3581.49,4.1943e+06 3642.32,4.1943e+06 3703.14,4.1943e+06 3733.56,4.1943e+06 3763.97,4.1943e+06 3779.17,4.1943e+06 3794.38,4.1943e+06 3801.98,4.1943e+06 3809.59,4.1943e+06 3811.49,4.1943e+06 3813.39,4.1943e+06 3815.29,4.1943e+06 3817.19,4.1943e+06 3819.09,4.1943e+06 3820.99,4.1943e+06 3822.89,4.1943e+06 3824.79,-4.1943e+06 3826.88,-4.1943e+06 3828.96,-4.1943e+06 3831.04,-4.1943e+06 3833.12,-4.1943e+06 3837.29,-4.1943e+06 3841.45,-4.1943e+06 3849.78,-4.1943e+06 3858.11,-4.1943e+06 3874.78,-4.1943e+06 3891.44,-4.1943e+06 3924.76,-4.1943e+06 3958.08,-4.1943e+06 4024.72,-4.1943e+06 4091.36,-2.65962e+06 4284.98,-175284 4478.59,-29828.1 4518.31,-22032.8 4558.03,-16503.6 \"/>\n",
       "</svg>\n"
      ],
      "text/html": [
       "<?xml version=\"1.0\" encoding=\"utf-8\"?>\n",
       "<svg xmlns=\"http://www.w3.org/2000/svg\" xmlns:xlink=\"http://www.w3.org/1999/xlink\" width=\"600\" height=\"400\" viewBox=\"0 0 2400 1600\">\n",
       "<defs>\n",
       "  <clipPath id=\"clip440\">\n",
       "    <rect x=\"0\" y=\"0\" width=\"2400\" height=\"1600\"/>\n",
       "  </clipPath>\n",
       "</defs>\n",
       "<path clip-path=\"url(#clip440)\" d=\"M0 1600 L2400 1600 L2400 0 L0 0  Z\" fill=\"#ffffff\" fill-rule=\"evenodd\" fill-opacity=\"1\"/>\n",
       "<defs>\n",
       "  <clipPath id=\"clip441\">\n",
       "    <rect x=\"480\" y=\"0\" width=\"1681\" height=\"1600\"/>\n",
       "  </clipPath>\n",
       "</defs>\n",
       "<path clip-path=\"url(#clip440)\" d=\"M147.478 1486.45 L2352.76 1486.45 L2352.76 47.2441 L147.478 47.2441  Z\" fill=\"#ffffff\" fill-rule=\"evenodd\" fill-opacity=\"1\"/>\n",
       "<defs>\n",
       "  <clipPath id=\"clip442\">\n",
       "    <rect x=\"147\" y=\"47\" width=\"2206\" height=\"1440\"/>\n",
       "  </clipPath>\n",
       "</defs>\n",
       "<polyline clip-path=\"url(#clip442)\" style=\"stroke:#000000; stroke-linecap:round; stroke-linejoin:round; stroke-width:2; stroke-opacity:0.1; fill:none\" points=\"147.478,1486.45 147.478,47.2441 \"/>\n",
       "<polyline clip-path=\"url(#clip442)\" style=\"stroke:#000000; stroke-linecap:round; stroke-linejoin:round; stroke-width:2; stroke-opacity:0.1; fill:none\" points=\"882.571,1486.45 882.571,47.2441 \"/>\n",
       "<polyline clip-path=\"url(#clip442)\" style=\"stroke:#000000; stroke-linecap:round; stroke-linejoin:round; stroke-width:2; stroke-opacity:0.1; fill:none\" points=\"1617.66,1486.45 1617.66,47.2441 \"/>\n",
       "<polyline clip-path=\"url(#clip442)\" style=\"stroke:#000000; stroke-linecap:round; stroke-linejoin:round; stroke-width:2; stroke-opacity:0.1; fill:none\" points=\"2352.76,1486.45 2352.76,47.2441 \"/>\n",
       "<polyline clip-path=\"url(#clip440)\" style=\"stroke:#000000; stroke-linecap:round; stroke-linejoin:round; stroke-width:4; stroke-opacity:1; fill:none\" points=\"147.478,1486.45 2352.76,1486.45 \"/>\n",
       "<polyline clip-path=\"url(#clip440)\" style=\"stroke:#000000; stroke-linecap:round; stroke-linejoin:round; stroke-width:4; stroke-opacity:1; fill:none\" points=\"147.478,1486.45 147.478,1467.55 \"/>\n",
       "<polyline clip-path=\"url(#clip440)\" style=\"stroke:#000000; stroke-linecap:round; stroke-linejoin:round; stroke-width:4; stroke-opacity:1; fill:none\" points=\"882.571,1486.45 882.571,1467.55 \"/>\n",
       "<polyline clip-path=\"url(#clip440)\" style=\"stroke:#000000; stroke-linecap:round; stroke-linejoin:round; stroke-width:4; stroke-opacity:1; fill:none\" points=\"1617.66,1486.45 1617.66,1467.55 \"/>\n",
       "<polyline clip-path=\"url(#clip440)\" style=\"stroke:#000000; stroke-linecap:round; stroke-linejoin:round; stroke-width:4; stroke-opacity:1; fill:none\" points=\"2352.76,1486.45 2352.76,1467.55 \"/>\n",
       "<path clip-path=\"url(#clip440)\" d=\"M117.235 1532.02 L146.911 1532.02 L146.911 1535.95 L117.235 1535.95 L117.235 1532.02 Z\" fill=\"#000000\" fill-rule=\"nonzero\" fill-opacity=\"1\" /><path clip-path=\"url(#clip440)\" d=\"M157.814 1544.91 L165.452 1544.91 L165.452 1518.55 L157.142 1520.21 L157.142 1515.95 L165.406 1514.29 L170.082 1514.29 L170.082 1544.91 L177.721 1544.91 L177.721 1548.85 L157.814 1548.85 L157.814 1544.91 Z\" fill=\"#000000\" fill-rule=\"nonzero\" fill-opacity=\"1\" /><path clip-path=\"url(#clip440)\" d=\"M882.571 1517.37 Q878.959 1517.37 877.131 1520.93 Q875.325 1524.47 875.325 1531.6 Q875.325 1538.71 877.131 1542.27 Q878.959 1545.82 882.571 1545.82 Q886.205 1545.82 888.01 1542.27 Q889.839 1538.71 889.839 1531.6 Q889.839 1524.47 888.01 1520.93 Q886.205 1517.37 882.571 1517.37 M882.571 1513.66 Q888.381 1513.66 891.436 1518.27 Q894.515 1522.85 894.515 1531.6 Q894.515 1540.33 891.436 1544.94 Q888.381 1549.52 882.571 1549.52 Q876.76 1549.52 873.682 1544.94 Q870.626 1540.33 870.626 1531.6 Q870.626 1522.85 873.682 1518.27 Q876.76 1513.66 882.571 1513.66 Z\" fill=\"#000000\" fill-rule=\"nonzero\" fill-opacity=\"1\" /><path clip-path=\"url(#clip440)\" d=\"M1608.05 1544.91 L1615.68 1544.91 L1615.68 1518.55 L1607.37 1520.21 L1607.37 1515.95 L1615.64 1514.29 L1620.31 1514.29 L1620.31 1544.91 L1627.95 1544.91 L1627.95 1548.85 L1608.05 1548.85 L1608.05 1544.91 Z\" fill=\"#000000\" fill-rule=\"nonzero\" fill-opacity=\"1\" /><path clip-path=\"url(#clip440)\" d=\"M2347.41 1544.91 L2363.73 1544.91 L2363.73 1548.85 L2341.78 1548.85 L2341.78 1544.91 Q2344.45 1542.16 2349.03 1537.53 Q2353.64 1532.88 2354.82 1531.53 Q2357.06 1529.01 2357.94 1527.27 Q2358.84 1525.51 2358.84 1523.82 Q2358.84 1521.07 2356.9 1519.33 Q2354.98 1517.6 2351.88 1517.6 Q2349.68 1517.6 2347.22 1518.36 Q2344.79 1519.13 2342.02 1520.68 L2342.02 1515.95 Q2344.84 1514.82 2347.29 1514.24 Q2349.75 1513.66 2351.78 1513.66 Q2357.15 1513.66 2360.35 1516.35 Q2363.54 1519.03 2363.54 1523.52 Q2363.54 1525.65 2362.73 1527.57 Q2361.95 1529.47 2359.84 1532.07 Q2359.26 1532.74 2356.16 1535.95 Q2353.06 1539.15 2347.41 1544.91 Z\" fill=\"#000000\" fill-rule=\"nonzero\" fill-opacity=\"1\" /><polyline clip-path=\"url(#clip442)\" style=\"stroke:#000000; stroke-linecap:round; stroke-linejoin:round; stroke-width:2; stroke-opacity:0.1; fill:none\" points=\"147.478,1486.45 2352.76,1486.45 \"/>\n",
       "<polyline clip-path=\"url(#clip442)\" style=\"stroke:#000000; stroke-linecap:round; stroke-linejoin:round; stroke-width:2; stroke-opacity:0.1; fill:none\" points=\"147.478,1126.65 2352.76,1126.65 \"/>\n",
       "<polyline clip-path=\"url(#clip442)\" style=\"stroke:#000000; stroke-linecap:round; stroke-linejoin:round; stroke-width:2; stroke-opacity:0.1; fill:none\" points=\"147.478,766.846 2352.76,766.846 \"/>\n",
       "<polyline clip-path=\"url(#clip442)\" style=\"stroke:#000000; stroke-linecap:round; stroke-linejoin:round; stroke-width:2; stroke-opacity:0.1; fill:none\" points=\"147.478,407.045 2352.76,407.045 \"/>\n",
       "<polyline clip-path=\"url(#clip442)\" style=\"stroke:#000000; stroke-linecap:round; stroke-linejoin:round; stroke-width:2; stroke-opacity:0.1; fill:none\" points=\"147.478,47.2441 2352.76,47.2441 \"/>\n",
       "<polyline clip-path=\"url(#clip440)\" style=\"stroke:#000000; stroke-linecap:round; stroke-linejoin:round; stroke-width:4; stroke-opacity:1; fill:none\" points=\"147.478,1486.45 147.478,47.2441 \"/>\n",
       "<polyline clip-path=\"url(#clip440)\" style=\"stroke:#000000; stroke-linecap:round; stroke-linejoin:round; stroke-width:4; stroke-opacity:1; fill:none\" points=\"147.478,1486.45 166.376,1486.45 \"/>\n",
       "<polyline clip-path=\"url(#clip440)\" style=\"stroke:#000000; stroke-linecap:round; stroke-linejoin:round; stroke-width:4; stroke-opacity:1; fill:none\" points=\"147.478,1126.65 166.376,1126.65 \"/>\n",
       "<polyline clip-path=\"url(#clip440)\" style=\"stroke:#000000; stroke-linecap:round; stroke-linejoin:round; stroke-width:4; stroke-opacity:1; fill:none\" points=\"147.478,766.846 166.376,766.846 \"/>\n",
       "<polyline clip-path=\"url(#clip440)\" style=\"stroke:#000000; stroke-linecap:round; stroke-linejoin:round; stroke-width:4; stroke-opacity:1; fill:none\" points=\"147.478,407.045 166.376,407.045 \"/>\n",
       "<polyline clip-path=\"url(#clip440)\" style=\"stroke:#000000; stroke-linecap:round; stroke-linejoin:round; stroke-width:4; stroke-opacity:1; fill:none\" points=\"147.478,47.2441 166.376,47.2441 \"/>\n",
       "<path clip-path=\"url(#clip440)\" d=\"M51.3625 1486.9 L81.0383 1486.9 L81.0383 1490.83 L51.3625 1490.83 L51.3625 1486.9 Z\" fill=\"#000000\" fill-rule=\"nonzero\" fill-opacity=\"1\" /><path clip-path=\"url(#clip440)\" d=\"M95.1586 1499.79 L111.478 1499.79 L111.478 1503.73 L89.5336 1503.73 L89.5336 1499.79 Q92.1956 1497.04 96.7789 1492.41 Q101.385 1487.76 102.566 1486.41 Q104.811 1483.89 105.691 1482.15 Q106.594 1480.39 106.594 1478.7 Q106.594 1475.95 104.649 1474.21 Q102.728 1472.48 99.6261 1472.48 Q97.4271 1472.48 94.9734 1473.24 Q92.5428 1474.01 89.7651 1475.56 L89.7651 1470.83 Q92.5891 1469.7 95.0428 1469.12 Q97.4965 1468.54 99.5335 1468.54 Q104.904 1468.54 108.098 1471.23 Q111.293 1473.91 111.293 1478.4 Q111.293 1480.53 110.483 1482.45 Q109.696 1484.35 107.589 1486.95 Q107.01 1487.62 103.909 1490.83 Q100.807 1494.03 95.1586 1499.79 Z\" fill=\"#000000\" fill-rule=\"nonzero\" fill-opacity=\"1\" /><path clip-path=\"url(#clip440)\" d=\"M50.9921 1127.1 L80.6679 1127.1 L80.6679 1131.03 L50.9921 1131.03 L50.9921 1127.1 Z\" fill=\"#000000\" fill-rule=\"nonzero\" fill-opacity=\"1\" /><path clip-path=\"url(#clip440)\" d=\"M91.5706 1139.99 L99.2095 1139.99 L99.2095 1113.63 L90.8993 1115.29 L90.8993 1111.03 L99.1632 1109.37 L103.839 1109.37 L103.839 1139.99 L111.478 1139.99 L111.478 1143.93 L91.5706 1143.93 L91.5706 1139.99 Z\" fill=\"#000000\" fill-rule=\"nonzero\" fill-opacity=\"1\" /><path clip-path=\"url(#clip440)\" d=\"M99.5335 752.645 Q95.9224 752.645 94.0937 756.209 Q92.2882 759.751 92.2882 766.881 Q92.2882 773.987 94.0937 777.552 Q95.9224 781.094 99.5335 781.094 Q103.168 781.094 104.973 777.552 Q106.802 773.987 106.802 766.881 Q106.802 759.751 104.973 756.209 Q103.168 752.645 99.5335 752.645 M99.5335 748.941 Q105.344 748.941 108.399 753.547 Q111.478 758.131 111.478 766.881 Q111.478 775.608 108.399 780.214 Q105.344 784.797 99.5335 784.797 Q93.7234 784.797 90.6447 780.214 Q87.5892 775.608 87.5892 766.881 Q87.5892 758.131 90.6447 753.547 Q93.7234 748.941 99.5335 748.941 Z\" fill=\"#000000\" fill-rule=\"nonzero\" fill-opacity=\"1\" /><path clip-path=\"url(#clip440)\" d=\"M91.5706 420.39 L99.2095 420.39 L99.2095 394.024 L90.8993 395.691 L90.8993 391.432 L99.1632 389.765 L103.839 389.765 L103.839 420.39 L111.478 420.39 L111.478 424.325 L91.5706 424.325 L91.5706 420.39 Z\" fill=\"#000000\" fill-rule=\"nonzero\" fill-opacity=\"1\" /><path clip-path=\"url(#clip440)\" d=\"M95.1586 60.5889 L111.478 60.5889 L111.478 64.5241 L89.5336 64.5241 L89.5336 60.5889 Q92.1956 57.8343 96.7789 53.2047 Q101.385 48.552 102.566 47.2094 Q104.811 44.6862 105.691 42.9501 Q106.594 41.1909 106.594 39.5011 Q106.594 36.7465 104.649 35.0104 Q102.728 33.2743 99.6261 33.2743 Q97.4271 33.2743 94.9734 34.0381 Q92.5428 34.802 89.7651 36.3529 L89.7651 31.6308 Q92.5891 30.4965 95.0428 29.9178 Q97.4965 29.3391 99.5335 29.3391 Q104.904 29.3391 108.098 32.0243 Q111.293 34.7094 111.293 39.2002 Q111.293 41.3298 110.483 43.2511 Q109.696 45.1492 107.589 47.7418 Q107.01 48.4131 103.909 51.6306 Q100.807 54.8251 95.1586 60.5889 Z\" fill=\"#000000\" fill-rule=\"nonzero\" fill-opacity=\"1\" /><polyline clip-path=\"url(#clip442)\" style=\"stroke:#009af9; stroke-linecap:round; stroke-linejoin:round; stroke-width:4; stroke-opacity:1; fill:none\" points=\"-2792.89,767.138 -2745.03,767.149 -2302.51,767.276 -2036.58,767.383 -1811.73,767.499 -1567.48,767.66 -1342.31,767.854 -1100.9,768.127 -821.204,768.562 -572.643,769.105 -354.677,769.759 -117.036,770.75 122.018,772.185 386.323,774.579 637.802,778.154 899.281,784.199 1119.39,792.511 1388.12,810.165 1634.29,840.66 1861.66,894.581 2091.96,1005.38 2350.08,1301.65 2583.97,2036.55 2851.76,5057.28 3099.7,19499.9 3221.93,48037.7 3344.15,148097 3462.82,612807 3581.49,4.1943e+06 3642.32,4.1943e+06 3703.14,4.1943e+06 3733.56,4.1943e+06 3763.97,4.1943e+06 3779.17,4.1943e+06 3794.38,4.1943e+06 3801.98,4.1943e+06 3809.59,4.1943e+06 3811.49,4.1943e+06 3813.39,4.1943e+06 3815.29,4.1943e+06 3817.19,4.1943e+06 3819.09,4.1943e+06 3820.99,4.1943e+06 3822.89,4.1943e+06 3824.79,-4.1943e+06 3826.88,-4.1943e+06 3828.96,-4.1943e+06 3831.04,-4.1943e+06 3833.12,-4.1943e+06 3837.29,-4.1943e+06 3841.45,-4.1943e+06 3849.78,-4.1943e+06 3858.11,-4.1943e+06 3874.78,-4.1943e+06 3891.44,-4.1943e+06 3924.76,-4.1943e+06 3958.08,-4.1943e+06 4024.72,-4.1943e+06 4091.36,-2.65962e+06 4284.98,-175284 4478.59,-29828.1 4518.31,-22032.8 4558.03,-16503.6 \"/>\n",
       "</svg>\n"
      ]
     },
     "execution_count": 40,
     "metadata": {},
     "output_type": "execute_result"
    }
   ],
   "source": [
    "plot(f14,label=\"\")\n",
    "xlims!(-1,2)\n",
    "ylims!(-2,2)"
   ]
  },
  {
   "cell_type": "code",
   "execution_count": null,
   "metadata": {},
   "outputs": [],
   "source": [
    "#vemos que cero es cota para la derivada segunda y cuarta\n",
    "\n",
    "\n",
    "\n"
   ]
  },
  {
   "cell_type": "code",
   "execution_count": 144,
   "metadata": {},
   "outputs": [
    {
     "data": {
      "text/plain": [
       "j (generic function with 1 method)"
      ]
     },
     "execution_count": 144,
     "metadata": {},
     "output_type": "execute_result"
    }
   ],
   "source": [
    "#=function ESM(a,b,M,n)\n",
    "    h = (b-a)/(n+2)\n",
    "    e = ((b-a)/6)*(h^2)*M \n",
    "    return e\n",
    "end\n",
    "function EST(a,b,M,n)\n",
    "    h = (b-a)/n\n",
    "    e = ((b-a)/12)*(h^2)*M \n",
    "    return e\n",
    "end\n",
    "function ESS(a,b,M,n)\n",
    "    h = (b-a)/n\n",
    "    e = ((b-a)/180)*(h^4)*M \n",
    "    return e \n",
    "end=#\n",
    "\n",
    "\n",
    "\n",
    "#= Ejemplo de uso\n",
    "a = 0.0\n",
    "b = 1.0\n",
    "n = 10\n",
    "M_punto_medio = 1.0  # Supongamos que esta es la cota máxima de |f''(x)|\n",
    "M_trapecio = 1.0     # Supongamos que esta es la cota máxima de |f''(x)|\n",
    "M_simpson = 1.0      # Supongamos que esta es la cota máxima de |f^{(4)}(x)|\n",
    "\n",
    "error_pm = error_punto_medio(a, b, n, M_punto_medio)\n",
    "error_tr = error_trapecio(a, b, n, M_trapecio)\n",
    "error_simp = error_simpson(a, b, n, M_simpson)\n",
    "\n",
    "println(\"Error del método del punto medio: $error_pm\")\n",
    "println(\"Error del método del trapecio: $error_tr\")\n",
    "println(\"Error del método de Simpson: $error_simp\")=#"
   ]
  },
  {
   "cell_type": "code",
   "execution_count": null,
   "metadata": {},
   "outputs": [],
   "source": []
  },
  {
   "cell_type": "markdown",
   "metadata": {},
   "source": [
    "## Problema 5\n",
    "**Comparación de métodos.**\n",
    "\n",
    "1. Aproxime la integral\n",
    "\\begin{equation*}\n",
    "I = \\int_0^1 e^{-t} dt = 1 - e^{-1}  \\nonumber              \n",
    "\\end{equation*}\n",
    "empleando los algoritmos del problema 3.\n",
    "\n",
    "2. Calcule el error relativo $E$ para $n\\in [2,4,8,...,4096]$ ($n=2^i$ con $i=1,2,...$) y grafique $E$ vs $n$ en *log-log*.\n",
    "\n",
    "\n",
    "3. Verifique visualmente que se satisfacen leyes de potencia\n",
    "$$\n",
    "E = Cn^{-\\alpha}\n",
    "$$\n",
    "y estime visualmente los valores de $C>0$ y $\\alpha>0$.\n",
    "\n",
    "4. Use el gráfico para estimar, para cada método, el mínimo $n$ al cuál se alcanza una precisión $E<10^{-7}$.\n",
    "\n",
    "5. Repita los incisos anteriores en `Float16` y `Float32`.\n",
    "\n",
    "6. Determine si el error de redondeo es relevante en estos casos."
   ]
  },
  {
   "cell_type": "code",
   "execution_count": null,
   "metadata": {},
   "outputs": [],
   "source": []
  },
  {
   "cell_type": "markdown",
   "metadata": {},
   "source": [
    "## Problema 6\n",
    "En el repositorio se encuentran dos archivos de datos, \n",
    "\n",
    "    mediciones1-c1-g6.dat \n",
    "    mediciones2-c1-g6.dat\n",
    "\n",
    "Los mismos almacenan mediciones de una función $f(t)$ sobre un mismo rango de $t$. El primero muestrea $n=629$ puntos y el segundo $n=10001$.\n",
    "\n",
    "1. Baje y grafique los datos.\n",
    "\n",
    "2. Copie y modifique los algoritmos del problema 3 para integrar muestreos de funciones.\n",
    "\n",
    "3. Integre los muestreos y compare."
   ]
  },
  {
   "cell_type": "code",
   "execution_count": null,
   "metadata": {},
   "outputs": [],
   "source": []
  },
  {
   "cell_type": "markdown",
   "metadata": {},
   "source": [
    "# Ejercicios Complementarios"
   ]
  },
  {
   "cell_type": "markdown",
   "metadata": {},
   "source": [
    "## Problema C.1\n",
    "Idem problema 4, para las siguientes integrales: \n",
    "1. $\\int_{1/2}^1 x^4 dx$\n",
    "2. $\\int_0^{\\pi/4} x \\sin x dx$"
   ]
  },
  {
   "cell_type": "markdown",
   "metadata": {},
   "source": [
    "**Teoría:** Para los metodos de punto medio y trapecio el error es $\\mathcal{O}(h^2)$ y está acotado por (en término de n):\n",
    "\n",
    "$$\n",
    "E_T = \\frac{(b-a)^3}{12n^2}M_2 \\;\\;\\;\\;\\;\\;\\; E_M = \\frac{(b-a)^3}{24n^2}M_2,\n",
    "$$\n",
    "\n",
    "donde \n",
    "$$\n",
    "M_2 = \\max_{x \\in [a,b]}\\{|f''(x)|\\}\n",
    "$$\n",
    "\n",
    "Para el método de Simpson el error es $\\mathcal{O}(h^4)$ está acotado por \n",
    "\n",
    "$$\n",
    "E_S = \\frac{(b-a)^5}{180n^4}M_4 \n",
    "$$\n",
    "\n",
    "donde \n",
    "$$\n",
    "M_4 = \\max_{x \\in [a,b]}\\{|f^{(4)}(x)|\\}\n",
    "$$\n"
   ]
  },
  {
   "cell_type": "code",
   "execution_count": null,
   "metadata": {},
   "outputs": [],
   "source": []
  },
  {
   "cell_type": "markdown",
   "metadata": {},
   "source": [
    "## Problema C.2\n",
    "**Integración numérica en dos dimensiones**\n",
    "1. Haga un programa que integre funciones en la region $a\\le x \\le b\\,;\\;c \\le y \\le d$ siguiendo el código delineado en la clase teórica, usando el método de cuadratura de Simpson en cada coordenada.\n",
    "2. Evalue nume\n",
    "ricamente con no menos de 8 cifras significativas las integrales\n",
    "$$\n",
    "\\int_0^2\\,dx\\, \\int_0^1\\,dy\\, e^{-x\\,y} \\;\\;\\;\\;\\;\\;\\;\\;\\;\\;\\;\\;\\;\\;\n",
    "\\int_{7/5}^2\\,dx\\, \\int_1^{3/2}\\,dy\\, \\ln{(x+2 y)}\n",
    "$$\n",
    "3. Modifique el programa para permitir que los límites de integración en $y$ sean función de $x$ y evalue la integral\n",
    "$$\n",
    "\\int_0^1\\,dx\\, \\int_0^{\\sqrt{1-x^2}}\\,dy\\, e^{-x\\,y} \n",
    "$$"
   ]
  },
  {
   "cell_type": "code",
   "execution_count": null,
   "metadata": {},
   "outputs": [],
   "source": []
  }
 ],
 "metadata": {
  "@webio": {
   "lastCommId": null,
   "lastKernelId": null
  },
  "kernelspec": {
   "display_name": "Julia 1.10.2",
   "language": "julia",
   "name": "julia-1.10"
  },
  "language_info": {
   "file_extension": ".jl",
   "mimetype": "application/julia",
   "name": "julia",
   "version": "1.10.2"
  }
 },
 "nbformat": 4,
 "nbformat_minor": 4
}
