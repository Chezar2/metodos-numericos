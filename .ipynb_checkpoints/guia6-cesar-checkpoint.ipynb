{
 "cells": [
  {
   "cell_type": "markdown",
   "metadata": {},
   "source": [
    "# Métodos Numéricos (2024)\n",
    "\n",
    "## Guía 6: Integración Numérica"
   ]
  },
  {
   "cell_type": "code",
   "execution_count": 30,
   "metadata": {},
   "outputs": [],
   "source": [
    "using Plots\n",
    "using LaTeXStrings\n",
    "#import Pkg; Pkg.add(\"DataFrames\")\n",
    "using DataFrames"
   ]
  },
  {
   "cell_type": "markdown",
   "metadata": {},
   "source": [
    "## Problema 1\n",
    "1. Haciendo los calculos a mano y trabajando con 7 cifras significativas, encuentre las aproximaciones a las integrales definidas:\n",
    "\n",
    "    a. $I_1 = \\int_0^1 x^4 dx$\n",
    "\n",
    "    b. $I_2 = \\int_0^{\\pi} \\sin{(x)} dx$\n",
    "\n",
    "utilizando las reglas simples de *i) punto medio*, *ii) trapecio* y *iii) Simpson*. \n",
    "\n",
    "2. Calcule el error absoluto y el error relativo en cada caso y para cada método."
   ]
  },
  {
   "cell_type": "markdown",
   "metadata": {},
   "source": [
    "**Teoría**\n",
    "\n",
    "La regla simple del punto medio es:\n",
    "$$\n",
    "\\int_a^b dx\\, f(x) \\approx (b-a)f\\bigg(\\frac{a+b}{2}\\bigg)\n",
    "$$\n",
    "\n",
    "La regla simple del trapecio es:\n",
    "$$\n",
    "\\int_a^b dx\\, f(x) \\approx \\frac{b-a}{2}\\bigg(f(a) + f(b)\\bigg)\n",
    "$$\n",
    "\n",
    "La regla simple de Simpson es:\n",
    "$$\n",
    "\\int_a^b dx\\, f(x) \\approx \\frac{b-a}{6}\\bigg(f(a) + 4f\\bigg(\\frac{a+b}{2}\\bigg) + f(b)\\bigg)\n",
    "$$"
   ]
  },
  {
   "cell_type": "code",
   "execution_count": 133,
   "metadata": {},
   "outputs": [
    {
     "data": {
      "text/plain": [
       "simpson (generic function with 1 method)"
      ]
     },
     "execution_count": 133,
     "metadata": {},
     "output_type": "execute_result"
    }
   ],
   "source": [
    "#funciones para luego\n",
    "function punto_medio(f,a,b)\n",
    "    t=(b-a)*(f((a+b)/2))\n",
    "    return t\n",
    "end\n",
    "function trapecio(f,a,b)\n",
    "    t=((b-a)/2)*(f(a)+f(b))\n",
    "    return t\n",
    "end\n",
    "function simpson(f,a,b)\n",
    "    t=(b-a)/6 *(f(a)+4*(f((b+a)/2))+f(b))\n",
    "    return t\n",
    "end"
   ]
  },
  {
   "cell_type": "code",
   "execution_count": 134,
   "metadata": {},
   "outputs": [
    {
     "name": "stdout",
     "output_type": "stream",
     "text": [
      "I1: punto medio: 0.0625, trapecio:0.0, simpson:0.20833333333333331\n",
      "I2: punto medio: 3.141592653589793, trapecio:1.5707963267948966, simpson:2.0943951023931953\n"
     ]
    }
   ],
   "source": [
    "setprecision(7) # para trabajar con esa presición  ^2\n",
    "#I1\n",
    "#punto medio:\n",
    "I11=(1)*((1/2)^4)\n",
    "#trapecio\n",
    "I12=(1/2)*(sin(π)+sin(0))\n",
    "#simpson\n",
    "I13=(1/6)*(0+4*((1/2)^4)+(1^4))\n",
    "\n",
    "#I2\n",
    "#punto medio:\n",
    "I21=(π)*(sin(π/2))\n",
    "#trapecio\n",
    "I22=(π/2)*(1^4)\n",
    "#simpson\n",
    "I23=(π/6)*(sin(0)+4*(sin(π/2))+(sin(π)))\n",
    "\n",
    "println(\"I1: punto medio: $(I11), trapecio:$(I12), simpson:$(I13)\")#la exacta es 0.2\n",
    "println(\"I2: punto medio: $(I21), trapecio:$(I22), simpson:$(I23)\")#la exacta es 2"
   ]
  },
  {
   "cell_type": "code",
   "execution_count": 135,
   "metadata": {},
   "outputs": [
    {
     "name": "stdout",
     "output_type": "stream",
     "text": [
      "I1: E_punto medio: 0.1375, E_trapecio:0.2, E_simpson:0.008333333333333304\n",
      "I2: E_punto medio: 2.941592653589793, E_trapecio:1.3707963267948966, E_simpson:1.8943951023931953\n"
     ]
    }
   ],
   "source": [
    "#calculo de error\n",
    "#setprecision(7)\n",
    "I1=(1.0/5.0)\n",
    "I2=1.0\n",
    "function error1(a)\n",
    "   return abs(a-I1) \n",
    "end\n",
    "function error2(a)\n",
    "   return abs(a-I1) \n",
    "end\n",
    "#acá me compliqué un poco, pero son unas funciones que sacan el error restando lo calculado manualmente I1,I2 (valor real)\n",
    "#con el valor aproximado los sacados por los metodos I11,I12,etc.\n",
    "println(\"I1: E_punto medio: $(error1(I11)), E_trapecio:$(error1(I12)), E_simpson:$(error1(I13))\")\n",
    "println(\"I2: E_punto medio: $(error2(I21)), E_trapecio:$(error2(I22)), E_simpson:$(error2(I23))\")#comparar con alguien, no se si está bien"
   ]
  },
  {
   "cell_type": "markdown",
   "metadata": {},
   "source": [
    "## Problema 2\n",
    "\n",
    "1. Repita el problema 1 dividiendo el intervalo de integración en dos subintervalos de igual tamaño. Es decir:\n",
    "\n",
    "    a. $I_1=\\int_0^{1/2} x^4 dx+ \\int_{1/2}^1 x^4 dx$\n",
    "\n",
    "    b. $I_2=\\int_0^{\\pi/2}\\sin{(x)}dx+\\int_{\\pi/2}^{\\pi}\\sin{(x)} dx$\n",
    "\n",
    "2. Compare resultados con lo obtenido en el problema 1."
   ]
  },
  {
   "cell_type": "code",
   "execution_count": 136,
   "metadata": {},
   "outputs": [
    {
     "name": "stdout",
     "output_type": "stream",
     "text": [
      "I1: punto medio: 0.16015625, trapecio:0.28125, simpson:0.20052083333333331\n",
      "I2: punto medio: 2.221441469079183, trapecio:1.5707963267948966, simpson:2.0045597549844207\n"
     ]
    }
   ],
   "source": [
    "#1a\n",
    "#I1\n",
    "f(x)=x^4\n",
    "I11=punto_medio(f,0,0.5)+punto_medio(f,0.5,1)\n",
    "I12=trapecio(f,0,0.5)+trapecio(f,0.5,1)\n",
    "I13=simpson(f,0,0.5)+simpson(f,0.5,1)\n",
    "#I2\n",
    "f(x)=sin(x) #reescribo f para no tener q cambiar codigo\n",
    "I21=punto_medio(f,0,π/2)+punto_medio(f,π/2,π)\n",
    "I22=trapecio(f,0,π/2)+trapecio(f,π/2,π)\n",
    "I23=simpson(f,0,π/2)+simpson(f,π/2,π)\n",
    "#imprimo todo\n",
    "println(\"I1: punto medio: $(I11), trapecio:$(I12), simpson:$(I13)\") #salieron bien creo, la exacta es 0.2\n",
    "println(\"I2: punto medio: $(I21), trapecio:$(I22), simpson:$(I23)\") #la exacta es 2"
   ]
  },
  {
   "cell_type": "markdown",
   "metadata": {},
   "source": [
    "## Problema 3\n",
    "1. Construya funciones que dada una función arbitraria, retornen  las aproximaciones numéricas $S_M$, $S_T$ y $S_S$ a una integral de la forma\n",
    "$$\n",
    "I = \\int_a ^b f(x) dx\n",
    "$$\n",
    "utilizando las reglas compuestas del *punto medio*, del *trapecio* y de *Simpson*, respectivamente.\n",
    "Las funciones deben evaluar el integrando $f(x)$ en $n+1$ puntos equiespaciados $x_i$ para $i=0,1,2,...,n$ y con espaciamiento $h=(b-a)/n$.\n",
    "En el caso del punto medio, se evalúa en los $x_i+h/2$ para $i=0,1,...,n-1$.\n",
    "\n",
    "2. Calcule $S_M$, $S_T$ y $S_S$ para la integral:\n",
    "$$\n",
    "I = \\int _0 ^1 e^{-x} dx\n",
    "$$\n",
    "Utilice un espaciamiento $h_1=0.05$ em ambos casos. Luego repita el procedimiento disminuyendo su \n",
    "espaciamiento a la mitad, $h_2=h_1/2=0.025$.\n",
    "\n",
    "3. Teniendo en cuenta que es posible conocer el resultado exacto de la integral en cuestión, evalúe el error\n",
    "$\\varepsilon(h)=|S-I|$, para $h=0.05$ y $h=0.025$ para los tres métodos de aproximación.\n",
    "Verifique que el cociente de precisión, definido como \n",
    "$$\n",
    "Q = \\frac{\\varepsilon(h)}{\\varepsilon(h/2)}\n",
    "$$\n",
    "toma un valor aproximado a $4$ cuando se usa la regla del *punto medio* y del *trapecio*, y un valor aproximado a $16$ cuando se usa la regla de *Simpson*. \n",
    "Teniendo en cuenta la expresión del error de truncamiento en cada caso, justifique este resultado.\n",
    "\n",
    "**Consejo:** tener cuidado con *Simpson* en elegir siempre un número par de intervalos, i.e, un número impar de puntos. Pruebe con una integral conocida, qué resultados da cuando usa un número impar de intervalos. Incluya en la función para dicho método un chequeo de que el número de puntos sea par."
   ]
  },
  {
   "cell_type": "code",
   "execution_count": 137,
   "metadata": {},
   "outputs": [
    {
     "data": {
      "text/plain": [
       "segundo_generador_puntos_equispaciados (generic function with 1 method)"
      ]
     },
     "execution_count": 137,
     "metadata": {},
     "output_type": "execute_result"
    }
   ],
   "source": [
    "#3.1\n",
    "function primer_generador_puntos_equispaciados(a,b,n) #tengo que hacer dos //con n intervalos\n",
    "    puntos=zeros(n+1)\n",
    "    h=(b-a)/n\n",
    "    puntos[1]=a\n",
    "    for i in 2:(n+1)\n",
    "        puntos[i]= puntos[i-1]+h #vos aumentado el valor con h\n",
    "    end\n",
    "    return puntos\n",
    "end\n",
    "function segundo_generador_puntos_equispaciados(a,b,n) #solo n-1 intervalos\n",
    "    puntos=zeros(n)\n",
    "    h=(b-a)/(n) #es h/2\n",
    "    puntos[1]=a\n",
    "    for i in 2:(n)\n",
    "        puntos[i]= puntos[i-1]+h #vos aumentado el valor con h\n",
    "    end\n",
    "    return puntos\n",
    "end\n",
    "     #   #generador_puntos_equispaciados(0,10,4) #funciona bien"
   ]
  },
  {
   "cell_type": "code",
   "execution_count": 138,
   "metadata": {},
   "outputs": [
    {
     "data": {
      "text/plain": [
       "S_s (generic function with 1 method)"
      ]
     },
     "execution_count": 138,
     "metadata": {},
     "output_type": "execute_result"
    }
   ],
   "source": [
    "#como al principio ya habia armado las funciones que calcula la intergral entres dos puntos, \n",
    "#ahora solo me queda armar una funcion que las llame por pequeños intervalos (con los puntos recien generados como extremos)\n",
    "#y sume los valores, para tener la integral total de la funcion elegida.\n",
    "#=function S_M(f,a,b,n)#n es la cantidad de intervalos que quiero\n",
    "    puntos=segundo_generador_puntos_equispaciados(a,b,n) #llamo la funcion creadora de puntos\n",
    "    suma=0.0\n",
    "    for i in 1:(n-1) # le resto uno para que no de error en la ultima iteración, por usar [i+1]\n",
    "    suma+=punto_medio(f,puntos[i],puntos[i+1]) #voy sumando las integrales en cada intervalo\n",
    "    end\n",
    "    return suma\n",
    "end =#\n",
    "function S_m(f,a,b,n)\n",
    "    h=(b-a)/n\n",
    "    x=zeros(n+1)\n",
    "    x[1]=a\n",
    "    ls=[]\n",
    "    for i in 1:n\n",
    "        x[i+1]=x[i]+h\n",
    "        I=punto_medio(f,x[i],x[i+1]) \n",
    "        push!(ls,I)\n",
    "    end\n",
    "    return sum(ls)\n",
    "end\n",
    "function S_T(f,a,b,n)#n es la cantidad de intervalos que quiero\n",
    "    puntos=primer_generador_puntos_equispaciados(a,b,n) #llamo la funcion creadora de puntos\n",
    "    suma=0.0\n",
    "    for i in 1:(n) # le resto uno para que no de error en la ultima iteración, por usar [i+1]\n",
    "    suma+=trapecio(f,puntos[i],puntos[i+1]) #voy sumando las integrales en cada intervalo\n",
    "    end\n",
    "    return suma\n",
    "end\n",
    "#=function S_S(f,a,b,n)#n es la cantidad de intervalos que quiero\n",
    "    puntos=primer_generador_puntos_equispaciados(a,b,n) #llamo la funcion creadora de puntos\n",
    "    suma=0.0\n",
    "    if n%2==1\n",
    "        println(\"es impar rey\")\n",
    "        return 0\n",
    "    else\n",
    "        for i in 1:n # le resto uno para que no de error en la ultima iteración, por usar [i+1]\n",
    "        suma+=simpson(f,puntos[i],puntos[i+1]) #voy sumando las integrales en cada intervalo\n",
    "        end\n",
    "        return suma\n",
    "    end\n",
    "end =#\n",
    "function S_s(f,a,b,n)\n",
    "    h=(b-a)/n\n",
    "    x=zeros(n+1)\n",
    "    x[1]=a\n",
    "    ls=[]\n",
    "    if n%2==1\n",
    "        return printl(\"nono\")\n",
    "    else\n",
    "    end\n",
    "        for i in 1:n\n",
    "        x[i+1]=x[i]+h\n",
    "        I=simpson(f,x[i],x[i+1])\n",
    "         push!(ls,I)\n",
    "    end\n",
    "           return sum(ls)\n",
    "end\n",
    "        "
   ]
  },
  {
   "cell_type": "code",
   "execution_count": 141,
   "metadata": {},
   "outputs": [
    {
     "name": "stdout",
     "output_type": "stream",
     "text": [
      "con n=20 (o sea h=0.05)\n",
      "primer metodo: 0.6320547177379595, segundo: 0.6322522451248159, tercero: 0.632120560200245, valor real: 0.63212\n",
      "con n=40 (o sea h=0.025)\n",
      "primer metodo: 0.6321040976557458, segundo: 0.6321534814313879, tercero: 0.632120558914293, valor real: 0.63212\n"
     ]
    }
   ],
   "source": [
    "#3.2\n",
    "#como me pide un esparcimiento de h1=0.05 -> n=20, en h2=h1/2->n=40\n",
    "f(x)=exp(-1*x)\n",
    "a=0.0\n",
    "b=1.0\n",
    "n=20\n",
    "i1=S_m(f,a,b,n)\n",
    "i2=S_T(f,a,b,n)\n",
    "i3=S_s(f,a,b,n) #simpson tiene que usar par cantidad de intervalos\n",
    "I_real=0.63212 #lo saqué de symbolab :)\n",
    "println(\"con n=20 (o sea h=0.05)\") #saco n despejando y ya\n",
    "println(\"primer metodo: $(i1), segundo: $(i2), tercero: $(i3), valor real: $(I_real)\")\n",
    "\n",
    "#ahora hago lo mismo pero con n=40\n",
    "a=0.0\n",
    "b=1.0\n",
    "n=40\n",
    "I1=S_m(f,a,b,n)\n",
    "I2=S_T(f,a,b,n)\n",
    "I3=S_s(f,a,b,n)\n",
    "println(\"con n=40 (o sea h=0.025)\")\n",
    "println(\"primer metodo: $(I1), segundo: $(I2), tercero: $(I3), valor real: $(I_real)\") "
   ]
  },
  {
   "cell_type": "code",
   "execution_count": 142,
   "metadata": {},
   "outputs": [
    {
     "name": "stdout",
     "output_type": "stream",
     "text": [
      "Q1: 4.105197384548383; Q2: 3.9498049914196818; Q3: 1.0023008035896448;\n"
     ]
    }
   ],
   "source": [
    "# 3.3 saco los errores\n",
    "#para n=20 (h=0.05)\n",
    "e1=abs(i1-I_real)\n",
    "e2=abs(i2-I_real)\n",
    "e3=abs(i3-I_real)\n",
    "#para n=40 (h=0.025)\n",
    "E1=abs(I1-I_real)\n",
    "E2=abs(I2-I_real)\n",
    "E3=abs(I3-I_real)\n",
    "#ahora los cociente de presicion\n",
    "Q1=e1/E1 #con punto medio\n",
    "Q2=e2/E2 #con trapecio\n",
    "Q3=e3/E3 #con simpson\n",
    "println(\"Q1: $(Q1); Q2: $(Q2); Q3: $(Q3);\") "
   ]
  },
  {
   "cell_type": "code",
   "execution_count": null,
   "metadata": {},
   "outputs": [],
   "source": []
  },
  {
   "cell_type": "markdown",
   "metadata": {},
   "source": [
    "## Problema 4\n",
    "1. Para los métodos de integración numérica del problema 3, implemente fórmulas de estimación del error en función de el número de puntos $n$, una cota máxima $M$ asociada a $f(x)$ o alguna de sus derivadas, y los extremos $a$ y $b$ del intérvalo de integración.\n",
    "\n",
    "2. Indique, para cada método, el mínimo $n$ necesario para alcanzar un error relativo menor a $10^{-7}$ de las siguientes integrales\n",
    "\n",
    "    a. $\\int_0^{1/2} \\frac{2}{x-4} \\; dx$\n",
    "\n",
    "    b. $\\int_1^{3/2} x^2 \\log x \\; dx$\n",
    "\n",
    "3. Compruebe usando los métodos del problema 3 si las estimaciones de $n$ son adecuadas."
   ]
  },
  {
   "cell_type": "code",
   "execution_count": 143,
   "metadata": {},
   "outputs": [
    {
     "data": {
      "text/plain": [
       "ESS (generic function with 1 method)"
      ]
     },
     "execution_count": 143,
     "metadata": {},
     "output_type": "execute_result"
    }
   ],
   "source": []
  },
  {
   "cell_type": "code",
   "execution_count": 144,
   "metadata": {},
   "outputs": [
    {
     "data": {
      "text/plain": [
       "j (generic function with 1 method)"
      ]
     },
     "execution_count": 144,
     "metadata": {},
     "output_type": "execute_result"
    }
   ],
   "source": []
  },
  {
   "cell_type": "markdown",
   "metadata": {},
   "source": [
    "## Problema 5\n",
    "**Comparación de métodos.**\n",
    "\n",
    "1. Aproxime la integral\n",
    "\\begin{equation*}\n",
    "I = \\int_0^1 e^{-t} dt = 1 - e^{-1}  \\nonumber              \n",
    "\\end{equation*}\n",
    "empleando los algoritmos del problema 3.\n",
    "\n",
    "2. Calcule el error relativo $E$ para $n\\in [2,4,8,...,4096]$ ($n=2^i$ con $i=1,2,...$) y grafique $E$ vs $n$ en *log-log*.\n",
    "\n",
    "\n",
    "3. Verifique visualmente que se satisfacen leyes de potencia\n",
    "$$\n",
    "E = Cn^{-\\alpha}\n",
    "$$\n",
    "y estime visualmente los valores de $C>0$ y $\\alpha>0$.\n",
    "\n",
    "4. Use el gráfico para estimar, para cada método, el mínimo $n$ al cuál se alcanza una precisión $E<10^{-7}$.\n",
    "\n",
    "5. Repita los incisos anteriores en `Float16` y `Float32`.\n",
    "\n",
    "6. Determine si el error de redondeo es relevante en estos casos."
   ]
  },
  {
   "cell_type": "code",
   "execution_count": null,
   "metadata": {},
   "outputs": [],
   "source": []
  },
  {
   "cell_type": "markdown",
   "metadata": {},
   "source": [
    "## Problema 6\n",
    "En el repositorio se encuentran dos archivos de datos, \n",
    "\n",
    "    mediciones1-c1-g6.dat \n",
    "    mediciones2-c1-g6.dat\n",
    "\n",
    "Los mismos almacenan mediciones de una función $f(t)$ sobre un mismo rango de $t$. El primero muestrea $n=629$ puntos y el segundo $n=10001$.\n",
    "\n",
    "1. Baje y grafique los datos.\n",
    "\n",
    "2. Copie y modifique los algoritmos del problema 3 para integrar muestreos de funciones.\n",
    "\n",
    "3. Integre los muestreos y compare."
   ]
  },
  {
   "cell_type": "code",
   "execution_count": null,
   "metadata": {},
   "outputs": [],
   "source": []
  },
  {
   "cell_type": "markdown",
   "metadata": {},
   "source": [
    "# Ejercicios Complementarios"
   ]
  },
  {
   "cell_type": "markdown",
   "metadata": {},
   "source": [
    "## Problema C.1\n",
    "Idem problema 4, para las siguientes integrales: \n",
    "1. $\\int_{1/2}^1 x^4 dx$\n",
    "2. $\\int_0^{\\pi/4} x \\sin x dx$"
   ]
  },
  {
   "cell_type": "markdown",
   "metadata": {},
   "source": [
    "**Teoría:** Para los metodos de punto medio y trapecio el error es $\\mathcal{O}(h^2)$ y está acotado por (en término de n):\n",
    "\n",
    "$$\n",
    "E_T = \\frac{(b-a)^3}{12n^2}M_2 \\;\\;\\;\\;\\;\\;\\; E_M = \\frac{(b-a)^3}{24n^2}M_2,\n",
    "$$\n",
    "\n",
    "donde \n",
    "$$\n",
    "M_2 = \\max_{x \\in [a,b]}\\{|f''(x)|\\}\n",
    "$$\n",
    "\n",
    "Para el método de Simpson el error es $\\mathcal{O}(h^4)$ está acotado por \n",
    "\n",
    "$$\n",
    "E_S = \\frac{(b-a)^5}{180n^4}M_4 \n",
    "$$\n",
    "\n",
    "donde \n",
    "$$\n",
    "M_4 = \\max_{x \\in [a,b]}\\{|f^{(4)}(x)|\\}\n",
    "$$\n"
   ]
  },
  {
   "cell_type": "code",
   "execution_count": null,
   "metadata": {},
   "outputs": [],
   "source": []
  },
  {
   "cell_type": "markdown",
   "metadata": {},
   "source": [
    "## Problema C.2\n",
    "**Integración numérica en dos dimensiones**\n",
    "1. Haga un programa que integre funciones en la region $a\\le x \\le b\\,;\\;c \\le y \\le d$ siguiendo el código delineado en la clase teórica, usando el método de cuadratura de Simpson en cada coordenada.\n",
    "2. Evalue nume\n",
    "ricamente con no menos de 8 cifras significativas las integrales\n",
    "$$\n",
    "\\int_0^2\\,dx\\, \\int_0^1\\,dy\\, e^{-x\\,y} \\;\\;\\;\\;\\;\\;\\;\\;\\;\\;\\;\\;\\;\\;\n",
    "\\int_{7/5}^2\\,dx\\, \\int_1^{3/2}\\,dy\\, \\ln{(x+2 y)}\n",
    "$$\n",
    "3. Modifique el programa para permitir que los límites de integración en $y$ sean función de $x$ y evalue la integral\n",
    "$$\n",
    "\\int_0^1\\,dx\\, \\int_0^{\\sqrt{1-x^2}}\\,dy\\, e^{-x\\,y} \n",
    "$$"
   ]
  },
  {
   "cell_type": "code",
   "execution_count": null,
   "metadata": {},
   "outputs": [],
   "source": []
  }
 ],
 "metadata": {
  "@webio": {
   "lastCommId": null,
   "lastKernelId": null
  },
  "kernelspec": {
   "display_name": "Julia 1.10.2",
   "language": "julia",
   "name": "julia-1.10"
  },
  "language_info": {
   "file_extension": ".jl",
   "mimetype": "application/julia",
   "name": "julia",
   "version": "1.10.2"
  }
 },
 "nbformat": 4,
 "nbformat_minor": 4
}
